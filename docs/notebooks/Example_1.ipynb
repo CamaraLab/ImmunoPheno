{
 "cells": [
  {
   "cell_type": "markdown",
   "id": "4d78551c-fecb-4264-8902-fbb99e12f7cd",
   "metadata": {},
   "source": [
    "<H1>Example 1: Finding Antibodies for Gating a Specific Cell Population</H1>\n",
    "\n",
    "In this tutorial we demonstrate how to use the ImmunoPheno library to identify commercial antibodies that can be used to gate a specific cell population. Specifically, we are going to look for antibodies that can be used to separate immature B cells from other B cells."
   ]
  },
  {
   "cell_type": "code",
   "execution_count": null,
   "id": "a50ec94f-4e9a-47e9-ac80-71e7a2ab4ea3",
   "metadata": {},
   "outputs": [],
   "source": [
    "import pandas as pd\n",
    "from immunopheno.data_processing import ImmunoPhenoData\n",
    "from immunopheno.connect import ImmunoPhenoDB_Connect\n",
    "from immunopheno.plots import plot_UMAP\n",
    "from immunopheno.models import plot_all_fits"
   ]
  },
  {
   "cell_type": "markdown",
   "id": "f4754c09-9464-4311-81fd-42667f235b3d",
   "metadata": {},
   "source": [
    "We first create an instance of `ImmunoPhenoDB_Connect` that will allows us to make queries to the ImmunoPheno database."
   ]
  },
  {
   "cell_type": "code",
   "execution_count": 3,
   "id": "680549ee-5fa1-4227-b555-ea6e6f534447",
   "metadata": {},
   "outputs": [
    {
     "name": "stdout",
     "output_type": "stream",
     "text": [
      "Loading necessary files...\n",
      "Connecting to database...\n",
      "Connected to database.\n"
     ]
    }
   ],
   "source": [
    "cxn = ImmunoPhenoDB_Connect(\"http://ec2-44-222-198-92.compute-1.amazonaws.com\")"
   ]
  },
  {
   "cell_type": "markdown",
   "id": "213475b1-1908-474c-8b0b-aa55ad41273d",
   "metadata": {},
   "source": [
    "Let us now search for cell ontologies for which there is information in the database and that contain the word \"B cell\""
   ]
  },
  {
   "cell_type": "code",
   "execution_count": 4,
   "id": "d173d0a5-ead6-4b82-b588-d26f69f5e74a",
   "metadata": {},
   "outputs": [
    {
     "data": {
      "text/html": [
       "<div>\n",
       "<style scoped>\n",
       "    .dataframe tbody tr th:only-of-type {\n",
       "        vertical-align: middle;\n",
       "    }\n",
       "\n",
       "    .dataframe tbody tr th {\n",
       "        vertical-align: top;\n",
       "    }\n",
       "\n",
       "    .dataframe thead th {\n",
       "        text-align: right;\n",
       "    }\n",
       "</style>\n",
       "<table border=\"1\" class=\"dataframe\">\n",
       "  <thead>\n",
       "    <tr style=\"text-align: right;\">\n",
       "      <th></th>\n",
       "      <th>idCL</th>\n",
       "      <th>label</th>\n",
       "      <th>idExperiment_used</th>\n",
       "    </tr>\n",
       "  </thead>\n",
       "  <tbody>\n",
       "    <tr>\n",
       "      <th>0</th>\n",
       "      <td>CL:0000236</td>\n",
       "      <td>B cell</td>\n",
       "      <td>5</td>\n",
       "    </tr>\n",
       "    <tr>\n",
       "      <th>1</th>\n",
       "      <td>CL:0000787</td>\n",
       "      <td>memory B cell</td>\n",
       "      <td>1,2,3,4,5</td>\n",
       "    </tr>\n",
       "    <tr>\n",
       "      <th>2</th>\n",
       "      <td>CL:0000788</td>\n",
       "      <td>naive B cell</td>\n",
       "      <td>1,2,3,4,5</td>\n",
       "    </tr>\n",
       "    <tr>\n",
       "      <th>3</th>\n",
       "      <td>CL:0000816</td>\n",
       "      <td>immature B cell</td>\n",
       "      <td>1,2,3,4,5</td>\n",
       "    </tr>\n",
       "    <tr>\n",
       "      <th>4</th>\n",
       "      <td>CL:0000955</td>\n",
       "      <td>pre-B-II cell</td>\n",
       "      <td>5</td>\n",
       "    </tr>\n",
       "  </tbody>\n",
       "</table>\n",
       "</div>"
      ],
      "text/plain": [
       "         idCL            label idExperiment_used\n",
       "0  CL:0000236           B cell                 5\n",
       "1  CL:0000787    memory B cell         1,2,3,4,5\n",
       "2  CL:0000788     naive B cell         1,2,3,4,5\n",
       "3  CL:0000816  immature B cell         1,2,3,4,5\n",
       "4  CL:0000955    pre-B-II cell                 5"
      ]
     },
     "execution_count": 4,
     "metadata": {},
     "output_type": "execute_result"
    }
   ],
   "source": [
    "cxn.which_celltypes(\"B cell\")"
   ]
  },
  {
   "cell_type": "markdown",
   "id": "728c5dfb-d4f0-475b-8394-3718ba526a2c",
   "metadata": {},
   "source": [
    "We see that the OBO Foundry Cell Ontology ID for immature B cells is `CL:0000816` and there is currently information from 5 CITE-seq experiments in the ImmunoPheno database. We can find more information about these experiments using the command `find_experiments()`. For example,"
   ]
  },
  {
   "cell_type": "code",
   "execution_count": 7,
   "id": "c3520095-4b13-4981-a02e-99de76725ad7",
   "metadata": {},
   "outputs": [
    {
     "data": {
      "text/html": [
       "<div>\n",
       "<style scoped>\n",
       "    .dataframe tbody tr th:only-of-type {\n",
       "        vertical-align: middle;\n",
       "    }\n",
       "\n",
       "    .dataframe tbody tr th {\n",
       "        vertical-align: top;\n",
       "    }\n",
       "\n",
       "    .dataframe thead th {\n",
       "        text-align: right;\n",
       "    }\n",
       "</style>\n",
       "<table border=\"1\" class=\"dataframe\">\n",
       "  <thead>\n",
       "    <tr style=\"text-align: right;\">\n",
       "      <th></th>\n",
       "      <th>idExperiment</th>\n",
       "      <th>nameExp</th>\n",
       "      <th>typeExp</th>\n",
       "      <th>pmid</th>\n",
       "      <th>doi</th>\n",
       "      <th>idBTO</th>\n",
       "      <th>tissue</th>\n",
       "    </tr>\n",
       "  </thead>\n",
       "  <tbody>\n",
       "    <tr>\n",
       "      <th>0</th>\n",
       "      <td>1</td>\n",
       "      <td>Human PBMCs under 4 titration levels, 0.04x</td>\n",
       "      <td>CITE</td>\n",
       "      <td>36460735</td>\n",
       "      <td>https://doi.org/10.1038/s41598-022-24371-7</td>\n",
       "      <td>BTO:0001025</td>\n",
       "      <td>peripheral blood mononuclear cell</td>\n",
       "    </tr>\n",
       "    <tr>\n",
       "      <th>1</th>\n",
       "      <td>2</td>\n",
       "      <td>Human PBMCs under 4 titration levels, 0.2x</td>\n",
       "      <td>CITE</td>\n",
       "      <td>36460735</td>\n",
       "      <td>https://doi.org/10.1038/s41598-022-24371-7</td>\n",
       "      <td>BTO:0001025</td>\n",
       "      <td>peripheral blood mononuclear cell</td>\n",
       "    </tr>\n",
       "    <tr>\n",
       "      <th>2</th>\n",
       "      <td>3</td>\n",
       "      <td>Human PBMCs under 4 titration levels, 1x</td>\n",
       "      <td>CITE</td>\n",
       "      <td>36460735</td>\n",
       "      <td>https://doi.org/10.1038/s41598-022-24371-7</td>\n",
       "      <td>BTO:0001025</td>\n",
       "      <td>peripheral blood mononuclear cell</td>\n",
       "    </tr>\n",
       "    <tr>\n",
       "      <th>3</th>\n",
       "      <td>4</td>\n",
       "      <td>Human PBMCs under 4 titration levels, 2x</td>\n",
       "      <td>CITE</td>\n",
       "      <td>36460735</td>\n",
       "      <td>https://doi.org/10.1038/s41598-022-24371-7</td>\n",
       "      <td>BTO:0001025</td>\n",
       "      <td>peripheral blood mononuclear cell</td>\n",
       "    </tr>\n",
       "    <tr>\n",
       "      <th>4</th>\n",
       "      <td>5</td>\n",
       "      <td>PBMC from influenza vaccination</td>\n",
       "      <td>CITE</td>\n",
       "      <td>32094927</td>\n",
       "      <td>https://doi.org/10.1038/s41591-020-0769-8</td>\n",
       "      <td>BTO:0001025</td>\n",
       "      <td>peripheral blood mononuclear cell</td>\n",
       "    </tr>\n",
       "  </tbody>\n",
       "</table>\n",
       "</div>"
      ],
      "text/plain": [
       "   idExperiment                                      nameExp typeExp  \\\n",
       "0             1  Human PBMCs under 4 titration levels, 0.04x    CITE   \n",
       "1             2   Human PBMCs under 4 titration levels, 0.2x    CITE   \n",
       "2             3     Human PBMCs under 4 titration levels, 1x    CITE   \n",
       "3             4     Human PBMCs under 4 titration levels, 2x    CITE   \n",
       "4             5              PBMC from influenza vaccination    CITE   \n",
       "\n",
       "       pmid                                         doi        idBTO  \\\n",
       "0  36460735  https://doi.org/10.1038/s41598-022-24371-7  BTO:0001025   \n",
       "1  36460735  https://doi.org/10.1038/s41598-022-24371-7  BTO:0001025   \n",
       "2  36460735  https://doi.org/10.1038/s41598-022-24371-7  BTO:0001025   \n",
       "3  36460735  https://doi.org/10.1038/s41598-022-24371-7  BTO:0001025   \n",
       "4  32094927   https://doi.org/10.1038/s41591-020-0769-8  BTO:0001025   \n",
       "\n",
       "                              tissue  \n",
       "0  peripheral blood mononuclear cell  \n",
       "1  peripheral blood mononuclear cell  \n",
       "2  peripheral blood mononuclear cell  \n",
       "3  peripheral blood mononuclear cell  \n",
       "4  peripheral blood mononuclear cell  "
      ]
     },
     "execution_count": 7,
     "metadata": {},
     "output_type": "execute_result"
    }
   ],
   "source": [
    "cxn.find_experiments(idCL=['CL:0000816'])"
   ]
  },
  {
   "cell_type": "markdown",
   "id": "af1cda07-a197-4c88-afcb-fe406e807ab2",
   "metadata": {},
   "source": [
    "The cell ontology ID of B cells is `CL:0000236`. This ontology contains immature B cells as a descendant ontology:"
   ]
  },
  {
   "cell_type": "code",
   "execution_count": null,
   "id": "a07f94c1-ee09-4e06-b4b3-28432a270a76",
   "metadata": {},
   "outputs": [],
   "source": []
  },
  {
   "cell_type": "markdown",
   "id": "ee3e8627-6bd7-4214-bb33-7de39610f41f",
   "metadata": {},
   "source": [
    "We now look for antibodies that distinguish immature B cells from other B cells in PBMCs"
   ]
  },
  {
   "cell_type": "code",
   "execution_count": 11,
   "id": "933b8ac4-6589-4dc9-8e25-82c9e7ceebc8",
   "metadata": {},
   "outputs": [
    {
     "data": {
      "text/html": [
       "<div>\n",
       "<style scoped>\n",
       "    .dataframe tbody tr th:only-of-type {\n",
       "        vertical-align: middle;\n",
       "    }\n",
       "\n",
       "    .dataframe tbody tr th {\n",
       "        vertical-align: top;\n",
       "    }\n",
       "\n",
       "    .dataframe thead th {\n",
       "        text-align: right;\n",
       "    }\n",
       "</style>\n",
       "<table border=\"1\" class=\"dataframe\">\n",
       "  <thead>\n",
       "    <tr style=\"text-align: right;\">\n",
       "      <th></th>\n",
       "      <th>target</th>\n",
       "      <th>coeff</th>\n",
       "      <th>stderr</th>\n",
       "      <th>p_val</th>\n",
       "      <th>q_val</th>\n",
       "      <th>CL:0000816</th>\n",
       "      <th>CL:0000236</th>\n",
       "    </tr>\n",
       "  </thead>\n",
       "  <tbody>\n",
       "    <tr>\n",
       "      <th>AB_2800813</th>\n",
       "      <td>CD24</td>\n",
       "      <td>1.637</td>\n",
       "      <td>0.861</td>\n",
       "      <td>0.057292</td>\n",
       "      <td>0.354170</td>\n",
       "      <td>0.954545</td>\n",
       "      <td>0.890756</td>\n",
       "    </tr>\n",
       "    <tr>\n",
       "      <th>AB_2800817</th>\n",
       "      <td>CD10</td>\n",
       "      <td>1.590</td>\n",
       "      <td>0.977</td>\n",
       "      <td>0.103631</td>\n",
       "      <td>0.532689</td>\n",
       "      <td>0.428571</td>\n",
       "      <td>0.338384</td>\n",
       "    </tr>\n",
       "    <tr>\n",
       "      <th>AB_2814295</th>\n",
       "      <td>CD303</td>\n",
       "      <td>1.517</td>\n",
       "      <td>1.039</td>\n",
       "      <td>0.144322</td>\n",
       "      <td>0.623109</td>\n",
       "      <td>0.586207</td>\n",
       "      <td>0.450000</td>\n",
       "    </tr>\n",
       "    <tr>\n",
       "      <th>AB_2810570</th>\n",
       "      <td>CD195</td>\n",
       "      <td>1.372</td>\n",
       "      <td>1.047</td>\n",
       "      <td>0.190070</td>\n",
       "      <td>0.654128</td>\n",
       "      <td>0.409091</td>\n",
       "      <td>0.260504</td>\n",
       "    </tr>\n",
       "    <tr>\n",
       "      <th>AB_2800745</th>\n",
       "      <td>CD25</td>\n",
       "      <td>1.273</td>\n",
       "      <td>1.034</td>\n",
       "      <td>0.218241</td>\n",
       "      <td>0.674797</td>\n",
       "      <td>0.409091</td>\n",
       "      <td>0.285714</td>\n",
       "    </tr>\n",
       "    <tr>\n",
       "      <th>...</th>\n",
       "      <td>...</td>\n",
       "      <td>...</td>\n",
       "      <td>...</td>\n",
       "      <td>...</td>\n",
       "      <td>...</td>\n",
       "      <td>...</td>\n",
       "      <td>...</td>\n",
       "    </tr>\n",
       "    <tr>\n",
       "      <th>AB_2800853</th>\n",
       "      <td>CD39</td>\n",
       "      <td>-1.060</td>\n",
       "      <td>0.730</td>\n",
       "      <td>0.146441</td>\n",
       "      <td>0.623109</td>\n",
       "      <td>0.863636</td>\n",
       "      <td>0.915966</td>\n",
       "    </tr>\n",
       "    <tr>\n",
       "      <th>AB_2800851</th>\n",
       "      <td>CD337</td>\n",
       "      <td>-1.118</td>\n",
       "      <td>0.846</td>\n",
       "      <td>0.185972</td>\n",
       "      <td>0.654128</td>\n",
       "      <td>0.172414</td>\n",
       "      <td>0.287500</td>\n",
       "    </tr>\n",
       "    <tr>\n",
       "      <th>AB_2810481</th>\n",
       "      <td>Integrin beta7</td>\n",
       "      <td>-1.122</td>\n",
       "      <td>0.809</td>\n",
       "      <td>0.165373</td>\n",
       "      <td>0.642591</td>\n",
       "      <td>0.500000</td>\n",
       "      <td>0.623431</td>\n",
       "    </tr>\n",
       "    <tr>\n",
       "      <th>AB_2800770</th>\n",
       "      <td>CD62L</td>\n",
       "      <td>-1.613</td>\n",
       "      <td>0.775</td>\n",
       "      <td>0.037346</td>\n",
       "      <td>0.282172</td>\n",
       "      <td>0.404762</td>\n",
       "      <td>0.564854</td>\n",
       "    </tr>\n",
       "    <tr>\n",
       "      <th>AB_2800916</th>\n",
       "      <td>CD73</td>\n",
       "      <td>-4.009</td>\n",
       "      <td>0.912</td>\n",
       "      <td>0.000011</td>\n",
       "      <td>0.000375</td>\n",
       "      <td>0.400000</td>\n",
       "      <td>0.752525</td>\n",
       "    </tr>\n",
       "  </tbody>\n",
       "</table>\n",
       "<p>136 rows × 7 columns</p>\n",
       "</div>"
      ],
      "text/plain": [
       "                    target  coeff  stderr     p_val     q_val  CL:0000816  \\\n",
       "AB_2800813            CD24  1.637   0.861  0.057292  0.354170    0.954545   \n",
       "AB_2800817            CD10  1.590   0.977  0.103631  0.532689    0.428571   \n",
       "AB_2814295           CD303  1.517   1.039  0.144322  0.623109    0.586207   \n",
       "AB_2810570           CD195  1.372   1.047  0.190070  0.654128    0.409091   \n",
       "AB_2800745            CD25  1.273   1.034  0.218241  0.674797    0.409091   \n",
       "...                    ...    ...     ...       ...       ...         ...   \n",
       "AB_2800853            CD39 -1.060   0.730  0.146441  0.623109    0.863636   \n",
       "AB_2800851           CD337 -1.118   0.846  0.185972  0.654128    0.172414   \n",
       "AB_2810481  Integrin beta7 -1.122   0.809  0.165373  0.642591    0.500000   \n",
       "AB_2800770           CD62L -1.613   0.775  0.037346  0.282172    0.404762   \n",
       "AB_2800916            CD73 -4.009   0.912  0.000011  0.000375    0.400000   \n",
       "\n",
       "            CL:0000236  \n",
       "AB_2800813    0.890756  \n",
       "AB_2800817    0.338384  \n",
       "AB_2814295    0.450000  \n",
       "AB_2810570    0.260504  \n",
       "AB_2800745    0.285714  \n",
       "...                ...  \n",
       "AB_2800853    0.915966  \n",
       "AB_2800851    0.287500  \n",
       "AB_2810481    0.623431  \n",
       "AB_2800770    0.564854  \n",
       "AB_2800916    0.752525  \n",
       "\n",
       "[136 rows x 7 columns]"
      ]
     },
     "execution_count": 11,
     "metadata": {},
     "output_type": "execute_result"
    }
   ],
   "source": [
    "result_df1, plot_dict1 = cxn.find_antibodies(id_CLs=[\"CL:0000816\"], background_id_CLs=[\"CL:0000236\"], idBTO=[\"BTO:0001025\"])\n",
    "result_df1"
   ]
  },
  {
   "cell_type": "markdown",
   "id": "5bf95e6b-0a33-4f4f-9e8f-4915656ea56e",
   "metadata": {},
   "source": [
    "`find_antibodies()` runs a linear mixed effects model to identify antobody levels that differ between the two populations. Positive (negative) coefficients indicate antibodies upreguated (downregulated) in the cell populations specified in `id_CLs` and their descendant cell ontologies, while negative coefficients. The optional `idBTO=\"BTO:001025\"` argument restricts the analysis to data from PBMCs, which correspond to the BRENDA tissue ontology id `BTO:001025` (as it can be seen from the output of `find_experiments()` above). If a tissue or list of tissues is not specified, all tissues in the ImmunoPheno database are considered. We observe that among the 136 antobidoies that were tested, anti-CD73 antibody `AB:2800916` is significantly downregulated in immature B cells, being detected in only 40% of immature B-cells. Moreover, by plotting the meassured protein levels, we observe that when it is expressed in immature B-cells, it is expressed at lower levels than in the general population of B-cells"
   ]
  },
  {
   "cell_type": "code",
   "execution_count": 27,
   "id": "724deb74-d7b1-4979-91f4-07ada706aa0f",
   "metadata": {},
   "outputs": [
    {
     "data": {
      "application/vnd.plotly.v1+json": {
       "config": {
        "plotlyServerURL": "https://plot.ly"
       },
       "data": [
        {
         "alignmentgroup": "True",
         "box": {
          "visible": true
         },
         "hovertemplate": "celltype=%{x}<br>value=%{y}<extra></extra>",
         "legendgroup": "CL:0000788 (naive B cell)",
         "marker": {
          "color": "#636efa",
          "size": 1
         },
         "name": "CL:0000788 (naive B cell)",
         "offsetgroup": "CL:0000788 (naive B cell)",
         "orientation": "v",
         "scalegroup": "True",
         "showlegend": true,
         "type": "violin",
         "width": 0.75,
         "x": [
          "CL:0000788 (naive B cell)",
          "CL:0000788 (naive B cell)",
          "CL:0000788 (naive B cell)",
          "CL:0000788 (naive B cell)",
          "CL:0000788 (naive B cell)",
          "CL:0000788 (naive B cell)"
         ],
         "x0": " ",
         "xaxis": "x",
         "y": [
          9.037596,
          9.63363,
          10.1814,
          11.0214,
          0,
          15.2944
         ],
         "y0": " ",
         "yaxis": "y"
        },
        {
         "alignmentgroup": "True",
         "box": {
          "visible": true
         },
         "hovertemplate": "celltype=%{x}<br>value=%{y}<extra></extra>",
         "legendgroup": "CL:0000787 (memory B cell)",
         "marker": {
          "color": "#EF553B",
          "size": 1
         },
         "name": "CL:0000787 (memory B cell)",
         "offsetgroup": "CL:0000787 (memory B cell)",
         "orientation": "v",
         "scalegroup": "True",
         "showlegend": true,
         "type": "violin",
         "width": 0.75,
         "x": [
          "CL:0000787 (memory B cell)",
          "CL:0000787 (memory B cell)",
          "CL:0000787 (memory B cell)",
          "CL:0000787 (memory B cell)",
          "CL:0000787 (memory B cell)",
          "CL:0000787 (memory B cell)"
         ],
         "x0": " ",
         "xaxis": "x",
         "y": [
          9.0424692105,
          9.47295,
          9.910755,
          10.7508,
          0,
          22.8935
         ],
         "y0": " ",
         "yaxis": "y"
        },
        {
         "alignmentgroup": "True",
         "box": {
          "visible": true
         },
         "hovertemplate": "celltype=%{x}<br>value=%{y}<extra></extra>",
         "legendgroup": "CL:0000913 (effector memory CD8-positive, alpha-beta T cell)",
         "marker": {
          "color": "#00cc96",
          "size": 1
         },
         "name": "CL:0000913 (effector memory CD8-positive, alpha-beta T cell)",
         "offsetgroup": "CL:0000913 (effector memory CD8-positive, alpha-beta T cell)",
         "orientation": "v",
         "scalegroup": "True",
         "showlegend": true,
         "type": "violin",
         "width": 0.75,
         "x": [
          "CL:0000913 (effector memory CD8-positive, alpha-beta T cell)",
          "CL:0000913 (effector memory CD8-positive, alpha-beta T cell)",
          "CL:0000913 (effector memory CD8-positive, alpha-beta T cell)",
          "CL:0000913 (effector memory CD8-positive, alpha-beta T cell)",
          "CL:0000913 (effector memory CD8-positive, alpha-beta T cell)",
          "CL:0000913 (effector memory CD8-positive, alpha-beta T cell)"
         ],
         "x0": " ",
         "xaxis": "x",
         "y": [
          5.3969816667,
          0,
          9.554895,
          9.90542,
          0,
          10.8406
         ],
         "y0": " ",
         "yaxis": "y"
        },
        {
         "alignmentgroup": "True",
         "box": {
          "visible": true
         },
         "hovertemplate": "celltype=%{x}<br>value=%{y}<extra></extra>",
         "legendgroup": "CL:0000816 (immature B cell)",
         "marker": {
          "color": "#ab63fa",
          "size": 1
         },
         "name": "CL:0000816 (immature B cell)",
         "offsetgroup": "CL:0000816 (immature B cell)",
         "orientation": "v",
         "scalegroup": "True",
         "showlegend": true,
         "type": "violin",
         "width": 0.75,
         "x": [
          "CL:0000816 (immature B cell)",
          "CL:0000816 (immature B cell)",
          "CL:0000816 (immature B cell)",
          "CL:0000816 (immature B cell)",
          "CL:0000816 (immature B cell)",
          "CL:0000816 (immature B cell)"
         ],
         "x0": " ",
         "xaxis": "x",
         "y": [
          4.1588451429,
          0,
          0,
          9.71435,
          0,
          12.7813
         ],
         "y0": " ",
         "yaxis": "y"
        },
        {
         "alignmentgroup": "True",
         "box": {
          "visible": true
         },
         "hovertemplate": "celltype=%{x}<br>value=%{y}<extra></extra>",
         "legendgroup": "CL:0000625 (CD8-positive, alpha-beta T cell)",
         "marker": {
          "color": "#FFA15A",
          "size": 1
         },
         "name": "CL:0000625 (CD8-positive, alpha-beta T cell)",
         "offsetgroup": "CL:0000625 (CD8-positive, alpha-beta T cell)",
         "orientation": "v",
         "scalegroup": "True",
         "showlegend": true,
         "type": "violin",
         "width": 0.75,
         "x": [
          "CL:0000625 (CD8-positive, alpha-beta T cell)",
          "CL:0000625 (CD8-positive, alpha-beta T cell)",
          "CL:0000625 (CD8-positive, alpha-beta T cell)",
          "CL:0000625 (CD8-positive, alpha-beta T cell)",
          "CL:0000625 (CD8-positive, alpha-beta T cell)",
          "CL:0000625 (CD8-positive, alpha-beta T cell)"
         ],
         "x0": " ",
         "xaxis": "x",
         "y": [
          3.2237129577,
          0,
          0,
          9.608125,
          0,
          11.7807
         ],
         "y0": " ",
         "yaxis": "y"
        },
        {
         "alignmentgroup": "True",
         "box": {
          "visible": true
         },
         "hovertemplate": "celltype=%{x}<br>value=%{y}<extra></extra>",
         "legendgroup": "CL:0000895 (naive thymus-derived CD4-positive, alpha-beta T cell)",
         "marker": {
          "color": "#19d3f3",
          "size": 1
         },
         "name": "CL:0000895 (naive thymus-derived CD4-positive, alpha-beta T cell)",
         "offsetgroup": "CL:0000895 (naive thymus-derived CD4-positive, alpha-beta T cell)",
         "orientation": "v",
         "scalegroup": "True",
         "showlegend": true,
         "type": "violin",
         "width": 0.75,
         "x": [
          "CL:0000895 (naive thymus-derived CD4-positive, alpha-beta T cell)",
          "CL:0000895 (naive thymus-derived CD4-positive, alpha-beta T cell)",
          "CL:0000895 (naive thymus-derived CD4-positive, alpha-beta T cell)",
          "CL:0000895 (naive thymus-derived CD4-positive, alpha-beta T cell)",
          "CL:0000895 (naive thymus-derived CD4-positive, alpha-beta T cell)",
          "CL:0000895 (naive thymus-derived CD4-positive, alpha-beta T cell)"
         ],
         "x0": " ",
         "xaxis": "x",
         "y": [
          2.8444809975,
          0,
          0,
          9.369125,
          0,
          11.994
         ],
         "y0": " ",
         "yaxis": "y"
        },
        {
         "alignmentgroup": "True",
         "box": {
          "visible": true
         },
         "hovertemplate": "celltype=%{x}<br>value=%{y}<extra></extra>",
         "legendgroup": "CL:0000905 (effector memory CD4-positive, alpha-beta T cell)",
         "marker": {
          "color": "#FF6692",
          "size": 1
         },
         "name": "CL:0000905 (effector memory CD4-positive, alpha-beta T cell)",
         "offsetgroup": "CL:0000905 (effector memory CD4-positive, alpha-beta T cell)",
         "orientation": "v",
         "scalegroup": "True",
         "showlegend": true,
         "type": "violin",
         "width": 0.75,
         "x": [
          "CL:0000905 (effector memory CD4-positive, alpha-beta T cell)",
          "CL:0000905 (effector memory CD4-positive, alpha-beta T cell)",
          "CL:0000905 (effector memory CD4-positive, alpha-beta T cell)",
          "CL:0000905 (effector memory CD4-positive, alpha-beta T cell)",
          "CL:0000905 (effector memory CD4-positive, alpha-beta T cell)",
          "CL:0000905 (effector memory CD4-positive, alpha-beta T cell)"
         ],
         "x0": " ",
         "xaxis": "x",
         "y": [
          2.6997088318,
          0,
          0,
          9.3634,
          0,
          14.4301
         ],
         "y0": " ",
         "yaxis": "y"
        },
        {
         "alignmentgroup": "True",
         "box": {
          "visible": true
         },
         "hovertemplate": "celltype=%{x}<br>value=%{y}<extra></extra>",
         "legendgroup": "CL:0000576 (monocyte)",
         "marker": {
          "color": "#B6E880",
          "size": 1
         },
         "name": "CL:0000576 (monocyte)",
         "offsetgroup": "CL:0000576 (monocyte)",
         "orientation": "v",
         "scalegroup": "True",
         "showlegend": true,
         "type": "violin",
         "width": 0.75,
         "x": [
          "CL:0000576 (monocyte)",
          "CL:0000576 (monocyte)",
          "CL:0000576 (monocyte)",
          "CL:0000576 (monocyte)",
          "CL:0000576 (monocyte)",
          "CL:0000576 (monocyte)"
         ],
         "x0": " ",
         "xaxis": "x",
         "y": [
          1.5556577049,
          0,
          0,
          0,
          0,
          9.67742
         ],
         "y0": " ",
         "yaxis": "y"
        },
        {
         "alignmentgroup": "True",
         "box": {
          "visible": true
         },
         "hovertemplate": "celltype=%{x}<br>value=%{y}<extra></extra>",
         "legendgroup": "CL:0000904 (central memory CD4-positive, alpha-beta T cell)",
         "marker": {
          "color": "#FF97FF",
          "size": 1
         },
         "name": "CL:0000904 (central memory CD4-positive, alpha-beta T cell)",
         "offsetgroup": "CL:0000904 (central memory CD4-positive, alpha-beta T cell)",
         "orientation": "v",
         "scalegroup": "True",
         "showlegend": true,
         "type": "violin",
         "width": 0.75,
         "x": [
          "CL:0000904 (central memory CD4-positive, alpha-beta T cell)",
          "CL:0000904 (central memory CD4-positive, alpha-beta T cell)",
          "CL:0000904 (central memory CD4-positive, alpha-beta T cell)",
          "CL:0000904 (central memory CD4-positive, alpha-beta T cell)",
          "CL:0000904 (central memory CD4-positive, alpha-beta T cell)",
          "CL:0000904 (central memory CD4-positive, alpha-beta T cell)"
         ],
         "x0": " ",
         "xaxis": "x",
         "y": [
          1.6690633731,
          0,
          0,
          0,
          0,
          12.8883
         ],
         "y0": " ",
         "yaxis": "y"
        },
        {
         "alignmentgroup": "True",
         "box": {
          "visible": true
         },
         "hovertemplate": "celltype=%{x}<br>value=%{y}<extra></extra>",
         "legendgroup": "CL:0000623 (natural killer cell)",
         "marker": {
          "color": "#FECB52",
          "size": 1
         },
         "name": "CL:0000623 (natural killer cell)",
         "offsetgroup": "CL:0000623 (natural killer cell)",
         "orientation": "v",
         "scalegroup": "True",
         "showlegend": true,
         "type": "violin",
         "width": 0.75,
         "x": [
          "CL:0000623 (natural killer cell)",
          "CL:0000623 (natural killer cell)",
          "CL:0000623 (natural killer cell)",
          "CL:0000623 (natural killer cell)",
          "CL:0000623 (natural killer cell)",
          "CL:0000623 (natural killer cell)"
         ],
         "x0": " ",
         "xaxis": "x",
         "y": [
          0.3316492364,
          0,
          0,
          0,
          0,
          10.1142
         ],
         "y0": " ",
         "yaxis": "y"
        }
       ],
       "layout": {
        "autosize": true,
        "font": {
         "size": 8
        },
        "legend": {
         "title": {
          "text": "celltype"
         },
         "tracegroupgap": 0
        },
        "margin": {
         "t": 60
        },
        "template": {
         "data": {
          "bar": [
           {
            "error_x": {
             "color": "#2a3f5f"
            },
            "error_y": {
             "color": "#2a3f5f"
            },
            "marker": {
             "line": {
              "color": "#E5ECF6",
              "width": 0.5
             },
             "pattern": {
              "fillmode": "overlay",
              "size": 10,
              "solidity": 0.2
             }
            },
            "type": "bar"
           }
          ],
          "barpolar": [
           {
            "marker": {
             "line": {
              "color": "#E5ECF6",
              "width": 0.5
             },
             "pattern": {
              "fillmode": "overlay",
              "size": 10,
              "solidity": 0.2
             }
            },
            "type": "barpolar"
           }
          ],
          "carpet": [
           {
            "aaxis": {
             "endlinecolor": "#2a3f5f",
             "gridcolor": "white",
             "linecolor": "white",
             "minorgridcolor": "white",
             "startlinecolor": "#2a3f5f"
            },
            "baxis": {
             "endlinecolor": "#2a3f5f",
             "gridcolor": "white",
             "linecolor": "white",
             "minorgridcolor": "white",
             "startlinecolor": "#2a3f5f"
            },
            "type": "carpet"
           }
          ],
          "choropleth": [
           {
            "colorbar": {
             "outlinewidth": 0,
             "ticks": ""
            },
            "type": "choropleth"
           }
          ],
          "contour": [
           {
            "colorbar": {
             "outlinewidth": 0,
             "ticks": ""
            },
            "colorscale": [
             [
              0,
              "#0d0887"
             ],
             [
              0.1111111111111111,
              "#46039f"
             ],
             [
              0.2222222222222222,
              "#7201a8"
             ],
             [
              0.3333333333333333,
              "#9c179e"
             ],
             [
              0.4444444444444444,
              "#bd3786"
             ],
             [
              0.5555555555555556,
              "#d8576b"
             ],
             [
              0.6666666666666666,
              "#ed7953"
             ],
             [
              0.7777777777777778,
              "#fb9f3a"
             ],
             [
              0.8888888888888888,
              "#fdca26"
             ],
             [
              1,
              "#f0f921"
             ]
            ],
            "type": "contour"
           }
          ],
          "contourcarpet": [
           {
            "colorbar": {
             "outlinewidth": 0,
             "ticks": ""
            },
            "type": "contourcarpet"
           }
          ],
          "heatmap": [
           {
            "colorbar": {
             "outlinewidth": 0,
             "ticks": ""
            },
            "colorscale": [
             [
              0,
              "#0d0887"
             ],
             [
              0.1111111111111111,
              "#46039f"
             ],
             [
              0.2222222222222222,
              "#7201a8"
             ],
             [
              0.3333333333333333,
              "#9c179e"
             ],
             [
              0.4444444444444444,
              "#bd3786"
             ],
             [
              0.5555555555555556,
              "#d8576b"
             ],
             [
              0.6666666666666666,
              "#ed7953"
             ],
             [
              0.7777777777777778,
              "#fb9f3a"
             ],
             [
              0.8888888888888888,
              "#fdca26"
             ],
             [
              1,
              "#f0f921"
             ]
            ],
            "type": "heatmap"
           }
          ],
          "heatmapgl": [
           {
            "colorbar": {
             "outlinewidth": 0,
             "ticks": ""
            },
            "colorscale": [
             [
              0,
              "#0d0887"
             ],
             [
              0.1111111111111111,
              "#46039f"
             ],
             [
              0.2222222222222222,
              "#7201a8"
             ],
             [
              0.3333333333333333,
              "#9c179e"
             ],
             [
              0.4444444444444444,
              "#bd3786"
             ],
             [
              0.5555555555555556,
              "#d8576b"
             ],
             [
              0.6666666666666666,
              "#ed7953"
             ],
             [
              0.7777777777777778,
              "#fb9f3a"
             ],
             [
              0.8888888888888888,
              "#fdca26"
             ],
             [
              1,
              "#f0f921"
             ]
            ],
            "type": "heatmapgl"
           }
          ],
          "histogram": [
           {
            "marker": {
             "pattern": {
              "fillmode": "overlay",
              "size": 10,
              "solidity": 0.2
             }
            },
            "type": "histogram"
           }
          ],
          "histogram2d": [
           {
            "colorbar": {
             "outlinewidth": 0,
             "ticks": ""
            },
            "colorscale": [
             [
              0,
              "#0d0887"
             ],
             [
              0.1111111111111111,
              "#46039f"
             ],
             [
              0.2222222222222222,
              "#7201a8"
             ],
             [
              0.3333333333333333,
              "#9c179e"
             ],
             [
              0.4444444444444444,
              "#bd3786"
             ],
             [
              0.5555555555555556,
              "#d8576b"
             ],
             [
              0.6666666666666666,
              "#ed7953"
             ],
             [
              0.7777777777777778,
              "#fb9f3a"
             ],
             [
              0.8888888888888888,
              "#fdca26"
             ],
             [
              1,
              "#f0f921"
             ]
            ],
            "type": "histogram2d"
           }
          ],
          "histogram2dcontour": [
           {
            "colorbar": {
             "outlinewidth": 0,
             "ticks": ""
            },
            "colorscale": [
             [
              0,
              "#0d0887"
             ],
             [
              0.1111111111111111,
              "#46039f"
             ],
             [
              0.2222222222222222,
              "#7201a8"
             ],
             [
              0.3333333333333333,
              "#9c179e"
             ],
             [
              0.4444444444444444,
              "#bd3786"
             ],
             [
              0.5555555555555556,
              "#d8576b"
             ],
             [
              0.6666666666666666,
              "#ed7953"
             ],
             [
              0.7777777777777778,
              "#fb9f3a"
             ],
             [
              0.8888888888888888,
              "#fdca26"
             ],
             [
              1,
              "#f0f921"
             ]
            ],
            "type": "histogram2dcontour"
           }
          ],
          "mesh3d": [
           {
            "colorbar": {
             "outlinewidth": 0,
             "ticks": ""
            },
            "type": "mesh3d"
           }
          ],
          "parcoords": [
           {
            "line": {
             "colorbar": {
              "outlinewidth": 0,
              "ticks": ""
             }
            },
            "type": "parcoords"
           }
          ],
          "pie": [
           {
            "automargin": true,
            "type": "pie"
           }
          ],
          "scatter": [
           {
            "fillpattern": {
             "fillmode": "overlay",
             "size": 10,
             "solidity": 0.2
            },
            "type": "scatter"
           }
          ],
          "scatter3d": [
           {
            "line": {
             "colorbar": {
              "outlinewidth": 0,
              "ticks": ""
             }
            },
            "marker": {
             "colorbar": {
              "outlinewidth": 0,
              "ticks": ""
             }
            },
            "type": "scatter3d"
           }
          ],
          "scattercarpet": [
           {
            "marker": {
             "colorbar": {
              "outlinewidth": 0,
              "ticks": ""
             }
            },
            "type": "scattercarpet"
           }
          ],
          "scattergeo": [
           {
            "marker": {
             "colorbar": {
              "outlinewidth": 0,
              "ticks": ""
             }
            },
            "type": "scattergeo"
           }
          ],
          "scattergl": [
           {
            "marker": {
             "colorbar": {
              "outlinewidth": 0,
              "ticks": ""
             }
            },
            "type": "scattergl"
           }
          ],
          "scattermapbox": [
           {
            "marker": {
             "colorbar": {
              "outlinewidth": 0,
              "ticks": ""
             }
            },
            "type": "scattermapbox"
           }
          ],
          "scatterpolar": [
           {
            "marker": {
             "colorbar": {
              "outlinewidth": 0,
              "ticks": ""
             }
            },
            "type": "scatterpolar"
           }
          ],
          "scatterpolargl": [
           {
            "marker": {
             "colorbar": {
              "outlinewidth": 0,
              "ticks": ""
             }
            },
            "type": "scatterpolargl"
           }
          ],
          "scatterternary": [
           {
            "marker": {
             "colorbar": {
              "outlinewidth": 0,
              "ticks": ""
             }
            },
            "type": "scatterternary"
           }
          ],
          "surface": [
           {
            "colorbar": {
             "outlinewidth": 0,
             "ticks": ""
            },
            "colorscale": [
             [
              0,
              "#0d0887"
             ],
             [
              0.1111111111111111,
              "#46039f"
             ],
             [
              0.2222222222222222,
              "#7201a8"
             ],
             [
              0.3333333333333333,
              "#9c179e"
             ],
             [
              0.4444444444444444,
              "#bd3786"
             ],
             [
              0.5555555555555556,
              "#d8576b"
             ],
             [
              0.6666666666666666,
              "#ed7953"
             ],
             [
              0.7777777777777778,
              "#fb9f3a"
             ],
             [
              0.8888888888888888,
              "#fdca26"
             ],
             [
              1,
              "#f0f921"
             ]
            ],
            "type": "surface"
           }
          ],
          "table": [
           {
            "cells": {
             "fill": {
              "color": "#EBF0F8"
             },
             "line": {
              "color": "white"
             }
            },
            "header": {
             "fill": {
              "color": "#C8D4E3"
             },
             "line": {
              "color": "white"
             }
            },
            "type": "table"
           }
          ]
         },
         "layout": {
          "annotationdefaults": {
           "arrowcolor": "#2a3f5f",
           "arrowhead": 0,
           "arrowwidth": 1
          },
          "autotypenumbers": "strict",
          "coloraxis": {
           "colorbar": {
            "outlinewidth": 0,
            "ticks": ""
           }
          },
          "colorscale": {
           "diverging": [
            [
             0,
             "#8e0152"
            ],
            [
             0.1,
             "#c51b7d"
            ],
            [
             0.2,
             "#de77ae"
            ],
            [
             0.3,
             "#f1b6da"
            ],
            [
             0.4,
             "#fde0ef"
            ],
            [
             0.5,
             "#f7f7f7"
            ],
            [
             0.6,
             "#e6f5d0"
            ],
            [
             0.7,
             "#b8e186"
            ],
            [
             0.8,
             "#7fbc41"
            ],
            [
             0.9,
             "#4d9221"
            ],
            [
             1,
             "#276419"
            ]
           ],
           "sequential": [
            [
             0,
             "#0d0887"
            ],
            [
             0.1111111111111111,
             "#46039f"
            ],
            [
             0.2222222222222222,
             "#7201a8"
            ],
            [
             0.3333333333333333,
             "#9c179e"
            ],
            [
             0.4444444444444444,
             "#bd3786"
            ],
            [
             0.5555555555555556,
             "#d8576b"
            ],
            [
             0.6666666666666666,
             "#ed7953"
            ],
            [
             0.7777777777777778,
             "#fb9f3a"
            ],
            [
             0.8888888888888888,
             "#fdca26"
            ],
            [
             1,
             "#f0f921"
            ]
           ],
           "sequentialminus": [
            [
             0,
             "#0d0887"
            ],
            [
             0.1111111111111111,
             "#46039f"
            ],
            [
             0.2222222222222222,
             "#7201a8"
            ],
            [
             0.3333333333333333,
             "#9c179e"
            ],
            [
             0.4444444444444444,
             "#bd3786"
            ],
            [
             0.5555555555555556,
             "#d8576b"
            ],
            [
             0.6666666666666666,
             "#ed7953"
            ],
            [
             0.7777777777777778,
             "#fb9f3a"
            ],
            [
             0.8888888888888888,
             "#fdca26"
            ],
            [
             1,
             "#f0f921"
            ]
           ]
          },
          "colorway": [
           "#636efa",
           "#EF553B",
           "#00cc96",
           "#ab63fa",
           "#FFA15A",
           "#19d3f3",
           "#FF6692",
           "#B6E880",
           "#FF97FF",
           "#FECB52"
          ],
          "font": {
           "color": "#2a3f5f"
          },
          "geo": {
           "bgcolor": "white",
           "lakecolor": "white",
           "landcolor": "#E5ECF6",
           "showlakes": true,
           "showland": true,
           "subunitcolor": "white"
          },
          "hoverlabel": {
           "align": "left"
          },
          "hovermode": "closest",
          "mapbox": {
           "style": "light"
          },
          "paper_bgcolor": "white",
          "plot_bgcolor": "#E5ECF6",
          "polar": {
           "angularaxis": {
            "gridcolor": "white",
            "linecolor": "white",
            "ticks": ""
           },
           "bgcolor": "#E5ECF6",
           "radialaxis": {
            "gridcolor": "white",
            "linecolor": "white",
            "ticks": ""
           }
          },
          "scene": {
           "xaxis": {
            "backgroundcolor": "#E5ECF6",
            "gridcolor": "white",
            "gridwidth": 2,
            "linecolor": "white",
            "showbackground": true,
            "ticks": "",
            "zerolinecolor": "white"
           },
           "yaxis": {
            "backgroundcolor": "#E5ECF6",
            "gridcolor": "white",
            "gridwidth": 2,
            "linecolor": "white",
            "showbackground": true,
            "ticks": "",
            "zerolinecolor": "white"
           },
           "zaxis": {
            "backgroundcolor": "#E5ECF6",
            "gridcolor": "white",
            "gridwidth": 2,
            "linecolor": "white",
            "showbackground": true,
            "ticks": "",
            "zerolinecolor": "white"
           }
          },
          "shapedefaults": {
           "line": {
            "color": "#2a3f5f"
           }
          },
          "ternary": {
           "aaxis": {
            "gridcolor": "white",
            "linecolor": "white",
            "ticks": ""
           },
           "baxis": {
            "gridcolor": "white",
            "linecolor": "white",
            "ticks": ""
           },
           "bgcolor": "#E5ECF6",
           "caxis": {
            "gridcolor": "white",
            "linecolor": "white",
            "ticks": ""
           }
          },
          "title": {
           "x": 0.05
          },
          "xaxis": {
           "automargin": true,
           "gridcolor": "white",
           "linecolor": "white",
           "ticks": "",
           "title": {
            "standoff": 15
           },
           "zerolinecolor": "white",
           "zerolinewidth": 2
          },
          "yaxis": {
           "automargin": true,
           "gridcolor": "white",
           "linecolor": "white",
           "ticks": "",
           "title": {
            "standoff": 15
           },
           "zerolinecolor": "white",
           "zerolinewidth": 2
          }
         }
        },
        "title": {
         "text": "Cell Types for: CD73 (AB_2800916)",
         "x": 0.45
        },
        "violinmode": "overlay",
        "xaxis": {
         "anchor": "y",
         "autorange": true,
         "categoryarray": [
          "CL:0000788 (naive B cell)",
          "CL:0000787 (memory B cell)",
          "CL:0000913 (effector memory CD8-positive, alpha-beta T cell)",
          "CL:0000816 (immature B cell)",
          "CL:0000625 (CD8-positive, alpha-beta T cell)",
          "CL:0000895 (naive thymus-derived CD4-positive, alpha-beta T cell)",
          "CL:0000905 (effector memory CD4-positive, alpha-beta T cell)",
          "CL:0000576 (monocyte)",
          "CL:0000904 (central memory CD4-positive, alpha-beta T cell)",
          "CL:0000623 (natural killer cell)"
         ],
         "categoryorder": "array",
         "domain": [
          0,
          1
         ],
         "range": [
          -0.9166666666666667,
          9.916666666666666
         ],
         "title": {
          "text": "Cell Type"
         },
         "type": "category"
        },
        "yaxis": {
         "anchor": "x",
         "autorange": true,
         "domain": [
          0,
          1
         ],
         "range": [
          0,
          26.071443921288484
         ],
         "rangemode": "nonnegative",
         "title": {
          "text": "Normalized Values"
         },
         "type": "linear"
        }
       }
      },
      "text/html": [
       "<div>                            <div id=\"45958693-e246-4a8e-a202-608179df45f0\" class=\"plotly-graph-div\" style=\"height:600px; width:100%;\"></div>            <script type=\"text/javascript\">                require([\"plotly\"], function(Plotly) {                    window.PLOTLYENV=window.PLOTLYENV || {};                                    if (document.getElementById(\"45958693-e246-4a8e-a202-608179df45f0\")) {                    Plotly.newPlot(                        \"45958693-e246-4a8e-a202-608179df45f0\",                        [{\"alignmentgroup\":\"True\",\"box\":{\"visible\":true},\"hovertemplate\":\"celltype=%{x}<br>value=%{y}<extra></extra>\",\"legendgroup\":\"CL:0000788 (naive B cell)\",\"marker\":{\"color\":\"#636efa\",\"size\":1},\"name\":\"CL:0000788 (naive B cell)\",\"offsetgroup\":\"CL:0000788 (naive B cell)\",\"orientation\":\"v\",\"scalegroup\":\"True\",\"showlegend\":true,\"x\":[\"CL:0000788 (naive B cell)\",\"CL:0000788 (naive B cell)\",\"CL:0000788 (naive B cell)\",\"CL:0000788 (naive B cell)\",\"CL:0000788 (naive B cell)\",\"CL:0000788 (naive B cell)\"],\"x0\":\" \",\"xaxis\":\"x\",\"y\":[9.037596,9.63363,10.1814,11.0214,0.0,15.2944],\"y0\":\" \",\"yaxis\":\"y\",\"type\":\"violin\",\"width\":0.75},{\"alignmentgroup\":\"True\",\"box\":{\"visible\":true},\"hovertemplate\":\"celltype=%{x}<br>value=%{y}<extra></extra>\",\"legendgroup\":\"CL:0000787 (memory B cell)\",\"marker\":{\"color\":\"#EF553B\",\"size\":1},\"name\":\"CL:0000787 (memory B cell)\",\"offsetgroup\":\"CL:0000787 (memory B cell)\",\"orientation\":\"v\",\"scalegroup\":\"True\",\"showlegend\":true,\"x\":[\"CL:0000787 (memory B cell)\",\"CL:0000787 (memory B cell)\",\"CL:0000787 (memory B cell)\",\"CL:0000787 (memory B cell)\",\"CL:0000787 (memory B cell)\",\"CL:0000787 (memory B cell)\"],\"x0\":\" \",\"xaxis\":\"x\",\"y\":[9.0424692105,9.47295,9.910755,10.7508,0.0,22.8935],\"y0\":\" \",\"yaxis\":\"y\",\"type\":\"violin\",\"width\":0.75},{\"alignmentgroup\":\"True\",\"box\":{\"visible\":true},\"hovertemplate\":\"celltype=%{x}<br>value=%{y}<extra></extra>\",\"legendgroup\":\"CL:0000913 (effector memory CD8-positive, alpha-beta T cell)\",\"marker\":{\"color\":\"#00cc96\",\"size\":1},\"name\":\"CL:0000913 (effector memory CD8-positive, alpha-beta T cell)\",\"offsetgroup\":\"CL:0000913 (effector memory CD8-positive, alpha-beta T cell)\",\"orientation\":\"v\",\"scalegroup\":\"True\",\"showlegend\":true,\"x\":[\"CL:0000913 (effector memory CD8-positive, alpha-beta T cell)\",\"CL:0000913 (effector memory CD8-positive, alpha-beta T cell)\",\"CL:0000913 (effector memory CD8-positive, alpha-beta T cell)\",\"CL:0000913 (effector memory CD8-positive, alpha-beta T cell)\",\"CL:0000913 (effector memory CD8-positive, alpha-beta T cell)\",\"CL:0000913 (effector memory CD8-positive, alpha-beta T cell)\"],\"x0\":\" \",\"xaxis\":\"x\",\"y\":[5.3969816667,0.0,9.554895,9.90542,0.0,10.8406],\"y0\":\" \",\"yaxis\":\"y\",\"type\":\"violin\",\"width\":0.75},{\"alignmentgroup\":\"True\",\"box\":{\"visible\":true},\"hovertemplate\":\"celltype=%{x}<br>value=%{y}<extra></extra>\",\"legendgroup\":\"CL:0000816 (immature B cell)\",\"marker\":{\"color\":\"#ab63fa\",\"size\":1},\"name\":\"CL:0000816 (immature B cell)\",\"offsetgroup\":\"CL:0000816 (immature B cell)\",\"orientation\":\"v\",\"scalegroup\":\"True\",\"showlegend\":true,\"x\":[\"CL:0000816 (immature B cell)\",\"CL:0000816 (immature B cell)\",\"CL:0000816 (immature B cell)\",\"CL:0000816 (immature B cell)\",\"CL:0000816 (immature B cell)\",\"CL:0000816 (immature B cell)\"],\"x0\":\" \",\"xaxis\":\"x\",\"y\":[4.1588451429,0.0,0.0,9.71435,0.0,12.7813],\"y0\":\" \",\"yaxis\":\"y\",\"type\":\"violin\",\"width\":0.75},{\"alignmentgroup\":\"True\",\"box\":{\"visible\":true},\"hovertemplate\":\"celltype=%{x}<br>value=%{y}<extra></extra>\",\"legendgroup\":\"CL:0000625 (CD8-positive, alpha-beta T cell)\",\"marker\":{\"color\":\"#FFA15A\",\"size\":1},\"name\":\"CL:0000625 (CD8-positive, alpha-beta T cell)\",\"offsetgroup\":\"CL:0000625 (CD8-positive, alpha-beta T cell)\",\"orientation\":\"v\",\"scalegroup\":\"True\",\"showlegend\":true,\"x\":[\"CL:0000625 (CD8-positive, alpha-beta T cell)\",\"CL:0000625 (CD8-positive, alpha-beta T cell)\",\"CL:0000625 (CD8-positive, alpha-beta T cell)\",\"CL:0000625 (CD8-positive, alpha-beta T cell)\",\"CL:0000625 (CD8-positive, alpha-beta T cell)\",\"CL:0000625 (CD8-positive, alpha-beta T cell)\"],\"x0\":\" \",\"xaxis\":\"x\",\"y\":[3.2237129577,0.0,0.0,9.608125,0.0,11.7807],\"y0\":\" \",\"yaxis\":\"y\",\"type\":\"violin\",\"width\":0.75},{\"alignmentgroup\":\"True\",\"box\":{\"visible\":true},\"hovertemplate\":\"celltype=%{x}<br>value=%{y}<extra></extra>\",\"legendgroup\":\"CL:0000895 (naive thymus-derived CD4-positive, alpha-beta T cell)\",\"marker\":{\"color\":\"#19d3f3\",\"size\":1},\"name\":\"CL:0000895 (naive thymus-derived CD4-positive, alpha-beta T cell)\",\"offsetgroup\":\"CL:0000895 (naive thymus-derived CD4-positive, alpha-beta T cell)\",\"orientation\":\"v\",\"scalegroup\":\"True\",\"showlegend\":true,\"x\":[\"CL:0000895 (naive thymus-derived CD4-positive, alpha-beta T cell)\",\"CL:0000895 (naive thymus-derived CD4-positive, alpha-beta T cell)\",\"CL:0000895 (naive thymus-derived CD4-positive, alpha-beta T cell)\",\"CL:0000895 (naive thymus-derived CD4-positive, alpha-beta T cell)\",\"CL:0000895 (naive thymus-derived CD4-positive, alpha-beta T cell)\",\"CL:0000895 (naive thymus-derived CD4-positive, alpha-beta T cell)\"],\"x0\":\" \",\"xaxis\":\"x\",\"y\":[2.8444809975,0.0,0.0,9.369125,0.0,11.994],\"y0\":\" \",\"yaxis\":\"y\",\"type\":\"violin\",\"width\":0.75},{\"alignmentgroup\":\"True\",\"box\":{\"visible\":true},\"hovertemplate\":\"celltype=%{x}<br>value=%{y}<extra></extra>\",\"legendgroup\":\"CL:0000905 (effector memory CD4-positive, alpha-beta T cell)\",\"marker\":{\"color\":\"#FF6692\",\"size\":1},\"name\":\"CL:0000905 (effector memory CD4-positive, alpha-beta T cell)\",\"offsetgroup\":\"CL:0000905 (effector memory CD4-positive, alpha-beta T cell)\",\"orientation\":\"v\",\"scalegroup\":\"True\",\"showlegend\":true,\"x\":[\"CL:0000905 (effector memory CD4-positive, alpha-beta T cell)\",\"CL:0000905 (effector memory CD4-positive, alpha-beta T cell)\",\"CL:0000905 (effector memory CD4-positive, alpha-beta T cell)\",\"CL:0000905 (effector memory CD4-positive, alpha-beta T cell)\",\"CL:0000905 (effector memory CD4-positive, alpha-beta T cell)\",\"CL:0000905 (effector memory CD4-positive, alpha-beta T cell)\"],\"x0\":\" \",\"xaxis\":\"x\",\"y\":[2.6997088318,0.0,0.0,9.3634,0.0,14.4301],\"y0\":\" \",\"yaxis\":\"y\",\"type\":\"violin\",\"width\":0.75},{\"alignmentgroup\":\"True\",\"box\":{\"visible\":true},\"hovertemplate\":\"celltype=%{x}<br>value=%{y}<extra></extra>\",\"legendgroup\":\"CL:0000576 (monocyte)\",\"marker\":{\"color\":\"#B6E880\",\"size\":1},\"name\":\"CL:0000576 (monocyte)\",\"offsetgroup\":\"CL:0000576 (monocyte)\",\"orientation\":\"v\",\"scalegroup\":\"True\",\"showlegend\":true,\"x\":[\"CL:0000576 (monocyte)\",\"CL:0000576 (monocyte)\",\"CL:0000576 (monocyte)\",\"CL:0000576 (monocyte)\",\"CL:0000576 (monocyte)\",\"CL:0000576 (monocyte)\"],\"x0\":\" \",\"xaxis\":\"x\",\"y\":[1.5556577049,0.0,0.0,0.0,0.0,9.67742],\"y0\":\" \",\"yaxis\":\"y\",\"type\":\"violin\",\"width\":0.75},{\"alignmentgroup\":\"True\",\"box\":{\"visible\":true},\"hovertemplate\":\"celltype=%{x}<br>value=%{y}<extra></extra>\",\"legendgroup\":\"CL:0000904 (central memory CD4-positive, alpha-beta T cell)\",\"marker\":{\"color\":\"#FF97FF\",\"size\":1},\"name\":\"CL:0000904 (central memory CD4-positive, alpha-beta T cell)\",\"offsetgroup\":\"CL:0000904 (central memory CD4-positive, alpha-beta T cell)\",\"orientation\":\"v\",\"scalegroup\":\"True\",\"showlegend\":true,\"x\":[\"CL:0000904 (central memory CD4-positive, alpha-beta T cell)\",\"CL:0000904 (central memory CD4-positive, alpha-beta T cell)\",\"CL:0000904 (central memory CD4-positive, alpha-beta T cell)\",\"CL:0000904 (central memory CD4-positive, alpha-beta T cell)\",\"CL:0000904 (central memory CD4-positive, alpha-beta T cell)\",\"CL:0000904 (central memory CD4-positive, alpha-beta T cell)\"],\"x0\":\" \",\"xaxis\":\"x\",\"y\":[1.6690633731,0.0,0.0,0.0,0.0,12.8883],\"y0\":\" \",\"yaxis\":\"y\",\"type\":\"violin\",\"width\":0.75},{\"alignmentgroup\":\"True\",\"box\":{\"visible\":true},\"hovertemplate\":\"celltype=%{x}<br>value=%{y}<extra></extra>\",\"legendgroup\":\"CL:0000623 (natural killer cell)\",\"marker\":{\"color\":\"#FECB52\",\"size\":1},\"name\":\"CL:0000623 (natural killer cell)\",\"offsetgroup\":\"CL:0000623 (natural killer cell)\",\"orientation\":\"v\",\"scalegroup\":\"True\",\"showlegend\":true,\"x\":[\"CL:0000623 (natural killer cell)\",\"CL:0000623 (natural killer cell)\",\"CL:0000623 (natural killer cell)\",\"CL:0000623 (natural killer cell)\",\"CL:0000623 (natural killer cell)\",\"CL:0000623 (natural killer cell)\"],\"x0\":\" \",\"xaxis\":\"x\",\"y\":[0.3316492364,0.0,0.0,0.0,0.0,10.1142],\"y0\":\" \",\"yaxis\":\"y\",\"type\":\"violin\",\"width\":0.75}],                        {\"template\":{\"data\":{\"histogram2dcontour\":[{\"type\":\"histogram2dcontour\",\"colorbar\":{\"outlinewidth\":0,\"ticks\":\"\"},\"colorscale\":[[0.0,\"#0d0887\"],[0.1111111111111111,\"#46039f\"],[0.2222222222222222,\"#7201a8\"],[0.3333333333333333,\"#9c179e\"],[0.4444444444444444,\"#bd3786\"],[0.5555555555555556,\"#d8576b\"],[0.6666666666666666,\"#ed7953\"],[0.7777777777777778,\"#fb9f3a\"],[0.8888888888888888,\"#fdca26\"],[1.0,\"#f0f921\"]]}],\"choropleth\":[{\"type\":\"choropleth\",\"colorbar\":{\"outlinewidth\":0,\"ticks\":\"\"}}],\"histogram2d\":[{\"type\":\"histogram2d\",\"colorbar\":{\"outlinewidth\":0,\"ticks\":\"\"},\"colorscale\":[[0.0,\"#0d0887\"],[0.1111111111111111,\"#46039f\"],[0.2222222222222222,\"#7201a8\"],[0.3333333333333333,\"#9c179e\"],[0.4444444444444444,\"#bd3786\"],[0.5555555555555556,\"#d8576b\"],[0.6666666666666666,\"#ed7953\"],[0.7777777777777778,\"#fb9f3a\"],[0.8888888888888888,\"#fdca26\"],[1.0,\"#f0f921\"]]}],\"heatmap\":[{\"type\":\"heatmap\",\"colorbar\":{\"outlinewidth\":0,\"ticks\":\"\"},\"colorscale\":[[0.0,\"#0d0887\"],[0.1111111111111111,\"#46039f\"],[0.2222222222222222,\"#7201a8\"],[0.3333333333333333,\"#9c179e\"],[0.4444444444444444,\"#bd3786\"],[0.5555555555555556,\"#d8576b\"],[0.6666666666666666,\"#ed7953\"],[0.7777777777777778,\"#fb9f3a\"],[0.8888888888888888,\"#fdca26\"],[1.0,\"#f0f921\"]]}],\"heatmapgl\":[{\"type\":\"heatmapgl\",\"colorbar\":{\"outlinewidth\":0,\"ticks\":\"\"},\"colorscale\":[[0.0,\"#0d0887\"],[0.1111111111111111,\"#46039f\"],[0.2222222222222222,\"#7201a8\"],[0.3333333333333333,\"#9c179e\"],[0.4444444444444444,\"#bd3786\"],[0.5555555555555556,\"#d8576b\"],[0.6666666666666666,\"#ed7953\"],[0.7777777777777778,\"#fb9f3a\"],[0.8888888888888888,\"#fdca26\"],[1.0,\"#f0f921\"]]}],\"contourcarpet\":[{\"type\":\"contourcarpet\",\"colorbar\":{\"outlinewidth\":0,\"ticks\":\"\"}}],\"contour\":[{\"type\":\"contour\",\"colorbar\":{\"outlinewidth\":0,\"ticks\":\"\"},\"colorscale\":[[0.0,\"#0d0887\"],[0.1111111111111111,\"#46039f\"],[0.2222222222222222,\"#7201a8\"],[0.3333333333333333,\"#9c179e\"],[0.4444444444444444,\"#bd3786\"],[0.5555555555555556,\"#d8576b\"],[0.6666666666666666,\"#ed7953\"],[0.7777777777777778,\"#fb9f3a\"],[0.8888888888888888,\"#fdca26\"],[1.0,\"#f0f921\"]]}],\"surface\":[{\"type\":\"surface\",\"colorbar\":{\"outlinewidth\":0,\"ticks\":\"\"},\"colorscale\":[[0.0,\"#0d0887\"],[0.1111111111111111,\"#46039f\"],[0.2222222222222222,\"#7201a8\"],[0.3333333333333333,\"#9c179e\"],[0.4444444444444444,\"#bd3786\"],[0.5555555555555556,\"#d8576b\"],[0.6666666666666666,\"#ed7953\"],[0.7777777777777778,\"#fb9f3a\"],[0.8888888888888888,\"#fdca26\"],[1.0,\"#f0f921\"]]}],\"mesh3d\":[{\"type\":\"mesh3d\",\"colorbar\":{\"outlinewidth\":0,\"ticks\":\"\"}}],\"scatter\":[{\"fillpattern\":{\"fillmode\":\"overlay\",\"size\":10,\"solidity\":0.2},\"type\":\"scatter\"}],\"parcoords\":[{\"type\":\"parcoords\",\"line\":{\"colorbar\":{\"outlinewidth\":0,\"ticks\":\"\"}}}],\"scatterpolargl\":[{\"type\":\"scatterpolargl\",\"marker\":{\"colorbar\":{\"outlinewidth\":0,\"ticks\":\"\"}}}],\"bar\":[{\"error_x\":{\"color\":\"#2a3f5f\"},\"error_y\":{\"color\":\"#2a3f5f\"},\"marker\":{\"line\":{\"color\":\"#E5ECF6\",\"width\":0.5},\"pattern\":{\"fillmode\":\"overlay\",\"size\":10,\"solidity\":0.2}},\"type\":\"bar\"}],\"scattergeo\":[{\"type\":\"scattergeo\",\"marker\":{\"colorbar\":{\"outlinewidth\":0,\"ticks\":\"\"}}}],\"scatterpolar\":[{\"type\":\"scatterpolar\",\"marker\":{\"colorbar\":{\"outlinewidth\":0,\"ticks\":\"\"}}}],\"histogram\":[{\"marker\":{\"pattern\":{\"fillmode\":\"overlay\",\"size\":10,\"solidity\":0.2}},\"type\":\"histogram\"}],\"scattergl\":[{\"type\":\"scattergl\",\"marker\":{\"colorbar\":{\"outlinewidth\":0,\"ticks\":\"\"}}}],\"scatter3d\":[{\"type\":\"scatter3d\",\"line\":{\"colorbar\":{\"outlinewidth\":0,\"ticks\":\"\"}},\"marker\":{\"colorbar\":{\"outlinewidth\":0,\"ticks\":\"\"}}}],\"scattermapbox\":[{\"type\":\"scattermapbox\",\"marker\":{\"colorbar\":{\"outlinewidth\":0,\"ticks\":\"\"}}}],\"scatterternary\":[{\"type\":\"scatterternary\",\"marker\":{\"colorbar\":{\"outlinewidth\":0,\"ticks\":\"\"}}}],\"scattercarpet\":[{\"type\":\"scattercarpet\",\"marker\":{\"colorbar\":{\"outlinewidth\":0,\"ticks\":\"\"}}}],\"carpet\":[{\"aaxis\":{\"endlinecolor\":\"#2a3f5f\",\"gridcolor\":\"white\",\"linecolor\":\"white\",\"minorgridcolor\":\"white\",\"startlinecolor\":\"#2a3f5f\"},\"baxis\":{\"endlinecolor\":\"#2a3f5f\",\"gridcolor\":\"white\",\"linecolor\":\"white\",\"minorgridcolor\":\"white\",\"startlinecolor\":\"#2a3f5f\"},\"type\":\"carpet\"}],\"table\":[{\"cells\":{\"fill\":{\"color\":\"#EBF0F8\"},\"line\":{\"color\":\"white\"}},\"header\":{\"fill\":{\"color\":\"#C8D4E3\"},\"line\":{\"color\":\"white\"}},\"type\":\"table\"}],\"barpolar\":[{\"marker\":{\"line\":{\"color\":\"#E5ECF6\",\"width\":0.5},\"pattern\":{\"fillmode\":\"overlay\",\"size\":10,\"solidity\":0.2}},\"type\":\"barpolar\"}],\"pie\":[{\"automargin\":true,\"type\":\"pie\"}]},\"layout\":{\"autotypenumbers\":\"strict\",\"colorway\":[\"#636efa\",\"#EF553B\",\"#00cc96\",\"#ab63fa\",\"#FFA15A\",\"#19d3f3\",\"#FF6692\",\"#B6E880\",\"#FF97FF\",\"#FECB52\"],\"font\":{\"color\":\"#2a3f5f\"},\"hovermode\":\"closest\",\"hoverlabel\":{\"align\":\"left\"},\"paper_bgcolor\":\"white\",\"plot_bgcolor\":\"#E5ECF6\",\"polar\":{\"bgcolor\":\"#E5ECF6\",\"angularaxis\":{\"gridcolor\":\"white\",\"linecolor\":\"white\",\"ticks\":\"\"},\"radialaxis\":{\"gridcolor\":\"white\",\"linecolor\":\"white\",\"ticks\":\"\"}},\"ternary\":{\"bgcolor\":\"#E5ECF6\",\"aaxis\":{\"gridcolor\":\"white\",\"linecolor\":\"white\",\"ticks\":\"\"},\"baxis\":{\"gridcolor\":\"white\",\"linecolor\":\"white\",\"ticks\":\"\"},\"caxis\":{\"gridcolor\":\"white\",\"linecolor\":\"white\",\"ticks\":\"\"}},\"coloraxis\":{\"colorbar\":{\"outlinewidth\":0,\"ticks\":\"\"}},\"colorscale\":{\"sequential\":[[0.0,\"#0d0887\"],[0.1111111111111111,\"#46039f\"],[0.2222222222222222,\"#7201a8\"],[0.3333333333333333,\"#9c179e\"],[0.4444444444444444,\"#bd3786\"],[0.5555555555555556,\"#d8576b\"],[0.6666666666666666,\"#ed7953\"],[0.7777777777777778,\"#fb9f3a\"],[0.8888888888888888,\"#fdca26\"],[1.0,\"#f0f921\"]],\"sequentialminus\":[[0.0,\"#0d0887\"],[0.1111111111111111,\"#46039f\"],[0.2222222222222222,\"#7201a8\"],[0.3333333333333333,\"#9c179e\"],[0.4444444444444444,\"#bd3786\"],[0.5555555555555556,\"#d8576b\"],[0.6666666666666666,\"#ed7953\"],[0.7777777777777778,\"#fb9f3a\"],[0.8888888888888888,\"#fdca26\"],[1.0,\"#f0f921\"]],\"diverging\":[[0,\"#8e0152\"],[0.1,\"#c51b7d\"],[0.2,\"#de77ae\"],[0.3,\"#f1b6da\"],[0.4,\"#fde0ef\"],[0.5,\"#f7f7f7\"],[0.6,\"#e6f5d0\"],[0.7,\"#b8e186\"],[0.8,\"#7fbc41\"],[0.9,\"#4d9221\"],[1,\"#276419\"]]},\"xaxis\":{\"gridcolor\":\"white\",\"linecolor\":\"white\",\"ticks\":\"\",\"title\":{\"standoff\":15},\"zerolinecolor\":\"white\",\"automargin\":true,\"zerolinewidth\":2},\"yaxis\":{\"gridcolor\":\"white\",\"linecolor\":\"white\",\"ticks\":\"\",\"title\":{\"standoff\":15},\"zerolinecolor\":\"white\",\"automargin\":true,\"zerolinewidth\":2},\"scene\":{\"xaxis\":{\"backgroundcolor\":\"#E5ECF6\",\"gridcolor\":\"white\",\"linecolor\":\"white\",\"showbackground\":true,\"ticks\":\"\",\"zerolinecolor\":\"white\",\"gridwidth\":2},\"yaxis\":{\"backgroundcolor\":\"#E5ECF6\",\"gridcolor\":\"white\",\"linecolor\":\"white\",\"showbackground\":true,\"ticks\":\"\",\"zerolinecolor\":\"white\",\"gridwidth\":2},\"zaxis\":{\"backgroundcolor\":\"#E5ECF6\",\"gridcolor\":\"white\",\"linecolor\":\"white\",\"showbackground\":true,\"ticks\":\"\",\"zerolinecolor\":\"white\",\"gridwidth\":2}},\"shapedefaults\":{\"line\":{\"color\":\"#2a3f5f\"}},\"annotationdefaults\":{\"arrowcolor\":\"#2a3f5f\",\"arrowhead\":0,\"arrowwidth\":1},\"geo\":{\"bgcolor\":\"white\",\"landcolor\":\"#E5ECF6\",\"subunitcolor\":\"white\",\"showland\":true,\"showlakes\":true,\"lakecolor\":\"white\"},\"title\":{\"x\":0.05},\"mapbox\":{\"style\":\"light\"}}},\"xaxis\":{\"anchor\":\"y\",\"domain\":[0.0,1.0],\"title\":{\"text\":\"Cell Type\"},\"categoryorder\":\"array\",\"categoryarray\":[\"CL:0000788 (naive B cell)\",\"CL:0000787 (memory B cell)\",\"CL:0000913 (effector memory CD8-positive, alpha-beta T cell)\",\"CL:0000816 (immature B cell)\",\"CL:0000625 (CD8-positive, alpha-beta T cell)\",\"CL:0000895 (naive thymus-derived CD4-positive, alpha-beta T cell)\",\"CL:0000905 (effector memory CD4-positive, alpha-beta T cell)\",\"CL:0000576 (monocyte)\",\"CL:0000904 (central memory CD4-positive, alpha-beta T cell)\",\"CL:0000623 (natural killer cell)\"]},\"yaxis\":{\"anchor\":\"x\",\"domain\":[0.0,1.0],\"title\":{\"text\":\"Normalized Values\"},\"rangemode\":\"nonnegative\"},\"legend\":{\"title\":{\"text\":\"celltype\"},\"tracegroupgap\":0},\"margin\":{\"t\":60},\"violinmode\":\"overlay\",\"title\":{\"text\":\"Cell Types for: CD73 (AB_2800916)\",\"x\":0.45},\"font\":{\"size\":8},\"autosize\":true,\"height\":600},                        {\"responsive\": true}                    ).then(function(){\n",
       "                            \n",
       "var gd = document.getElementById('45958693-e246-4a8e-a202-608179df45f0');\n",
       "var x = new MutationObserver(function (mutations, observer) {{\n",
       "        var display = window.getComputedStyle(gd).display;\n",
       "        if (!display || display === 'none') {{\n",
       "            console.log([gd, 'removed!']);\n",
       "            Plotly.purge(gd);\n",
       "            observer.disconnect();\n",
       "        }}\n",
       "}});\n",
       "\n",
       "// Listen for the removal of the full notebook cells\n",
       "var notebookContainer = gd.closest('#notebook-container');\n",
       "if (notebookContainer) {{\n",
       "    x.observe(notebookContainer, {childList: true});\n",
       "}}\n",
       "\n",
       "// Listen for the clearing of the current output cell\n",
       "var outputEl = gd.closest('.output');\n",
       "if (outputEl) {{\n",
       "    x.observe(outputEl, {childList: true});\n",
       "}}\n",
       "\n",
       "                        })                };                });            </script>        </div>"
      ]
     },
     "metadata": {},
     "output_type": "display_data"
    }
   ],
   "source": [
    "result_dict, plot_dict_ct = cxn.find_celltypes([\"AB_2800916\"], idBTO=[\"BTO:0001025\"])\n",
    "plot_dict_ct[\"AB_2800916\"]"
   ]
  },
  {
   "cell_type": "markdown",
   "id": "85c5ae9e-3bc2-4375-94fe-bb8f64dd4238",
   "metadata": {},
   "source": [
    "`find_celltypes()` uses a linear mixed effects model to identify cell populations on which a given antibody or set of antibodies is upregulated or downregulated in comparisson to all the other cell populations. We can look at the results of the test in the table returned by `find_celltypes()`"
   ]
  },
  {
   "cell_type": "code",
   "execution_count": 28,
   "id": "fa24a416-db10-437a-9cf6-e8f7c01e56d4",
   "metadata": {},
   "outputs": [
    {
     "data": {
      "text/html": [
       "<div>\n",
       "<style scoped>\n",
       "    .dataframe tbody tr th:only-of-type {\n",
       "        vertical-align: middle;\n",
       "    }\n",
       "\n",
       "    .dataframe tbody tr th {\n",
       "        vertical-align: top;\n",
       "    }\n",
       "\n",
       "    .dataframe thead th {\n",
       "        text-align: right;\n",
       "    }\n",
       "</style>\n",
       "<table border=\"1\" class=\"dataframe\">\n",
       "  <thead>\n",
       "    <tr style=\"text-align: right;\">\n",
       "      <th></th>\n",
       "      <th>cellType</th>\n",
       "      <th>coeff</th>\n",
       "      <th>stderr</th>\n",
       "      <th>p_val</th>\n",
       "      <th>q_val</th>\n",
       "      <th>expressed</th>\n",
       "    </tr>\n",
       "  </thead>\n",
       "  <tbody>\n",
       "    <tr>\n",
       "      <th>CL:0000788</th>\n",
       "      <td>naive B cell</td>\n",
       "      <td>7.030</td>\n",
       "      <td>0.372</td>\n",
       "      <td>1.139920e-79</td>\n",
       "      <td>1.139920e-78</td>\n",
       "      <td>0.840000</td>\n",
       "    </tr>\n",
       "    <tr>\n",
       "      <th>CL:0000787</th>\n",
       "      <td>memory B cell</td>\n",
       "      <td>6.794</td>\n",
       "      <td>0.690</td>\n",
       "      <td>6.640001e-23</td>\n",
       "      <td>2.213334e-22</td>\n",
       "      <td>0.789474</td>\n",
       "    </tr>\n",
       "    <tr>\n",
       "      <th>CL:0000913</th>\n",
       "      <td>effector memory CD8-positive, alpha-beta T cell</td>\n",
       "      <td>2.944</td>\n",
       "      <td>0.878</td>\n",
       "      <td>7.946236e-04</td>\n",
       "      <td>1.324373e-03</td>\n",
       "      <td>0.541667</td>\n",
       "    </tr>\n",
       "    <tr>\n",
       "      <th>CL:0000816</th>\n",
       "      <td>immature B cell</td>\n",
       "      <td>1.851</td>\n",
       "      <td>0.728</td>\n",
       "      <td>1.100597e-02</td>\n",
       "      <td>1.572282e-02</td>\n",
       "      <td>0.400000</td>\n",
       "    </tr>\n",
       "    <tr>\n",
       "      <th>CL:0000625</th>\n",
       "      <td>CD8-positive, alpha-beta T cell</td>\n",
       "      <td>0.799</td>\n",
       "      <td>0.514</td>\n",
       "      <td>1.200805e-01</td>\n",
       "      <td>1.334228e-01</td>\n",
       "      <td>0.323944</td>\n",
       "    </tr>\n",
       "    <tr>\n",
       "      <th>CL:0000895</th>\n",
       "      <td>naive thymus-derived CD4-positive, alpha-beta ...</td>\n",
       "      <td>0.713</td>\n",
       "      <td>0.155</td>\n",
       "      <td>3.990800e-06</td>\n",
       "      <td>7.981600e-06</td>\n",
       "      <td>0.291905</td>\n",
       "    </tr>\n",
       "    <tr>\n",
       "      <th>CL:0000905</th>\n",
       "      <td>effector memory CD4-positive, alpha-beta T cell</td>\n",
       "      <td>0.279</td>\n",
       "      <td>0.303</td>\n",
       "      <td>3.568406e-01</td>\n",
       "      <td>3.568406e-01</td>\n",
       "      <td>0.266355</td>\n",
       "    </tr>\n",
       "    <tr>\n",
       "      <th>CL:0000576</th>\n",
       "      <td>monocyte</td>\n",
       "      <td>-0.967</td>\n",
       "      <td>0.554</td>\n",
       "      <td>8.108739e-02</td>\n",
       "      <td>1.013592e-01</td>\n",
       "      <td>0.163934</td>\n",
       "    </tr>\n",
       "    <tr>\n",
       "      <th>CL:0000904</th>\n",
       "      <td>central memory CD4-positive, alpha-beta T cell</td>\n",
       "      <td>-1.008</td>\n",
       "      <td>0.166</td>\n",
       "      <td>1.200000e-09</td>\n",
       "      <td>3.000000e-09</td>\n",
       "      <td>0.170282</td>\n",
       "    </tr>\n",
       "    <tr>\n",
       "      <th>CL:0000623</th>\n",
       "      <td>natural killer cell</td>\n",
       "      <td>-2.549</td>\n",
       "      <td>0.196</td>\n",
       "      <td>8.886501e-39</td>\n",
       "      <td>4.443251e-38</td>\n",
       "      <td>0.034545</td>\n",
       "    </tr>\n",
       "  </tbody>\n",
       "</table>\n",
       "</div>"
      ],
      "text/plain": [
       "                                                     cellType  coeff  stderr  \\\n",
       "CL:0000788                                       naive B cell  7.030   0.372   \n",
       "CL:0000787                                      memory B cell  6.794   0.690   \n",
       "CL:0000913    effector memory CD8-positive, alpha-beta T cell  2.944   0.878   \n",
       "CL:0000816                                    immature B cell  1.851   0.728   \n",
       "CL:0000625                    CD8-positive, alpha-beta T cell  0.799   0.514   \n",
       "CL:0000895  naive thymus-derived CD4-positive, alpha-beta ...  0.713   0.155   \n",
       "CL:0000905    effector memory CD4-positive, alpha-beta T cell  0.279   0.303   \n",
       "CL:0000576                                           monocyte -0.967   0.554   \n",
       "CL:0000904     central memory CD4-positive, alpha-beta T cell -1.008   0.166   \n",
       "CL:0000623                                natural killer cell -2.549   0.196   \n",
       "\n",
       "                   p_val         q_val  expressed  \n",
       "CL:0000788  1.139920e-79  1.139920e-78   0.840000  \n",
       "CL:0000787  6.640001e-23  2.213334e-22   0.789474  \n",
       "CL:0000913  7.946236e-04  1.324373e-03   0.541667  \n",
       "CL:0000816  1.100597e-02  1.572282e-02   0.400000  \n",
       "CL:0000625  1.200805e-01  1.334228e-01   0.323944  \n",
       "CL:0000895  3.990800e-06  7.981600e-06   0.291905  \n",
       "CL:0000905  3.568406e-01  3.568406e-01   0.266355  \n",
       "CL:0000576  8.108739e-02  1.013592e-01   0.163934  \n",
       "CL:0000904  1.200000e-09  3.000000e-09   0.170282  \n",
       "CL:0000623  8.886501e-39  4.443251e-38   0.034545  "
      ]
     },
     "execution_count": 28,
     "metadata": {},
     "output_type": "execute_result"
    }
   ],
   "source": [
    "result_dict[\"AB_2800916\"]"
   ]
  },
  {
   "cell_type": "markdown",
   "id": "5a61462e-2ba0-48c4-b051-84298b6cbb7a",
   "metadata": {},
   "source": [
    "From this table and the above plot, we see that in addition to B cells, approximately 50% of effector memory CD8 T-cells are also positive against `AB:2800916`.\n",
    "\n",
    "Let us know now look for some more information about `AB:2800916`:"
   ]
  },
  {
   "cell_type": "code",
   "execution_count": 31,
   "id": "b2628ef2-7280-4262-af4a-86f6eb1dad8a",
   "metadata": {},
   "outputs": [
    {
     "data": {
      "text/html": [
       "<div>\n",
       "<style scoped>\n",
       "    .dataframe tbody tr th:only-of-type {\n",
       "        vertical-align: middle;\n",
       "    }\n",
       "\n",
       "    .dataframe tbody tr th {\n",
       "        vertical-align: top;\n",
       "    }\n",
       "\n",
       "    .dataframe thead th {\n",
       "        text-align: right;\n",
       "    }\n",
       "</style>\n",
       "<table border=\"1\" class=\"dataframe\">\n",
       "  <thead>\n",
       "    <tr style=\"text-align: right;\">\n",
       "      <th></th>\n",
       "      <th>idAntibody</th>\n",
       "      <th>abName</th>\n",
       "      <th>abTarget</th>\n",
       "      <th>clonality</th>\n",
       "      <th>citation</th>\n",
       "      <th>comments</th>\n",
       "      <th>cloneID</th>\n",
       "      <th>host</th>\n",
       "      <th>vendor</th>\n",
       "      <th>catalogNum</th>\n",
       "      <th>idExperiment_used</th>\n",
       "    </tr>\n",
       "  </thead>\n",
       "  <tbody>\n",
       "    <tr>\n",
       "      <th>0</th>\n",
       "      <td>AB_2800916</td>\n",
       "      <td>TotalSeq(TM)-C0577 anti-human CD73 (Ecto-5'-nu...</td>\n",
       "      <td>CD73</td>\n",
       "      <td>monoclonal</td>\n",
       "      <td>(BioLegend Cat# 344031, RRID:AB_2800916)</td>\n",
       "      <td>Applications: PG</td>\n",
       "      <td>AD2</td>\n",
       "      <td>mouse</td>\n",
       "      <td>BioLegend</td>\n",
       "      <td>344031</td>\n",
       "      <td>2,3,4</td>\n",
       "    </tr>\n",
       "  </tbody>\n",
       "</table>\n",
       "</div>"
      ],
      "text/plain": [
       "   idAntibody                                             abName abTarget  \\\n",
       "0  AB_2800916  TotalSeq(TM)-C0577 anti-human CD73 (Ecto-5'-nu...     CD73   \n",
       "\n",
       "    clonality                                  citation          comments  \\\n",
       "0  monoclonal  (BioLegend Cat# 344031, RRID:AB_2800916)  Applications: PG   \n",
       "\n",
       "  cloneID   host     vendor catalogNum idExperiment_used  \n",
       "0     AD2  mouse  BioLegend     344031             2,3,4  "
      ]
     },
     "execution_count": 31,
     "metadata": {},
     "output_type": "execute_result"
    }
   ],
   "source": [
    "cxn.which_antibodies(\"AB_2800916\")"
   ]
  },
  {
   "cell_type": "markdown",
   "id": "a71fc3a9-1984-4774-a77f-565ebe08ced2",
   "metadata": {},
   "source": [
    "We see that it has been used in 3 experiments in the ImmunoPheno database:"
   ]
  },
  {
   "cell_type": "code",
   "execution_count": 24,
   "id": "a8be399b-0f58-4e3a-94bd-11664e8e8aee",
   "metadata": {},
   "outputs": [
    {
     "data": {
      "text/html": [
       "<div>\n",
       "<style scoped>\n",
       "    .dataframe tbody tr th:only-of-type {\n",
       "        vertical-align: middle;\n",
       "    }\n",
       "\n",
       "    .dataframe tbody tr th {\n",
       "        vertical-align: top;\n",
       "    }\n",
       "\n",
       "    .dataframe thead th {\n",
       "        text-align: right;\n",
       "    }\n",
       "</style>\n",
       "<table border=\"1\" class=\"dataframe\">\n",
       "  <thead>\n",
       "    <tr style=\"text-align: right;\">\n",
       "      <th></th>\n",
       "      <th>idExperiment</th>\n",
       "      <th>nameExp</th>\n",
       "      <th>typeExp</th>\n",
       "      <th>pmid</th>\n",
       "      <th>doi</th>\n",
       "      <th>idBTO</th>\n",
       "      <th>tissue</th>\n",
       "    </tr>\n",
       "  </thead>\n",
       "  <tbody>\n",
       "    <tr>\n",
       "      <th>0</th>\n",
       "      <td>2</td>\n",
       "      <td>Human PBMCs under 4 titration levels, 0.2x</td>\n",
       "      <td>CITE</td>\n",
       "      <td>36460735</td>\n",
       "      <td>https://doi.org/10.1038/s41598-022-24371-7</td>\n",
       "      <td>BTO:0001025</td>\n",
       "      <td>peripheral blood mononuclear cell</td>\n",
       "    </tr>\n",
       "    <tr>\n",
       "      <th>1</th>\n",
       "      <td>3</td>\n",
       "      <td>Human PBMCs under 4 titration levels, 1x</td>\n",
       "      <td>CITE</td>\n",
       "      <td>36460735</td>\n",
       "      <td>https://doi.org/10.1038/s41598-022-24371-7</td>\n",
       "      <td>BTO:0001025</td>\n",
       "      <td>peripheral blood mononuclear cell</td>\n",
       "    </tr>\n",
       "    <tr>\n",
       "      <th>2</th>\n",
       "      <td>4</td>\n",
       "      <td>Human PBMCs under 4 titration levels, 2x</td>\n",
       "      <td>CITE</td>\n",
       "      <td>36460735</td>\n",
       "      <td>https://doi.org/10.1038/s41598-022-24371-7</td>\n",
       "      <td>BTO:0001025</td>\n",
       "      <td>peripheral blood mononuclear cell</td>\n",
       "    </tr>\n",
       "  </tbody>\n",
       "</table>\n",
       "</div>"
      ],
      "text/plain": [
       "   idExperiment                                     nameExp typeExp      pmid  \\\n",
       "0             2  Human PBMCs under 4 titration levels, 0.2x    CITE  36460735   \n",
       "1             3    Human PBMCs under 4 titration levels, 1x    CITE  36460735   \n",
       "2             4    Human PBMCs under 4 titration levels, 2x    CITE  36460735   \n",
       "\n",
       "                                          doi        idBTO  \\\n",
       "0  https://doi.org/10.1038/s41598-022-24371-7  BTO:0001025   \n",
       "1  https://doi.org/10.1038/s41598-022-24371-7  BTO:0001025   \n",
       "2  https://doi.org/10.1038/s41598-022-24371-7  BTO:0001025   \n",
       "\n",
       "                              tissue  \n",
       "0  peripheral blood mononuclear cell  \n",
       "1  peripheral blood mononuclear cell  \n",
       "2  peripheral blood mononuclear cell  "
      ]
     },
     "execution_count": 24,
     "metadata": {},
     "output_type": "execute_result"
    }
   ],
   "source": [
    "cxn.find_experiments(ab=[\"AB_2800916\"])"
   ]
  },
  {
   "cell_type": "markdown",
   "id": "250f552a-78ad-4502-8833-52e2d9975112",
   "metadata": {},
   "source": [
    "A different approach to looking for antibodies that can be used to separate immature B cells from other B cells is comparing the populations of B cells and immature B cells to all other cell populations in PBMCS and then look for differences in the results."
   ]
  },
  {
   "cell_type": "code",
   "execution_count": 25,
   "id": "71ca47d7-1cce-4ac2-8f55-ecf88f933e95",
   "metadata": {},
   "outputs": [
    {
     "data": {
      "application/vnd.plotly.v1+json": {
       "config": {
        "plotlyServerURL": "https://plot.ly"
       },
       "data": [
        {
         "alignmentgroup": "True",
         "box": {
          "visible": true
         },
         "hovertemplate": "ab_target=%{x}<br>value=%{y}<extra></extra>",
         "legendgroup": "AB_2801006 (CD22)",
         "marker": {
          "color": "#636efa",
          "size": 1
         },
         "name": "AB_2801006 (CD22)",
         "offsetgroup": "AB_2801006 (CD22)",
         "orientation": "v",
         "scalegroup": "True",
         "showlegend": true,
         "type": "violin",
         "width": 0.75,
         "x": [
          "AB_2801006 (CD22)",
          "AB_2801006 (CD22)",
          "AB_2801006 (CD22)",
          "AB_2801006 (CD22)",
          "AB_2801006 (CD22)",
          "AB_2801006 (CD22)"
         ],
         "x0": " ",
         "xaxis": "x",
         "y": [
          10.286415,
          9.4516975,
          9.86905,
          10.7038,
          9.1861,
          13.2838
         ],
         "y0": " ",
         "yaxis": "y"
        },
        {
         "alignmentgroup": "True",
         "box": {
          "visible": true
         },
         "hovertemplate": "ab_target=%{x}<br>value=%{y}<extra></extra>",
         "legendgroup": "AB_2814172 (CD268)",
         "marker": {
          "color": "#EF553B",
          "size": 1
         },
         "name": "AB_2814172 (CD268)",
         "offsetgroup": "AB_2814172 (CD268)",
         "orientation": "v",
         "scalegroup": "True",
         "showlegend": true,
         "type": "violin",
         "width": 0.75,
         "x": [
          "AB_2814172 (CD268)",
          "AB_2814172 (CD268)",
          "AB_2814172 (CD268)",
          "AB_2814172 (CD268)",
          "AB_2814172 (CD268)",
          "AB_2814172 (CD268)"
         ],
         "x0": " ",
         "xaxis": "x",
         "y": [
          10.2144558333,
          9.5711075,
          10.3405,
          10.53615,
          9.08859,
          12.0619
         ],
         "y0": " ",
         "yaxis": "y"
        },
        {
         "alignmentgroup": "True",
         "box": {
          "visible": true
         },
         "hovertemplate": "ab_target=%{x}<br>value=%{y}<extra></extra>",
         "legendgroup": "AB_2800741 (CD19)",
         "marker": {
          "color": "#00cc96",
          "size": 1
         },
         "name": "AB_2800741 (CD19)",
         "offsetgroup": "AB_2800741 (CD19)",
         "orientation": "v",
         "scalegroup": "True",
         "showlegend": true,
         "type": "violin",
         "width": 0.75,
         "x": [
          "AB_2800741 (CD19)",
          "AB_2800741 (CD19)",
          "AB_2800741 (CD19)",
          "AB_2800741 (CD19)",
          "AB_2800741 (CD19)",
          "AB_2800741 (CD19)"
         ],
         "x0": " ",
         "xaxis": "x",
         "y": [
          10.1285445238,
          9.3473325,
          9.803945,
          10.43175,
          8.6887,
          14.1097
         ],
         "y0": " ",
         "yaxis": "y"
        },
        {
         "alignmentgroup": "True",
         "box": {
          "visible": true
         },
         "hovertemplate": "ab_target=%{x}<br>value=%{y}<extra></extra>",
         "legendgroup": "AB_2800886 (CD40)",
         "marker": {
          "color": "#ab63fa",
          "size": 1
         },
         "name": "AB_2800886 (CD40)",
         "offsetgroup": "AB_2800886 (CD40)",
         "orientation": "v",
         "scalegroup": "True",
         "showlegend": true,
         "type": "violin",
         "width": 0.75,
         "x": [
          "AB_2800886 (CD40)",
          "AB_2800886 (CD40)",
          "AB_2800886 (CD40)",
          "AB_2800886 (CD40)",
          "AB_2800886 (CD40)",
          "AB_2800886 (CD40)"
         ],
         "x0": " ",
         "xaxis": "x",
         "y": [
          10.2106025,
          9.80088,
          10.185,
          10.4923,
          9.22471,
          11.2989
         ],
         "y0": " ",
         "yaxis": "y"
        },
        {
         "alignmentgroup": "True",
         "box": {
          "visible": true
         },
         "hovertemplate": "ab_target=%{x}<br>value=%{y}<extra></extra>",
         "legendgroup": "AB_2800795 (HLA-DR)",
         "marker": {
          "color": "#FFA15A",
          "size": 1
         },
         "name": "AB_2800795 (HLA-DR)",
         "offsetgroup": "AB_2800795 (HLA-DR)",
         "orientation": "v",
         "scalegroup": "True",
         "showlegend": true,
         "type": "violin",
         "width": 0.75,
         "x": [
          "AB_2800795 (HLA-DR)",
          "AB_2800795 (HLA-DR)",
          "AB_2800795 (HLA-DR)",
          "AB_2800795 (HLA-DR)",
          "AB_2800795 (HLA-DR)",
          "AB_2800795 (HLA-DR)"
         ],
         "x0": " ",
         "xaxis": "x",
         "y": [
          10.172335,
          9.5465075,
          9.768575,
          10.3468,
          9.4162,
          15.6393
         ],
         "y0": " ",
         "yaxis": "y"
        },
        {
         "alignmentgroup": "True",
         "box": {
          "visible": true
         },
         "hovertemplate": "ab_target=%{x}<br>value=%{y}<extra></extra>",
         "legendgroup": "AB_2814129 (CD32)",
         "marker": {
          "color": "#19d3f3",
          "size": 1
         },
         "name": "AB_2814129 (CD32)",
         "offsetgroup": "AB_2814129 (CD32)",
         "orientation": "v",
         "scalegroup": "True",
         "showlegend": true,
         "type": "violin",
         "width": 0.75,
         "x": [
          "AB_2814129 (CD32)",
          "AB_2814129 (CD32)",
          "AB_2814129 (CD32)",
          "AB_2814129 (CD32)",
          "AB_2814129 (CD32)",
          "AB_2814129 (CD32)"
         ],
         "x0": " ",
         "xaxis": "x",
         "y": [
          10.1029219048,
          9.6194075,
          10.20785,
          11.122075,
          0,
          13.4951
         ],
         "y0": " ",
         "yaxis": "y"
        },
        {
         "alignmentgroup": "True",
         "box": {
          "visible": true
         },
         "hovertemplate": "ab_target=%{x}<br>value=%{y}<extra></extra>",
         "legendgroup": "AB_2734256 (CD19)",
         "marker": {
          "color": "#FF6692",
          "size": 1
         },
         "name": "AB_2734256 (CD19)",
         "offsetgroup": "AB_2734256 (CD19)",
         "orientation": "v",
         "scalegroup": "True",
         "showlegend": true,
         "type": "violin",
         "width": 0.75,
         "x": [
          "AB_2734256 (CD19)",
          "AB_2734256 (CD19)",
          "AB_2734256 (CD19)",
          "AB_2734256 (CD19)",
          "AB_2734256 (CD19)",
          "AB_2734256 (CD19)"
         ],
         "x0": " ",
         "xaxis": "x",
         "y": [
          10.3817368066,
          9.81802,
          10.292,
          10.84415,
          8.73367,
          16.0615
         ],
         "y0": " ",
         "yaxis": "y"
        },
        {
         "alignmentgroup": "True",
         "box": {
          "visible": true
         },
         "hovertemplate": "ab_target=%{x}<br>value=%{y}<extra></extra>",
         "legendgroup": "AB_2749984 (CD20)",
         "marker": {
          "color": "#B6E880",
          "size": 1
         },
         "name": "AB_2749984 (CD20)",
         "offsetgroup": "AB_2749984 (CD20)",
         "orientation": "v",
         "scalegroup": "True",
         "showlegend": true,
         "type": "violin",
         "width": 0.75,
         "x": [
          "AB_2749984 (CD20)",
          "AB_2749984 (CD20)",
          "AB_2749984 (CD20)",
          "AB_2749984 (CD20)",
          "AB_2749984 (CD20)",
          "AB_2749984 (CD20)"
         ],
         "x0": " ",
         "xaxis": "x",
         "y": [
          10.3190562207,
          9.6928525,
          10.1336,
          10.709725,
          8.91876,
          17.16
         ],
         "y0": " ",
         "yaxis": "y"
        },
        {
         "alignmentgroup": "True",
         "box": {
          "visible": true
         },
         "hovertemplate": "ab_target=%{x}<br>value=%{y}<extra></extra>",
         "legendgroup": "AB_2800743 (CD20)",
         "marker": {
          "color": "#FF97FF",
          "size": 1
         },
         "name": "AB_2800743 (CD20)",
         "offsetgroup": "AB_2800743 (CD20)",
         "orientation": "v",
         "scalegroup": "True",
         "showlegend": true,
         "type": "violin",
         "width": 0.75,
         "x": [
          "AB_2800743 (CD20)",
          "AB_2800743 (CD20)",
          "AB_2800743 (CD20)",
          "AB_2800743 (CD20)",
          "AB_2800743 (CD20)",
          "AB_2800743 (CD20)"
         ],
         "x0": " ",
         "xaxis": "x",
         "y": [
          10.6398995455,
          9.686905,
          10.68425,
          11.710675,
          0,
          14.726
         ],
         "y0": " ",
         "yaxis": "y"
        },
        {
         "alignmentgroup": "True",
         "box": {
          "visible": true
         },
         "hovertemplate": "ab_target=%{x}<br>value=%{y}<extra></extra>",
         "legendgroup": "AB_2749968 (CD40)",
         "marker": {
          "color": "#FECB52",
          "size": 1
         },
         "name": "AB_2749968 (CD40)",
         "offsetgroup": "AB_2749968 (CD40)",
         "orientation": "v",
         "scalegroup": "True",
         "showlegend": true,
         "type": "violin",
         "width": 0.75,
         "x": [
          "AB_2749968 (CD40)",
          "AB_2749968 (CD40)",
          "AB_2749968 (CD40)",
          "AB_2749968 (CD40)",
          "AB_2749968 (CD40)",
          "AB_2749968 (CD40)"
         ],
         "x0": " ",
         "xaxis": "x",
         "y": [
          10.3205500146,
          9.78679,
          10.32385,
          10.9125,
          0,
          14.7429
         ],
         "y0": " ",
         "yaxis": "y"
        },
        {
         "alignmentgroup": "True",
         "box": {
          "visible": true
         },
         "hovertemplate": "ab_target=%{x}<br>value=%{y}<extra></extra>",
         "legendgroup": "AB_2800876 (CD35)",
         "marker": {
          "color": "#636efa",
          "size": 1
         },
         "name": "AB_2800876 (CD35)",
         "offsetgroup": "AB_2800876 (CD35)",
         "orientation": "v",
         "scalegroup": "True",
         "showlegend": true,
         "type": "violin",
         "width": 0.75,
         "x": [
          "AB_2800876 (CD35)",
          "AB_2800876 (CD35)",
          "AB_2800876 (CD35)",
          "AB_2800876 (CD35)",
          "AB_2800876 (CD35)",
          "AB_2800876 (CD35)"
         ],
         "x0": " ",
         "xaxis": "x",
         "y": [
          9.6417669048,
          9.5035025,
          9.812755,
          10.297725,
          0,
          13.6753
         ],
         "y0": " ",
         "yaxis": "y"
        },
        {
         "alignmentgroup": "True",
         "box": {
          "visible": true
         },
         "hovertemplate": "ab_target=%{x}<br>value=%{y}<extra></extra>",
         "legendgroup": "AB_2800813 (CD24)",
         "marker": {
          "color": "#EF553B",
          "size": 1
         },
         "name": "AB_2800813 (CD24)",
         "offsetgroup": "AB_2800813 (CD24)",
         "orientation": "v",
         "scalegroup": "True",
         "showlegend": true,
         "type": "violin",
         "width": 0.75,
         "x": [
          "AB_2800813 (CD24)",
          "AB_2800813 (CD24)",
          "AB_2800813 (CD24)",
          "AB_2800813 (CD24)",
          "AB_2800813 (CD24)",
          "AB_2800813 (CD24)"
         ],
         "x0": " ",
         "xaxis": "x",
         "y": [
          11.5847790909,
          9.939445,
          11.39875,
          12.9622,
          0,
          22.5138
         ],
         "y0": " ",
         "yaxis": "y"
        },
        {
         "alignmentgroup": "True",
         "box": {
          "visible": true
         },
         "hovertemplate": "ab_target=%{x}<br>value=%{y}<extra></extra>",
         "legendgroup": "AB_2800953 (CD21)",
         "marker": {
          "color": "#00cc96",
          "size": 1
         },
         "name": "AB_2800953 (CD21)",
         "offsetgroup": "AB_2800953 (CD21)",
         "orientation": "v",
         "scalegroup": "True",
         "showlegend": true,
         "type": "violin",
         "width": 0.75,
         "x": [
          "AB_2800953 (CD21)",
          "AB_2800953 (CD21)",
          "AB_2800953 (CD21)",
          "AB_2800953 (CD21)",
          "AB_2800953 (CD21)",
          "AB_2800953 (CD21)"
         ],
         "x0": " ",
         "xaxis": "x",
         "y": [
          10.3272740909,
          10.1639,
          10.7387,
          11.118475,
          0,
          12.959
         ],
         "y0": " ",
         "yaxis": "y"
        },
        {
         "alignmentgroup": "True",
         "box": {
          "visible": true
         },
         "hovertemplate": "ab_target=%{x}<br>value=%{y}<extra></extra>",
         "legendgroup": "AB_2750001 (HLA-DR)",
         "marker": {
          "color": "#ab63fa",
          "size": 1
         },
         "name": "AB_2750001 (HLA-DR)",
         "offsetgroup": "AB_2750001 (HLA-DR)",
         "orientation": "v",
         "scalegroup": "True",
         "showlegend": true,
         "type": "violin",
         "width": 0.75,
         "x": [
          "AB_2750001 (HLA-DR)",
          "AB_2750001 (HLA-DR)",
          "AB_2750001 (HLA-DR)",
          "AB_2750001 (HLA-DR)",
          "AB_2750001 (HLA-DR)",
          "AB_2750001 (HLA-DR)"
         ],
         "x0": " ",
         "xaxis": "x",
         "y": [
          10.4365477979,
          9.7146,
          10.12475,
          10.83035,
          0,
          18.3132
         ],
         "y0": " ",
         "yaxis": "y"
        },
        {
         "alignmentgroup": "True",
         "box": {
          "visible": true
         },
         "hovertemplate": "ab_target=%{x}<br>value=%{y}<extra></extra>",
         "legendgroup": "AB_2800835 (IgM)",
         "marker": {
          "color": "#FFA15A",
          "size": 1
         },
         "name": "AB_2800835 (IgM)",
         "offsetgroup": "AB_2800835 (IgM)",
         "orientation": "v",
         "scalegroup": "True",
         "showlegend": true,
         "type": "violin",
         "width": 0.75,
         "x": [
          "AB_2800835 (IgM)",
          "AB_2800835 (IgM)",
          "AB_2800835 (IgM)",
          "AB_2800835 (IgM)",
          "AB_2800835 (IgM)",
          "AB_2800835 (IgM)"
         ],
         "x0": " ",
         "xaxis": "x",
         "y": [
          9.762932381,
          9.6859175,
          10.3284,
          11.3094,
          0,
          16.4647
         ],
         "y0": " ",
         "yaxis": "y"
        },
        {
         "alignmentgroup": "True",
         "box": {
          "visible": true
         },
         "hovertemplate": "ab_target=%{x}<br>value=%{y}<extra></extra>",
         "legendgroup": "AB_2749995 (CD32)",
         "marker": {
          "color": "#19d3f3",
          "size": 1
         },
         "name": "AB_2749995 (CD32)",
         "offsetgroup": "AB_2749995 (CD32)",
         "orientation": "v",
         "scalegroup": "True",
         "showlegend": true,
         "type": "violin",
         "width": 0.75,
         "x": [
          "AB_2749995 (CD32)",
          "AB_2749995 (CD32)",
          "AB_2749995 (CD32)",
          "AB_2749995 (CD32)",
          "AB_2749995 (CD32)",
          "AB_2749995 (CD32)"
         ],
         "x0": " ",
         "xaxis": "x",
         "y": [
          10.6963291748,
          10.125775,
          10.6297,
          11.198675,
          0,
          17.5631
         ],
         "y0": " ",
         "yaxis": "y"
        },
        {
         "alignmentgroup": "True",
         "box": {
          "visible": true
         },
         "hovertemplate": "ab_target=%{x}<br>value=%{y}<extra></extra>",
         "legendgroup": "AB_2750006 (CD21)",
         "marker": {
          "color": "#FF6692",
          "size": 1
         },
         "name": "AB_2750006 (CD21)",
         "offsetgroup": "AB_2750006 (CD21)",
         "orientation": "v",
         "scalegroup": "True",
         "showlegend": true,
         "type": "violin",
         "width": 0.75,
         "x": [
          "AB_2750006 (CD21)",
          "AB_2750006 (CD21)",
          "AB_2750006 (CD21)",
          "AB_2750006 (CD21)",
          "AB_2750006 (CD21)",
          "AB_2750006 (CD21)"
         ],
         "x0": " ",
         "xaxis": "x",
         "y": [
          10.9938148145,
          10.315,
          10.8729,
          11.59995,
          0,
          17.5989
         ],
         "y0": " ",
         "yaxis": "y"
        },
        {
         "alignmentgroup": "True",
         "box": {
          "visible": true
         },
         "hovertemplate": "ab_target=%{x}<br>value=%{y}<extra></extra>",
         "legendgroup": "AB_2749992 (IgM)",
         "marker": {
          "color": "#B6E880",
          "size": 1
         },
         "name": "AB_2749992 (IgM)",
         "offsetgroup": "AB_2749992 (IgM)",
         "orientation": "v",
         "scalegroup": "True",
         "showlegend": true,
         "type": "violin",
         "width": 0.75,
         "x": [
          "AB_2749992 (IgM)",
          "AB_2749992 (IgM)",
          "AB_2749992 (IgM)",
          "AB_2749992 (IgM)",
          "AB_2749992 (IgM)",
          "AB_2749992 (IgM)"
         ],
         "x0": " ",
         "xaxis": "x",
         "y": [
          8.5534378223,
          9.3723975,
          9.75231,
          10.590675,
          0,
          21.024
         ],
         "y0": " ",
         "yaxis": "y"
        },
        {
         "alignmentgroup": "True",
         "box": {
          "visible": true
         },
         "hovertemplate": "ab_target=%{x}<br>value=%{y}<extra></extra>",
         "legendgroup": "AB_2750002 (CD272)",
         "marker": {
          "color": "#FF97FF",
          "size": 1
         },
         "name": "AB_2750002 (CD272)",
         "offsetgroup": "AB_2750002 (CD272)",
         "orientation": "v",
         "scalegroup": "True",
         "showlegend": true,
         "type": "violin",
         "width": 0.75,
         "x": [
          "AB_2750002 (CD272)",
          "AB_2750002 (CD272)",
          "AB_2750002 (CD272)",
          "AB_2750002 (CD272)",
          "AB_2750002 (CD272)",
          "AB_2750002 (CD272)"
         ],
         "x0": " ",
         "xaxis": "x",
         "y": [
          8.5171708691,
          9.2669975,
          9.912225,
          10.782475,
          0,
          14.586
         ],
         "y0": " ",
         "yaxis": "y"
        },
        {
         "alignmentgroup": "True",
         "box": {
          "visible": true
         },
         "hovertemplate": "ab_target=%{x}<br>value=%{y}<extra></extra>",
         "legendgroup": "AB_2800934 (CD1d)",
         "marker": {
          "color": "#FECB52",
          "size": 1
         },
         "name": "AB_2800934 (CD1d)",
         "offsetgroup": "AB_2800934 (CD1d)",
         "orientation": "v",
         "scalegroup": "True",
         "showlegend": true,
         "type": "violin",
         "width": 0.75,
         "x": [
          "AB_2800934 (CD1d)",
          "AB_2800934 (CD1d)",
          "AB_2800934 (CD1d)",
          "AB_2800934 (CD1d)",
          "AB_2800934 (CD1d)",
          "AB_2800934 (CD1d)"
         ],
         "x0": " ",
         "xaxis": "x",
         "y": [
          9.2337841667,
          9.78654,
          9.94421,
          10.2793,
          0,
          10.5749
         ],
         "y0": " ",
         "yaxis": "y"
        },
        {
         "alignmentgroup": "True",
         "box": {
          "visible": true
         },
         "hovertemplate": "ab_target=%{x}<br>value=%{y}<extra></extra>",
         "legendgroup": "AB_2800905 (CD79b)",
         "marker": {
          "color": "#636efa",
          "size": 1
         },
         "name": "AB_2800905 (CD79b)",
         "offsetgroup": "AB_2800905 (CD79b)",
         "orientation": "v",
         "scalegroup": "True",
         "showlegend": true,
         "type": "violin",
         "width": 0.75,
         "x": [
          "AB_2800905 (CD79b)",
          "AB_2800905 (CD79b)",
          "AB_2800905 (CD79b)",
          "AB_2800905 (CD79b)",
          "AB_2800905 (CD79b)",
          "AB_2800905 (CD79b)"
         ],
         "x0": " ",
         "xaxis": "x",
         "y": [
          8.3511331818,
          9.524295,
          9.960315,
          11.2295,
          0,
          13.3302
         ],
         "y0": " ",
         "yaxis": "y"
        },
        {
         "alignmentgroup": "True",
         "box": {
          "visible": true
         },
         "hovertemplate": "ab_target=%{x}<br>value=%{y}<extra></extra>",
         "legendgroup": "AB_2750005 (CD39)",
         "marker": {
          "color": "#EF553B",
          "size": 1
         },
         "name": "AB_2750005 (CD39)",
         "offsetgroup": "AB_2750005 (CD39)",
         "orientation": "v",
         "scalegroup": "True",
         "showlegend": true,
         "type": "violin",
         "width": 0.75,
         "x": [
          "AB_2750005 (CD39)",
          "AB_2750005 (CD39)",
          "AB_2750005 (CD39)",
          "AB_2750005 (CD39)",
          "AB_2750005 (CD39)",
          "AB_2750005 (CD39)"
         ],
         "x0": " ",
         "xaxis": "x",
         "y": [
          9.1192828955,
          9.1861075,
          9.623115,
          10.18035,
          0,
          15.006
         ],
         "y0": " ",
         "yaxis": "y"
        },
        {
         "alignmentgroup": "True",
         "box": {
          "visible": true
         },
         "hovertemplate": "ab_target=%{x}<br>value=%{y}<extra></extra>",
         "legendgroup": "AB_2800853 (CD39)",
         "marker": {
          "color": "#00cc96",
          "size": 1
         },
         "name": "AB_2800853 (CD39)",
         "offsetgroup": "AB_2800853 (CD39)",
         "orientation": "v",
         "scalegroup": "True",
         "showlegend": true,
         "type": "violin",
         "width": 0.75,
         "x": [
          "AB_2800853 (CD39)",
          "AB_2800853 (CD39)",
          "AB_2800853 (CD39)",
          "AB_2800853 (CD39)",
          "AB_2800853 (CD39)",
          "AB_2800853 (CD39)"
         ],
         "x0": " ",
         "xaxis": "x",
         "y": [
          8.8987922727,
          9.31563,
          9.97562,
          10.4248,
          0,
          13.569
         ],
         "y0": " ",
         "yaxis": "y"
        },
        {
         "alignmentgroup": "True",
         "box": {
          "visible": true
         },
         "hovertemplate": "ab_target=%{x}<br>value=%{y}<extra></extra>",
         "legendgroup": "AB_2734326 (CD1c)",
         "marker": {
          "color": "#ab63fa",
          "size": 1
         },
         "name": "AB_2734326 (CD1c)",
         "offsetgroup": "AB_2734326 (CD1c)",
         "orientation": "v",
         "scalegroup": "True",
         "showlegend": true,
         "type": "violin",
         "width": 0.75,
         "x": [
          "AB_2734326 (CD1c)",
          "AB_2734326 (CD1c)",
          "AB_2734326 (CD1c)",
          "AB_2734326 (CD1c)",
          "AB_2734326 (CD1c)",
          "AB_2734326 (CD1c)"
         ],
         "x0": " ",
         "xaxis": "x",
         "y": [
          7.375343833,
          0,
          9.54545,
          10.02435,
          0,
          19.1555
         ],
         "y0": " ",
         "yaxis": "y"
        },
        {
         "alignmentgroup": "True",
         "box": {
          "visible": true
         },
         "hovertemplate": "ab_target=%{x}<br>value=%{y}<extra></extra>",
         "legendgroup": "AB_2800871 (CD1c)",
         "marker": {
          "color": "#FFA15A",
          "size": 1
         },
         "name": "AB_2800871 (CD1c)",
         "offsetgroup": "AB_2800871 (CD1c)",
         "orientation": "v",
         "scalegroup": "True",
         "showlegend": true,
         "type": "violin",
         "width": 0.75,
         "x": [
          "AB_2800871 (CD1c)",
          "AB_2800871 (CD1c)",
          "AB_2800871 (CD1c)",
          "AB_2800871 (CD1c)",
          "AB_2800871 (CD1c)",
          "AB_2800871 (CD1c)"
         ],
         "x0": " ",
         "xaxis": "x",
         "y": [
          6.6484545455,
          0,
          9.70333,
          10.13014,
          0,
          13.9989
         ],
         "y0": " ",
         "yaxis": "y"
        },
        {
         "alignmentgroup": "True",
         "box": {
          "visible": true
         },
         "hovertemplate": "ab_target=%{x}<br>value=%{y}<extra></extra>",
         "legendgroup": "AB_2800810 (CD69)",
         "marker": {
          "color": "#19d3f3",
          "size": 1
         },
         "name": "AB_2800810 (CD69)",
         "offsetgroup": "AB_2800810 (CD69)",
         "orientation": "v",
         "scalegroup": "True",
         "showlegend": true,
         "type": "violin",
         "width": 0.75,
         "x": [
          "AB_2800810 (CD69)",
          "AB_2800810 (CD69)",
          "AB_2800810 (CD69)",
          "AB_2800810 (CD69)",
          "AB_2800810 (CD69)",
          "AB_2800810 (CD69)"
         ],
         "x0": " ",
         "xaxis": "x",
         "y": [
          7.6595969048,
          2.3719225,
          9.815395,
          10.04273,
          0,
          20.0488
         ],
         "y0": " ",
         "yaxis": "y"
        },
        {
         "alignmentgroup": "True",
         "box": {
          "visible": true
         },
         "hovertemplate": "ab_target=%{x}<br>value=%{y}<extra></extra>",
         "legendgroup": "AB_2810562 (CD54)",
         "marker": {
          "color": "#FF6692",
          "size": 1
         },
         "name": "AB_2810562 (CD54)",
         "offsetgroup": "AB_2810562 (CD54)",
         "orientation": "v",
         "scalegroup": "True",
         "showlegend": true,
         "type": "violin",
         "width": 0.75,
         "x": [
          "AB_2810562 (CD54)",
          "AB_2810562 (CD54)",
          "AB_2810562 (CD54)",
          "AB_2810562 (CD54)",
          "AB_2810562 (CD54)",
          "AB_2810562 (CD54)"
         ],
         "x0": " ",
         "xaxis": "x",
         "y": [
          8.3282145238,
          9.4884925,
          9.661905,
          10.1295,
          0,
          12.849
         ],
         "y0": " ",
         "yaxis": "y"
        },
        {
         "alignmentgroup": "True",
         "box": {
          "visible": true
         },
         "hovertemplate": "ab_target=%{x}<br>value=%{y}<extra></extra>",
         "legendgroup": "AB_2814169 (Ig light chain kappa)",
         "marker": {
          "color": "#B6E880",
          "size": 1
         },
         "name": "AB_2814169 (Ig light chain kappa)",
         "offsetgroup": "AB_2814169 (Ig light chain kappa)",
         "orientation": "v",
         "scalegroup": "True",
         "showlegend": true,
         "type": "violin",
         "width": 0.75,
         "x": [
          "AB_2814169 (Ig light chain kappa)",
          "AB_2814169 (Ig light chain kappa)",
          "AB_2814169 (Ig light chain kappa)",
          "AB_2814169 (Ig light chain kappa)",
          "AB_2814169 (Ig light chain kappa)",
          "AB_2814169 (Ig light chain kappa)"
         ],
         "x0": " ",
         "xaxis": "x",
         "y": [
          8.2513097619,
          0,
          10.60985,
          11.635225,
          0,
          17.4464
         ],
         "y0": " ",
         "yaxis": "y"
        },
        {
         "alignmentgroup": "True",
         "box": {
          "visible": true
         },
         "hovertemplate": "ab_target=%{x}<br>value=%{y}<extra></extra>",
         "legendgroup": "AB_2814171 (Ig light chain lambda)",
         "marker": {
          "color": "#FF97FF",
          "size": 1
         },
         "name": "AB_2814171 (Ig light chain lambda)",
         "offsetgroup": "AB_2814171 (Ig light chain lambda)",
         "orientation": "v",
         "scalegroup": "True",
         "showlegend": true,
         "type": "violin",
         "width": 0.75,
         "x": [
          "AB_2814171 (Ig light chain lambda)",
          "AB_2814171 (Ig light chain lambda)",
          "AB_2814171 (Ig light chain lambda)",
          "AB_2814171 (Ig light chain lambda)",
          "AB_2814171 (Ig light chain lambda)",
          "AB_2814171 (Ig light chain lambda)"
         ],
         "x0": " ",
         "xaxis": "x",
         "y": [
          7.8734269048,
          2.25307,
          9.784335,
          10.610925,
          0,
          16.7581
         ],
         "y0": " ",
         "yaxis": "y"
        },
        {
         "alignmentgroup": "True",
         "box": {
          "visible": true
         },
         "hovertemplate": "ab_target=%{x}<br>value=%{y}<extra></extra>",
         "legendgroup": "AB_2800955 (CD70)",
         "marker": {
          "color": "#FECB52",
          "size": 1
         },
         "name": "AB_2800955 (CD70)",
         "offsetgroup": "AB_2800955 (CD70)",
         "orientation": "v",
         "scalegroup": "True",
         "showlegend": true,
         "type": "violin",
         "width": 0.75,
         "x": [
          "AB_2800955 (CD70)",
          "AB_2800955 (CD70)",
          "AB_2800955 (CD70)",
          "AB_2800955 (CD70)",
          "AB_2800955 (CD70)",
          "AB_2800955 (CD70)"
         ],
         "x0": " ",
         "xaxis": "x",
         "y": [
          6.8803393103,
          0,
          9.73761,
          10.1211,
          0,
          14.48
         ],
         "y0": " ",
         "yaxis": "y"
        },
        {
         "alignmentgroup": "True",
         "box": {
          "visible": true
         },
         "hovertemplate": "ab_target=%{x}<br>value=%{y}<extra></extra>",
         "legendgroup": "AB_2814236 (CD23)",
         "marker": {
          "color": "#636efa",
          "size": 1
         },
         "name": "AB_2814236 (CD23)",
         "offsetgroup": "AB_2814236 (CD23)",
         "orientation": "v",
         "scalegroup": "True",
         "showlegend": true,
         "type": "violin",
         "width": 0.75,
         "x": [
          "AB_2814236 (CD23)",
          "AB_2814236 (CD23)",
          "AB_2814236 (CD23)",
          "AB_2814236 (CD23)",
          "AB_2814236 (CD23)",
          "AB_2814236 (CD23)"
         ],
         "x0": " ",
         "xaxis": "x",
         "y": [
          6.7934933333,
          0,
          9.77689,
          10.663925,
          0,
          17.7602
         ],
         "y0": " ",
         "yaxis": "y"
        },
        {
         "alignmentgroup": "True",
         "box": {
          "visible": true
         },
         "hovertemplate": "ab_target=%{x}<br>value=%{y}<extra></extra>",
         "legendgroup": "AB_2814257 (CD82)",
         "marker": {
          "color": "#EF553B",
          "size": 1
         },
         "name": "AB_2814257 (CD82)",
         "offsetgroup": "AB_2814257 (CD82)",
         "orientation": "v",
         "scalegroup": "True",
         "showlegend": true,
         "type": "violin",
         "width": 0.75,
         "x": [
          "AB_2814257 (CD82)",
          "AB_2814257 (CD82)",
          "AB_2814257 (CD82)",
          "AB_2814257 (CD82)",
          "AB_2814257 (CD82)",
          "AB_2814257 (CD82)"
         ],
         "x0": " ",
         "xaxis": "x",
         "y": [
          9.1434145238,
          9.478405,
          10.35525,
          11.507225,
          0,
          14.7607
         ],
         "y0": " ",
         "yaxis": "y"
        },
        {
         "alignmentgroup": "True",
         "box": {
          "visible": true
         },
         "hovertemplate": "ab_target=%{x}<br>value=%{y}<extra></extra>",
         "legendgroup": "AB_2801027 (CD66b)",
         "marker": {
          "color": "#00cc96",
          "size": 1
         },
         "name": "AB_2801027 (CD66b)",
         "offsetgroup": "AB_2801027 (CD66b)",
         "orientation": "v",
         "scalegroup": "True",
         "showlegend": true,
         "type": "violin",
         "width": 0.75,
         "x": [
          "AB_2801027 (CD66b)",
          "AB_2801027 (CD66b)",
          "AB_2801027 (CD66b)",
          "AB_2801027 (CD66b)",
          "AB_2801027 (CD66b)",
          "AB_2801027 (CD66b)"
         ],
         "x0": " ",
         "xaxis": "x",
         "y": [
          5.8260365517,
          0,
          9.80906,
          9.90554,
          0,
          10.4755
         ],
         "y0": " ",
         "yaxis": "y"
        },
        {
         "alignmentgroup": "True",
         "box": {
          "visible": true
         },
         "hovertemplate": "ab_target=%{x}<br>value=%{y}<extra></extra>",
         "legendgroup": "AB_2814295 (CD303)",
         "marker": {
          "color": "#ab63fa",
          "size": 1
         },
         "name": "AB_2814295 (CD303)",
         "offsetgroup": "AB_2814295 (CD303)",
         "orientation": "v",
         "scalegroup": "True",
         "showlegend": true,
         "type": "violin",
         "width": 0.75,
         "x": [
          "AB_2814295 (CD303)",
          "AB_2814295 (CD303)",
          "AB_2814295 (CD303)",
          "AB_2814295 (CD303)",
          "AB_2814295 (CD303)",
          "AB_2814295 (CD303)"
         ],
         "x0": " ",
         "xaxis": "x",
         "y": [
          6.1235234483,
          0,
          9.26594,
          9.89332,
          0,
          18.621
         ],
         "y0": " ",
         "yaxis": "y"
        },
        {
         "alignmentgroup": "True",
         "box": {
          "visible": true
         },
         "hovertemplate": "ab_target=%{x}<br>value=%{y}<extra></extra>",
         "legendgroup": "AB_2800817 (CD10)",
         "marker": {
          "color": "#FFA15A",
          "size": 1
         },
         "name": "AB_2800817 (CD10)",
         "offsetgroup": "AB_2800817 (CD10)",
         "orientation": "v",
         "scalegroup": "True",
         "showlegend": true,
         "type": "violin",
         "width": 0.75,
         "x": [
          "AB_2800817 (CD10)",
          "AB_2800817 (CD10)",
          "AB_2800817 (CD10)",
          "AB_2800817 (CD10)",
          "AB_2800817 (CD10)",
          "AB_2800817 (CD10)"
         ],
         "x0": " ",
         "xaxis": "x",
         "y": [
          5.1888245714,
          0,
          0,
          10.2245,
          0,
          17.4798
         ],
         "y0": " ",
         "yaxis": "y"
        },
        {
         "alignmentgroup": "True",
         "box": {
          "visible": true
         },
         "hovertemplate": "ab_target=%{x}<br>value=%{y}<extra></extra>",
         "legendgroup": "AB_2800808 (CD154)",
         "marker": {
          "color": "#19d3f3",
          "size": 1
         },
         "name": "AB_2800808 (CD154)",
         "offsetgroup": "AB_2800808 (CD154)",
         "orientation": "v",
         "scalegroup": "True",
         "showlegend": true,
         "type": "violin",
         "width": 0.75,
         "x": [
          "AB_2800808 (CD154)",
          "AB_2800808 (CD154)",
          "AB_2800808 (CD154)",
          "AB_2800808 (CD154)",
          "AB_2800808 (CD154)",
          "AB_2800808 (CD154)"
         ],
         "x0": " ",
         "xaxis": "x",
         "y": [
          6.2570172727,
          0,
          9.574345,
          9.8322375,
          0,
          10.5716
         ],
         "y0": " ",
         "yaxis": "y"
        },
        {
         "alignmentgroup": "True",
         "box": {
          "visible": true
         },
         "hovertemplate": "ab_target=%{x}<br>value=%{y}<extra></extra>",
         "legendgroup": "AB_2800919 (CD272)",
         "marker": {
          "color": "#FF6692",
          "size": 1
         },
         "name": "AB_2800919 (CD272)",
         "offsetgroup": "AB_2800919 (CD272)",
         "orientation": "v",
         "scalegroup": "True",
         "showlegend": true,
         "type": "violin",
         "width": 0.75,
         "x": [
          "AB_2800919 (CD272)",
          "AB_2800919 (CD272)",
          "AB_2800919 (CD272)",
          "AB_2800919 (CD272)",
          "AB_2800919 (CD272)",
          "AB_2800919 (CD272)"
         ],
         "x0": " ",
         "xaxis": "x",
         "y": [
          4.3074318182,
          0,
          0,
          10.1325,
          0,
          11.8147
         ],
         "y0": " ",
         "yaxis": "y"
        },
        {
         "alignmentgroup": "True",
         "box": {
          "visible": true
         },
         "hovertemplate": "ab_target=%{x}<br>value=%{y}<extra></extra>",
         "legendgroup": "AB_2800883 (CD30)",
         "marker": {
          "color": "#B6E880",
          "size": 1
         },
         "name": "AB_2800883 (CD30)",
         "offsetgroup": "AB_2800883 (CD30)",
         "orientation": "v",
         "scalegroup": "True",
         "showlegend": true,
         "type": "violin",
         "width": 0.75,
         "x": [
          "AB_2800883 (CD30)",
          "AB_2800883 (CD30)",
          "AB_2800883 (CD30)",
          "AB_2800883 (CD30)",
          "AB_2800883 (CD30)",
          "AB_2800883 (CD30)"
         ],
         "x0": " ",
         "xaxis": "x",
         "y": [
          5.9090245238,
          0,
          9.48149,
          9.8371975,
          0,
          12.758
         ],
         "y0": " ",
         "yaxis": "y"
        },
        {
         "alignmentgroup": "True",
         "box": {
          "visible": true
         },
         "hovertemplate": "ab_target=%{x}<br>value=%{y}<extra></extra>",
         "legendgroup": "AB_2749977 (CD123)",
         "marker": {
          "color": "#FF97FF",
          "size": 1
         },
         "name": "AB_2749977 (CD123)",
         "offsetgroup": "AB_2749977 (CD123)",
         "orientation": "v",
         "scalegroup": "True",
         "showlegend": true,
         "type": "violin",
         "width": 0.75,
         "x": [
          "AB_2749977 (CD123)",
          "AB_2749977 (CD123)",
          "AB_2749977 (CD123)",
          "AB_2749977 (CD123)",
          "AB_2749977 (CD123)",
          "AB_2749977 (CD123)"
         ],
         "x0": " ",
         "xaxis": "x",
         "y": [
          5.3608179004,
          0,
          9.60585,
          9.8376625,
          0,
          20.4853
         ],
         "y0": " ",
         "yaxis": "y"
        },
        {
         "alignmentgroup": "True",
         "box": {
          "visible": true
         },
         "hovertemplate": "ab_target=%{x}<br>value=%{y}<extra></extra>",
         "legendgroup": "AB_2800949 (CD183)",
         "marker": {
          "color": "#FECB52",
          "size": 1
         },
         "name": "AB_2800949 (CD183)",
         "offsetgroup": "AB_2800949 (CD183)",
         "orientation": "v",
         "scalegroup": "True",
         "showlegend": true,
         "type": "violin",
         "width": 0.75,
         "x": [
          "AB_2800949 (CD183)",
          "AB_2800949 (CD183)",
          "AB_2800949 (CD183)",
          "AB_2800949 (CD183)",
          "AB_2800949 (CD183)",
          "AB_2800949 (CD183)"
         ],
         "x0": " ",
         "xaxis": "x",
         "y": [
          4.6265065517,
          0,
          0,
          9.93451,
          0,
          12.7735
         ],
         "y0": " ",
         "yaxis": "y"
        },
        {
         "alignmentgroup": "True",
         "box": {
          "visible": true
         },
         "hovertemplate": "ab_target=%{x}<br>value=%{y}<extra></extra>",
         "legendgroup": "AB_2810570 (CD195)",
         "marker": {
          "color": "#636efa",
          "size": 1
         },
         "name": "AB_2810570 (CD195)",
         "offsetgroup": "AB_2810570 (CD195)",
         "orientation": "v",
         "scalegroup": "True",
         "showlegend": true,
         "type": "violin",
         "width": 0.75,
         "x": [
          "AB_2810570 (CD195)",
          "AB_2810570 (CD195)",
          "AB_2810570 (CD195)",
          "AB_2810570 (CD195)",
          "AB_2810570 (CD195)",
          "AB_2810570 (CD195)"
         ],
         "x0": " ",
         "xaxis": "x",
         "y": [
          3.9463277273,
          0,
          0,
          9.45918,
          0,
          10.2834
         ],
         "y0": " ",
         "yaxis": "y"
        },
        {
         "alignmentgroup": "True",
         "box": {
          "visible": true
         },
         "hovertemplate": "ab_target=%{x}<br>value=%{y}<extra></extra>",
         "legendgroup": "AB_2800960 (CX3CR1)",
         "marker": {
          "color": "#EF553B",
          "size": 1
         },
         "name": "AB_2800960 (CX3CR1)",
         "offsetgroup": "AB_2800960 (CX3CR1)",
         "orientation": "v",
         "scalegroup": "True",
         "showlegend": true,
         "type": "violin",
         "width": 0.75,
         "x": [
          "AB_2800960 (CX3CR1)",
          "AB_2800960 (CX3CR1)",
          "AB_2800960 (CX3CR1)",
          "AB_2800960 (CX3CR1)",
          "AB_2800960 (CX3CR1)",
          "AB_2800960 (CX3CR1)"
         ],
         "x0": " ",
         "xaxis": "x",
         "y": [
          5.0931952381,
          0,
          4.690055,
          9.69925,
          0,
          12.8709
         ],
         "y0": " ",
         "yaxis": "y"
        },
        {
         "alignmentgroup": "True",
         "box": {
          "visible": true
         },
         "hovertemplate": "ab_target=%{x}<br>value=%{y}<extra></extra>",
         "legendgroup": "AB_2800745 (CD25)",
         "marker": {
          "color": "#00cc96",
          "size": 1
         },
         "name": "AB_2800745 (CD25)",
         "offsetgroup": "AB_2800745 (CD25)",
         "orientation": "v",
         "scalegroup": "True",
         "showlegend": true,
         "type": "violin",
         "width": 0.75,
         "x": [
          "AB_2800745 (CD25)",
          "AB_2800745 (CD25)",
          "AB_2800745 (CD25)",
          "AB_2800745 (CD25)",
          "AB_2800745 (CD25)",
          "AB_2800745 (CD25)"
         ],
         "x0": " ",
         "xaxis": "x",
         "y": [
          4.1181309091,
          0,
          0,
          9.60463,
          0,
          12.2029
         ],
         "y0": " ",
         "yaxis": "y"
        },
        {
         "alignmentgroup": "True",
         "box": {
          "visible": true
         },
         "hovertemplate": "ab_target=%{x}<br>value=%{y}<extra></extra>",
         "legendgroup": "AB_2814327 (CD223)",
         "marker": {
          "color": "#ab63fa",
          "size": 1
         },
         "name": "AB_2814327 (CD223)",
         "offsetgroup": "AB_2814327 (CD223)",
         "orientation": "v",
         "scalegroup": "True",
         "showlegend": true,
         "type": "violin",
         "width": 0.75,
         "x": [
          "AB_2814327 (CD223)",
          "AB_2814327 (CD223)",
          "AB_2814327 (CD223)",
          "AB_2814327 (CD223)",
          "AB_2814327 (CD223)",
          "AB_2814327 (CD223)"
         ],
         "x0": " ",
         "xaxis": "x",
         "y": [
          3.8110797619,
          0,
          0,
          9.8475075,
          0,
          10.8092
         ],
         "y0": " ",
         "yaxis": "y"
        },
        {
         "alignmentgroup": "True",
         "box": {
          "visible": true
         },
         "hovertemplate": "ab_target=%{x}<br>value=%{y}<extra></extra>",
         "legendgroup": "AB_2800916 (CD73)",
         "marker": {
          "color": "#FFA15A",
          "size": 1
         },
         "name": "AB_2800916 (CD73)",
         "offsetgroup": "AB_2800916 (CD73)",
         "orientation": "v",
         "scalegroup": "True",
         "showlegend": true,
         "type": "violin",
         "width": 0.75,
         "x": [
          "AB_2800916 (CD73)",
          "AB_2800916 (CD73)",
          "AB_2800916 (CD73)",
          "AB_2800916 (CD73)",
          "AB_2800916 (CD73)",
          "AB_2800916 (CD73)"
         ],
         "x0": " ",
         "xaxis": "x",
         "y": [
          4.1588451429,
          0,
          0,
          9.71435,
          0,
          12.7813
         ],
         "y0": " ",
         "yaxis": "y"
        },
        {
         "alignmentgroup": "True",
         "box": {
          "visible": true
         },
         "hovertemplate": "ab_target=%{x}<br>value=%{y}<extra></extra>",
         "legendgroup": "AB_2800854 (CD107a)",
         "marker": {
          "color": "#19d3f3",
          "size": 1
         },
         "name": "AB_2800854 (CD107a)",
         "offsetgroup": "AB_2800854 (CD107a)",
         "orientation": "v",
         "scalegroup": "True",
         "showlegend": true,
         "type": "violin",
         "width": 0.75,
         "x": [
          "AB_2800854 (CD107a)",
          "AB_2800854 (CD107a)",
          "AB_2800854 (CD107a)",
          "AB_2800854 (CD107a)",
          "AB_2800854 (CD107a)",
          "AB_2800854 (CD107a)"
         ],
         "x0": " ",
         "xaxis": "x",
         "y": [
          3.0323402381,
          0,
          0,
          9.4777875,
          0,
          10.3704
         ],
         "y0": " ",
         "yaxis": "y"
        },
        {
         "alignmentgroup": "True",
         "box": {
          "visible": true
         },
         "hovertemplate": "ab_target=%{x}<br>value=%{y}<extra></extra>",
         "legendgroup": "AB_2801021 (TIGIT)",
         "marker": {
          "color": "#FF6692",
          "size": 1
         },
         "name": "AB_2801021 (TIGIT)",
         "offsetgroup": "AB_2801021 (TIGIT)",
         "orientation": "v",
         "scalegroup": "True",
         "showlegend": true,
         "type": "violin",
         "width": 0.75,
         "x": [
          "AB_2801021 (TIGIT)",
          "AB_2801021 (TIGIT)",
          "AB_2801021 (TIGIT)",
          "AB_2801021 (TIGIT)",
          "AB_2801021 (TIGIT)",
          "AB_2801021 (TIGIT)"
         ],
         "x0": " ",
         "xaxis": "x",
         "y": [
          3.8184875862,
          0,
          0,
          9.86176,
          0,
          11.4553
         ],
         "y0": " ",
         "yaxis": "y"
        },
        {
         "alignmentgroup": "True",
         "box": {
          "visible": true
         },
         "hovertemplate": "ab_target=%{x}<br>value=%{y}<extra></extra>",
         "legendgroup": "AB_2800836 (CD52)",
         "marker": {
          "color": "#B6E880",
          "size": 1
         },
         "name": "AB_2800836 (CD52)",
         "offsetgroup": "AB_2800836 (CD52)",
         "orientation": "v",
         "scalegroup": "True",
         "showlegend": true,
         "type": "violin",
         "width": 0.75,
         "x": [
          "AB_2800836 (CD52)",
          "AB_2800836 (CD52)",
          "AB_2800836 (CD52)",
          "AB_2800836 (CD52)",
          "AB_2800836 (CD52)",
          "AB_2800836 (CD52)"
         ],
         "x0": " ",
         "xaxis": "x",
         "y": [
          6.044602619,
          0,
          9.143905,
          10.18185,
          0,
          12.3662
         ],
         "y0": " ",
         "yaxis": "y"
        },
        {
         "alignmentgroup": "True",
         "box": {
          "visible": true
         },
         "hovertemplate": "ab_target=%{x}<br>value=%{y}<extra></extra>",
         "legendgroup": "AB_2810541 (CD141)",
         "marker": {
          "color": "#FF97FF",
          "size": 1
         },
         "name": "AB_2810541 (CD141)",
         "offsetgroup": "AB_2810541 (CD141)",
         "orientation": "v",
         "scalegroup": "True",
         "showlegend": true,
         "type": "violin",
         "width": 0.75,
         "x": [
          "AB_2810541 (CD141)",
          "AB_2810541 (CD141)",
          "AB_2810541 (CD141)",
          "AB_2810541 (CD141)",
          "AB_2810541 (CD141)",
          "AB_2810541 (CD141)"
         ],
         "x0": " ",
         "xaxis": "x",
         "y": [
          5.0401533333,
          0,
          4.75051,
          10.2734,
          0,
          10.6596
         ],
         "y0": " ",
         "yaxis": "y"
        },
        {
         "alignmentgroup": "True",
         "box": {
          "visible": true
         },
         "hovertemplate": "ab_target=%{x}<br>value=%{y}<extra></extra>",
         "legendgroup": "AB_2800943 (CD197)",
         "marker": {
          "color": "#FECB52",
          "size": 1
         },
         "name": "AB_2800943 (CD197)",
         "offsetgroup": "AB_2800943 (CD197)",
         "orientation": "v",
         "scalegroup": "True",
         "showlegend": true,
         "type": "violin",
         "width": 0.75,
         "x": [
          "AB_2800943 (CD197)",
          "AB_2800943 (CD197)",
          "AB_2800943 (CD197)",
          "AB_2800943 (CD197)",
          "AB_2800943 (CD197)",
          "AB_2800943 (CD197)"
         ],
         "x0": " ",
         "xaxis": "x",
         "y": [
          2.4253293103,
          0,
          0,
          0,
          0,
          10.8829
         ],
         "y0": " ",
         "yaxis": "y"
        },
        {
         "alignmentgroup": "True",
         "box": {
          "visible": true
         },
         "hovertemplate": "ab_target=%{x}<br>value=%{y}<extra></extra>",
         "legendgroup": "AB_2800758 (CD38)",
         "marker": {
          "color": "#636efa",
          "size": 1
         },
         "name": "AB_2800758 (CD38)",
         "offsetgroup": "AB_2800758 (CD38)",
         "orientation": "v",
         "scalegroup": "True",
         "showlegend": true,
         "type": "violin",
         "width": 0.75,
         "x": [
          "AB_2800758 (CD38)",
          "AB_2800758 (CD38)",
          "AB_2800758 (CD38)",
          "AB_2800758 (CD38)",
          "AB_2800758 (CD38)",
          "AB_2800758 (CD38)"
         ],
         "x0": " ",
         "xaxis": "x",
         "y": [
          4.3371645714,
          0,
          0,
          9.512775,
          0,
          17.9104
         ],
         "y0": " ",
         "yaxis": "y"
        },
        {
         "alignmentgroup": "True",
         "box": {
          "visible": true
         },
         "hovertemplate": "ab_target=%{x}<br>value=%{y}<extra></extra>",
         "legendgroup": "AB_2814137 (CD49d)",
         "marker": {
          "color": "#EF553B",
          "size": 1
         },
         "name": "AB_2814137 (CD49d)",
         "offsetgroup": "AB_2814137 (CD49d)",
         "orientation": "v",
         "scalegroup": "True",
         "showlegend": true,
         "type": "violin",
         "width": 0.75,
         "x": [
          "AB_2814137 (CD49d)",
          "AB_2814137 (CD49d)",
          "AB_2814137 (CD49d)",
          "AB_2814137 (CD49d)",
          "AB_2814137 (CD49d)",
          "AB_2814137 (CD49d)"
         ],
         "x0": " ",
         "xaxis": "x",
         "y": [
          6.4609286364,
          0,
          9.52025,
          10.16401,
          0,
          12.3515
         ],
         "y0": " ",
         "yaxis": "y"
        },
        {
         "alignmentgroup": "True",
         "box": {
          "visible": true
         },
         "hovertemplate": "ab_target=%{x}<br>value=%{y}<extra></extra>",
         "legendgroup": "AB_2749976 (HLA-ABC)",
         "marker": {
          "color": "#00cc96",
          "size": 1
         },
         "name": "AB_2749976 (HLA-ABC)",
         "offsetgroup": "AB_2749976 (HLA-ABC)",
         "orientation": "v",
         "scalegroup": "True",
         "showlegend": true,
         "type": "violin",
         "width": 0.75,
         "x": [
          "AB_2749976 (HLA-ABC)",
          "AB_2749976 (HLA-ABC)",
          "AB_2749976 (HLA-ABC)",
          "AB_2749976 (HLA-ABC)",
          "AB_2749976 (HLA-ABC)",
          "AB_2749976 (HLA-ABC)"
         ],
         "x0": " ",
         "xaxis": "x",
         "y": [
          6.4896783008,
          0,
          9.345975,
          10.267525,
          0,
          24.012
         ],
         "y0": " ",
         "yaxis": "y"
        },
        {
         "alignmentgroup": "True",
         "box": {
          "visible": true
         },
         "hovertemplate": "ab_target=%{x}<br>value=%{y}<extra></extra>",
         "legendgroup": "AB_2810506 (CD58)",
         "marker": {
          "color": "#ab63fa",
          "size": 1
         },
         "name": "AB_2810506 (CD58)",
         "offsetgroup": "AB_2810506 (CD58)",
         "orientation": "v",
         "scalegroup": "True",
         "showlegend": true,
         "type": "violin",
         "width": 0.75,
         "x": [
          "AB_2810506 (CD58)",
          "AB_2810506 (CD58)",
          "AB_2810506 (CD58)",
          "AB_2810506 (CD58)",
          "AB_2810506 (CD58)",
          "AB_2810506 (CD58)"
         ],
         "x0": " ",
         "xaxis": "x",
         "y": [
          2.146048125,
          0,
          0,
          0,
          0,
          10.8709
         ],
         "y0": " ",
         "yaxis": "y"
        },
        {
         "alignmentgroup": "True",
         "box": {
          "visible": true
         },
         "hovertemplate": "ab_target=%{x}<br>value=%{y}<extra></extra>",
         "legendgroup": "AB_2734286 (CD10)",
         "marker": {
          "color": "#FFA15A",
          "size": 1
         },
         "name": "AB_2734286 (CD10)",
         "offsetgroup": "AB_2734286 (CD10)",
         "orientation": "v",
         "scalegroup": "True",
         "showlegend": true,
         "type": "violin",
         "width": 0.75,
         "x": [
          "AB_2734286 (CD10)",
          "AB_2734286 (CD10)",
          "AB_2734286 (CD10)",
          "AB_2734286 (CD10)",
          "AB_2734286 (CD10)",
          "AB_2734286 (CD10)"
         ],
         "x0": " ",
         "xaxis": "x",
         "y": [
          1.9354921582,
          0,
          0,
          0,
          0,
          20.0245
         ],
         "y0": " ",
         "yaxis": "y"
        },
        {
         "alignmentgroup": "True",
         "box": {
          "visible": true
         },
         "hovertemplate": "ab_target=%{x}<br>value=%{y}<extra></extra>",
         "legendgroup": "AB_2801087 (IgG)",
         "marker": {
          "color": "#19d3f3",
          "size": 1
         },
         "name": "AB_2801087 (IgG)",
         "offsetgroup": "AB_2801087 (IgG)",
         "orientation": "v",
         "scalegroup": "True",
         "showlegend": true,
         "type": "violin",
         "width": 0.75,
         "x": [
          "AB_2801087 (IgG)",
          "AB_2801087 (IgG)",
          "AB_2801087 (IgG)",
          "AB_2801087 (IgG)",
          "AB_2801087 (IgG)",
          "AB_2801087 (IgG)"
         ],
         "x0": " ",
         "xaxis": "x",
         "y": [
          3.4193035714,
          0,
          0,
          9.586185,
          0,
          18.8338
         ],
         "y0": " ",
         "yaxis": "y"
        },
        {
         "alignmentgroup": "True",
         "box": {
          "visible": true
         },
         "hovertemplate": "ab_target=%{x}<br>value=%{y}<extra></extra>",
         "legendgroup": "AB_2832672 (CD88)",
         "marker": {
          "color": "#FF6692",
          "size": 1
         },
         "name": "AB_2832672 (CD88)",
         "offsetgroup": "AB_2832672 (CD88)",
         "orientation": "v",
         "scalegroup": "True",
         "showlegend": true,
         "type": "violin",
         "width": 0.75,
         "x": [
          "AB_2832672 (CD88)",
          "AB_2832672 (CD88)",
          "AB_2832672 (CD88)",
          "AB_2832672 (CD88)",
          "AB_2832672 (CD88)",
          "AB_2832672 (CD88)"
         ],
         "x0": " ",
         "xaxis": "x",
         "y": [
          2.3771382759,
          0,
          0,
          0,
          0,
          9.97377
         ],
         "y0": " ",
         "yaxis": "y"
        },
        {
         "alignmentgroup": "True",
         "box": {
          "visible": true
         },
         "hovertemplate": "ab_target=%{x}<br>value=%{y}<extra></extra>",
         "legendgroup": "AB_2810531 (CD96)",
         "marker": {
          "color": "#B6E880",
          "size": 1
         },
         "name": "AB_2810531 (CD96)",
         "offsetgroup": "AB_2810531 (CD96)",
         "orientation": "v",
         "scalegroup": "True",
         "showlegend": true,
         "type": "violin",
         "width": 0.75,
         "x": [
          "AB_2810531 (CD96)",
          "AB_2810531 (CD96)",
          "AB_2810531 (CD96)",
          "AB_2810531 (CD96)",
          "AB_2810531 (CD96)",
          "AB_2810531 (CD96)"
         ],
         "x0": " ",
         "xaxis": "x",
         "y": [
          3.8099775862,
          0,
          0,
          9.5095,
          0,
          13.2638
         ],
         "y0": " ",
         "yaxis": "y"
        },
        {
         "alignmentgroup": "True",
         "box": {
          "visible": true
         },
         "hovertemplate": "ab_target=%{x}<br>value=%{y}<extra></extra>",
         "legendgroup": "AB_2810481 (Integrin beta7)",
         "marker": {
          "color": "#FF97FF",
          "size": 1
         },
         "name": "AB_2810481 (Integrin beta7)",
         "offsetgroup": "AB_2810481 (Integrin beta7)",
         "orientation": "v",
         "scalegroup": "True",
         "showlegend": true,
         "type": "violin",
         "width": 0.75,
         "x": [
          "AB_2810481 (Integrin beta7)",
          "AB_2810481 (Integrin beta7)",
          "AB_2810481 (Integrin beta7)",
          "AB_2810481 (Integrin beta7)",
          "AB_2810481 (Integrin beta7)",
          "AB_2810481 (Integrin beta7)"
         ],
         "x0": " ",
         "xaxis": "x",
         "y": [
          4.987337381,
          0,
          4.62232,
          9.7784525,
          0,
          13.3999
         ],
         "y0": " ",
         "yaxis": "y"
        },
        {
         "alignmentgroup": "True",
         "box": {
          "visible": true
         },
         "hovertemplate": "ab_target=%{x}<br>value=%{y}<extra></extra>",
         "legendgroup": "AB_2749965 (CD70)",
         "marker": {
          "color": "#FECB52",
          "size": 1
         },
         "name": "AB_2749965 (CD70)",
         "offsetgroup": "AB_2749965 (CD70)",
         "orientation": "v",
         "scalegroup": "True",
         "showlegend": true,
         "type": "violin",
         "width": 0.75,
         "x": [
          "AB_2749965 (CD70)",
          "AB_2749965 (CD70)",
          "AB_2749965 (CD70)",
          "AB_2749965 (CD70)",
          "AB_2749965 (CD70)",
          "AB_2749965 (CD70)"
         ],
         "x0": " ",
         "xaxis": "x",
         "y": [
          1.9399927637,
          0,
          0,
          0,
          0,
          16.7817
         ],
         "y0": " ",
         "yaxis": "y"
        },
        {
         "alignmentgroup": "True",
         "box": {
          "visible": true
         },
         "hovertemplate": "ab_target=%{x}<br>value=%{y}<extra></extra>",
         "legendgroup": "AB_2814252 (CD158)",
         "marker": {
          "color": "#636efa",
          "size": 1
         },
         "name": "AB_2814252 (CD158)",
         "offsetgroup": "AB_2814252 (CD158)",
         "orientation": "v",
         "scalegroup": "True",
         "showlegend": true,
         "type": "violin",
         "width": 0.75,
         "x": [
          "AB_2814252 (CD158)",
          "AB_2814252 (CD158)",
          "AB_2814252 (CD158)",
          "AB_2814252 (CD158)",
          "AB_2814252 (CD158)",
          "AB_2814252 (CD158)"
         ],
         "x0": " ",
         "xaxis": "x",
         "y": [
          1.2289213636,
          0,
          0,
          0,
          0,
          9.05352
         ],
         "y0": " ",
         "yaxis": "y"
        },
        {
         "alignmentgroup": "True",
         "box": {
          "visible": true
         },
         "hovertemplate": "ab_target=%{x}<br>value=%{y}<extra></extra>",
         "legendgroup": "AB_2800925 (CD366)",
         "marker": {
          "color": "#EF553B",
          "size": 1
         },
         "name": "AB_2800925 (CD366)",
         "offsetgroup": "AB_2800925 (CD366)",
         "orientation": "v",
         "scalegroup": "True",
         "showlegend": true,
         "type": "violin",
         "width": 0.75,
         "x": [
          "AB_2800925 (CD366)",
          "AB_2800925 (CD366)",
          "AB_2800925 (CD366)",
          "AB_2800925 (CD366)",
          "AB_2800925 (CD366)",
          "AB_2800925 (CD366)"
         ],
         "x0": " ",
         "xaxis": "x",
         "y": [
          1.7420577273,
          0,
          0,
          0,
          0,
          10.0573
         ],
         "y0": " ",
         "yaxis": "y"
        },
        {
         "alignmentgroup": "True",
         "box": {
          "visible": true
         },
         "hovertemplate": "ab_target=%{x}<br>value=%{y}<extra></extra>",
         "legendgroup": "AB_2800862 (CD279)",
         "marker": {
          "color": "#00cc96",
          "size": 1
         },
         "name": "AB_2800862 (CD279)",
         "offsetgroup": "AB_2800862 (CD279)",
         "orientation": "v",
         "scalegroup": "True",
         "showlegend": true,
         "type": "violin",
         "width": 0.75,
         "x": [
          "AB_2800862 (CD279)",
          "AB_2800862 (CD279)",
          "AB_2800862 (CD279)",
          "AB_2800862 (CD279)",
          "AB_2800862 (CD279)",
          "AB_2800862 (CD279)"
         ],
         "x0": " ",
         "xaxis": "x",
         "y": [
          1.6260475862,
          0,
          0,
          0,
          0,
          9.68913
         ],
         "y0": " ",
         "yaxis": "y"
        },
        {
         "alignmentgroup": "True",
         "box": {
          "visible": true
         },
         "hovertemplate": "ab_target=%{x}<br>value=%{y}<extra></extra>",
         "legendgroup": "AB_2801008 (CD33)",
         "marker": {
          "color": "#ab63fa",
          "size": 1
         },
         "name": "AB_2801008 (CD33)",
         "offsetgroup": "AB_2801008 (CD33)",
         "orientation": "v",
         "scalegroup": "True",
         "showlegend": true,
         "type": "violin",
         "width": 0.75,
         "x": [
          "AB_2801008 (CD33)",
          "AB_2801008 (CD33)",
          "AB_2801008 (CD33)",
          "AB_2801008 (CD33)",
          "AB_2801008 (CD33)",
          "AB_2801008 (CD33)"
         ],
         "x0": " ",
         "xaxis": "x",
         "y": [
          0.8205171429,
          0,
          0,
          0,
          0,
          9.5727
         ],
         "y0": " ",
         "yaxis": "y"
        },
        {
         "alignmentgroup": "True",
         "box": {
          "visible": true
         },
         "hovertemplate": "ab_target=%{x}<br>value=%{y}<extra></extra>",
         "legendgroup": "AB_2749996 (CD103)",
         "marker": {
          "color": "#FFA15A",
          "size": 1
         },
         "name": "AB_2749996 (CD103)",
         "offsetgroup": "AB_2749996 (CD103)",
         "orientation": "v",
         "scalegroup": "True",
         "showlegend": true,
         "type": "violin",
         "width": 0.75,
         "x": [
          "AB_2749996 (CD103)",
          "AB_2749996 (CD103)",
          "AB_2749996 (CD103)",
          "AB_2749996 (CD103)",
          "AB_2749996 (CD103)",
          "AB_2749996 (CD103)"
         ],
         "x0": " ",
         "xaxis": "x",
         "y": [
          0.8005037109,
          0,
          0,
          0,
          0,
          10.3068
         ],
         "y0": " ",
         "yaxis": "y"
        },
        {
         "alignmentgroup": "True",
         "box": {
          "visible": true
         },
         "hovertemplate": "ab_target=%{x}<br>value=%{y}<extra></extra>",
         "legendgroup": "AB_2734278 (CD275)",
         "marker": {
          "color": "#19d3f3",
          "size": 1
         },
         "name": "AB_2734278 (CD275)",
         "offsetgroup": "AB_2734278 (CD275)",
         "orientation": "v",
         "scalegroup": "True",
         "showlegend": true,
         "type": "violin",
         "width": 0.75,
         "x": [
          "AB_2734278 (CD275)",
          "AB_2734278 (CD275)",
          "AB_2734278 (CD275)",
          "AB_2734278 (CD275)",
          "AB_2734278 (CD275)",
          "AB_2734278 (CD275)"
         ],
         "x0": " ",
         "xaxis": "x",
         "y": [
          1.3655608936,
          0,
          0,
          0,
          0,
          10.4426
         ],
         "y0": " ",
         "yaxis": "y"
        },
        {
         "alignmentgroup": "True",
         "box": {
          "visible": true
         },
         "hovertemplate": "ab_target=%{x}<br>value=%{y}<extra></extra>",
         "legendgroup": "AB_2832593 (CD62P)",
         "marker": {
          "color": "#FF6692",
          "size": 1
         },
         "name": "AB_2832593 (CD62P)",
         "offsetgroup": "AB_2832593 (CD62P)",
         "orientation": "v",
         "scalegroup": "True",
         "showlegend": true,
         "type": "violin",
         "width": 0.75,
         "x": [
          "AB_2832593 (CD62P)",
          "AB_2832593 (CD62P)",
          "AB_2832593 (CD62P)",
          "AB_2832593 (CD62P)",
          "AB_2832593 (CD62P)",
          "AB_2832593 (CD62P)"
         ],
         "x0": " ",
         "xaxis": "x",
         "y": [
          1.952328,
          0,
          0,
          0,
          0,
          9.76164
         ],
         "y0": " ",
         "yaxis": "y"
        },
        {
         "alignmentgroup": "True",
         "box": {
          "visible": true
         },
         "hovertemplate": "ab_target=%{x}<br>value=%{y}<extra></extra>",
         "legendgroup": "AB_2734360 (CD294)",
         "marker": {
          "color": "#B6E880",
          "size": 1
         },
         "name": "AB_2734360 (CD294)",
         "offsetgroup": "AB_2734360 (CD294)",
         "orientation": "v",
         "scalegroup": "True",
         "showlegend": true,
         "type": "violin",
         "width": 0.75,
         "x": [
          "AB_2734360 (CD294)",
          "AB_2734360 (CD294)",
          "AB_2734360 (CD294)",
          "AB_2734360 (CD294)",
          "AB_2734360 (CD294)",
          "AB_2734360 (CD294)"
         ],
         "x0": " ",
         "xaxis": "x",
         "y": [
          3.8284644922,
          0,
          0,
          9.56545,
          0,
          24.5523
         ],
         "y0": " ",
         "yaxis": "y"
        },
        {
         "alignmentgroup": "True",
         "box": {
          "visible": true
         },
         "hovertemplate": "ab_target=%{x}<br>value=%{y}<extra></extra>",
         "legendgroup": "AB_2749999 (CD223)",
         "marker": {
          "color": "#FF97FF",
          "size": 1
         },
         "name": "AB_2749999 (CD223)",
         "offsetgroup": "AB_2749999 (CD223)",
         "orientation": "v",
         "scalegroup": "True",
         "showlegend": true,
         "type": "violin",
         "width": 0.75,
         "x": [
          "AB_2749999 (CD223)",
          "AB_2749999 (CD223)",
          "AB_2749999 (CD223)",
          "AB_2749999 (CD223)",
          "AB_2749999 (CD223)",
          "AB_2749999 (CD223)"
         ],
         "x0": " ",
         "xaxis": "x",
         "y": [
          3.7667213086,
          0,
          0,
          9.7096975,
          0,
          13.8133
         ],
         "y0": " ",
         "yaxis": "y"
        },
        {
         "alignmentgroup": "True",
         "box": {
          "visible": true
         },
         "hovertemplate": "ab_target=%{x}<br>value=%{y}<extra></extra>",
         "legendgroup": "AB_2734258 (CD25)",
         "marker": {
          "color": "#FECB52",
          "size": 1
         },
         "name": "AB_2734258 (CD25)",
         "offsetgroup": "AB_2734258 (CD25)",
         "orientation": "v",
         "scalegroup": "True",
         "showlegend": true,
         "type": "violin",
         "width": 0.75,
         "x": [
          "AB_2734258 (CD25)",
          "AB_2734258 (CD25)",
          "AB_2734258 (CD25)",
          "AB_2734258 (CD25)",
          "AB_2734258 (CD25)",
          "AB_2734258 (CD25)"
         ],
         "x0": " ",
         "xaxis": "x",
         "y": [
          2.7618980908,
          0,
          0,
          9.53098,
          0,
          12.0752
         ],
         "y0": " ",
         "yaxis": "y"
        },
        {
         "alignmentgroup": "True",
         "box": {
          "visible": true
         },
         "hovertemplate": "ab_target=%{x}<br>value=%{y}<extra></extra>",
         "legendgroup": "AB_2814292 (CD371)",
         "marker": {
          "color": "#636efa",
          "size": 1
         },
         "name": "AB_2814292 (CD371)",
         "offsetgroup": "AB_2814292 (CD371)",
         "orientation": "v",
         "scalegroup": "True",
         "showlegend": true,
         "type": "violin",
         "width": 0.75,
         "x": [
          "AB_2814292 (CD371)",
          "AB_2814292 (CD371)",
          "AB_2814292 (CD371)",
          "AB_2814292 (CD371)",
          "AB_2814292 (CD371)",
          "AB_2814292 (CD371)"
         ],
         "x0": " ",
         "xaxis": "x",
         "y": [
          0.6845954762,
          0,
          0,
          0,
          0,
          9.82458
         ],
         "y0": " ",
         "yaxis": "y"
        },
        {
         "alignmentgroup": "True",
         "box": {
          "visible": true
         },
         "hovertemplate": "ab_target=%{x}<br>value=%{y}<extra></extra>",
         "legendgroup": "AB_2800732 (CD11b)",
         "marker": {
          "color": "#EF553B",
          "size": 1
         },
         "name": "AB_2800732 (CD11b)",
         "offsetgroup": "AB_2800732 (CD11b)",
         "orientation": "v",
         "scalegroup": "True",
         "showlegend": true,
         "type": "violin",
         "width": 0.75,
         "x": [
          "AB_2800732 (CD11b)",
          "AB_2800732 (CD11b)",
          "AB_2800732 (CD11b)",
          "AB_2800732 (CD11b)",
          "AB_2800732 (CD11b)",
          "AB_2800732 (CD11b)"
         ],
         "x0": " ",
         "xaxis": "x",
         "y": [
          2.0742442857,
          0,
          0,
          0,
          0,
          9.7996
         ],
         "y0": " ",
         "yaxis": "y"
        },
        {
         "alignmentgroup": "True",
         "box": {
          "visible": true
         },
         "hovertemplate": "ab_target=%{x}<br>value=%{y}<extra></extra>",
         "legendgroup": "AB_2801018 (CD11c)",
         "marker": {
          "color": "#00cc96",
          "size": 1
         },
         "name": "AB_2801018 (CD11c)",
         "offsetgroup": "AB_2801018 (CD11c)",
         "orientation": "v",
         "scalegroup": "True",
         "showlegend": true,
         "type": "violin",
         "width": 0.75,
         "x": [
          "AB_2801018 (CD11c)",
          "AB_2801018 (CD11c)",
          "AB_2801018 (CD11c)",
          "AB_2801018 (CD11c)",
          "AB_2801018 (CD11c)",
          "AB_2801018 (CD11c)"
         ],
         "x0": " ",
         "xaxis": "x",
         "y": [
          1.2946945455,
          0,
          0,
          0,
          0,
          9.52952
         ],
         "y0": " ",
         "yaxis": "y"
        },
        {
         "alignmentgroup": "True",
         "box": {
          "visible": true
         },
         "hovertemplate": "ab_target=%{x}<br>value=%{y}<extra></extra>",
         "legendgroup": "AB_2810510 (CD163)",
         "marker": {
          "color": "#ab63fa",
          "size": 1
         },
         "name": "AB_2810510 (CD163)",
         "offsetgroup": "AB_2810510 (CD163)",
         "orientation": "v",
         "scalegroup": "True",
         "showlegend": true,
         "type": "violin",
         "width": 0.75,
         "x": [
          "AB_2810510 (CD163)",
          "AB_2810510 (CD163)",
          "AB_2810510 (CD163)",
          "AB_2810510 (CD163)",
          "AB_2810510 (CD163)",
          "AB_2810510 (CD163)"
         ],
         "x0": " ",
         "xaxis": "x",
         "y": [
          0.4985078947,
          0,
          0,
          0,
          0,
          9.47165
         ],
         "y0": " ",
         "yaxis": "y"
        },
        {
         "alignmentgroup": "True",
         "box": {
          "visible": true
         },
         "hovertemplate": "ab_target=%{x}<br>value=%{y}<extra></extra>",
         "legendgroup": "AB_2800893 (CD36)",
         "marker": {
          "color": "#FFA15A",
          "size": 1
         },
         "name": "AB_2800893 (CD36)",
         "offsetgroup": "AB_2800893 (CD36)",
         "orientation": "v",
         "scalegroup": "True",
         "showlegend": true,
         "type": "violin",
         "width": 0.75,
         "x": [
          "AB_2800893 (CD36)",
          "AB_2800893 (CD36)",
          "AB_2800893 (CD36)",
          "AB_2800893 (CD36)",
          "AB_2800893 (CD36)",
          "AB_2800893 (CD36)"
         ],
         "x0": " ",
         "xaxis": "x",
         "y": [
          0.3790276,
          0,
          0,
          0,
          0,
          9.47569
         ],
         "y0": " ",
         "yaxis": "y"
        },
        {
         "alignmentgroup": "True",
         "box": {
          "visible": true
         },
         "hovertemplate": "ab_target=%{x}<br>value=%{y}<extra></extra>",
         "legendgroup": "AB_2800762 (CD45)",
         "marker": {
          "color": "#19d3f3",
          "size": 1
         },
         "name": "AB_2800762 (CD45)",
         "offsetgroup": "AB_2800762 (CD45)",
         "orientation": "v",
         "scalegroup": "True",
         "showlegend": true,
         "type": "violin",
         "width": 0.75,
         "x": [
          "AB_2800762 (CD45)",
          "AB_2800762 (CD45)",
          "AB_2800762 (CD45)",
          "AB_2800762 (CD45)",
          "AB_2800762 (CD45)",
          "AB_2800762 (CD45)"
         ],
         "x0": " ",
         "xaxis": "x",
         "y": [
          0,
          0,
          0,
          0,
          0,
          0
         ],
         "y0": " ",
         "yaxis": "y"
        },
        {
         "alignmentgroup": "True",
         "box": {
          "visible": true
         },
         "hovertemplate": "ab_target=%{x}<br>value=%{y}<extra></extra>",
         "legendgroup": "AB_2800757 (CD31)",
         "marker": {
          "color": "#FF6692",
          "size": 1
         },
         "name": "AB_2800757 (CD31)",
         "offsetgroup": "AB_2800757 (CD31)",
         "orientation": "v",
         "scalegroup": "True",
         "showlegend": true,
         "type": "violin",
         "width": 0.75,
         "x": [
          "AB_2800757 (CD31)",
          "AB_2800757 (CD31)",
          "AB_2800757 (CD31)",
          "AB_2800757 (CD31)",
          "AB_2800757 (CD31)",
          "AB_2800757 (CD31)"
         ],
         "x0": " ",
         "xaxis": "x",
         "y": [
          0.4303677273,
          0,
          0,
          0,
          0,
          9.46809
         ],
         "y0": " ",
         "yaxis": "y"
        },
        {
         "alignmentgroup": "True",
         "box": {
          "visible": true
         },
         "hovertemplate": "ab_target=%{x}<br>value=%{y}<extra></extra>",
         "legendgroup": "AB_2749997 (CD69)",
         "marker": {
          "color": "#B6E880",
          "size": 1
         },
         "name": "AB_2749997 (CD69)",
         "offsetgroup": "AB_2749997 (CD69)",
         "orientation": "v",
         "scalegroup": "True",
         "showlegend": true,
         "type": "violin",
         "width": 0.75,
         "x": [
          "AB_2749997 (CD69)",
          "AB_2749997 (CD69)",
          "AB_2749997 (CD69)",
          "AB_2749997 (CD69)",
          "AB_2749997 (CD69)",
          "AB_2749997 (CD69)"
         ],
         "x0": " ",
         "xaxis": "x",
         "y": [
          1.723162334,
          0,
          0,
          0,
          0,
          12.9312
         ],
         "y0": " ",
         "yaxis": "y"
        },
        {
         "alignmentgroup": "True",
         "box": {
          "visible": true
         },
         "hovertemplate": "ab_target=%{x}<br>value=%{y}<extra></extra>",
         "legendgroup": "AB_2734287 (CD117)",
         "marker": {
          "color": "#FF97FF",
          "size": 1
         },
         "name": "AB_2734287 (CD117)",
         "offsetgroup": "AB_2734287 (CD117)",
         "orientation": "v",
         "scalegroup": "True",
         "showlegend": true,
         "type": "violin",
         "width": 0.75,
         "x": [
          "AB_2734287 (CD117)",
          "AB_2734287 (CD117)",
          "AB_2734287 (CD117)",
          "AB_2734287 (CD117)",
          "AB_2734287 (CD117)",
          "AB_2734287 (CD117)"
         ],
         "x0": " ",
         "xaxis": "x",
         "y": [
          1.4891071729,
          0,
          0,
          0,
          0,
          10.9396
         ],
         "y0": " ",
         "yaxis": "y"
        },
        {
         "alignmentgroup": "True",
         "box": {
          "visible": true
         },
         "hovertemplate": "ab_target=%{x}<br>value=%{y}<extra></extra>",
         "legendgroup": "AB_2814134 (CD41)",
         "marker": {
          "color": "#FECB52",
          "size": 1
         },
         "name": "AB_2814134 (CD41)",
         "offsetgroup": "AB_2814134 (CD41)",
         "orientation": "v",
         "scalegroup": "True",
         "showlegend": true,
         "type": "violin",
         "width": 0.75,
         "x": [
          "AB_2814134 (CD41)",
          "AB_2814134 (CD41)",
          "AB_2814134 (CD41)",
          "AB_2814134 (CD41)",
          "AB_2814134 (CD41)",
          "AB_2814134 (CD41)"
         ],
         "x0": " ",
         "xaxis": "x",
         "y": [
          0.2230383333,
          0,
          0,
          0,
          0,
          9.36761
         ],
         "y0": " ",
         "yaxis": "y"
        },
        {
         "alignmentgroup": "True",
         "box": {
          "visible": true
         },
         "hovertemplate": "ab_target=%{x}<br>value=%{y}<extra></extra>",
         "legendgroup": "AB_2800931 (CD81)",
         "marker": {
          "color": "#636efa",
          "size": 1
         },
         "name": "AB_2800931 (CD81)",
         "offsetgroup": "AB_2800931 (CD81)",
         "orientation": "v",
         "scalegroup": "True",
         "showlegend": true,
         "type": "violin",
         "width": 0.75,
         "x": [
          "AB_2800931 (CD81)",
          "AB_2800931 (CD81)",
          "AB_2800931 (CD81)",
          "AB_2800931 (CD81)",
          "AB_2800931 (CD81)",
          "AB_2800931 (CD81)"
         ],
         "x0": " ",
         "xaxis": "x",
         "y": [
          0.7909783333,
          0,
          0,
          0,
          0,
          9.49174
         ],
         "y0": " ",
         "yaxis": "y"
        },
        {
         "alignmentgroup": "True",
         "box": {
          "visible": true
         },
         "hovertemplate": "ab_target=%{x}<br>value=%{y}<extra></extra>",
         "legendgroup": "AB_2800900 (CD44)",
         "marker": {
          "color": "#EF553B",
          "size": 1
         },
         "name": "AB_2800900 (CD44)",
         "offsetgroup": "AB_2800900 (CD44)",
         "orientation": "v",
         "scalegroup": "True",
         "showlegend": true,
         "type": "violin",
         "width": 0.75,
         "x": [
          "AB_2800900 (CD44)",
          "AB_2800900 (CD44)",
          "AB_2800900 (CD44)",
          "AB_2800900 (CD44)",
          "AB_2800900 (CD44)",
          "AB_2800900 (CD44)"
         ],
         "x0": " ",
         "xaxis": "x",
         "y": [
          7.4580375,
          6.863775,
          9.7222,
          10.0074,
          0,
          10.8632
         ],
         "y0": " ",
         "yaxis": "y"
        },
        {
         "alignmentgroup": "True",
         "box": {
          "visible": true
         },
         "hovertemplate": "ab_target=%{x}<br>value=%{y}<extra></extra>",
         "legendgroup": "AB_2800786 (CD86)",
         "marker": {
          "color": "#00cc96",
          "size": 1
         },
         "name": "AB_2800786 (CD86)",
         "offsetgroup": "AB_2800786 (CD86)",
         "orientation": "v",
         "scalegroup": "True",
         "showlegend": true,
         "type": "violin",
         "width": 0.75,
         "x": [
          "AB_2800786 (CD86)",
          "AB_2800786 (CD86)",
          "AB_2800786 (CD86)",
          "AB_2800786 (CD86)",
          "AB_2800786 (CD86)",
          "AB_2800786 (CD86)"
         ],
         "x0": " ",
         "xaxis": "x",
         "y": [
          0,
          0,
          0,
          0,
          0,
          0
         ],
         "y0": " ",
         "yaxis": "y"
        },
        {
         "alignmentgroup": "True",
         "box": {
          "visible": true
         },
         "hovertemplate": "ab_target=%{x}<br>value=%{y}<extra></extra>",
         "legendgroup": "AB_2800756 (CD29)",
         "marker": {
          "color": "#ab63fa",
          "size": 1
         },
         "name": "AB_2800756 (CD29)",
         "offsetgroup": "AB_2800756 (CD29)",
         "orientation": "v",
         "scalegroup": "True",
         "showlegend": true,
         "type": "violin",
         "width": 0.75,
         "x": [
          "AB_2800756 (CD29)",
          "AB_2800756 (CD29)",
          "AB_2800756 (CD29)",
          "AB_2800756 (CD29)",
          "AB_2800756 (CD29)",
          "AB_2800756 (CD29)"
         ],
         "x0": " ",
         "xaxis": "x",
         "y": [
          2.3925183333,
          0,
          0,
          2.2988525,
          0,
          10.3194
         ],
         "y0": " ",
         "yaxis": "y"
        },
        {
         "alignmentgroup": "True",
         "box": {
          "visible": true
         },
         "hovertemplate": "ab_target=%{x}<br>value=%{y}<extra></extra>",
         "legendgroup": "AB_2749993 (CD183)",
         "marker": {
          "color": "#FFA15A",
          "size": 1
         },
         "name": "AB_2749993 (CD183)",
         "offsetgroup": "AB_2749993 (CD183)",
         "orientation": "v",
         "scalegroup": "True",
         "showlegend": true,
         "type": "violin",
         "width": 0.75,
         "x": [
          "AB_2749993 (CD183)",
          "AB_2749993 (CD183)",
          "AB_2749993 (CD183)",
          "AB_2749993 (CD183)",
          "AB_2749993 (CD183)",
          "AB_2749993 (CD183)"
         ],
         "x0": " ",
         "xaxis": "x",
         "y": [
          0.9907295752,
          0,
          0,
          0,
          0,
          17.7237
         ],
         "y0": " ",
         "yaxis": "y"
        },
        {
         "alignmentgroup": "True",
         "box": {
          "visible": true
         },
         "hovertemplate": "ab_target=%{x}<br>value=%{y}<extra></extra>",
         "legendgroup": "AB_2734249 (CD11b)",
         "marker": {
          "color": "#19d3f3",
          "size": 1
         },
         "name": "AB_2734249 (CD11b)",
         "offsetgroup": "AB_2734249 (CD11b)",
         "orientation": "v",
         "scalegroup": "True",
         "showlegend": true,
         "type": "violin",
         "width": 0.75,
         "x": [
          "AB_2734249 (CD11b)",
          "AB_2734249 (CD11b)",
          "AB_2734249 (CD11b)",
          "AB_2734249 (CD11b)",
          "AB_2734249 (CD11b)",
          "AB_2734249 (CD11b)"
         ],
         "x0": " ",
         "xaxis": "x",
         "y": [
          3.2913378516,
          0,
          0,
          9.4733425,
          0,
          11.9763
         ],
         "y0": " ",
         "yaxis": "y"
        },
        {
         "alignmentgroup": "True",
         "box": {
          "visible": true
         },
         "hovertemplate": "ab_target=%{x}<br>value=%{y}<extra></extra>",
         "legendgroup": "AB_2800851 (CD337)",
         "marker": {
          "color": "#FF6692",
          "size": 1
         },
         "name": "AB_2800851 (CD337)",
         "offsetgroup": "AB_2800851 (CD337)",
         "orientation": "v",
         "scalegroup": "True",
         "showlegend": true,
         "type": "violin",
         "width": 0.75,
         "x": [
          "AB_2800851 (CD337)",
          "AB_2800851 (CD337)",
          "AB_2800851 (CD337)",
          "AB_2800851 (CD337)",
          "AB_2800851 (CD337)",
          "AB_2800851 (CD337)"
         ],
         "x0": " ",
         "xaxis": "x",
         "y": [
          1.6392562069,
          0,
          0,
          0,
          0,
          9.93239
         ],
         "y0": " ",
         "yaxis": "y"
        },
        {
         "alignmentgroup": "True",
         "box": {
          "visible": true
         },
         "hovertemplate": "ab_target=%{x}<br>value=%{y}<extra></extra>",
         "legendgroup": "AB_2814233 (CD155)",
         "marker": {
          "color": "#B6E880",
          "size": 1
         },
         "name": "AB_2814233 (CD155)",
         "offsetgroup": "AB_2814233 (CD155)",
         "orientation": "v",
         "scalegroup": "True",
         "showlegend": true,
         "type": "violin",
         "width": 0.75,
         "x": [
          "AB_2814233 (CD155)",
          "AB_2814233 (CD155)",
          "AB_2814233 (CD155)",
          "AB_2814233 (CD155)",
          "AB_2814233 (CD155)",
          "AB_2814233 (CD155)"
         ],
         "x0": " ",
         "xaxis": "x",
         "y": [
          1.6693371429,
          0,
          0,
          0,
          0,
          10.1164
         ],
         "y0": " ",
         "yaxis": "y"
        },
        {
         "alignmentgroup": "True",
         "box": {
          "visible": true
         },
         "hovertemplate": "ab_target=%{x}<br>value=%{y}<extra></extra>",
         "legendgroup": "AB_2749972 (CD34)",
         "marker": {
          "color": "#FF97FF",
          "size": 1
         },
         "name": "AB_2749972 (CD34)",
         "offsetgroup": "AB_2749972 (CD34)",
         "orientation": "v",
         "scalegroup": "True",
         "showlegend": true,
         "type": "violin",
         "width": 0.75,
         "x": [
          "AB_2749972 (CD34)",
          "AB_2749972 (CD34)",
          "AB_2749972 (CD34)",
          "AB_2749972 (CD34)",
          "AB_2749972 (CD34)",
          "AB_2749972 (CD34)"
         ],
         "x0": " ",
         "xaxis": "x",
         "y": [
          0.8478709473,
          0,
          0,
          0,
          0,
          13.3407
         ],
         "y0": " ",
         "yaxis": "y"
        },
        {
         "alignmentgroup": "True",
         "box": {
          "visible": true
         },
         "hovertemplate": "ab_target=%{x}<br>value=%{y}<extra></extra>",
         "legendgroup": "AB_2800874 (CD335)",
         "marker": {
          "color": "#FECB52",
          "size": 1
         },
         "name": "AB_2800874 (CD335)",
         "offsetgroup": "AB_2800874 (CD335)",
         "orientation": "v",
         "scalegroup": "True",
         "showlegend": true,
         "type": "violin",
         "width": 0.75,
         "x": [
          "AB_2800874 (CD335)",
          "AB_2800874 (CD335)",
          "AB_2800874 (CD335)",
          "AB_2800874 (CD335)",
          "AB_2800874 (CD335)",
          "AB_2800874 (CD335)"
         ],
         "x0": " ",
         "xaxis": "x",
         "y": [
          1.2740186364,
          0,
          0,
          0,
          0,
          9.64457
         ],
         "y0": " ",
         "yaxis": "y"
        },
        {
         "alignmentgroup": "True",
         "box": {
          "visible": true
         },
         "hovertemplate": "ab_target=%{x}<br>value=%{y}<extra></extra>",
         "legendgroup": "AB_2800823 (CD278)",
         "marker": {
          "color": "#636efa",
          "size": 1
         },
         "name": "AB_2800823 (CD278)",
         "offsetgroup": "AB_2800823 (CD278)",
         "orientation": "v",
         "scalegroup": "True",
         "showlegend": true,
         "type": "violin",
         "width": 0.75,
         "x": [
          "AB_2800823 (CD278)",
          "AB_2800823 (CD278)",
          "AB_2800823 (CD278)",
          "AB_2800823 (CD278)",
          "AB_2800823 (CD278)",
          "AB_2800823 (CD278)"
         ],
         "x0": " ",
         "xaxis": "x",
         "y": [
          0,
          0,
          0,
          0,
          0,
          0
         ],
         "y0": " ",
         "yaxis": "y"
        },
        {
         "alignmentgroup": "True",
         "box": {
          "visible": true
         },
         "hovertemplate": "ab_target=%{x}<br>value=%{y}<extra></extra>",
         "legendgroup": "AB_2734409 (CD33)",
         "marker": {
          "color": "#EF553B",
          "size": 1
         },
         "name": "AB_2734409 (CD33)",
         "offsetgroup": "AB_2734409 (CD33)",
         "orientation": "v",
         "scalegroup": "True",
         "showlegend": true,
         "type": "violin",
         "width": 0.75,
         "x": [
          "AB_2734409 (CD33)",
          "AB_2734409 (CD33)",
          "AB_2734409 (CD33)",
          "AB_2734409 (CD33)",
          "AB_2734409 (CD33)",
          "AB_2734409 (CD33)"
         ],
         "x0": " ",
         "xaxis": "x",
         "y": [
          0.0540616162,
          0,
          0,
          0,
          0,
          8.53412
         ],
         "y0": " ",
         "yaxis": "y"
        },
        {
         "alignmentgroup": "True",
         "box": {
          "visible": true
         },
         "hovertemplate": "ab_target=%{x}<br>value=%{y}<extra></extra>",
         "legendgroup": "AB_2820039 (CD224)",
         "marker": {
          "color": "#00cc96",
          "size": 1
         },
         "name": "AB_2820039 (CD224)",
         "offsetgroup": "AB_2820039 (CD224)",
         "orientation": "v",
         "scalegroup": "True",
         "showlegend": true,
         "type": "violin",
         "width": 0.75,
         "x": [
          "AB_2820039 (CD224)",
          "AB_2820039 (CD224)",
          "AB_2820039 (CD224)",
          "AB_2820039 (CD224)",
          "AB_2820039 (CD224)",
          "AB_2820039 (CD224)"
         ],
         "x0": " ",
         "xaxis": "x",
         "y": [
          1.6249814286,
          0,
          0,
          0,
          0,
          10.17
         ],
         "y0": " ",
         "yaxis": "y"
        },
        {
         "alignmentgroup": "True",
         "box": {
          "visible": true
         },
         "hovertemplate": "ab_target=%{x}<br>value=%{y}<extra></extra>",
         "legendgroup": "AB_2800922 (CD8a)",
         "marker": {
          "color": "#ab63fa",
          "size": 1
         },
         "name": "AB_2800922 (CD8a)",
         "offsetgroup": "AB_2800922 (CD8a)",
         "orientation": "v",
         "scalegroup": "True",
         "showlegend": true,
         "type": "violin",
         "width": 0.75,
         "x": [
          "AB_2800922 (CD8a)",
          "AB_2800922 (CD8a)",
          "AB_2800922 (CD8a)",
          "AB_2800922 (CD8a)",
          "AB_2800922 (CD8a)",
          "AB_2800922 (CD8a)"
         ],
         "x0": " ",
         "xaxis": "x",
         "y": [
          0.3565232,
          0,
          0,
          0,
          0,
          8.91308
         ],
         "y0": " ",
         "yaxis": "y"
        },
        {
         "alignmentgroup": "True",
         "box": {
          "visible": true
         },
         "hovertemplate": "ab_target=%{x}<br>value=%{y}<extra></extra>",
         "legendgroup": "AB_2749994 (CD195)",
         "marker": {
          "color": "#FFA15A",
          "size": 1
         },
         "name": "AB_2749994 (CD195)",
         "offsetgroup": "AB_2749994 (CD195)",
         "orientation": "v",
         "scalegroup": "True",
         "showlegend": true,
         "type": "violin",
         "width": 0.75,
         "x": [
          "AB_2749994 (CD195)",
          "AB_2749994 (CD195)",
          "AB_2749994 (CD195)",
          "AB_2749994 (CD195)",
          "AB_2749994 (CD195)",
          "AB_2749994 (CD195)"
         ],
         "x0": " ",
         "xaxis": "x",
         "y": [
          0.9972902588,
          0,
          0,
          0,
          0,
          11.314
         ],
         "y0": " ",
         "yaxis": "y"
        },
        {
         "alignmentgroup": "True",
         "box": {
          "visible": true
         },
         "hovertemplate": "ab_target=%{x}<br>value=%{y}<extra></extra>",
         "legendgroup": "AB_2810482 (CD47)",
         "marker": {
          "color": "#19d3f3",
          "size": 1
         },
         "name": "AB_2810482 (CD47)",
         "offsetgroup": "AB_2810482 (CD47)",
         "orientation": "v",
         "scalegroup": "True",
         "showlegend": true,
         "type": "violin",
         "width": 0.75,
         "x": [
          "AB_2810482 (CD47)",
          "AB_2810482 (CD47)",
          "AB_2810482 (CD47)",
          "AB_2810482 (CD47)",
          "AB_2810482 (CD47)",
          "AB_2810482 (CD47)"
         ],
         "x0": " ",
         "xaxis": "x",
         "y": [
          5.5810663636,
          0,
          8.821525,
          9.5427075,
          0,
          10.5711
         ],
         "y0": " ",
         "yaxis": "y"
        },
        {
         "alignmentgroup": "True",
         "box": {
          "visible": true
         },
         "hovertemplate": "ab_target=%{x}<br>value=%{y}<extra></extra>",
         "legendgroup": "AB_2904401 (KLRG1)",
         "marker": {
          "color": "#FF6692",
          "size": 1
         },
         "name": "AB_2904401 (KLRG1)",
         "offsetgroup": "AB_2904401 (KLRG1)",
         "orientation": "v",
         "scalegroup": "True",
         "showlegend": true,
         "type": "violin",
         "width": 0.75,
         "x": [
          "AB_2904401 (KLRG1)",
          "AB_2904401 (KLRG1)",
          "AB_2904401 (KLRG1)",
          "AB_2904401 (KLRG1)",
          "AB_2904401 (KLRG1)",
          "AB_2904401 (KLRG1)"
         ],
         "x0": " ",
         "xaxis": "x",
         "y": [
          1.5126528,
          0,
          0,
          0,
          0,
          9.64133
         ],
         "y0": " ",
         "yaxis": "y"
        },
        {
         "alignmentgroup": "True",
         "box": {
          "visible": true
         },
         "hovertemplate": "ab_target=%{x}<br>value=%{y}<extra></extra>",
         "legendgroup": "AB_2734255 (CD16)",
         "marker": {
          "color": "#B6E880",
          "size": 1
         },
         "name": "AB_2734255 (CD16)",
         "offsetgroup": "AB_2734255 (CD16)",
         "orientation": "v",
         "scalegroup": "True",
         "showlegend": true,
         "type": "violin",
         "width": 0.75,
         "x": [
          "AB_2734255 (CD16)",
          "AB_2734255 (CD16)",
          "AB_2734255 (CD16)",
          "AB_2734255 (CD16)",
          "AB_2734255 (CD16)",
          "AB_2734255 (CD16)"
         ],
         "x0": " ",
         "xaxis": "x",
         "y": [
          1.0291998193,
          0,
          0,
          0,
          0,
          9.44608
         ],
         "y0": " ",
         "yaxis": "y"
        },
        {
         "alignmentgroup": "True",
         "box": {
          "visible": true
         },
         "hovertemplate": "ab_target=%{x}<br>value=%{y}<extra></extra>",
         "legendgroup": "AB_2800738 (CD16)",
         "marker": {
          "color": "#FF97FF",
          "size": 1
         },
         "name": "AB_2800738 (CD16)",
         "offsetgroup": "AB_2800738 (CD16)",
         "orientation": "v",
         "scalegroup": "True",
         "showlegend": true,
         "type": "violin",
         "width": 0.75,
         "x": [
          "AB_2800738 (CD16)",
          "AB_2800738 (CD16)",
          "AB_2800738 (CD16)",
          "AB_2800738 (CD16)",
          "AB_2800738 (CD16)",
          "AB_2800738 (CD16)"
         ],
         "x0": " ",
         "xaxis": "x",
         "y": [
          0.1999309524,
          0,
          0,
          0,
          0,
          8.3971
         ],
         "y0": " ",
         "yaxis": "y"
        },
        {
         "alignmentgroup": "True",
         "box": {
          "visible": true
         },
         "hovertemplate": "ab_target=%{x}<br>value=%{y}<extra></extra>",
         "legendgroup": "AB_2734445 (CD56)",
         "marker": {
          "color": "#FECB52",
          "size": 1
         },
         "name": "AB_2734445 (CD56)",
         "offsetgroup": "AB_2734445 (CD56)",
         "orientation": "v",
         "scalegroup": "True",
         "showlegend": true,
         "type": "violin",
         "width": 0.75,
         "x": [
          "AB_2734445 (CD56)",
          "AB_2734445 (CD56)",
          "AB_2734445 (CD56)",
          "AB_2734445 (CD56)",
          "AB_2734445 (CD56)",
          "AB_2734445 (CD56)"
         ],
         "x0": " ",
         "xaxis": "x",
         "y": [
          0.2813818604,
          0,
          0,
          0,
          0,
          9.36256
         ],
         "y0": " ",
         "yaxis": "y"
        },
        {
         "alignmentgroup": "True",
         "box": {
          "visible": true
         },
         "hovertemplate": "ab_target=%{x}<br>value=%{y}<extra></extra>",
         "legendgroup": "AB_2814143 (CD94)",
         "marker": {
          "color": "#636efa",
          "size": 1
         },
         "name": "AB_2814143 (CD94)",
         "offsetgroup": "AB_2814143 (CD94)",
         "orientation": "v",
         "scalegroup": "True",
         "showlegend": true,
         "type": "violin",
         "width": 0.75,
         "x": [
          "AB_2814143 (CD94)",
          "AB_2814143 (CD94)",
          "AB_2814143 (CD94)",
          "AB_2814143 (CD94)",
          "AB_2814143 (CD94)",
          "AB_2814143 (CD94)"
         ],
         "x0": " ",
         "xaxis": "x",
         "y": [
          0.4223854545,
          0,
          0,
          0,
          0,
          9.29248
         ],
         "y0": " ",
         "yaxis": "y"
        },
        {
         "alignmentgroup": "True",
         "box": {
          "visible": true
         },
         "hovertemplate": "ab_target=%{x}<br>value=%{y}<extra></extra>",
         "legendgroup": "AB_2749971 (CD11c)",
         "marker": {
          "color": "#EF553B",
          "size": 1
         },
         "name": "AB_2749971 (CD11c)",
         "offsetgroup": "AB_2749971 (CD11c)",
         "orientation": "v",
         "scalegroup": "True",
         "showlegend": true,
         "type": "violin",
         "width": 0.75,
         "x": [
          "AB_2749971 (CD11c)",
          "AB_2749971 (CD11c)",
          "AB_2749971 (CD11c)",
          "AB_2749971 (CD11c)",
          "AB_2749971 (CD11c)",
          "AB_2749971 (CD11c)"
         ],
         "x0": " ",
         "xaxis": "x",
         "y": [
          1.1597453613,
          0,
          0,
          0,
          0,
          12.2266
         ],
         "y0": " ",
         "yaxis": "y"
        },
        {
         "alignmentgroup": "True",
         "box": {
          "visible": true
         },
         "hovertemplate": "ab_target=%{x}<br>value=%{y}<extra></extra>",
         "legendgroup": "AB_2814240 (CD122)",
         "marker": {
          "color": "#00cc96",
          "size": 1
         },
         "name": "AB_2814240 (CD122)",
         "offsetgroup": "AB_2814240 (CD122)",
         "orientation": "v",
         "scalegroup": "True",
         "showlegend": true,
         "type": "violin",
         "width": 0.75,
         "x": [
          "AB_2814240 (CD122)",
          "AB_2814240 (CD122)",
          "AB_2814240 (CD122)",
          "AB_2814240 (CD122)",
          "AB_2814240 (CD122)",
          "AB_2814240 (CD122)"
         ],
         "x0": " ",
         "xaxis": "x",
         "y": [
          0.56716,
          0,
          0,
          0,
          0,
          10.219
         ],
         "y0": " ",
         "yaxis": "y"
        },
        {
         "alignmentgroup": "True",
         "box": {
          "visible": true
         },
         "hovertemplate": "ab_target=%{x}<br>value=%{y}<extra></extra>",
         "legendgroup": "AB_2814249 (CD328)",
         "marker": {
          "color": "#ab63fa",
          "size": 1
         },
         "name": "AB_2814249 (CD328)",
         "offsetgroup": "AB_2814249 (CD328)",
         "orientation": "v",
         "scalegroup": "True",
         "showlegend": true,
         "type": "violin",
         "width": 0.75,
         "x": [
          "AB_2814249 (CD328)",
          "AB_2814249 (CD328)",
          "AB_2814249 (CD328)",
          "AB_2814249 (CD328)",
          "AB_2814249 (CD328)",
          "AB_2814249 (CD328)"
         ],
         "x0": " ",
         "xaxis": "x",
         "y": [
          0,
          0,
          0,
          0,
          0,
          0
         ],
         "y0": " ",
         "yaxis": "y"
        },
        {
         "alignmentgroup": "True",
         "box": {
          "visible": true
         },
         "hovertemplate": "ab_target=%{x}<br>value=%{y}<extra></extra>",
         "legendgroup": "AB_2800988 (CD194)",
         "marker": {
          "color": "#FFA15A",
          "size": 1
         },
         "name": "AB_2800988 (CD194)",
         "offsetgroup": "AB_2800988 (CD194)",
         "orientation": "v",
         "scalegroup": "True",
         "showlegend": true,
         "type": "violin",
         "width": 0.75,
         "x": [
          "AB_2800988 (CD194)",
          "AB_2800988 (CD194)",
          "AB_2800988 (CD194)",
          "AB_2800988 (CD194)",
          "AB_2800988 (CD194)",
          "AB_2800988 (CD194)"
         ],
         "x0": " ",
         "xaxis": "x",
         "y": [
          0,
          0,
          0,
          0,
          0,
          0
         ],
         "y0": " ",
         "yaxis": "y"
        },
        {
         "alignmentgroup": "True",
         "box": {
          "visible": true
         },
         "hovertemplate": "ab_target=%{x}<br>value=%{y}<extra></extra>",
         "legendgroup": "AB_2749979 (CD194)",
         "marker": {
          "color": "#19d3f3",
          "size": 1
         },
         "name": "AB_2749979 (CD194)",
         "offsetgroup": "AB_2749979 (CD194)",
         "orientation": "v",
         "scalegroup": "True",
         "showlegend": true,
         "type": "violin",
         "width": 0.75,
         "x": [
          "AB_2749979 (CD194)",
          "AB_2749979 (CD194)",
          "AB_2749979 (CD194)",
          "AB_2749979 (CD194)",
          "AB_2749979 (CD194)",
          "AB_2749979 (CD194)"
         ],
         "x0": " ",
         "xaxis": "x",
         "y": [
          0.7616733936,
          0,
          0,
          0,
          0,
          10.4029
         ],
         "y0": " ",
         "yaxis": "y"
        },
        {
         "alignmentgroup": "True",
         "box": {
          "visible": true
         },
         "hovertemplate": "ab_target=%{x}<br>value=%{y}<extra></extra>",
         "legendgroup": "AB_2801002 (CD56)",
         "marker": {
          "color": "#FF6692",
          "size": 1
         },
         "name": "AB_2801002 (CD56)",
         "offsetgroup": "AB_2801002 (CD56)",
         "orientation": "v",
         "scalegroup": "True",
         "showlegend": true,
         "type": "violin",
         "width": 0.75,
         "x": [
          "AB_2801002 (CD56)",
          "AB_2801002 (CD56)",
          "AB_2801002 (CD56)",
          "AB_2801002 (CD56)",
          "AB_2801002 (CD56)",
          "AB_2801002 (CD56)"
         ],
         "x0": " ",
         "xaxis": "x",
         "y": [
          0,
          0,
          0,
          0,
          0,
          0
         ],
         "y0": " ",
         "yaxis": "y"
        },
        {
         "alignmentgroup": "True",
         "box": {
          "visible": true
         },
         "hovertemplate": "ab_target=%{x}<br>value=%{y}<extra></extra>",
         "legendgroup": "AB_2800739 (CD18)",
         "marker": {
          "color": "#B6E880",
          "size": 1
         },
         "name": "AB_2800739 (CD18)",
         "offsetgroup": "AB_2800739 (CD18)",
         "orientation": "v",
         "scalegroup": "True",
         "showlegend": true,
         "type": "violin",
         "width": 0.75,
         "x": [
          "AB_2800739 (CD18)",
          "AB_2800739 (CD18)",
          "AB_2800739 (CD18)",
          "AB_2800739 (CD18)",
          "AB_2800739 (CD18)",
          "AB_2800739 (CD18)"
         ],
         "x0": " ",
         "xaxis": "x",
         "y": [
          0,
          0,
          0,
          0,
          0,
          0
         ],
         "y0": " ",
         "yaxis": "y"
        },
        {
         "alignmentgroup": "True",
         "box": {
          "visible": true
         },
         "hovertemplate": "ab_target=%{x}<br>value=%{y}<extra></extra>",
         "legendgroup": "AB_2800787 (CD95)",
         "marker": {
          "color": "#FF97FF",
          "size": 1
         },
         "name": "AB_2800787 (CD95)",
         "offsetgroup": "AB_2800787 (CD95)",
         "orientation": "v",
         "scalegroup": "True",
         "showlegend": true,
         "type": "violin",
         "width": 0.75,
         "x": [
          "AB_2800787 (CD95)",
          "AB_2800787 (CD95)",
          "AB_2800787 (CD95)",
          "AB_2800787 (CD95)",
          "AB_2800787 (CD95)",
          "AB_2800787 (CD95)"
         ],
         "x0": " ",
         "xaxis": "x",
         "y": [
          0.6820759524,
          0,
          0,
          0,
          0,
          9.74165
         ],
         "y0": " ",
         "yaxis": "y"
        },
        {
         "alignmentgroup": "True",
         "box": {
          "visible": true
         },
         "hovertemplate": "ab_target=%{x}<br>value=%{y}<extra></extra>",
         "legendgroup": "AB_2734322 (CD279)",
         "marker": {
          "color": "#FECB52",
          "size": 1
         },
         "name": "AB_2734322 (CD279)",
         "offsetgroup": "AB_2734322 (CD279)",
         "orientation": "v",
         "scalegroup": "True",
         "showlegend": true,
         "type": "violin",
         "width": 0.75,
         "x": [
          "AB_2734322 (CD279)",
          "AB_2734322 (CD279)",
          "AB_2734322 (CD279)",
          "AB_2734322 (CD279)",
          "AB_2734322 (CD279)",
          "AB_2734322 (CD279)"
         ],
         "x0": " ",
         "xaxis": "x",
         "y": [
          0.515400332,
          0,
          0,
          0,
          0,
          10.7199
         ],
         "y0": " ",
         "yaxis": "y"
        },
        {
         "alignmentgroup": "True",
         "box": {
          "visible": true
         },
         "hovertemplate": "ab_target=%{x}<br>value=%{y}<extra></extra>",
         "legendgroup": "AB_2800857 (CD244)",
         "marker": {
          "color": "#636efa",
          "size": 1
         },
         "name": "AB_2800857 (CD244)",
         "offsetgroup": "AB_2800857 (CD244)",
         "orientation": "v",
         "scalegroup": "True",
         "showlegend": true,
         "type": "violin",
         "width": 0.75,
         "x": [
          "AB_2800857 (CD244)",
          "AB_2800857 (CD244)",
          "AB_2800857 (CD244)",
          "AB_2800857 (CD244)",
          "AB_2800857 (CD244)",
          "AB_2800857 (CD244)"
         ],
         "x0": " ",
         "xaxis": "x",
         "y": [
          0.2376505714,
          0,
          0,
          0,
          0,
          8.31777
         ],
         "y0": " ",
         "yaxis": "y"
        },
        {
         "alignmentgroup": "True",
         "box": {
          "visible": true
         },
         "hovertemplate": "ab_target=%{x}<br>value=%{y}<extra></extra>",
         "legendgroup": "AB_2749998 (CD161)",
         "marker": {
          "color": "#EF553B",
          "size": 1
         },
         "name": "AB_2749998 (CD161)",
         "offsetgroup": "AB_2749998 (CD161)",
         "orientation": "v",
         "scalegroup": "True",
         "showlegend": true,
         "type": "violin",
         "width": 0.75,
         "x": [
          "AB_2749998 (CD161)",
          "AB_2749998 (CD161)",
          "AB_2749998 (CD161)",
          "AB_2749998 (CD161)",
          "AB_2749998 (CD161)",
          "AB_2749998 (CD161)"
         ],
         "x0": " ",
         "xaxis": "x",
         "y": [
          0.8790433105,
          0,
          0,
          0,
          0,
          11.7041
         ],
         "y0": " ",
         "yaxis": "y"
        },
        {
         "alignmentgroup": "True",
         "box": {
          "visible": true
         },
         "hovertemplate": "ab_target=%{x}<br>value=%{y}<extra></extra>",
         "legendgroup": "AB_2800844 (CD314)",
         "marker": {
          "color": "#00cc96",
          "size": 1
         },
         "name": "AB_2800844 (CD314)",
         "offsetgroup": "AB_2800844 (CD314)",
         "orientation": "v",
         "scalegroup": "True",
         "showlegend": true,
         "type": "violin",
         "width": 0.75,
         "x": [
          "AB_2800844 (CD314)",
          "AB_2800844 (CD314)",
          "AB_2800844 (CD314)",
          "AB_2800844 (CD314)",
          "AB_2800844 (CD314)",
          "AB_2800844 (CD314)"
         ],
         "x0": " ",
         "xaxis": "x",
         "y": [
          0.7699175,
          0,
          0,
          0,
          0,
          9.23901
         ],
         "y0": " ",
         "yaxis": "y"
        },
        {
         "alignmentgroup": "True",
         "box": {
          "visible": true
         },
         "hovertemplate": "ab_target=%{x}<br>value=%{y}<extra></extra>",
         "legendgroup": "AB_2800899 (CD226)",
         "marker": {
          "color": "#ab63fa",
          "size": 1
         },
         "name": "AB_2800899 (CD226)",
         "offsetgroup": "AB_2800899 (CD226)",
         "orientation": "v",
         "scalegroup": "True",
         "showlegend": true,
         "type": "violin",
         "width": 0.75,
         "x": [
          "AB_2800899 (CD226)",
          "AB_2800899 (CD226)",
          "AB_2800899 (CD226)",
          "AB_2800899 (CD226)",
          "AB_2800899 (CD226)",
          "AB_2800899 (CD226)"
         ],
         "x0": " ",
         "xaxis": "x",
         "y": [
          0.4659978571,
          0,
          0,
          0,
          0,
          9.82598
         ],
         "y0": " ",
         "yaxis": "y"
        },
        {
         "alignmentgroup": "True",
         "box": {
          "visible": true
         },
         "hovertemplate": "ab_target=%{x}<br>value=%{y}<extra></extra>",
         "legendgroup": "AB_2832651 (CD101)",
         "marker": {
          "color": "#FFA15A",
          "size": 1
         },
         "name": "AB_2832651 (CD101)",
         "offsetgroup": "AB_2832651 (CD101)",
         "orientation": "v",
         "scalegroup": "True",
         "showlegend": true,
         "type": "violin",
         "width": 0.75,
         "x": [
          "AB_2832651 (CD101)",
          "AB_2832651 (CD101)",
          "AB_2832651 (CD101)",
          "AB_2832651 (CD101)",
          "AB_2832651 (CD101)",
          "AB_2832651 (CD101)"
         ],
         "x0": " ",
         "xaxis": "x",
         "y": [
          0.9045309524,
          0,
          0,
          0,
          0,
          9.80689
         ],
         "y0": " ",
         "yaxis": "y"
        },
        {
         "alignmentgroup": "True",
         "box": {
          "visible": true
         },
         "hovertemplate": "ab_target=%{x}<br>value=%{y}<extra></extra>",
         "legendgroup": "AB_2800770 (CD62L)",
         "marker": {
          "color": "#19d3f3",
          "size": 1
         },
         "name": "AB_2800770 (CD62L)",
         "offsetgroup": "AB_2800770 (CD62L)",
         "orientation": "v",
         "scalegroup": "True",
         "showlegend": true,
         "type": "violin",
         "width": 0.75,
         "x": [
          "AB_2800770 (CD62L)",
          "AB_2800770 (CD62L)",
          "AB_2800770 (CD62L)",
          "AB_2800770 (CD62L)",
          "AB_2800770 (CD62L)",
          "AB_2800770 (CD62L)"
         ],
         "x0": " ",
         "xaxis": "x",
         "y": [
          3.7407088095,
          0,
          0,
          8.9817075,
          0,
          10.0823
         ],
         "y0": " ",
         "yaxis": "y"
        },
        {
         "alignmentgroup": "True",
         "box": {
          "visible": true
         },
         "hovertemplate": "ab_target=%{x}<br>value=%{y}<extra></extra>",
         "legendgroup": "AB_2734351 (CD8a)",
         "marker": {
          "color": "#FF6692",
          "size": 1
         },
         "name": "AB_2734351 (CD8a)",
         "offsetgroup": "AB_2734351 (CD8a)",
         "orientation": "v",
         "scalegroup": "True",
         "showlegend": true,
         "type": "violin",
         "width": 0.75,
         "x": [
          "AB_2734351 (CD8a)",
          "AB_2734351 (CD8a)",
          "AB_2734351 (CD8a)",
          "AB_2734351 (CD8a)",
          "AB_2734351 (CD8a)",
          "AB_2734351 (CD8a)"
         ],
         "x0": " ",
         "xaxis": "x",
         "y": [
          0.3531526514,
          0,
          0,
          0,
          0,
          12.8807
         ],
         "y0": " ",
         "yaxis": "y"
        },
        {
         "alignmentgroup": "True",
         "box": {
          "visible": true
         },
         "hovertemplate": "ab_target=%{x}<br>value=%{y}<extra></extra>",
         "legendgroup": "AB_2734312 (CD90)",
         "marker": {
          "color": "#B6E880",
          "size": 1
         },
         "name": "AB_2734312 (CD90)",
         "offsetgroup": "AB_2734312 (CD90)",
         "orientation": "v",
         "scalegroup": "True",
         "showlegend": true,
         "type": "violin",
         "width": 0.75,
         "x": [
          "AB_2734312 (CD90)",
          "AB_2734312 (CD90)",
          "AB_2734312 (CD90)",
          "AB_2734312 (CD90)",
          "AB_2734312 (CD90)",
          "AB_2734312 (CD90)"
         ],
         "x0": " ",
         "xaxis": "x",
         "y": [
          1.2329946826,
          0,
          0,
          0,
          0,
          14.1526
         ],
         "y0": " ",
         "yaxis": "y"
        },
        {
         "alignmentgroup": "True",
         "box": {
          "visible": true
         },
         "hovertemplate": "ab_target=%{x}<br>value=%{y}<extra></extra>",
         "legendgroup": "AB_2800935 (CD11a)",
         "marker": {
          "color": "#FF97FF",
          "size": 1
         },
         "name": "AB_2800935 (CD11a)",
         "offsetgroup": "AB_2800935 (CD11a)",
         "orientation": "v",
         "scalegroup": "True",
         "showlegend": true,
         "type": "violin",
         "width": 0.75,
         "x": [
          "AB_2800935 (CD11a)",
          "AB_2800935 (CD11a)",
          "AB_2800935 (CD11a)",
          "AB_2800935 (CD11a)",
          "AB_2800935 (CD11a)",
          "AB_2800935 (CD11a)"
         ],
         "x0": " ",
         "xaxis": "x",
         "y": [
          0.4138186364,
          0,
          0,
          0,
          0,
          9.10401
         ],
         "y0": " ",
         "yaxis": "y"
        },
        {
         "alignmentgroup": "True",
         "box": {
          "visible": true
         },
         "hovertemplate": "ab_target=%{x}<br>value=%{y}<extra></extra>",
         "legendgroup": "AB_2800825 (CD49f)",
         "marker": {
          "color": "#FECB52",
          "size": 1
         },
         "name": "AB_2800825 (CD49f)",
         "offsetgroup": "AB_2800825 (CD49f)",
         "orientation": "v",
         "scalegroup": "True",
         "showlegend": true,
         "type": "violin",
         "width": 0.75,
         "x": [
          "AB_2800825 (CD49f)",
          "AB_2800825 (CD49f)",
          "AB_2800825 (CD49f)",
          "AB_2800825 (CD49f)",
          "AB_2800825 (CD49f)",
          "AB_2800825 (CD49f)"
         ],
         "x0": " ",
         "xaxis": "x",
         "y": [
          0,
          0,
          0,
          0,
          0,
          0
         ],
         "y0": " ",
         "yaxis": "y"
        },
        {
         "alignmentgroup": "True",
         "box": {
          "visible": true
         },
         "hovertemplate": "ab_target=%{x}<br>value=%{y}<extra></extra>",
         "legendgroup": "AB_2750007 (CD244)",
         "marker": {
          "color": "#636efa",
          "size": 1
         },
         "name": "AB_2750007 (CD244)",
         "offsetgroup": "AB_2750007 (CD244)",
         "orientation": "v",
         "scalegroup": "True",
         "showlegend": true,
         "type": "violin",
         "width": 0.75,
         "x": [
          "AB_2750007 (CD244)",
          "AB_2750007 (CD244)",
          "AB_2750007 (CD244)",
          "AB_2750007 (CD244)",
          "AB_2750007 (CD244)",
          "AB_2750007 (CD244)"
         ],
         "x0": " ",
         "xaxis": "x",
         "y": [
          0.397102085,
          0,
          0,
          0,
          0,
          14.0061
         ],
         "y0": " ",
         "yaxis": "y"
        },
        {
         "alignmentgroup": "True",
         "box": {
          "visible": true
         },
         "hovertemplate": "ab_target=%{x}<br>value=%{y}<extra></extra>",
         "legendgroup": "AB_2734254 (CD14)",
         "marker": {
          "color": "#EF553B",
          "size": 1
         },
         "name": "AB_2734254 (CD14)",
         "offsetgroup": "AB_2734254 (CD14)",
         "orientation": "v",
         "scalegroup": "True",
         "showlegend": true,
         "type": "violin",
         "width": 0.75,
         "x": [
          "AB_2734254 (CD14)",
          "AB_2734254 (CD14)",
          "AB_2734254 (CD14)",
          "AB_2734254 (CD14)",
          "AB_2734254 (CD14)",
          "AB_2734254 (CD14)"
         ],
         "x0": " ",
         "xaxis": "x",
         "y": [
          1.6467213623,
          0,
          0,
          0,
          0,
          10.4684
         ],
         "y0": " ",
         "yaxis": "y"
        },
        {
         "alignmentgroup": "True",
         "box": {
          "visible": true
         },
         "hovertemplate": "ab_target=%{x}<br>value=%{y}<extra></extra>",
         "legendgroup": "AB_2800747 (CD27)",
         "marker": {
          "color": "#00cc96",
          "size": 1
         },
         "name": "AB_2800747 (CD27)",
         "offsetgroup": "AB_2800747 (CD27)",
         "orientation": "v",
         "scalegroup": "True",
         "showlegend": true,
         "type": "violin",
         "width": 0.75,
         "x": [
          "AB_2800747 (CD27)",
          "AB_2800747 (CD27)",
          "AB_2800747 (CD27)",
          "AB_2800747 (CD27)",
          "AB_2800747 (CD27)",
          "AB_2800747 (CD27)"
         ],
         "x0": " ",
         "xaxis": "x",
         "y": [
          0.6327189655,
          0,
          0,
          0,
          0,
          9.64181
         ],
         "y0": " ",
         "yaxis": "y"
        },
        {
         "alignmentgroup": "True",
         "box": {
          "visible": true
         },
         "hovertemplate": "ab_target=%{x}<br>value=%{y}<extra></extra>",
         "legendgroup": "AB_2810435 (CD26)",
         "marker": {
          "color": "#ab63fa",
          "size": 1
         },
         "name": "AB_2810435 (CD26)",
         "offsetgroup": "AB_2810435 (CD26)",
         "orientation": "v",
         "scalegroup": "True",
         "showlegend": true,
         "type": "violin",
         "width": 0.75,
         "x": [
          "AB_2810435 (CD26)",
          "AB_2810435 (CD26)",
          "AB_2810435 (CD26)",
          "AB_2810435 (CD26)",
          "AB_2810435 (CD26)",
          "AB_2810435 (CD26)"
         ],
         "x0": " ",
         "xaxis": "x",
         "y": [
          0.6335662069,
          0,
          0,
          0,
          0,
          9.29803
         ],
         "y0": " ",
         "yaxis": "y"
        },
        {
         "alignmentgroup": "True",
         "box": {
          "visible": true
         },
         "hovertemplate": "ab_target=%{x}<br>value=%{y}<extra></extra>",
         "legendgroup": "AB_2749969 (CD4)",
         "marker": {
          "color": "#FFA15A",
          "size": 1
         },
         "name": "AB_2749969 (CD4)",
         "offsetgroup": "AB_2749969 (CD4)",
         "orientation": "v",
         "scalegroup": "True",
         "showlegend": true,
         "type": "violin",
         "width": 0.75,
         "x": [
          "AB_2749969 (CD4)",
          "AB_2749969 (CD4)",
          "AB_2749969 (CD4)",
          "AB_2749969 (CD4)",
          "AB_2749969 (CD4)",
          "AB_2749969 (CD4)"
         ],
         "x0": " ",
         "xaxis": "x",
         "y": [
          0.9808549219,
          0,
          0,
          0,
          0,
          11.1155
         ],
         "y0": " ",
         "yaxis": "y"
        },
        {
         "alignmentgroup": "True",
         "box": {
          "visible": true
         },
         "hovertemplate": "ab_target=%{x}<br>value=%{y}<extra></extra>",
         "legendgroup": "AB_2800726 (CD5)",
         "marker": {
          "color": "#19d3f3",
          "size": 1
         },
         "name": "AB_2800726 (CD5)",
         "offsetgroup": "AB_2800726 (CD5)",
         "orientation": "v",
         "scalegroup": "True",
         "showlegend": true,
         "type": "violin",
         "width": 0.75,
         "x": [
          "AB_2800726 (CD5)",
          "AB_2800726 (CD5)",
          "AB_2800726 (CD5)",
          "AB_2800726 (CD5)",
          "AB_2800726 (CD5)",
          "AB_2800726 (CD5)"
         ],
         "x0": " ",
         "xaxis": "x",
         "y": [
          1.6473059524,
          0,
          0,
          0,
          0,
          9.96221
         ],
         "y0": " ",
         "yaxis": "y"
        },
        {
         "alignmentgroup": "True",
         "box": {
          "visible": true
         },
         "hovertemplate": "ab_target=%{x}<br>value=%{y}<extra></extra>",
         "legendgroup": "AB_2750000 (CD27)",
         "marker": {
          "color": "#FF6692",
          "size": 1
         },
         "name": "AB_2750000 (CD27)",
         "offsetgroup": "AB_2750000 (CD27)",
         "orientation": "v",
         "scalegroup": "True",
         "showlegend": true,
         "type": "violin",
         "width": 0.75,
         "x": [
          "AB_2750000 (CD27)",
          "AB_2750000 (CD27)",
          "AB_2750000 (CD27)",
          "AB_2750000 (CD27)",
          "AB_2750000 (CD27)",
          "AB_2750000 (CD27)"
         ],
         "x0": " ",
         "xaxis": "x",
         "y": [
          1.7202988428,
          0,
          0,
          0,
          0,
          11.6732
         ],
         "y0": " ",
         "yaxis": "y"
        },
        {
         "alignmentgroup": "True",
         "box": {
          "visible": true
         },
         "hovertemplate": "ab_target=%{x}<br>value=%{y}<extra></extra>",
         "legendgroup": "AB_2820032 (CD99)",
         "marker": {
          "color": "#B6E880",
          "size": 1
         },
         "name": "AB_2820032 (CD99)",
         "offsetgroup": "AB_2820032 (CD99)",
         "orientation": "v",
         "scalegroup": "True",
         "showlegend": true,
         "type": "violin",
         "width": 0.75,
         "x": [
          "AB_2820032 (CD99)",
          "AB_2820032 (CD99)",
          "AB_2820032 (CD99)",
          "AB_2820032 (CD99)",
          "AB_2820032 (CD99)",
          "AB_2820032 (CD99)"
         ],
         "x0": " ",
         "xaxis": "x",
         "y": [
          1.3108042857,
          0,
          0,
          0,
          0,
          9.24513
         ],
         "y0": " ",
         "yaxis": "y"
        },
        {
         "alignmentgroup": "True",
         "box": {
          "visible": true
         },
         "hovertemplate": "ab_target=%{x}<br>value=%{y}<extra></extra>",
         "legendgroup": "AB_2734366 (CD127)",
         "marker": {
          "color": "#FF97FF",
          "size": 1
         },
         "name": "AB_2734366 (CD127)",
         "offsetgroup": "AB_2734366 (CD127)",
         "orientation": "v",
         "scalegroup": "True",
         "showlegend": true,
         "type": "violin",
         "width": 0.75,
         "x": [
          "AB_2734366 (CD127)",
          "AB_2734366 (CD127)",
          "AB_2734366 (CD127)",
          "AB_2734366 (CD127)",
          "AB_2734366 (CD127)",
          "AB_2734366 (CD127)"
         ],
         "x0": " ",
         "xaxis": "x",
         "y": [
          0.6489724609,
          0,
          0,
          0,
          0,
          11.449
         ],
         "y0": " ",
         "yaxis": "y"
        },
        {
         "alignmentgroup": "True",
         "box": {
          "visible": true
         },
         "hovertemplate": "ab_target=%{x}<br>value=%{y}<extra></extra>",
         "legendgroup": "AB_2800725 (CD4)",
         "marker": {
          "color": "#FECB52",
          "size": 1
         },
         "name": "AB_2800725 (CD4)",
         "offsetgroup": "AB_2800725 (CD4)",
         "orientation": "v",
         "scalegroup": "True",
         "showlegend": true,
         "type": "violin",
         "width": 0.75,
         "x": [
          "AB_2800725 (CD4)",
          "AB_2800725 (CD4)",
          "AB_2800725 (CD4)",
          "AB_2800725 (CD4)",
          "AB_2800725 (CD4)",
          "AB_2800725 (CD4)"
         ],
         "x0": " ",
         "xaxis": "x",
         "y": [
          0.1821435714,
          0,
          0,
          0,
          0,
          7.65003
         ],
         "y0": " ",
         "yaxis": "y"
        },
        {
         "alignmentgroup": "True",
         "box": {
          "visible": true
         },
         "hovertemplate": "ab_target=%{x}<br>value=%{y}<extra></extra>",
         "legendgroup": "AB_2800937 (CD127)",
         "marker": {
          "color": "#636efa",
          "size": 1
         },
         "name": "AB_2800937 (CD127)",
         "offsetgroup": "AB_2800937 (CD127)",
         "orientation": "v",
         "scalegroup": "True",
         "showlegend": true,
         "type": "violin",
         "width": 0.75,
         "x": [
          "AB_2800937 (CD127)",
          "AB_2800937 (CD127)",
          "AB_2800937 (CD127)",
          "AB_2800937 (CD127)",
          "AB_2800937 (CD127)",
          "AB_2800937 (CD127)"
         ],
         "x0": " ",
         "xaxis": "x",
         "y": [
          0.4024459091,
          0,
          0,
          0,
          0,
          8.85381
         ],
         "y0": " ",
         "yaxis": "y"
        },
        {
         "alignmentgroup": "True",
         "box": {
          "visible": true
         },
         "hovertemplate": "ab_target=%{x}<br>value=%{y}<extra></extra>",
         "legendgroup": "AB_2800793 (TCR alpha/beta)",
         "marker": {
          "color": "#EF553B",
          "size": 1
         },
         "name": "AB_2800793 (TCR alpha/beta)",
         "offsetgroup": "AB_2800793 (TCR alpha/beta)",
         "orientation": "v",
         "scalegroup": "True",
         "showlegend": true,
         "type": "violin",
         "width": 0.75,
         "x": [
          "AB_2800793 (TCR alpha/beta)",
          "AB_2800793 (TCR alpha/beta)",
          "AB_2800793 (TCR alpha/beta)",
          "AB_2800793 (TCR alpha/beta)",
          "AB_2800793 (TCR alpha/beta)",
          "AB_2800793 (TCR alpha/beta)"
         ],
         "x0": " ",
         "xaxis": "x",
         "y": [
          0.2535062857,
          0,
          0,
          0,
          0,
          8.87272
         ],
         "y0": " ",
         "yaxis": "y"
        },
        {
         "alignmentgroup": "True",
         "box": {
          "visible": true
         },
         "hovertemplate": "ab_target=%{x}<br>value=%{y}<extra></extra>",
         "legendgroup": "AB_2734353 (CD3)",
         "marker": {
          "color": "#00cc96",
          "size": 1
         },
         "name": "AB_2734353 (CD3)",
         "offsetgroup": "AB_2734353 (CD3)",
         "orientation": "v",
         "scalegroup": "True",
         "showlegend": true,
         "type": "violin",
         "width": 0.75,
         "x": [
          "AB_2734353 (CD3)",
          "AB_2734353 (CD3)",
          "AB_2734353 (CD3)",
          "AB_2734353 (CD3)",
          "AB_2734353 (CD3)",
          "AB_2734353 (CD3)"
         ],
         "x0": " ",
         "xaxis": "x",
         "y": [
          0.0781910059,
          0,
          0,
          0,
          0,
          10.3854
         ],
         "y0": " ",
         "yaxis": "y"
        },
        {
         "alignmentgroup": "True",
         "box": {
          "visible": true
         },
         "hovertemplate": "ab_target=%{x}<br>value=%{y}<extra></extra>",
         "legendgroup": "AB_2800914 (CD7)",
         "marker": {
          "color": "#ab63fa",
          "size": 1
         },
         "name": "AB_2800914 (CD7)",
         "offsetgroup": "AB_2800914 (CD7)",
         "orientation": "v",
         "scalegroup": "True",
         "showlegend": true,
         "type": "violin",
         "width": 0.75,
         "x": [
          "AB_2800914 (CD7)",
          "AB_2800914 (CD7)",
          "AB_2800914 (CD7)",
          "AB_2800914 (CD7)",
          "AB_2800914 (CD7)",
          "AB_2800914 (CD7)"
         ],
         "x0": " ",
         "xaxis": "x",
         "y": [
          0,
          0,
          0,
          0,
          0,
          0
         ],
         "y0": " ",
         "yaxis": "y"
        },
        {
         "alignmentgroup": "True",
         "box": {
          "visible": true
         },
         "hovertemplate": "ab_target=%{x}<br>value=%{y}<extra></extra>",
         "legendgroup": "AB_2800751 (CD28)",
         "marker": {
          "color": "#FFA15A",
          "size": 1
         },
         "name": "AB_2800751 (CD28)",
         "offsetgroup": "AB_2800751 (CD28)",
         "orientation": "v",
         "scalegroup": "True",
         "showlegend": true,
         "type": "violin",
         "width": 0.75,
         "x": [
          "AB_2800751 (CD28)",
          "AB_2800751 (CD28)",
          "AB_2800751 (CD28)",
          "AB_2800751 (CD28)",
          "AB_2800751 (CD28)",
          "AB_2800751 (CD28)"
         ],
         "x0": " ",
         "xaxis": "x",
         "y": [
          0,
          0,
          0,
          0,
          0,
          0
         ],
         "y0": " ",
         "yaxis": "y"
        },
        {
         "alignmentgroup": "True",
         "box": {
          "visible": true
         },
         "hovertemplate": "ab_target=%{x}<br>value=%{y}<extra></extra>",
         "legendgroup": "AB_2734345 (CD7)",
         "marker": {
          "color": "#19d3f3",
          "size": 1
         },
         "name": "AB_2734345 (CD7)",
         "offsetgroup": "AB_2734345 (CD7)",
         "orientation": "v",
         "scalegroup": "True",
         "showlegend": true,
         "type": "violin",
         "width": 0.75,
         "x": [
          "AB_2734345 (CD7)",
          "AB_2734345 (CD7)",
          "AB_2734345 (CD7)",
          "AB_2734345 (CD7)",
          "AB_2734345 (CD7)",
          "AB_2734345 (CD7)"
         ],
         "x0": " ",
         "xaxis": "x",
         "y": [
          0.2499613574,
          0,
          0,
          0,
          0,
          12.3266
         ],
         "y0": " ",
         "yaxis": "y"
        },
        {
         "alignmentgroup": "True",
         "box": {
          "visible": true
         },
         "hovertemplate": "ab_target=%{x}<br>value=%{y}<extra></extra>",
         "legendgroup": "AB_2800723 (CD3)",
         "marker": {
          "color": "#FF6692",
          "size": 1
         },
         "name": "AB_2800723 (CD3)",
         "offsetgroup": "AB_2800723 (CD3)",
         "orientation": "v",
         "scalegroup": "True",
         "showlegend": true,
         "type": "violin",
         "width": 0.75,
         "x": [
          "AB_2800723 (CD3)",
          "AB_2800723 (CD3)",
          "AB_2800723 (CD3)",
          "AB_2800723 (CD3)",
          "AB_2800723 (CD3)",
          "AB_2800723 (CD3)"
         ],
         "x0": " ",
         "xaxis": "x",
         "y": [
          0,
          0,
          0,
          0,
          0,
          0
         ],
         "y0": " ",
         "yaxis": "y"
        },
        {
         "alignmentgroup": "True",
         "box": {
          "visible": true
         },
         "hovertemplate": "ab_target=%{x}<br>value=%{y}<extra></extra>",
         "legendgroup": "AB_2810464 (CD2)",
         "marker": {
          "color": "#B6E880",
          "size": 1
         },
         "name": "AB_2810464 (CD2)",
         "offsetgroup": "AB_2810464 (CD2)",
         "orientation": "v",
         "scalegroup": "True",
         "showlegend": true,
         "type": "violin",
         "width": 0.75,
         "x": [
          "AB_2810464 (CD2)",
          "AB_2810464 (CD2)",
          "AB_2810464 (CD2)",
          "AB_2810464 (CD2)",
          "AB_2810464 (CD2)",
          "AB_2810464 (CD2)"
         ],
         "x0": " ",
         "xaxis": "x",
         "y": [
          0,
          0,
          0,
          0,
          0,
          0
         ],
         "y0": " ",
         "yaxis": "y"
        }
       ],
       "layout": {
        "autosize": true,
        "font": {
         "size": 8
        },
        "legend": {
         "title": {
          "text": "ab_target"
         },
         "tracegroupgap": 0
        },
        "margin": {
         "t": 60
        },
        "template": {
         "data": {
          "bar": [
           {
            "error_x": {
             "color": "#2a3f5f"
            },
            "error_y": {
             "color": "#2a3f5f"
            },
            "marker": {
             "line": {
              "color": "#E5ECF6",
              "width": 0.5
             },
             "pattern": {
              "fillmode": "overlay",
              "size": 10,
              "solidity": 0.2
             }
            },
            "type": "bar"
           }
          ],
          "barpolar": [
           {
            "marker": {
             "line": {
              "color": "#E5ECF6",
              "width": 0.5
             },
             "pattern": {
              "fillmode": "overlay",
              "size": 10,
              "solidity": 0.2
             }
            },
            "type": "barpolar"
           }
          ],
          "carpet": [
           {
            "aaxis": {
             "endlinecolor": "#2a3f5f",
             "gridcolor": "white",
             "linecolor": "white",
             "minorgridcolor": "white",
             "startlinecolor": "#2a3f5f"
            },
            "baxis": {
             "endlinecolor": "#2a3f5f",
             "gridcolor": "white",
             "linecolor": "white",
             "minorgridcolor": "white",
             "startlinecolor": "#2a3f5f"
            },
            "type": "carpet"
           }
          ],
          "choropleth": [
           {
            "colorbar": {
             "outlinewidth": 0,
             "ticks": ""
            },
            "type": "choropleth"
           }
          ],
          "contour": [
           {
            "colorbar": {
             "outlinewidth": 0,
             "ticks": ""
            },
            "colorscale": [
             [
              0,
              "#0d0887"
             ],
             [
              0.1111111111111111,
              "#46039f"
             ],
             [
              0.2222222222222222,
              "#7201a8"
             ],
             [
              0.3333333333333333,
              "#9c179e"
             ],
             [
              0.4444444444444444,
              "#bd3786"
             ],
             [
              0.5555555555555556,
              "#d8576b"
             ],
             [
              0.6666666666666666,
              "#ed7953"
             ],
             [
              0.7777777777777778,
              "#fb9f3a"
             ],
             [
              0.8888888888888888,
              "#fdca26"
             ],
             [
              1,
              "#f0f921"
             ]
            ],
            "type": "contour"
           }
          ],
          "contourcarpet": [
           {
            "colorbar": {
             "outlinewidth": 0,
             "ticks": ""
            },
            "type": "contourcarpet"
           }
          ],
          "heatmap": [
           {
            "colorbar": {
             "outlinewidth": 0,
             "ticks": ""
            },
            "colorscale": [
             [
              0,
              "#0d0887"
             ],
             [
              0.1111111111111111,
              "#46039f"
             ],
             [
              0.2222222222222222,
              "#7201a8"
             ],
             [
              0.3333333333333333,
              "#9c179e"
             ],
             [
              0.4444444444444444,
              "#bd3786"
             ],
             [
              0.5555555555555556,
              "#d8576b"
             ],
             [
              0.6666666666666666,
              "#ed7953"
             ],
             [
              0.7777777777777778,
              "#fb9f3a"
             ],
             [
              0.8888888888888888,
              "#fdca26"
             ],
             [
              1,
              "#f0f921"
             ]
            ],
            "type": "heatmap"
           }
          ],
          "heatmapgl": [
           {
            "colorbar": {
             "outlinewidth": 0,
             "ticks": ""
            },
            "colorscale": [
             [
              0,
              "#0d0887"
             ],
             [
              0.1111111111111111,
              "#46039f"
             ],
             [
              0.2222222222222222,
              "#7201a8"
             ],
             [
              0.3333333333333333,
              "#9c179e"
             ],
             [
              0.4444444444444444,
              "#bd3786"
             ],
             [
              0.5555555555555556,
              "#d8576b"
             ],
             [
              0.6666666666666666,
              "#ed7953"
             ],
             [
              0.7777777777777778,
              "#fb9f3a"
             ],
             [
              0.8888888888888888,
              "#fdca26"
             ],
             [
              1,
              "#f0f921"
             ]
            ],
            "type": "heatmapgl"
           }
          ],
          "histogram": [
           {
            "marker": {
             "pattern": {
              "fillmode": "overlay",
              "size": 10,
              "solidity": 0.2
             }
            },
            "type": "histogram"
           }
          ],
          "histogram2d": [
           {
            "colorbar": {
             "outlinewidth": 0,
             "ticks": ""
            },
            "colorscale": [
             [
              0,
              "#0d0887"
             ],
             [
              0.1111111111111111,
              "#46039f"
             ],
             [
              0.2222222222222222,
              "#7201a8"
             ],
             [
              0.3333333333333333,
              "#9c179e"
             ],
             [
              0.4444444444444444,
              "#bd3786"
             ],
             [
              0.5555555555555556,
              "#d8576b"
             ],
             [
              0.6666666666666666,
              "#ed7953"
             ],
             [
              0.7777777777777778,
              "#fb9f3a"
             ],
             [
              0.8888888888888888,
              "#fdca26"
             ],
             [
              1,
              "#f0f921"
             ]
            ],
            "type": "histogram2d"
           }
          ],
          "histogram2dcontour": [
           {
            "colorbar": {
             "outlinewidth": 0,
             "ticks": ""
            },
            "colorscale": [
             [
              0,
              "#0d0887"
             ],
             [
              0.1111111111111111,
              "#46039f"
             ],
             [
              0.2222222222222222,
              "#7201a8"
             ],
             [
              0.3333333333333333,
              "#9c179e"
             ],
             [
              0.4444444444444444,
              "#bd3786"
             ],
             [
              0.5555555555555556,
              "#d8576b"
             ],
             [
              0.6666666666666666,
              "#ed7953"
             ],
             [
              0.7777777777777778,
              "#fb9f3a"
             ],
             [
              0.8888888888888888,
              "#fdca26"
             ],
             [
              1,
              "#f0f921"
             ]
            ],
            "type": "histogram2dcontour"
           }
          ],
          "mesh3d": [
           {
            "colorbar": {
             "outlinewidth": 0,
             "ticks": ""
            },
            "type": "mesh3d"
           }
          ],
          "parcoords": [
           {
            "line": {
             "colorbar": {
              "outlinewidth": 0,
              "ticks": ""
             }
            },
            "type": "parcoords"
           }
          ],
          "pie": [
           {
            "automargin": true,
            "type": "pie"
           }
          ],
          "scatter": [
           {
            "fillpattern": {
             "fillmode": "overlay",
             "size": 10,
             "solidity": 0.2
            },
            "type": "scatter"
           }
          ],
          "scatter3d": [
           {
            "line": {
             "colorbar": {
              "outlinewidth": 0,
              "ticks": ""
             }
            },
            "marker": {
             "colorbar": {
              "outlinewidth": 0,
              "ticks": ""
             }
            },
            "type": "scatter3d"
           }
          ],
          "scattercarpet": [
           {
            "marker": {
             "colorbar": {
              "outlinewidth": 0,
              "ticks": ""
             }
            },
            "type": "scattercarpet"
           }
          ],
          "scattergeo": [
           {
            "marker": {
             "colorbar": {
              "outlinewidth": 0,
              "ticks": ""
             }
            },
            "type": "scattergeo"
           }
          ],
          "scattergl": [
           {
            "marker": {
             "colorbar": {
              "outlinewidth": 0,
              "ticks": ""
             }
            },
            "type": "scattergl"
           }
          ],
          "scattermapbox": [
           {
            "marker": {
             "colorbar": {
              "outlinewidth": 0,
              "ticks": ""
             }
            },
            "type": "scattermapbox"
           }
          ],
          "scatterpolar": [
           {
            "marker": {
             "colorbar": {
              "outlinewidth": 0,
              "ticks": ""
             }
            },
            "type": "scatterpolar"
           }
          ],
          "scatterpolargl": [
           {
            "marker": {
             "colorbar": {
              "outlinewidth": 0,
              "ticks": ""
             }
            },
            "type": "scatterpolargl"
           }
          ],
          "scatterternary": [
           {
            "marker": {
             "colorbar": {
              "outlinewidth": 0,
              "ticks": ""
             }
            },
            "type": "scatterternary"
           }
          ],
          "surface": [
           {
            "colorbar": {
             "outlinewidth": 0,
             "ticks": ""
            },
            "colorscale": [
             [
              0,
              "#0d0887"
             ],
             [
              0.1111111111111111,
              "#46039f"
             ],
             [
              0.2222222222222222,
              "#7201a8"
             ],
             [
              0.3333333333333333,
              "#9c179e"
             ],
             [
              0.4444444444444444,
              "#bd3786"
             ],
             [
              0.5555555555555556,
              "#d8576b"
             ],
             [
              0.6666666666666666,
              "#ed7953"
             ],
             [
              0.7777777777777778,
              "#fb9f3a"
             ],
             [
              0.8888888888888888,
              "#fdca26"
             ],
             [
              1,
              "#f0f921"
             ]
            ],
            "type": "surface"
           }
          ],
          "table": [
           {
            "cells": {
             "fill": {
              "color": "#EBF0F8"
             },
             "line": {
              "color": "white"
             }
            },
            "header": {
             "fill": {
              "color": "#C8D4E3"
             },
             "line": {
              "color": "white"
             }
            },
            "type": "table"
           }
          ]
         },
         "layout": {
          "annotationdefaults": {
           "arrowcolor": "#2a3f5f",
           "arrowhead": 0,
           "arrowwidth": 1
          },
          "autotypenumbers": "strict",
          "coloraxis": {
           "colorbar": {
            "outlinewidth": 0,
            "ticks": ""
           }
          },
          "colorscale": {
           "diverging": [
            [
             0,
             "#8e0152"
            ],
            [
             0.1,
             "#c51b7d"
            ],
            [
             0.2,
             "#de77ae"
            ],
            [
             0.3,
             "#f1b6da"
            ],
            [
             0.4,
             "#fde0ef"
            ],
            [
             0.5,
             "#f7f7f7"
            ],
            [
             0.6,
             "#e6f5d0"
            ],
            [
             0.7,
             "#b8e186"
            ],
            [
             0.8,
             "#7fbc41"
            ],
            [
             0.9,
             "#4d9221"
            ],
            [
             1,
             "#276419"
            ]
           ],
           "sequential": [
            [
             0,
             "#0d0887"
            ],
            [
             0.1111111111111111,
             "#46039f"
            ],
            [
             0.2222222222222222,
             "#7201a8"
            ],
            [
             0.3333333333333333,
             "#9c179e"
            ],
            [
             0.4444444444444444,
             "#bd3786"
            ],
            [
             0.5555555555555556,
             "#d8576b"
            ],
            [
             0.6666666666666666,
             "#ed7953"
            ],
            [
             0.7777777777777778,
             "#fb9f3a"
            ],
            [
             0.8888888888888888,
             "#fdca26"
            ],
            [
             1,
             "#f0f921"
            ]
           ],
           "sequentialminus": [
            [
             0,
             "#0d0887"
            ],
            [
             0.1111111111111111,
             "#46039f"
            ],
            [
             0.2222222222222222,
             "#7201a8"
            ],
            [
             0.3333333333333333,
             "#9c179e"
            ],
            [
             0.4444444444444444,
             "#bd3786"
            ],
            [
             0.5555555555555556,
             "#d8576b"
            ],
            [
             0.6666666666666666,
             "#ed7953"
            ],
            [
             0.7777777777777778,
             "#fb9f3a"
            ],
            [
             0.8888888888888888,
             "#fdca26"
            ],
            [
             1,
             "#f0f921"
            ]
           ]
          },
          "colorway": [
           "#636efa",
           "#EF553B",
           "#00cc96",
           "#ab63fa",
           "#FFA15A",
           "#19d3f3",
           "#FF6692",
           "#B6E880",
           "#FF97FF",
           "#FECB52"
          ],
          "font": {
           "color": "#2a3f5f"
          },
          "geo": {
           "bgcolor": "white",
           "lakecolor": "white",
           "landcolor": "#E5ECF6",
           "showlakes": true,
           "showland": true,
           "subunitcolor": "white"
          },
          "hoverlabel": {
           "align": "left"
          },
          "hovermode": "closest",
          "mapbox": {
           "style": "light"
          },
          "paper_bgcolor": "white",
          "plot_bgcolor": "#E5ECF6",
          "polar": {
           "angularaxis": {
            "gridcolor": "white",
            "linecolor": "white",
            "ticks": ""
           },
           "bgcolor": "#E5ECF6",
           "radialaxis": {
            "gridcolor": "white",
            "linecolor": "white",
            "ticks": ""
           }
          },
          "scene": {
           "xaxis": {
            "backgroundcolor": "#E5ECF6",
            "gridcolor": "white",
            "gridwidth": 2,
            "linecolor": "white",
            "showbackground": true,
            "ticks": "",
            "zerolinecolor": "white"
           },
           "yaxis": {
            "backgroundcolor": "#E5ECF6",
            "gridcolor": "white",
            "gridwidth": 2,
            "linecolor": "white",
            "showbackground": true,
            "ticks": "",
            "zerolinecolor": "white"
           },
           "zaxis": {
            "backgroundcolor": "#E5ECF6",
            "gridcolor": "white",
            "gridwidth": 2,
            "linecolor": "white",
            "showbackground": true,
            "ticks": "",
            "zerolinecolor": "white"
           }
          },
          "shapedefaults": {
           "line": {
            "color": "#2a3f5f"
           }
          },
          "ternary": {
           "aaxis": {
            "gridcolor": "white",
            "linecolor": "white",
            "ticks": ""
           },
           "baxis": {
            "gridcolor": "white",
            "linecolor": "white",
            "ticks": ""
           },
           "bgcolor": "#E5ECF6",
           "caxis": {
            "gridcolor": "white",
            "linecolor": "white",
            "ticks": ""
           }
          },
          "title": {
           "x": 0.05
          },
          "xaxis": {
           "automargin": true,
           "gridcolor": "white",
           "linecolor": "white",
           "ticks": "",
           "title": {
            "standoff": 15
           },
           "zerolinecolor": "white",
           "zerolinewidth": 2
          },
          "yaxis": {
           "automargin": true,
           "gridcolor": "white",
           "linecolor": "white",
           "ticks": "",
           "title": {
            "standoff": 15
           },
           "zerolinecolor": "white",
           "zerolinewidth": 2
          }
         }
        },
        "title": {
         "text": "Antibodies for: immature B cell (CL:0000816)",
         "x": 0.45
        },
        "violinmode": "overlay",
        "xaxis": {
         "anchor": "y",
         "autorange": true,
         "categoryarray": [
          "AB_2801006 (CD22)",
          "AB_2814172 (CD268)",
          "AB_2800741 (CD19)",
          "AB_2800886 (CD40)",
          "AB_2800795 (HLA-DR)",
          "AB_2814129 (CD32)",
          "AB_2734256 (CD19)",
          "AB_2749984 (CD20)",
          "AB_2800743 (CD20)",
          "AB_2749968 (CD40)",
          "AB_2800876 (CD35)",
          "AB_2800813 (CD24)",
          "AB_2800953 (CD21)",
          "AB_2750001 (HLA-DR)",
          "AB_2800835 (IgM)",
          "AB_2749995 (CD32)",
          "AB_2750006 (CD21)",
          "AB_2749992 (IgM)",
          "AB_2750002 (CD272)",
          "AB_2800934 (CD1d)",
          "AB_2800905 (CD79b)",
          "AB_2750005 (CD39)",
          "AB_2800853 (CD39)",
          "AB_2734326 (CD1c)",
          "AB_2800871 (CD1c)",
          "AB_2800810 (CD69)",
          "AB_2810562 (CD54)",
          "AB_2814169 (Ig light chain kappa)",
          "AB_2814171 (Ig light chain lambda)",
          "AB_2800955 (CD70)",
          "AB_2814236 (CD23)",
          "AB_2814257 (CD82)",
          "AB_2801027 (CD66b)",
          "AB_2814295 (CD303)",
          "AB_2800817 (CD10)",
          "AB_2800808 (CD154)",
          "AB_2800919 (CD272)",
          "AB_2800883 (CD30)",
          "AB_2749977 (CD123)",
          "AB_2800949 (CD183)",
          "AB_2810570 (CD195)",
          "AB_2800960 (CX3CR1)",
          "AB_2800745 (CD25)",
          "AB_2814327 (CD223)",
          "AB_2800916 (CD73)",
          "AB_2800854 (CD107a)",
          "AB_2801021 (TIGIT)",
          "AB_2800836 (CD52)",
          "AB_2810541 (CD141)",
          "AB_2800943 (CD197)",
          "AB_2800758 (CD38)",
          "AB_2814137 (CD49d)",
          "AB_2749976 (HLA-ABC)",
          "AB_2810506 (CD58)",
          "AB_2734286 (CD10)",
          "AB_2801087 (IgG)",
          "AB_2832672 (CD88)",
          "AB_2810531 (CD96)",
          "AB_2810481 (Integrin beta7)",
          "AB_2749965 (CD70)",
          "AB_2814252 (CD158)",
          "AB_2800925 (CD366)",
          "AB_2800862 (CD279)",
          "AB_2801008 (CD33)",
          "AB_2749996 (CD103)",
          "AB_2734278 (CD275)",
          "AB_2832593 (CD62P)",
          "AB_2734360 (CD294)",
          "AB_2749999 (CD223)",
          "AB_2734258 (CD25)",
          "AB_2814292 (CD371)",
          "AB_2800732 (CD11b)",
          "AB_2801018 (CD11c)",
          "AB_2810510 (CD163)",
          "AB_2800893 (CD36)",
          "AB_2800762 (CD45)",
          "AB_2800757 (CD31)",
          "AB_2749997 (CD69)",
          "AB_2734287 (CD117)",
          "AB_2814134 (CD41)",
          "AB_2800931 (CD81)",
          "AB_2800900 (CD44)",
          "AB_2800786 (CD86)",
          "AB_2800756 (CD29)",
          "AB_2749993 (CD183)",
          "AB_2734249 (CD11b)",
          "AB_2800851 (CD337)",
          "AB_2814233 (CD155)",
          "AB_2749972 (CD34)",
          "AB_2800874 (CD335)",
          "AB_2800823 (CD278)",
          "AB_2734409 (CD33)",
          "AB_2820039 (CD224)",
          "AB_2800922 (CD8a)",
          "AB_2749994 (CD195)",
          "AB_2810482 (CD47)",
          "AB_2904401 (KLRG1)",
          "AB_2734255 (CD16)",
          "AB_2800738 (CD16)",
          "AB_2734445 (CD56)",
          "AB_2814143 (CD94)",
          "AB_2749971 (CD11c)",
          "AB_2814240 (CD122)",
          "AB_2814249 (CD328)",
          "AB_2800988 (CD194)",
          "AB_2749979 (CD194)",
          "AB_2801002 (CD56)",
          "AB_2800739 (CD18)",
          "AB_2800787 (CD95)",
          "AB_2734322 (CD279)",
          "AB_2800857 (CD244)",
          "AB_2749998 (CD161)",
          "AB_2800844 (CD314)",
          "AB_2800899 (CD226)",
          "AB_2832651 (CD101)",
          "AB_2800770 (CD62L)",
          "AB_2734351 (CD8a)",
          "AB_2734312 (CD90)",
          "AB_2800935 (CD11a)",
          "AB_2800825 (CD49f)",
          "AB_2750007 (CD244)",
          "AB_2734254 (CD14)",
          "AB_2800747 (CD27)",
          "AB_2810435 (CD26)",
          "AB_2749969 (CD4)",
          "AB_2800726 (CD5)",
          "AB_2750000 (CD27)",
          "AB_2820032 (CD99)",
          "AB_2734366 (CD127)",
          "AB_2800725 (CD4)",
          "AB_2800937 (CD127)",
          "AB_2800793 (TCR alpha/beta)",
          "AB_2734353 (CD3)",
          "AB_2800914 (CD7)",
          "AB_2800751 (CD28)",
          "AB_2734345 (CD7)",
          "AB_2800723 (CD3)",
          "AB_2810464 (CD2)"
         ],
         "categoryorder": "array",
         "domain": [
          0,
          1
         ],
         "range": [
          -8.027777777777777,
          145.02777777777777
         ],
         "title": {
          "text": "Antibody"
         },
         "type": "category"
        },
        "yaxis": {
         "anchor": "x",
         "autorange": true,
         "domain": [
          0,
          1
         ],
         "range": [
          0,
          37.13418467092568
         ],
         "rangemode": "nonnegative",
         "title": {
          "text": "Normalized Values"
         },
         "type": "linear"
        }
       }
      },
      "text/html": [
       "<div>                            <div id=\"0808a039-15d6-47d5-890f-b4af7930606c\" class=\"plotly-graph-div\" style=\"height:600px; width:100%;\"></div>            <script type=\"text/javascript\">                require([\"plotly\"], function(Plotly) {                    window.PLOTLYENV=window.PLOTLYENV || {};                                    if (document.getElementById(\"0808a039-15d6-47d5-890f-b4af7930606c\")) {                    Plotly.newPlot(                        \"0808a039-15d6-47d5-890f-b4af7930606c\",                        [{\"alignmentgroup\":\"True\",\"box\":{\"visible\":true},\"hovertemplate\":\"ab_target=%{x}<br>value=%{y}<extra></extra>\",\"legendgroup\":\"AB_2801006 (CD22)\",\"marker\":{\"color\":\"#636efa\",\"size\":1},\"name\":\"AB_2801006 (CD22)\",\"offsetgroup\":\"AB_2801006 (CD22)\",\"orientation\":\"v\",\"scalegroup\":\"True\",\"showlegend\":true,\"x\":[\"AB_2801006 (CD22)\",\"AB_2801006 (CD22)\",\"AB_2801006 (CD22)\",\"AB_2801006 (CD22)\",\"AB_2801006 (CD22)\",\"AB_2801006 (CD22)\"],\"x0\":\" \",\"xaxis\":\"x\",\"y\":[10.286415,9.4516975,9.86905,10.7038,9.1861,13.2838],\"y0\":\" \",\"yaxis\":\"y\",\"type\":\"violin\",\"width\":0.75},{\"alignmentgroup\":\"True\",\"box\":{\"visible\":true},\"hovertemplate\":\"ab_target=%{x}<br>value=%{y}<extra></extra>\",\"legendgroup\":\"AB_2814172 (CD268)\",\"marker\":{\"color\":\"#EF553B\",\"size\":1},\"name\":\"AB_2814172 (CD268)\",\"offsetgroup\":\"AB_2814172 (CD268)\",\"orientation\":\"v\",\"scalegroup\":\"True\",\"showlegend\":true,\"x\":[\"AB_2814172 (CD268)\",\"AB_2814172 (CD268)\",\"AB_2814172 (CD268)\",\"AB_2814172 (CD268)\",\"AB_2814172 (CD268)\",\"AB_2814172 (CD268)\"],\"x0\":\" \",\"xaxis\":\"x\",\"y\":[10.2144558333,9.5711075,10.3405,10.53615,9.08859,12.0619],\"y0\":\" \",\"yaxis\":\"y\",\"type\":\"violin\",\"width\":0.75},{\"alignmentgroup\":\"True\",\"box\":{\"visible\":true},\"hovertemplate\":\"ab_target=%{x}<br>value=%{y}<extra></extra>\",\"legendgroup\":\"AB_2800741 (CD19)\",\"marker\":{\"color\":\"#00cc96\",\"size\":1},\"name\":\"AB_2800741 (CD19)\",\"offsetgroup\":\"AB_2800741 (CD19)\",\"orientation\":\"v\",\"scalegroup\":\"True\",\"showlegend\":true,\"x\":[\"AB_2800741 (CD19)\",\"AB_2800741 (CD19)\",\"AB_2800741 (CD19)\",\"AB_2800741 (CD19)\",\"AB_2800741 (CD19)\",\"AB_2800741 (CD19)\"],\"x0\":\" \",\"xaxis\":\"x\",\"y\":[10.1285445238,9.3473325,9.803945,10.43175,8.6887,14.1097],\"y0\":\" \",\"yaxis\":\"y\",\"type\":\"violin\",\"width\":0.75},{\"alignmentgroup\":\"True\",\"box\":{\"visible\":true},\"hovertemplate\":\"ab_target=%{x}<br>value=%{y}<extra></extra>\",\"legendgroup\":\"AB_2800886 (CD40)\",\"marker\":{\"color\":\"#ab63fa\",\"size\":1},\"name\":\"AB_2800886 (CD40)\",\"offsetgroup\":\"AB_2800886 (CD40)\",\"orientation\":\"v\",\"scalegroup\":\"True\",\"showlegend\":true,\"x\":[\"AB_2800886 (CD40)\",\"AB_2800886 (CD40)\",\"AB_2800886 (CD40)\",\"AB_2800886 (CD40)\",\"AB_2800886 (CD40)\",\"AB_2800886 (CD40)\"],\"x0\":\" \",\"xaxis\":\"x\",\"y\":[10.2106025,9.80088,10.185,10.4923,9.22471,11.2989],\"y0\":\" \",\"yaxis\":\"y\",\"type\":\"violin\",\"width\":0.75},{\"alignmentgroup\":\"True\",\"box\":{\"visible\":true},\"hovertemplate\":\"ab_target=%{x}<br>value=%{y}<extra></extra>\",\"legendgroup\":\"AB_2800795 (HLA-DR)\",\"marker\":{\"color\":\"#FFA15A\",\"size\":1},\"name\":\"AB_2800795 (HLA-DR)\",\"offsetgroup\":\"AB_2800795 (HLA-DR)\",\"orientation\":\"v\",\"scalegroup\":\"True\",\"showlegend\":true,\"x\":[\"AB_2800795 (HLA-DR)\",\"AB_2800795 (HLA-DR)\",\"AB_2800795 (HLA-DR)\",\"AB_2800795 (HLA-DR)\",\"AB_2800795 (HLA-DR)\",\"AB_2800795 (HLA-DR)\"],\"x0\":\" \",\"xaxis\":\"x\",\"y\":[10.172335,9.5465075,9.768575,10.3468,9.4162,15.6393],\"y0\":\" \",\"yaxis\":\"y\",\"type\":\"violin\",\"width\":0.75},{\"alignmentgroup\":\"True\",\"box\":{\"visible\":true},\"hovertemplate\":\"ab_target=%{x}<br>value=%{y}<extra></extra>\",\"legendgroup\":\"AB_2814129 (CD32)\",\"marker\":{\"color\":\"#19d3f3\",\"size\":1},\"name\":\"AB_2814129 (CD32)\",\"offsetgroup\":\"AB_2814129 (CD32)\",\"orientation\":\"v\",\"scalegroup\":\"True\",\"showlegend\":true,\"x\":[\"AB_2814129 (CD32)\",\"AB_2814129 (CD32)\",\"AB_2814129 (CD32)\",\"AB_2814129 (CD32)\",\"AB_2814129 (CD32)\",\"AB_2814129 (CD32)\"],\"x0\":\" \",\"xaxis\":\"x\",\"y\":[10.1029219048,9.6194075,10.20785,11.122075,0.0,13.4951],\"y0\":\" \",\"yaxis\":\"y\",\"type\":\"violin\",\"width\":0.75},{\"alignmentgroup\":\"True\",\"box\":{\"visible\":true},\"hovertemplate\":\"ab_target=%{x}<br>value=%{y}<extra></extra>\",\"legendgroup\":\"AB_2734256 (CD19)\",\"marker\":{\"color\":\"#FF6692\",\"size\":1},\"name\":\"AB_2734256 (CD19)\",\"offsetgroup\":\"AB_2734256 (CD19)\",\"orientation\":\"v\",\"scalegroup\":\"True\",\"showlegend\":true,\"x\":[\"AB_2734256 (CD19)\",\"AB_2734256 (CD19)\",\"AB_2734256 (CD19)\",\"AB_2734256 (CD19)\",\"AB_2734256 (CD19)\",\"AB_2734256 (CD19)\"],\"x0\":\" \",\"xaxis\":\"x\",\"y\":[10.3817368066,9.81802,10.292,10.84415,8.73367,16.0615],\"y0\":\" \",\"yaxis\":\"y\",\"type\":\"violin\",\"width\":0.75},{\"alignmentgroup\":\"True\",\"box\":{\"visible\":true},\"hovertemplate\":\"ab_target=%{x}<br>value=%{y}<extra></extra>\",\"legendgroup\":\"AB_2749984 (CD20)\",\"marker\":{\"color\":\"#B6E880\",\"size\":1},\"name\":\"AB_2749984 (CD20)\",\"offsetgroup\":\"AB_2749984 (CD20)\",\"orientation\":\"v\",\"scalegroup\":\"True\",\"showlegend\":true,\"x\":[\"AB_2749984 (CD20)\",\"AB_2749984 (CD20)\",\"AB_2749984 (CD20)\",\"AB_2749984 (CD20)\",\"AB_2749984 (CD20)\",\"AB_2749984 (CD20)\"],\"x0\":\" \",\"xaxis\":\"x\",\"y\":[10.3190562207,9.6928525,10.1336,10.709725,8.91876,17.16],\"y0\":\" \",\"yaxis\":\"y\",\"type\":\"violin\",\"width\":0.75},{\"alignmentgroup\":\"True\",\"box\":{\"visible\":true},\"hovertemplate\":\"ab_target=%{x}<br>value=%{y}<extra></extra>\",\"legendgroup\":\"AB_2800743 (CD20)\",\"marker\":{\"color\":\"#FF97FF\",\"size\":1},\"name\":\"AB_2800743 (CD20)\",\"offsetgroup\":\"AB_2800743 (CD20)\",\"orientation\":\"v\",\"scalegroup\":\"True\",\"showlegend\":true,\"x\":[\"AB_2800743 (CD20)\",\"AB_2800743 (CD20)\",\"AB_2800743 (CD20)\",\"AB_2800743 (CD20)\",\"AB_2800743 (CD20)\",\"AB_2800743 (CD20)\"],\"x0\":\" \",\"xaxis\":\"x\",\"y\":[10.6398995455,9.686905,10.68425,11.710675,0.0,14.726],\"y0\":\" \",\"yaxis\":\"y\",\"type\":\"violin\",\"width\":0.75},{\"alignmentgroup\":\"True\",\"box\":{\"visible\":true},\"hovertemplate\":\"ab_target=%{x}<br>value=%{y}<extra></extra>\",\"legendgroup\":\"AB_2749968 (CD40)\",\"marker\":{\"color\":\"#FECB52\",\"size\":1},\"name\":\"AB_2749968 (CD40)\",\"offsetgroup\":\"AB_2749968 (CD40)\",\"orientation\":\"v\",\"scalegroup\":\"True\",\"showlegend\":true,\"x\":[\"AB_2749968 (CD40)\",\"AB_2749968 (CD40)\",\"AB_2749968 (CD40)\",\"AB_2749968 (CD40)\",\"AB_2749968 (CD40)\",\"AB_2749968 (CD40)\"],\"x0\":\" \",\"xaxis\":\"x\",\"y\":[10.3205500146,9.78679,10.32385,10.9125,0.0,14.7429],\"y0\":\" \",\"yaxis\":\"y\",\"type\":\"violin\",\"width\":0.75},{\"alignmentgroup\":\"True\",\"box\":{\"visible\":true},\"hovertemplate\":\"ab_target=%{x}<br>value=%{y}<extra></extra>\",\"legendgroup\":\"AB_2800876 (CD35)\",\"marker\":{\"color\":\"#636efa\",\"size\":1},\"name\":\"AB_2800876 (CD35)\",\"offsetgroup\":\"AB_2800876 (CD35)\",\"orientation\":\"v\",\"scalegroup\":\"True\",\"showlegend\":true,\"x\":[\"AB_2800876 (CD35)\",\"AB_2800876 (CD35)\",\"AB_2800876 (CD35)\",\"AB_2800876 (CD35)\",\"AB_2800876 (CD35)\",\"AB_2800876 (CD35)\"],\"x0\":\" \",\"xaxis\":\"x\",\"y\":[9.6417669048,9.5035025,9.812755,10.297725,0.0,13.6753],\"y0\":\" \",\"yaxis\":\"y\",\"type\":\"violin\",\"width\":0.75},{\"alignmentgroup\":\"True\",\"box\":{\"visible\":true},\"hovertemplate\":\"ab_target=%{x}<br>value=%{y}<extra></extra>\",\"legendgroup\":\"AB_2800813 (CD24)\",\"marker\":{\"color\":\"#EF553B\",\"size\":1},\"name\":\"AB_2800813 (CD24)\",\"offsetgroup\":\"AB_2800813 (CD24)\",\"orientation\":\"v\",\"scalegroup\":\"True\",\"showlegend\":true,\"x\":[\"AB_2800813 (CD24)\",\"AB_2800813 (CD24)\",\"AB_2800813 (CD24)\",\"AB_2800813 (CD24)\",\"AB_2800813 (CD24)\",\"AB_2800813 (CD24)\"],\"x0\":\" \",\"xaxis\":\"x\",\"y\":[11.5847790909,9.939445,11.39875,12.9622,0.0,22.5138],\"y0\":\" \",\"yaxis\":\"y\",\"type\":\"violin\",\"width\":0.75},{\"alignmentgroup\":\"True\",\"box\":{\"visible\":true},\"hovertemplate\":\"ab_target=%{x}<br>value=%{y}<extra></extra>\",\"legendgroup\":\"AB_2800953 (CD21)\",\"marker\":{\"color\":\"#00cc96\",\"size\":1},\"name\":\"AB_2800953 (CD21)\",\"offsetgroup\":\"AB_2800953 (CD21)\",\"orientation\":\"v\",\"scalegroup\":\"True\",\"showlegend\":true,\"x\":[\"AB_2800953 (CD21)\",\"AB_2800953 (CD21)\",\"AB_2800953 (CD21)\",\"AB_2800953 (CD21)\",\"AB_2800953 (CD21)\",\"AB_2800953 (CD21)\"],\"x0\":\" \",\"xaxis\":\"x\",\"y\":[10.3272740909,10.1639,10.7387,11.118475,0.0,12.959],\"y0\":\" \",\"yaxis\":\"y\",\"type\":\"violin\",\"width\":0.75},{\"alignmentgroup\":\"True\",\"box\":{\"visible\":true},\"hovertemplate\":\"ab_target=%{x}<br>value=%{y}<extra></extra>\",\"legendgroup\":\"AB_2750001 (HLA-DR)\",\"marker\":{\"color\":\"#ab63fa\",\"size\":1},\"name\":\"AB_2750001 (HLA-DR)\",\"offsetgroup\":\"AB_2750001 (HLA-DR)\",\"orientation\":\"v\",\"scalegroup\":\"True\",\"showlegend\":true,\"x\":[\"AB_2750001 (HLA-DR)\",\"AB_2750001 (HLA-DR)\",\"AB_2750001 (HLA-DR)\",\"AB_2750001 (HLA-DR)\",\"AB_2750001 (HLA-DR)\",\"AB_2750001 (HLA-DR)\"],\"x0\":\" \",\"xaxis\":\"x\",\"y\":[10.4365477979,9.7146,10.12475,10.83035,0.0,18.3132],\"y0\":\" \",\"yaxis\":\"y\",\"type\":\"violin\",\"width\":0.75},{\"alignmentgroup\":\"True\",\"box\":{\"visible\":true},\"hovertemplate\":\"ab_target=%{x}<br>value=%{y}<extra></extra>\",\"legendgroup\":\"AB_2800835 (IgM)\",\"marker\":{\"color\":\"#FFA15A\",\"size\":1},\"name\":\"AB_2800835 (IgM)\",\"offsetgroup\":\"AB_2800835 (IgM)\",\"orientation\":\"v\",\"scalegroup\":\"True\",\"showlegend\":true,\"x\":[\"AB_2800835 (IgM)\",\"AB_2800835 (IgM)\",\"AB_2800835 (IgM)\",\"AB_2800835 (IgM)\",\"AB_2800835 (IgM)\",\"AB_2800835 (IgM)\"],\"x0\":\" \",\"xaxis\":\"x\",\"y\":[9.762932381,9.6859175,10.3284,11.3094,0.0,16.4647],\"y0\":\" \",\"yaxis\":\"y\",\"type\":\"violin\",\"width\":0.75},{\"alignmentgroup\":\"True\",\"box\":{\"visible\":true},\"hovertemplate\":\"ab_target=%{x}<br>value=%{y}<extra></extra>\",\"legendgroup\":\"AB_2749995 (CD32)\",\"marker\":{\"color\":\"#19d3f3\",\"size\":1},\"name\":\"AB_2749995 (CD32)\",\"offsetgroup\":\"AB_2749995 (CD32)\",\"orientation\":\"v\",\"scalegroup\":\"True\",\"showlegend\":true,\"x\":[\"AB_2749995 (CD32)\",\"AB_2749995 (CD32)\",\"AB_2749995 (CD32)\",\"AB_2749995 (CD32)\",\"AB_2749995 (CD32)\",\"AB_2749995 (CD32)\"],\"x0\":\" \",\"xaxis\":\"x\",\"y\":[10.6963291748,10.125775,10.6297,11.198675,0.0,17.5631],\"y0\":\" \",\"yaxis\":\"y\",\"type\":\"violin\",\"width\":0.75},{\"alignmentgroup\":\"True\",\"box\":{\"visible\":true},\"hovertemplate\":\"ab_target=%{x}<br>value=%{y}<extra></extra>\",\"legendgroup\":\"AB_2750006 (CD21)\",\"marker\":{\"color\":\"#FF6692\",\"size\":1},\"name\":\"AB_2750006 (CD21)\",\"offsetgroup\":\"AB_2750006 (CD21)\",\"orientation\":\"v\",\"scalegroup\":\"True\",\"showlegend\":true,\"x\":[\"AB_2750006 (CD21)\",\"AB_2750006 (CD21)\",\"AB_2750006 (CD21)\",\"AB_2750006 (CD21)\",\"AB_2750006 (CD21)\",\"AB_2750006 (CD21)\"],\"x0\":\" \",\"xaxis\":\"x\",\"y\":[10.9938148145,10.315,10.8729,11.59995,0.0,17.5989],\"y0\":\" \",\"yaxis\":\"y\",\"type\":\"violin\",\"width\":0.75},{\"alignmentgroup\":\"True\",\"box\":{\"visible\":true},\"hovertemplate\":\"ab_target=%{x}<br>value=%{y}<extra></extra>\",\"legendgroup\":\"AB_2749992 (IgM)\",\"marker\":{\"color\":\"#B6E880\",\"size\":1},\"name\":\"AB_2749992 (IgM)\",\"offsetgroup\":\"AB_2749992 (IgM)\",\"orientation\":\"v\",\"scalegroup\":\"True\",\"showlegend\":true,\"x\":[\"AB_2749992 (IgM)\",\"AB_2749992 (IgM)\",\"AB_2749992 (IgM)\",\"AB_2749992 (IgM)\",\"AB_2749992 (IgM)\",\"AB_2749992 (IgM)\"],\"x0\":\" \",\"xaxis\":\"x\",\"y\":[8.5534378223,9.3723975,9.75231,10.590675,0.0,21.024],\"y0\":\" \",\"yaxis\":\"y\",\"type\":\"violin\",\"width\":0.75},{\"alignmentgroup\":\"True\",\"box\":{\"visible\":true},\"hovertemplate\":\"ab_target=%{x}<br>value=%{y}<extra></extra>\",\"legendgroup\":\"AB_2750002 (CD272)\",\"marker\":{\"color\":\"#FF97FF\",\"size\":1},\"name\":\"AB_2750002 (CD272)\",\"offsetgroup\":\"AB_2750002 (CD272)\",\"orientation\":\"v\",\"scalegroup\":\"True\",\"showlegend\":true,\"x\":[\"AB_2750002 (CD272)\",\"AB_2750002 (CD272)\",\"AB_2750002 (CD272)\",\"AB_2750002 (CD272)\",\"AB_2750002 (CD272)\",\"AB_2750002 (CD272)\"],\"x0\":\" \",\"xaxis\":\"x\",\"y\":[8.5171708691,9.2669975,9.912225,10.782475,0.0,14.586],\"y0\":\" \",\"yaxis\":\"y\",\"type\":\"violin\",\"width\":0.75},{\"alignmentgroup\":\"True\",\"box\":{\"visible\":true},\"hovertemplate\":\"ab_target=%{x}<br>value=%{y}<extra></extra>\",\"legendgroup\":\"AB_2800934 (CD1d)\",\"marker\":{\"color\":\"#FECB52\",\"size\":1},\"name\":\"AB_2800934 (CD1d)\",\"offsetgroup\":\"AB_2800934 (CD1d)\",\"orientation\":\"v\",\"scalegroup\":\"True\",\"showlegend\":true,\"x\":[\"AB_2800934 (CD1d)\",\"AB_2800934 (CD1d)\",\"AB_2800934 (CD1d)\",\"AB_2800934 (CD1d)\",\"AB_2800934 (CD1d)\",\"AB_2800934 (CD1d)\"],\"x0\":\" \",\"xaxis\":\"x\",\"y\":[9.2337841667,9.78654,9.94421,10.2793,0.0,10.5749],\"y0\":\" \",\"yaxis\":\"y\",\"type\":\"violin\",\"width\":0.75},{\"alignmentgroup\":\"True\",\"box\":{\"visible\":true},\"hovertemplate\":\"ab_target=%{x}<br>value=%{y}<extra></extra>\",\"legendgroup\":\"AB_2800905 (CD79b)\",\"marker\":{\"color\":\"#636efa\",\"size\":1},\"name\":\"AB_2800905 (CD79b)\",\"offsetgroup\":\"AB_2800905 (CD79b)\",\"orientation\":\"v\",\"scalegroup\":\"True\",\"showlegend\":true,\"x\":[\"AB_2800905 (CD79b)\",\"AB_2800905 (CD79b)\",\"AB_2800905 (CD79b)\",\"AB_2800905 (CD79b)\",\"AB_2800905 (CD79b)\",\"AB_2800905 (CD79b)\"],\"x0\":\" \",\"xaxis\":\"x\",\"y\":[8.3511331818,9.524295,9.960315,11.2295,0.0,13.3302],\"y0\":\" \",\"yaxis\":\"y\",\"type\":\"violin\",\"width\":0.75},{\"alignmentgroup\":\"True\",\"box\":{\"visible\":true},\"hovertemplate\":\"ab_target=%{x}<br>value=%{y}<extra></extra>\",\"legendgroup\":\"AB_2750005 (CD39)\",\"marker\":{\"color\":\"#EF553B\",\"size\":1},\"name\":\"AB_2750005 (CD39)\",\"offsetgroup\":\"AB_2750005 (CD39)\",\"orientation\":\"v\",\"scalegroup\":\"True\",\"showlegend\":true,\"x\":[\"AB_2750005 (CD39)\",\"AB_2750005 (CD39)\",\"AB_2750005 (CD39)\",\"AB_2750005 (CD39)\",\"AB_2750005 (CD39)\",\"AB_2750005 (CD39)\"],\"x0\":\" \",\"xaxis\":\"x\",\"y\":[9.1192828955,9.1861075,9.623115,10.18035,0.0,15.006],\"y0\":\" \",\"yaxis\":\"y\",\"type\":\"violin\",\"width\":0.75},{\"alignmentgroup\":\"True\",\"box\":{\"visible\":true},\"hovertemplate\":\"ab_target=%{x}<br>value=%{y}<extra></extra>\",\"legendgroup\":\"AB_2800853 (CD39)\",\"marker\":{\"color\":\"#00cc96\",\"size\":1},\"name\":\"AB_2800853 (CD39)\",\"offsetgroup\":\"AB_2800853 (CD39)\",\"orientation\":\"v\",\"scalegroup\":\"True\",\"showlegend\":true,\"x\":[\"AB_2800853 (CD39)\",\"AB_2800853 (CD39)\",\"AB_2800853 (CD39)\",\"AB_2800853 (CD39)\",\"AB_2800853 (CD39)\",\"AB_2800853 (CD39)\"],\"x0\":\" \",\"xaxis\":\"x\",\"y\":[8.8987922727,9.31563,9.97562,10.4248,0.0,13.569],\"y0\":\" \",\"yaxis\":\"y\",\"type\":\"violin\",\"width\":0.75},{\"alignmentgroup\":\"True\",\"box\":{\"visible\":true},\"hovertemplate\":\"ab_target=%{x}<br>value=%{y}<extra></extra>\",\"legendgroup\":\"AB_2734326 (CD1c)\",\"marker\":{\"color\":\"#ab63fa\",\"size\":1},\"name\":\"AB_2734326 (CD1c)\",\"offsetgroup\":\"AB_2734326 (CD1c)\",\"orientation\":\"v\",\"scalegroup\":\"True\",\"showlegend\":true,\"x\":[\"AB_2734326 (CD1c)\",\"AB_2734326 (CD1c)\",\"AB_2734326 (CD1c)\",\"AB_2734326 (CD1c)\",\"AB_2734326 (CD1c)\",\"AB_2734326 (CD1c)\"],\"x0\":\" \",\"xaxis\":\"x\",\"y\":[7.375343833,0.0,9.54545,10.02435,0.0,19.1555],\"y0\":\" \",\"yaxis\":\"y\",\"type\":\"violin\",\"width\":0.75},{\"alignmentgroup\":\"True\",\"box\":{\"visible\":true},\"hovertemplate\":\"ab_target=%{x}<br>value=%{y}<extra></extra>\",\"legendgroup\":\"AB_2800871 (CD1c)\",\"marker\":{\"color\":\"#FFA15A\",\"size\":1},\"name\":\"AB_2800871 (CD1c)\",\"offsetgroup\":\"AB_2800871 (CD1c)\",\"orientation\":\"v\",\"scalegroup\":\"True\",\"showlegend\":true,\"x\":[\"AB_2800871 (CD1c)\",\"AB_2800871 (CD1c)\",\"AB_2800871 (CD1c)\",\"AB_2800871 (CD1c)\",\"AB_2800871 (CD1c)\",\"AB_2800871 (CD1c)\"],\"x0\":\" \",\"xaxis\":\"x\",\"y\":[6.6484545455,0.0,9.70333,10.13014,0.0,13.9989],\"y0\":\" \",\"yaxis\":\"y\",\"type\":\"violin\",\"width\":0.75},{\"alignmentgroup\":\"True\",\"box\":{\"visible\":true},\"hovertemplate\":\"ab_target=%{x}<br>value=%{y}<extra></extra>\",\"legendgroup\":\"AB_2800810 (CD69)\",\"marker\":{\"color\":\"#19d3f3\",\"size\":1},\"name\":\"AB_2800810 (CD69)\",\"offsetgroup\":\"AB_2800810 (CD69)\",\"orientation\":\"v\",\"scalegroup\":\"True\",\"showlegend\":true,\"x\":[\"AB_2800810 (CD69)\",\"AB_2800810 (CD69)\",\"AB_2800810 (CD69)\",\"AB_2800810 (CD69)\",\"AB_2800810 (CD69)\",\"AB_2800810 (CD69)\"],\"x0\":\" \",\"xaxis\":\"x\",\"y\":[7.6595969048,2.3719225,9.815395,10.04273,0.0,20.0488],\"y0\":\" \",\"yaxis\":\"y\",\"type\":\"violin\",\"width\":0.75},{\"alignmentgroup\":\"True\",\"box\":{\"visible\":true},\"hovertemplate\":\"ab_target=%{x}<br>value=%{y}<extra></extra>\",\"legendgroup\":\"AB_2810562 (CD54)\",\"marker\":{\"color\":\"#FF6692\",\"size\":1},\"name\":\"AB_2810562 (CD54)\",\"offsetgroup\":\"AB_2810562 (CD54)\",\"orientation\":\"v\",\"scalegroup\":\"True\",\"showlegend\":true,\"x\":[\"AB_2810562 (CD54)\",\"AB_2810562 (CD54)\",\"AB_2810562 (CD54)\",\"AB_2810562 (CD54)\",\"AB_2810562 (CD54)\",\"AB_2810562 (CD54)\"],\"x0\":\" \",\"xaxis\":\"x\",\"y\":[8.3282145238,9.4884925,9.661905,10.1295,0.0,12.849],\"y0\":\" \",\"yaxis\":\"y\",\"type\":\"violin\",\"width\":0.75},{\"alignmentgroup\":\"True\",\"box\":{\"visible\":true},\"hovertemplate\":\"ab_target=%{x}<br>value=%{y}<extra></extra>\",\"legendgroup\":\"AB_2814169 (Ig light chain kappa)\",\"marker\":{\"color\":\"#B6E880\",\"size\":1},\"name\":\"AB_2814169 (Ig light chain kappa)\",\"offsetgroup\":\"AB_2814169 (Ig light chain kappa)\",\"orientation\":\"v\",\"scalegroup\":\"True\",\"showlegend\":true,\"x\":[\"AB_2814169 (Ig light chain kappa)\",\"AB_2814169 (Ig light chain kappa)\",\"AB_2814169 (Ig light chain kappa)\",\"AB_2814169 (Ig light chain kappa)\",\"AB_2814169 (Ig light chain kappa)\",\"AB_2814169 (Ig light chain kappa)\"],\"x0\":\" \",\"xaxis\":\"x\",\"y\":[8.2513097619,0.0,10.60985,11.635225,0.0,17.4464],\"y0\":\" \",\"yaxis\":\"y\",\"type\":\"violin\",\"width\":0.75},{\"alignmentgroup\":\"True\",\"box\":{\"visible\":true},\"hovertemplate\":\"ab_target=%{x}<br>value=%{y}<extra></extra>\",\"legendgroup\":\"AB_2814171 (Ig light chain lambda)\",\"marker\":{\"color\":\"#FF97FF\",\"size\":1},\"name\":\"AB_2814171 (Ig light chain lambda)\",\"offsetgroup\":\"AB_2814171 (Ig light chain lambda)\",\"orientation\":\"v\",\"scalegroup\":\"True\",\"showlegend\":true,\"x\":[\"AB_2814171 (Ig light chain lambda)\",\"AB_2814171 (Ig light chain lambda)\",\"AB_2814171 (Ig light chain lambda)\",\"AB_2814171 (Ig light chain lambda)\",\"AB_2814171 (Ig light chain lambda)\",\"AB_2814171 (Ig light chain lambda)\"],\"x0\":\" \",\"xaxis\":\"x\",\"y\":[7.8734269048,2.25307,9.784335,10.610925,0.0,16.7581],\"y0\":\" \",\"yaxis\":\"y\",\"type\":\"violin\",\"width\":0.75},{\"alignmentgroup\":\"True\",\"box\":{\"visible\":true},\"hovertemplate\":\"ab_target=%{x}<br>value=%{y}<extra></extra>\",\"legendgroup\":\"AB_2800955 (CD70)\",\"marker\":{\"color\":\"#FECB52\",\"size\":1},\"name\":\"AB_2800955 (CD70)\",\"offsetgroup\":\"AB_2800955 (CD70)\",\"orientation\":\"v\",\"scalegroup\":\"True\",\"showlegend\":true,\"x\":[\"AB_2800955 (CD70)\",\"AB_2800955 (CD70)\",\"AB_2800955 (CD70)\",\"AB_2800955 (CD70)\",\"AB_2800955 (CD70)\",\"AB_2800955 (CD70)\"],\"x0\":\" \",\"xaxis\":\"x\",\"y\":[6.8803393103,0.0,9.73761,10.1211,0.0,14.48],\"y0\":\" \",\"yaxis\":\"y\",\"type\":\"violin\",\"width\":0.75},{\"alignmentgroup\":\"True\",\"box\":{\"visible\":true},\"hovertemplate\":\"ab_target=%{x}<br>value=%{y}<extra></extra>\",\"legendgroup\":\"AB_2814236 (CD23)\",\"marker\":{\"color\":\"#636efa\",\"size\":1},\"name\":\"AB_2814236 (CD23)\",\"offsetgroup\":\"AB_2814236 (CD23)\",\"orientation\":\"v\",\"scalegroup\":\"True\",\"showlegend\":true,\"x\":[\"AB_2814236 (CD23)\",\"AB_2814236 (CD23)\",\"AB_2814236 (CD23)\",\"AB_2814236 (CD23)\",\"AB_2814236 (CD23)\",\"AB_2814236 (CD23)\"],\"x0\":\" \",\"xaxis\":\"x\",\"y\":[6.7934933333,0.0,9.77689,10.663925,0.0,17.7602],\"y0\":\" \",\"yaxis\":\"y\",\"type\":\"violin\",\"width\":0.75},{\"alignmentgroup\":\"True\",\"box\":{\"visible\":true},\"hovertemplate\":\"ab_target=%{x}<br>value=%{y}<extra></extra>\",\"legendgroup\":\"AB_2814257 (CD82)\",\"marker\":{\"color\":\"#EF553B\",\"size\":1},\"name\":\"AB_2814257 (CD82)\",\"offsetgroup\":\"AB_2814257 (CD82)\",\"orientation\":\"v\",\"scalegroup\":\"True\",\"showlegend\":true,\"x\":[\"AB_2814257 (CD82)\",\"AB_2814257 (CD82)\",\"AB_2814257 (CD82)\",\"AB_2814257 (CD82)\",\"AB_2814257 (CD82)\",\"AB_2814257 (CD82)\"],\"x0\":\" \",\"xaxis\":\"x\",\"y\":[9.1434145238,9.478405,10.35525,11.507225,0.0,14.7607],\"y0\":\" \",\"yaxis\":\"y\",\"type\":\"violin\",\"width\":0.75},{\"alignmentgroup\":\"True\",\"box\":{\"visible\":true},\"hovertemplate\":\"ab_target=%{x}<br>value=%{y}<extra></extra>\",\"legendgroup\":\"AB_2801027 (CD66b)\",\"marker\":{\"color\":\"#00cc96\",\"size\":1},\"name\":\"AB_2801027 (CD66b)\",\"offsetgroup\":\"AB_2801027 (CD66b)\",\"orientation\":\"v\",\"scalegroup\":\"True\",\"showlegend\":true,\"x\":[\"AB_2801027 (CD66b)\",\"AB_2801027 (CD66b)\",\"AB_2801027 (CD66b)\",\"AB_2801027 (CD66b)\",\"AB_2801027 (CD66b)\",\"AB_2801027 (CD66b)\"],\"x0\":\" \",\"xaxis\":\"x\",\"y\":[5.8260365517,0.0,9.80906,9.90554,0.0,10.4755],\"y0\":\" \",\"yaxis\":\"y\",\"type\":\"violin\",\"width\":0.75},{\"alignmentgroup\":\"True\",\"box\":{\"visible\":true},\"hovertemplate\":\"ab_target=%{x}<br>value=%{y}<extra></extra>\",\"legendgroup\":\"AB_2814295 (CD303)\",\"marker\":{\"color\":\"#ab63fa\",\"size\":1},\"name\":\"AB_2814295 (CD303)\",\"offsetgroup\":\"AB_2814295 (CD303)\",\"orientation\":\"v\",\"scalegroup\":\"True\",\"showlegend\":true,\"x\":[\"AB_2814295 (CD303)\",\"AB_2814295 (CD303)\",\"AB_2814295 (CD303)\",\"AB_2814295 (CD303)\",\"AB_2814295 (CD303)\",\"AB_2814295 (CD303)\"],\"x0\":\" \",\"xaxis\":\"x\",\"y\":[6.1235234483,0.0,9.26594,9.89332,0.0,18.621],\"y0\":\" \",\"yaxis\":\"y\",\"type\":\"violin\",\"width\":0.75},{\"alignmentgroup\":\"True\",\"box\":{\"visible\":true},\"hovertemplate\":\"ab_target=%{x}<br>value=%{y}<extra></extra>\",\"legendgroup\":\"AB_2800817 (CD10)\",\"marker\":{\"color\":\"#FFA15A\",\"size\":1},\"name\":\"AB_2800817 (CD10)\",\"offsetgroup\":\"AB_2800817 (CD10)\",\"orientation\":\"v\",\"scalegroup\":\"True\",\"showlegend\":true,\"x\":[\"AB_2800817 (CD10)\",\"AB_2800817 (CD10)\",\"AB_2800817 (CD10)\",\"AB_2800817 (CD10)\",\"AB_2800817 (CD10)\",\"AB_2800817 (CD10)\"],\"x0\":\" \",\"xaxis\":\"x\",\"y\":[5.1888245714,0.0,0.0,10.2245,0.0,17.4798],\"y0\":\" \",\"yaxis\":\"y\",\"type\":\"violin\",\"width\":0.75},{\"alignmentgroup\":\"True\",\"box\":{\"visible\":true},\"hovertemplate\":\"ab_target=%{x}<br>value=%{y}<extra></extra>\",\"legendgroup\":\"AB_2800808 (CD154)\",\"marker\":{\"color\":\"#19d3f3\",\"size\":1},\"name\":\"AB_2800808 (CD154)\",\"offsetgroup\":\"AB_2800808 (CD154)\",\"orientation\":\"v\",\"scalegroup\":\"True\",\"showlegend\":true,\"x\":[\"AB_2800808 (CD154)\",\"AB_2800808 (CD154)\",\"AB_2800808 (CD154)\",\"AB_2800808 (CD154)\",\"AB_2800808 (CD154)\",\"AB_2800808 (CD154)\"],\"x0\":\" \",\"xaxis\":\"x\",\"y\":[6.2570172727,0.0,9.574345,9.8322375,0.0,10.5716],\"y0\":\" \",\"yaxis\":\"y\",\"type\":\"violin\",\"width\":0.75},{\"alignmentgroup\":\"True\",\"box\":{\"visible\":true},\"hovertemplate\":\"ab_target=%{x}<br>value=%{y}<extra></extra>\",\"legendgroup\":\"AB_2800919 (CD272)\",\"marker\":{\"color\":\"#FF6692\",\"size\":1},\"name\":\"AB_2800919 (CD272)\",\"offsetgroup\":\"AB_2800919 (CD272)\",\"orientation\":\"v\",\"scalegroup\":\"True\",\"showlegend\":true,\"x\":[\"AB_2800919 (CD272)\",\"AB_2800919 (CD272)\",\"AB_2800919 (CD272)\",\"AB_2800919 (CD272)\",\"AB_2800919 (CD272)\",\"AB_2800919 (CD272)\"],\"x0\":\" \",\"xaxis\":\"x\",\"y\":[4.3074318182,0.0,0.0,10.1325,0.0,11.8147],\"y0\":\" \",\"yaxis\":\"y\",\"type\":\"violin\",\"width\":0.75},{\"alignmentgroup\":\"True\",\"box\":{\"visible\":true},\"hovertemplate\":\"ab_target=%{x}<br>value=%{y}<extra></extra>\",\"legendgroup\":\"AB_2800883 (CD30)\",\"marker\":{\"color\":\"#B6E880\",\"size\":1},\"name\":\"AB_2800883 (CD30)\",\"offsetgroup\":\"AB_2800883 (CD30)\",\"orientation\":\"v\",\"scalegroup\":\"True\",\"showlegend\":true,\"x\":[\"AB_2800883 (CD30)\",\"AB_2800883 (CD30)\",\"AB_2800883 (CD30)\",\"AB_2800883 (CD30)\",\"AB_2800883 (CD30)\",\"AB_2800883 (CD30)\"],\"x0\":\" \",\"xaxis\":\"x\",\"y\":[5.9090245238,0.0,9.48149,9.8371975,0.0,12.758],\"y0\":\" \",\"yaxis\":\"y\",\"type\":\"violin\",\"width\":0.75},{\"alignmentgroup\":\"True\",\"box\":{\"visible\":true},\"hovertemplate\":\"ab_target=%{x}<br>value=%{y}<extra></extra>\",\"legendgroup\":\"AB_2749977 (CD123)\",\"marker\":{\"color\":\"#FF97FF\",\"size\":1},\"name\":\"AB_2749977 (CD123)\",\"offsetgroup\":\"AB_2749977 (CD123)\",\"orientation\":\"v\",\"scalegroup\":\"True\",\"showlegend\":true,\"x\":[\"AB_2749977 (CD123)\",\"AB_2749977 (CD123)\",\"AB_2749977 (CD123)\",\"AB_2749977 (CD123)\",\"AB_2749977 (CD123)\",\"AB_2749977 (CD123)\"],\"x0\":\" \",\"xaxis\":\"x\",\"y\":[5.3608179004,0.0,9.60585,9.8376625,0.0,20.4853],\"y0\":\" \",\"yaxis\":\"y\",\"type\":\"violin\",\"width\":0.75},{\"alignmentgroup\":\"True\",\"box\":{\"visible\":true},\"hovertemplate\":\"ab_target=%{x}<br>value=%{y}<extra></extra>\",\"legendgroup\":\"AB_2800949 (CD183)\",\"marker\":{\"color\":\"#FECB52\",\"size\":1},\"name\":\"AB_2800949 (CD183)\",\"offsetgroup\":\"AB_2800949 (CD183)\",\"orientation\":\"v\",\"scalegroup\":\"True\",\"showlegend\":true,\"x\":[\"AB_2800949 (CD183)\",\"AB_2800949 (CD183)\",\"AB_2800949 (CD183)\",\"AB_2800949 (CD183)\",\"AB_2800949 (CD183)\",\"AB_2800949 (CD183)\"],\"x0\":\" \",\"xaxis\":\"x\",\"y\":[4.6265065517,0.0,0.0,9.93451,0.0,12.7735],\"y0\":\" \",\"yaxis\":\"y\",\"type\":\"violin\",\"width\":0.75},{\"alignmentgroup\":\"True\",\"box\":{\"visible\":true},\"hovertemplate\":\"ab_target=%{x}<br>value=%{y}<extra></extra>\",\"legendgroup\":\"AB_2810570 (CD195)\",\"marker\":{\"color\":\"#636efa\",\"size\":1},\"name\":\"AB_2810570 (CD195)\",\"offsetgroup\":\"AB_2810570 (CD195)\",\"orientation\":\"v\",\"scalegroup\":\"True\",\"showlegend\":true,\"x\":[\"AB_2810570 (CD195)\",\"AB_2810570 (CD195)\",\"AB_2810570 (CD195)\",\"AB_2810570 (CD195)\",\"AB_2810570 (CD195)\",\"AB_2810570 (CD195)\"],\"x0\":\" \",\"xaxis\":\"x\",\"y\":[3.9463277273,0.0,0.0,9.45918,0.0,10.2834],\"y0\":\" \",\"yaxis\":\"y\",\"type\":\"violin\",\"width\":0.75},{\"alignmentgroup\":\"True\",\"box\":{\"visible\":true},\"hovertemplate\":\"ab_target=%{x}<br>value=%{y}<extra></extra>\",\"legendgroup\":\"AB_2800960 (CX3CR1)\",\"marker\":{\"color\":\"#EF553B\",\"size\":1},\"name\":\"AB_2800960 (CX3CR1)\",\"offsetgroup\":\"AB_2800960 (CX3CR1)\",\"orientation\":\"v\",\"scalegroup\":\"True\",\"showlegend\":true,\"x\":[\"AB_2800960 (CX3CR1)\",\"AB_2800960 (CX3CR1)\",\"AB_2800960 (CX3CR1)\",\"AB_2800960 (CX3CR1)\",\"AB_2800960 (CX3CR1)\",\"AB_2800960 (CX3CR1)\"],\"x0\":\" \",\"xaxis\":\"x\",\"y\":[5.0931952381,0.0,4.690055,9.69925,0.0,12.8709],\"y0\":\" \",\"yaxis\":\"y\",\"type\":\"violin\",\"width\":0.75},{\"alignmentgroup\":\"True\",\"box\":{\"visible\":true},\"hovertemplate\":\"ab_target=%{x}<br>value=%{y}<extra></extra>\",\"legendgroup\":\"AB_2800745 (CD25)\",\"marker\":{\"color\":\"#00cc96\",\"size\":1},\"name\":\"AB_2800745 (CD25)\",\"offsetgroup\":\"AB_2800745 (CD25)\",\"orientation\":\"v\",\"scalegroup\":\"True\",\"showlegend\":true,\"x\":[\"AB_2800745 (CD25)\",\"AB_2800745 (CD25)\",\"AB_2800745 (CD25)\",\"AB_2800745 (CD25)\",\"AB_2800745 (CD25)\",\"AB_2800745 (CD25)\"],\"x0\":\" \",\"xaxis\":\"x\",\"y\":[4.1181309091,0.0,0.0,9.60463,0.0,12.2029],\"y0\":\" \",\"yaxis\":\"y\",\"type\":\"violin\",\"width\":0.75},{\"alignmentgroup\":\"True\",\"box\":{\"visible\":true},\"hovertemplate\":\"ab_target=%{x}<br>value=%{y}<extra></extra>\",\"legendgroup\":\"AB_2814327 (CD223)\",\"marker\":{\"color\":\"#ab63fa\",\"size\":1},\"name\":\"AB_2814327 (CD223)\",\"offsetgroup\":\"AB_2814327 (CD223)\",\"orientation\":\"v\",\"scalegroup\":\"True\",\"showlegend\":true,\"x\":[\"AB_2814327 (CD223)\",\"AB_2814327 (CD223)\",\"AB_2814327 (CD223)\",\"AB_2814327 (CD223)\",\"AB_2814327 (CD223)\",\"AB_2814327 (CD223)\"],\"x0\":\" \",\"xaxis\":\"x\",\"y\":[3.8110797619,0.0,0.0,9.8475075,0.0,10.8092],\"y0\":\" \",\"yaxis\":\"y\",\"type\":\"violin\",\"width\":0.75},{\"alignmentgroup\":\"True\",\"box\":{\"visible\":true},\"hovertemplate\":\"ab_target=%{x}<br>value=%{y}<extra></extra>\",\"legendgroup\":\"AB_2800916 (CD73)\",\"marker\":{\"color\":\"#FFA15A\",\"size\":1},\"name\":\"AB_2800916 (CD73)\",\"offsetgroup\":\"AB_2800916 (CD73)\",\"orientation\":\"v\",\"scalegroup\":\"True\",\"showlegend\":true,\"x\":[\"AB_2800916 (CD73)\",\"AB_2800916 (CD73)\",\"AB_2800916 (CD73)\",\"AB_2800916 (CD73)\",\"AB_2800916 (CD73)\",\"AB_2800916 (CD73)\"],\"x0\":\" \",\"xaxis\":\"x\",\"y\":[4.1588451429,0.0,0.0,9.71435,0.0,12.7813],\"y0\":\" \",\"yaxis\":\"y\",\"type\":\"violin\",\"width\":0.75},{\"alignmentgroup\":\"True\",\"box\":{\"visible\":true},\"hovertemplate\":\"ab_target=%{x}<br>value=%{y}<extra></extra>\",\"legendgroup\":\"AB_2800854 (CD107a)\",\"marker\":{\"color\":\"#19d3f3\",\"size\":1},\"name\":\"AB_2800854 (CD107a)\",\"offsetgroup\":\"AB_2800854 (CD107a)\",\"orientation\":\"v\",\"scalegroup\":\"True\",\"showlegend\":true,\"x\":[\"AB_2800854 (CD107a)\",\"AB_2800854 (CD107a)\",\"AB_2800854 (CD107a)\",\"AB_2800854 (CD107a)\",\"AB_2800854 (CD107a)\",\"AB_2800854 (CD107a)\"],\"x0\":\" \",\"xaxis\":\"x\",\"y\":[3.0323402381,0.0,0.0,9.4777875,0.0,10.3704],\"y0\":\" \",\"yaxis\":\"y\",\"type\":\"violin\",\"width\":0.75},{\"alignmentgroup\":\"True\",\"box\":{\"visible\":true},\"hovertemplate\":\"ab_target=%{x}<br>value=%{y}<extra></extra>\",\"legendgroup\":\"AB_2801021 (TIGIT)\",\"marker\":{\"color\":\"#FF6692\",\"size\":1},\"name\":\"AB_2801021 (TIGIT)\",\"offsetgroup\":\"AB_2801021 (TIGIT)\",\"orientation\":\"v\",\"scalegroup\":\"True\",\"showlegend\":true,\"x\":[\"AB_2801021 (TIGIT)\",\"AB_2801021 (TIGIT)\",\"AB_2801021 (TIGIT)\",\"AB_2801021 (TIGIT)\",\"AB_2801021 (TIGIT)\",\"AB_2801021 (TIGIT)\"],\"x0\":\" \",\"xaxis\":\"x\",\"y\":[3.8184875862,0.0,0.0,9.86176,0.0,11.4553],\"y0\":\" \",\"yaxis\":\"y\",\"type\":\"violin\",\"width\":0.75},{\"alignmentgroup\":\"True\",\"box\":{\"visible\":true},\"hovertemplate\":\"ab_target=%{x}<br>value=%{y}<extra></extra>\",\"legendgroup\":\"AB_2800836 (CD52)\",\"marker\":{\"color\":\"#B6E880\",\"size\":1},\"name\":\"AB_2800836 (CD52)\",\"offsetgroup\":\"AB_2800836 (CD52)\",\"orientation\":\"v\",\"scalegroup\":\"True\",\"showlegend\":true,\"x\":[\"AB_2800836 (CD52)\",\"AB_2800836 (CD52)\",\"AB_2800836 (CD52)\",\"AB_2800836 (CD52)\",\"AB_2800836 (CD52)\",\"AB_2800836 (CD52)\"],\"x0\":\" \",\"xaxis\":\"x\",\"y\":[6.044602619,0.0,9.143905,10.18185,0.0,12.3662],\"y0\":\" \",\"yaxis\":\"y\",\"type\":\"violin\",\"width\":0.75},{\"alignmentgroup\":\"True\",\"box\":{\"visible\":true},\"hovertemplate\":\"ab_target=%{x}<br>value=%{y}<extra></extra>\",\"legendgroup\":\"AB_2810541 (CD141)\",\"marker\":{\"color\":\"#FF97FF\",\"size\":1},\"name\":\"AB_2810541 (CD141)\",\"offsetgroup\":\"AB_2810541 (CD141)\",\"orientation\":\"v\",\"scalegroup\":\"True\",\"showlegend\":true,\"x\":[\"AB_2810541 (CD141)\",\"AB_2810541 (CD141)\",\"AB_2810541 (CD141)\",\"AB_2810541 (CD141)\",\"AB_2810541 (CD141)\",\"AB_2810541 (CD141)\"],\"x0\":\" \",\"xaxis\":\"x\",\"y\":[5.0401533333,0.0,4.75051,10.2734,0.0,10.6596],\"y0\":\" \",\"yaxis\":\"y\",\"type\":\"violin\",\"width\":0.75},{\"alignmentgroup\":\"True\",\"box\":{\"visible\":true},\"hovertemplate\":\"ab_target=%{x}<br>value=%{y}<extra></extra>\",\"legendgroup\":\"AB_2800943 (CD197)\",\"marker\":{\"color\":\"#FECB52\",\"size\":1},\"name\":\"AB_2800943 (CD197)\",\"offsetgroup\":\"AB_2800943 (CD197)\",\"orientation\":\"v\",\"scalegroup\":\"True\",\"showlegend\":true,\"x\":[\"AB_2800943 (CD197)\",\"AB_2800943 (CD197)\",\"AB_2800943 (CD197)\",\"AB_2800943 (CD197)\",\"AB_2800943 (CD197)\",\"AB_2800943 (CD197)\"],\"x0\":\" \",\"xaxis\":\"x\",\"y\":[2.4253293103,0.0,0.0,0.0,0.0,10.8829],\"y0\":\" \",\"yaxis\":\"y\",\"type\":\"violin\",\"width\":0.75},{\"alignmentgroup\":\"True\",\"box\":{\"visible\":true},\"hovertemplate\":\"ab_target=%{x}<br>value=%{y}<extra></extra>\",\"legendgroup\":\"AB_2800758 (CD38)\",\"marker\":{\"color\":\"#636efa\",\"size\":1},\"name\":\"AB_2800758 (CD38)\",\"offsetgroup\":\"AB_2800758 (CD38)\",\"orientation\":\"v\",\"scalegroup\":\"True\",\"showlegend\":true,\"x\":[\"AB_2800758 (CD38)\",\"AB_2800758 (CD38)\",\"AB_2800758 (CD38)\",\"AB_2800758 (CD38)\",\"AB_2800758 (CD38)\",\"AB_2800758 (CD38)\"],\"x0\":\" \",\"xaxis\":\"x\",\"y\":[4.3371645714,0.0,0.0,9.512775,0.0,17.9104],\"y0\":\" \",\"yaxis\":\"y\",\"type\":\"violin\",\"width\":0.75},{\"alignmentgroup\":\"True\",\"box\":{\"visible\":true},\"hovertemplate\":\"ab_target=%{x}<br>value=%{y}<extra></extra>\",\"legendgroup\":\"AB_2814137 (CD49d)\",\"marker\":{\"color\":\"#EF553B\",\"size\":1},\"name\":\"AB_2814137 (CD49d)\",\"offsetgroup\":\"AB_2814137 (CD49d)\",\"orientation\":\"v\",\"scalegroup\":\"True\",\"showlegend\":true,\"x\":[\"AB_2814137 (CD49d)\",\"AB_2814137 (CD49d)\",\"AB_2814137 (CD49d)\",\"AB_2814137 (CD49d)\",\"AB_2814137 (CD49d)\",\"AB_2814137 (CD49d)\"],\"x0\":\" \",\"xaxis\":\"x\",\"y\":[6.4609286364,0.0,9.52025,10.16401,0.0,12.3515],\"y0\":\" \",\"yaxis\":\"y\",\"type\":\"violin\",\"width\":0.75},{\"alignmentgroup\":\"True\",\"box\":{\"visible\":true},\"hovertemplate\":\"ab_target=%{x}<br>value=%{y}<extra></extra>\",\"legendgroup\":\"AB_2749976 (HLA-ABC)\",\"marker\":{\"color\":\"#00cc96\",\"size\":1},\"name\":\"AB_2749976 (HLA-ABC)\",\"offsetgroup\":\"AB_2749976 (HLA-ABC)\",\"orientation\":\"v\",\"scalegroup\":\"True\",\"showlegend\":true,\"x\":[\"AB_2749976 (HLA-ABC)\",\"AB_2749976 (HLA-ABC)\",\"AB_2749976 (HLA-ABC)\",\"AB_2749976 (HLA-ABC)\",\"AB_2749976 (HLA-ABC)\",\"AB_2749976 (HLA-ABC)\"],\"x0\":\" \",\"xaxis\":\"x\",\"y\":[6.4896783008,0.0,9.345975,10.267525,0.0,24.012],\"y0\":\" \",\"yaxis\":\"y\",\"type\":\"violin\",\"width\":0.75},{\"alignmentgroup\":\"True\",\"box\":{\"visible\":true},\"hovertemplate\":\"ab_target=%{x}<br>value=%{y}<extra></extra>\",\"legendgroup\":\"AB_2810506 (CD58)\",\"marker\":{\"color\":\"#ab63fa\",\"size\":1},\"name\":\"AB_2810506 (CD58)\",\"offsetgroup\":\"AB_2810506 (CD58)\",\"orientation\":\"v\",\"scalegroup\":\"True\",\"showlegend\":true,\"x\":[\"AB_2810506 (CD58)\",\"AB_2810506 (CD58)\",\"AB_2810506 (CD58)\",\"AB_2810506 (CD58)\",\"AB_2810506 (CD58)\",\"AB_2810506 (CD58)\"],\"x0\":\" \",\"xaxis\":\"x\",\"y\":[2.146048125,0.0,0.0,0.0,0.0,10.8709],\"y0\":\" \",\"yaxis\":\"y\",\"type\":\"violin\",\"width\":0.75},{\"alignmentgroup\":\"True\",\"box\":{\"visible\":true},\"hovertemplate\":\"ab_target=%{x}<br>value=%{y}<extra></extra>\",\"legendgroup\":\"AB_2734286 (CD10)\",\"marker\":{\"color\":\"#FFA15A\",\"size\":1},\"name\":\"AB_2734286 (CD10)\",\"offsetgroup\":\"AB_2734286 (CD10)\",\"orientation\":\"v\",\"scalegroup\":\"True\",\"showlegend\":true,\"x\":[\"AB_2734286 (CD10)\",\"AB_2734286 (CD10)\",\"AB_2734286 (CD10)\",\"AB_2734286 (CD10)\",\"AB_2734286 (CD10)\",\"AB_2734286 (CD10)\"],\"x0\":\" \",\"xaxis\":\"x\",\"y\":[1.9354921582,0.0,0.0,0.0,0.0,20.0245],\"y0\":\" \",\"yaxis\":\"y\",\"type\":\"violin\",\"width\":0.75},{\"alignmentgroup\":\"True\",\"box\":{\"visible\":true},\"hovertemplate\":\"ab_target=%{x}<br>value=%{y}<extra></extra>\",\"legendgroup\":\"AB_2801087 (IgG)\",\"marker\":{\"color\":\"#19d3f3\",\"size\":1},\"name\":\"AB_2801087 (IgG)\",\"offsetgroup\":\"AB_2801087 (IgG)\",\"orientation\":\"v\",\"scalegroup\":\"True\",\"showlegend\":true,\"x\":[\"AB_2801087 (IgG)\",\"AB_2801087 (IgG)\",\"AB_2801087 (IgG)\",\"AB_2801087 (IgG)\",\"AB_2801087 (IgG)\",\"AB_2801087 (IgG)\"],\"x0\":\" \",\"xaxis\":\"x\",\"y\":[3.4193035714,0.0,0.0,9.586185,0.0,18.8338],\"y0\":\" \",\"yaxis\":\"y\",\"type\":\"violin\",\"width\":0.75},{\"alignmentgroup\":\"True\",\"box\":{\"visible\":true},\"hovertemplate\":\"ab_target=%{x}<br>value=%{y}<extra></extra>\",\"legendgroup\":\"AB_2832672 (CD88)\",\"marker\":{\"color\":\"#FF6692\",\"size\":1},\"name\":\"AB_2832672 (CD88)\",\"offsetgroup\":\"AB_2832672 (CD88)\",\"orientation\":\"v\",\"scalegroup\":\"True\",\"showlegend\":true,\"x\":[\"AB_2832672 (CD88)\",\"AB_2832672 (CD88)\",\"AB_2832672 (CD88)\",\"AB_2832672 (CD88)\",\"AB_2832672 (CD88)\",\"AB_2832672 (CD88)\"],\"x0\":\" \",\"xaxis\":\"x\",\"y\":[2.3771382759,0.0,0.0,0.0,0.0,9.97377],\"y0\":\" \",\"yaxis\":\"y\",\"type\":\"violin\",\"width\":0.75},{\"alignmentgroup\":\"True\",\"box\":{\"visible\":true},\"hovertemplate\":\"ab_target=%{x}<br>value=%{y}<extra></extra>\",\"legendgroup\":\"AB_2810531 (CD96)\",\"marker\":{\"color\":\"#B6E880\",\"size\":1},\"name\":\"AB_2810531 (CD96)\",\"offsetgroup\":\"AB_2810531 (CD96)\",\"orientation\":\"v\",\"scalegroup\":\"True\",\"showlegend\":true,\"x\":[\"AB_2810531 (CD96)\",\"AB_2810531 (CD96)\",\"AB_2810531 (CD96)\",\"AB_2810531 (CD96)\",\"AB_2810531 (CD96)\",\"AB_2810531 (CD96)\"],\"x0\":\" \",\"xaxis\":\"x\",\"y\":[3.8099775862,0.0,0.0,9.5095,0.0,13.2638],\"y0\":\" \",\"yaxis\":\"y\",\"type\":\"violin\",\"width\":0.75},{\"alignmentgroup\":\"True\",\"box\":{\"visible\":true},\"hovertemplate\":\"ab_target=%{x}<br>value=%{y}<extra></extra>\",\"legendgroup\":\"AB_2810481 (Integrin beta7)\",\"marker\":{\"color\":\"#FF97FF\",\"size\":1},\"name\":\"AB_2810481 (Integrin beta7)\",\"offsetgroup\":\"AB_2810481 (Integrin beta7)\",\"orientation\":\"v\",\"scalegroup\":\"True\",\"showlegend\":true,\"x\":[\"AB_2810481 (Integrin beta7)\",\"AB_2810481 (Integrin beta7)\",\"AB_2810481 (Integrin beta7)\",\"AB_2810481 (Integrin beta7)\",\"AB_2810481 (Integrin beta7)\",\"AB_2810481 (Integrin beta7)\"],\"x0\":\" \",\"xaxis\":\"x\",\"y\":[4.987337381,0.0,4.62232,9.7784525,0.0,13.3999],\"y0\":\" \",\"yaxis\":\"y\",\"type\":\"violin\",\"width\":0.75},{\"alignmentgroup\":\"True\",\"box\":{\"visible\":true},\"hovertemplate\":\"ab_target=%{x}<br>value=%{y}<extra></extra>\",\"legendgroup\":\"AB_2749965 (CD70)\",\"marker\":{\"color\":\"#FECB52\",\"size\":1},\"name\":\"AB_2749965 (CD70)\",\"offsetgroup\":\"AB_2749965 (CD70)\",\"orientation\":\"v\",\"scalegroup\":\"True\",\"showlegend\":true,\"x\":[\"AB_2749965 (CD70)\",\"AB_2749965 (CD70)\",\"AB_2749965 (CD70)\",\"AB_2749965 (CD70)\",\"AB_2749965 (CD70)\",\"AB_2749965 (CD70)\"],\"x0\":\" \",\"xaxis\":\"x\",\"y\":[1.9399927637,0.0,0.0,0.0,0.0,16.7817],\"y0\":\" \",\"yaxis\":\"y\",\"type\":\"violin\",\"width\":0.75},{\"alignmentgroup\":\"True\",\"box\":{\"visible\":true},\"hovertemplate\":\"ab_target=%{x}<br>value=%{y}<extra></extra>\",\"legendgroup\":\"AB_2814252 (CD158)\",\"marker\":{\"color\":\"#636efa\",\"size\":1},\"name\":\"AB_2814252 (CD158)\",\"offsetgroup\":\"AB_2814252 (CD158)\",\"orientation\":\"v\",\"scalegroup\":\"True\",\"showlegend\":true,\"x\":[\"AB_2814252 (CD158)\",\"AB_2814252 (CD158)\",\"AB_2814252 (CD158)\",\"AB_2814252 (CD158)\",\"AB_2814252 (CD158)\",\"AB_2814252 (CD158)\"],\"x0\":\" \",\"xaxis\":\"x\",\"y\":[1.2289213636,0.0,0.0,0.0,0.0,9.05352],\"y0\":\" \",\"yaxis\":\"y\",\"type\":\"violin\",\"width\":0.75},{\"alignmentgroup\":\"True\",\"box\":{\"visible\":true},\"hovertemplate\":\"ab_target=%{x}<br>value=%{y}<extra></extra>\",\"legendgroup\":\"AB_2800925 (CD366)\",\"marker\":{\"color\":\"#EF553B\",\"size\":1},\"name\":\"AB_2800925 (CD366)\",\"offsetgroup\":\"AB_2800925 (CD366)\",\"orientation\":\"v\",\"scalegroup\":\"True\",\"showlegend\":true,\"x\":[\"AB_2800925 (CD366)\",\"AB_2800925 (CD366)\",\"AB_2800925 (CD366)\",\"AB_2800925 (CD366)\",\"AB_2800925 (CD366)\",\"AB_2800925 (CD366)\"],\"x0\":\" \",\"xaxis\":\"x\",\"y\":[1.7420577273,0.0,0.0,0.0,0.0,10.0573],\"y0\":\" \",\"yaxis\":\"y\",\"type\":\"violin\",\"width\":0.75},{\"alignmentgroup\":\"True\",\"box\":{\"visible\":true},\"hovertemplate\":\"ab_target=%{x}<br>value=%{y}<extra></extra>\",\"legendgroup\":\"AB_2800862 (CD279)\",\"marker\":{\"color\":\"#00cc96\",\"size\":1},\"name\":\"AB_2800862 (CD279)\",\"offsetgroup\":\"AB_2800862 (CD279)\",\"orientation\":\"v\",\"scalegroup\":\"True\",\"showlegend\":true,\"x\":[\"AB_2800862 (CD279)\",\"AB_2800862 (CD279)\",\"AB_2800862 (CD279)\",\"AB_2800862 (CD279)\",\"AB_2800862 (CD279)\",\"AB_2800862 (CD279)\"],\"x0\":\" \",\"xaxis\":\"x\",\"y\":[1.6260475862,0.0,0.0,0.0,0.0,9.68913],\"y0\":\" \",\"yaxis\":\"y\",\"type\":\"violin\",\"width\":0.75},{\"alignmentgroup\":\"True\",\"box\":{\"visible\":true},\"hovertemplate\":\"ab_target=%{x}<br>value=%{y}<extra></extra>\",\"legendgroup\":\"AB_2801008 (CD33)\",\"marker\":{\"color\":\"#ab63fa\",\"size\":1},\"name\":\"AB_2801008 (CD33)\",\"offsetgroup\":\"AB_2801008 (CD33)\",\"orientation\":\"v\",\"scalegroup\":\"True\",\"showlegend\":true,\"x\":[\"AB_2801008 (CD33)\",\"AB_2801008 (CD33)\",\"AB_2801008 (CD33)\",\"AB_2801008 (CD33)\",\"AB_2801008 (CD33)\",\"AB_2801008 (CD33)\"],\"x0\":\" \",\"xaxis\":\"x\",\"y\":[0.8205171429,0.0,0.0,0.0,0.0,9.5727],\"y0\":\" \",\"yaxis\":\"y\",\"type\":\"violin\",\"width\":0.75},{\"alignmentgroup\":\"True\",\"box\":{\"visible\":true},\"hovertemplate\":\"ab_target=%{x}<br>value=%{y}<extra></extra>\",\"legendgroup\":\"AB_2749996 (CD103)\",\"marker\":{\"color\":\"#FFA15A\",\"size\":1},\"name\":\"AB_2749996 (CD103)\",\"offsetgroup\":\"AB_2749996 (CD103)\",\"orientation\":\"v\",\"scalegroup\":\"True\",\"showlegend\":true,\"x\":[\"AB_2749996 (CD103)\",\"AB_2749996 (CD103)\",\"AB_2749996 (CD103)\",\"AB_2749996 (CD103)\",\"AB_2749996 (CD103)\",\"AB_2749996 (CD103)\"],\"x0\":\" \",\"xaxis\":\"x\",\"y\":[0.8005037109,0.0,0.0,0.0,0.0,10.3068],\"y0\":\" \",\"yaxis\":\"y\",\"type\":\"violin\",\"width\":0.75},{\"alignmentgroup\":\"True\",\"box\":{\"visible\":true},\"hovertemplate\":\"ab_target=%{x}<br>value=%{y}<extra></extra>\",\"legendgroup\":\"AB_2734278 (CD275)\",\"marker\":{\"color\":\"#19d3f3\",\"size\":1},\"name\":\"AB_2734278 (CD275)\",\"offsetgroup\":\"AB_2734278 (CD275)\",\"orientation\":\"v\",\"scalegroup\":\"True\",\"showlegend\":true,\"x\":[\"AB_2734278 (CD275)\",\"AB_2734278 (CD275)\",\"AB_2734278 (CD275)\",\"AB_2734278 (CD275)\",\"AB_2734278 (CD275)\",\"AB_2734278 (CD275)\"],\"x0\":\" \",\"xaxis\":\"x\",\"y\":[1.3655608936,0.0,0.0,0.0,0.0,10.4426],\"y0\":\" \",\"yaxis\":\"y\",\"type\":\"violin\",\"width\":0.75},{\"alignmentgroup\":\"True\",\"box\":{\"visible\":true},\"hovertemplate\":\"ab_target=%{x}<br>value=%{y}<extra></extra>\",\"legendgroup\":\"AB_2832593 (CD62P)\",\"marker\":{\"color\":\"#FF6692\",\"size\":1},\"name\":\"AB_2832593 (CD62P)\",\"offsetgroup\":\"AB_2832593 (CD62P)\",\"orientation\":\"v\",\"scalegroup\":\"True\",\"showlegend\":true,\"x\":[\"AB_2832593 (CD62P)\",\"AB_2832593 (CD62P)\",\"AB_2832593 (CD62P)\",\"AB_2832593 (CD62P)\",\"AB_2832593 (CD62P)\",\"AB_2832593 (CD62P)\"],\"x0\":\" \",\"xaxis\":\"x\",\"y\":[1.952328,0.0,0.0,0.0,0.0,9.76164],\"y0\":\" \",\"yaxis\":\"y\",\"type\":\"violin\",\"width\":0.75},{\"alignmentgroup\":\"True\",\"box\":{\"visible\":true},\"hovertemplate\":\"ab_target=%{x}<br>value=%{y}<extra></extra>\",\"legendgroup\":\"AB_2734360 (CD294)\",\"marker\":{\"color\":\"#B6E880\",\"size\":1},\"name\":\"AB_2734360 (CD294)\",\"offsetgroup\":\"AB_2734360 (CD294)\",\"orientation\":\"v\",\"scalegroup\":\"True\",\"showlegend\":true,\"x\":[\"AB_2734360 (CD294)\",\"AB_2734360 (CD294)\",\"AB_2734360 (CD294)\",\"AB_2734360 (CD294)\",\"AB_2734360 (CD294)\",\"AB_2734360 (CD294)\"],\"x0\":\" \",\"xaxis\":\"x\",\"y\":[3.8284644922,0.0,0.0,9.56545,0.0,24.5523],\"y0\":\" \",\"yaxis\":\"y\",\"type\":\"violin\",\"width\":0.75},{\"alignmentgroup\":\"True\",\"box\":{\"visible\":true},\"hovertemplate\":\"ab_target=%{x}<br>value=%{y}<extra></extra>\",\"legendgroup\":\"AB_2749999 (CD223)\",\"marker\":{\"color\":\"#FF97FF\",\"size\":1},\"name\":\"AB_2749999 (CD223)\",\"offsetgroup\":\"AB_2749999 (CD223)\",\"orientation\":\"v\",\"scalegroup\":\"True\",\"showlegend\":true,\"x\":[\"AB_2749999 (CD223)\",\"AB_2749999 (CD223)\",\"AB_2749999 (CD223)\",\"AB_2749999 (CD223)\",\"AB_2749999 (CD223)\",\"AB_2749999 (CD223)\"],\"x0\":\" \",\"xaxis\":\"x\",\"y\":[3.7667213086,0.0,0.0,9.7096975,0.0,13.8133],\"y0\":\" \",\"yaxis\":\"y\",\"type\":\"violin\",\"width\":0.75},{\"alignmentgroup\":\"True\",\"box\":{\"visible\":true},\"hovertemplate\":\"ab_target=%{x}<br>value=%{y}<extra></extra>\",\"legendgroup\":\"AB_2734258 (CD25)\",\"marker\":{\"color\":\"#FECB52\",\"size\":1},\"name\":\"AB_2734258 (CD25)\",\"offsetgroup\":\"AB_2734258 (CD25)\",\"orientation\":\"v\",\"scalegroup\":\"True\",\"showlegend\":true,\"x\":[\"AB_2734258 (CD25)\",\"AB_2734258 (CD25)\",\"AB_2734258 (CD25)\",\"AB_2734258 (CD25)\",\"AB_2734258 (CD25)\",\"AB_2734258 (CD25)\"],\"x0\":\" \",\"xaxis\":\"x\",\"y\":[2.7618980908,0.0,0.0,9.53098,0.0,12.0752],\"y0\":\" \",\"yaxis\":\"y\",\"type\":\"violin\",\"width\":0.75},{\"alignmentgroup\":\"True\",\"box\":{\"visible\":true},\"hovertemplate\":\"ab_target=%{x}<br>value=%{y}<extra></extra>\",\"legendgroup\":\"AB_2814292 (CD371)\",\"marker\":{\"color\":\"#636efa\",\"size\":1},\"name\":\"AB_2814292 (CD371)\",\"offsetgroup\":\"AB_2814292 (CD371)\",\"orientation\":\"v\",\"scalegroup\":\"True\",\"showlegend\":true,\"x\":[\"AB_2814292 (CD371)\",\"AB_2814292 (CD371)\",\"AB_2814292 (CD371)\",\"AB_2814292 (CD371)\",\"AB_2814292 (CD371)\",\"AB_2814292 (CD371)\"],\"x0\":\" \",\"xaxis\":\"x\",\"y\":[0.6845954762,0.0,0.0,0.0,0.0,9.82458],\"y0\":\" \",\"yaxis\":\"y\",\"type\":\"violin\",\"width\":0.75},{\"alignmentgroup\":\"True\",\"box\":{\"visible\":true},\"hovertemplate\":\"ab_target=%{x}<br>value=%{y}<extra></extra>\",\"legendgroup\":\"AB_2800732 (CD11b)\",\"marker\":{\"color\":\"#EF553B\",\"size\":1},\"name\":\"AB_2800732 (CD11b)\",\"offsetgroup\":\"AB_2800732 (CD11b)\",\"orientation\":\"v\",\"scalegroup\":\"True\",\"showlegend\":true,\"x\":[\"AB_2800732 (CD11b)\",\"AB_2800732 (CD11b)\",\"AB_2800732 (CD11b)\",\"AB_2800732 (CD11b)\",\"AB_2800732 (CD11b)\",\"AB_2800732 (CD11b)\"],\"x0\":\" \",\"xaxis\":\"x\",\"y\":[2.0742442857,0.0,0.0,0.0,0.0,9.7996],\"y0\":\" \",\"yaxis\":\"y\",\"type\":\"violin\",\"width\":0.75},{\"alignmentgroup\":\"True\",\"box\":{\"visible\":true},\"hovertemplate\":\"ab_target=%{x}<br>value=%{y}<extra></extra>\",\"legendgroup\":\"AB_2801018 (CD11c)\",\"marker\":{\"color\":\"#00cc96\",\"size\":1},\"name\":\"AB_2801018 (CD11c)\",\"offsetgroup\":\"AB_2801018 (CD11c)\",\"orientation\":\"v\",\"scalegroup\":\"True\",\"showlegend\":true,\"x\":[\"AB_2801018 (CD11c)\",\"AB_2801018 (CD11c)\",\"AB_2801018 (CD11c)\",\"AB_2801018 (CD11c)\",\"AB_2801018 (CD11c)\",\"AB_2801018 (CD11c)\"],\"x0\":\" \",\"xaxis\":\"x\",\"y\":[1.2946945455,0.0,0.0,0.0,0.0,9.52952],\"y0\":\" \",\"yaxis\":\"y\",\"type\":\"violin\",\"width\":0.75},{\"alignmentgroup\":\"True\",\"box\":{\"visible\":true},\"hovertemplate\":\"ab_target=%{x}<br>value=%{y}<extra></extra>\",\"legendgroup\":\"AB_2810510 (CD163)\",\"marker\":{\"color\":\"#ab63fa\",\"size\":1},\"name\":\"AB_2810510 (CD163)\",\"offsetgroup\":\"AB_2810510 (CD163)\",\"orientation\":\"v\",\"scalegroup\":\"True\",\"showlegend\":true,\"x\":[\"AB_2810510 (CD163)\",\"AB_2810510 (CD163)\",\"AB_2810510 (CD163)\",\"AB_2810510 (CD163)\",\"AB_2810510 (CD163)\",\"AB_2810510 (CD163)\"],\"x0\":\" \",\"xaxis\":\"x\",\"y\":[0.4985078947,0.0,0.0,0.0,0.0,9.47165],\"y0\":\" \",\"yaxis\":\"y\",\"type\":\"violin\",\"width\":0.75},{\"alignmentgroup\":\"True\",\"box\":{\"visible\":true},\"hovertemplate\":\"ab_target=%{x}<br>value=%{y}<extra></extra>\",\"legendgroup\":\"AB_2800893 (CD36)\",\"marker\":{\"color\":\"#FFA15A\",\"size\":1},\"name\":\"AB_2800893 (CD36)\",\"offsetgroup\":\"AB_2800893 (CD36)\",\"orientation\":\"v\",\"scalegroup\":\"True\",\"showlegend\":true,\"x\":[\"AB_2800893 (CD36)\",\"AB_2800893 (CD36)\",\"AB_2800893 (CD36)\",\"AB_2800893 (CD36)\",\"AB_2800893 (CD36)\",\"AB_2800893 (CD36)\"],\"x0\":\" \",\"xaxis\":\"x\",\"y\":[0.3790276,0.0,0.0,0.0,0.0,9.47569],\"y0\":\" \",\"yaxis\":\"y\",\"type\":\"violin\",\"width\":0.75},{\"alignmentgroup\":\"True\",\"box\":{\"visible\":true},\"hovertemplate\":\"ab_target=%{x}<br>value=%{y}<extra></extra>\",\"legendgroup\":\"AB_2800762 (CD45)\",\"marker\":{\"color\":\"#19d3f3\",\"size\":1},\"name\":\"AB_2800762 (CD45)\",\"offsetgroup\":\"AB_2800762 (CD45)\",\"orientation\":\"v\",\"scalegroup\":\"True\",\"showlegend\":true,\"x\":[\"AB_2800762 (CD45)\",\"AB_2800762 (CD45)\",\"AB_2800762 (CD45)\",\"AB_2800762 (CD45)\",\"AB_2800762 (CD45)\",\"AB_2800762 (CD45)\"],\"x0\":\" \",\"xaxis\":\"x\",\"y\":[0.0,0.0,0.0,0.0,0.0,0.0],\"y0\":\" \",\"yaxis\":\"y\",\"type\":\"violin\",\"width\":0.75},{\"alignmentgroup\":\"True\",\"box\":{\"visible\":true},\"hovertemplate\":\"ab_target=%{x}<br>value=%{y}<extra></extra>\",\"legendgroup\":\"AB_2800757 (CD31)\",\"marker\":{\"color\":\"#FF6692\",\"size\":1},\"name\":\"AB_2800757 (CD31)\",\"offsetgroup\":\"AB_2800757 (CD31)\",\"orientation\":\"v\",\"scalegroup\":\"True\",\"showlegend\":true,\"x\":[\"AB_2800757 (CD31)\",\"AB_2800757 (CD31)\",\"AB_2800757 (CD31)\",\"AB_2800757 (CD31)\",\"AB_2800757 (CD31)\",\"AB_2800757 (CD31)\"],\"x0\":\" \",\"xaxis\":\"x\",\"y\":[0.4303677273,0.0,0.0,0.0,0.0,9.46809],\"y0\":\" \",\"yaxis\":\"y\",\"type\":\"violin\",\"width\":0.75},{\"alignmentgroup\":\"True\",\"box\":{\"visible\":true},\"hovertemplate\":\"ab_target=%{x}<br>value=%{y}<extra></extra>\",\"legendgroup\":\"AB_2749997 (CD69)\",\"marker\":{\"color\":\"#B6E880\",\"size\":1},\"name\":\"AB_2749997 (CD69)\",\"offsetgroup\":\"AB_2749997 (CD69)\",\"orientation\":\"v\",\"scalegroup\":\"True\",\"showlegend\":true,\"x\":[\"AB_2749997 (CD69)\",\"AB_2749997 (CD69)\",\"AB_2749997 (CD69)\",\"AB_2749997 (CD69)\",\"AB_2749997 (CD69)\",\"AB_2749997 (CD69)\"],\"x0\":\" \",\"xaxis\":\"x\",\"y\":[1.723162334,0.0,0.0,0.0,0.0,12.9312],\"y0\":\" \",\"yaxis\":\"y\",\"type\":\"violin\",\"width\":0.75},{\"alignmentgroup\":\"True\",\"box\":{\"visible\":true},\"hovertemplate\":\"ab_target=%{x}<br>value=%{y}<extra></extra>\",\"legendgroup\":\"AB_2734287 (CD117)\",\"marker\":{\"color\":\"#FF97FF\",\"size\":1},\"name\":\"AB_2734287 (CD117)\",\"offsetgroup\":\"AB_2734287 (CD117)\",\"orientation\":\"v\",\"scalegroup\":\"True\",\"showlegend\":true,\"x\":[\"AB_2734287 (CD117)\",\"AB_2734287 (CD117)\",\"AB_2734287 (CD117)\",\"AB_2734287 (CD117)\",\"AB_2734287 (CD117)\",\"AB_2734287 (CD117)\"],\"x0\":\" \",\"xaxis\":\"x\",\"y\":[1.4891071729,0.0,0.0,0.0,0.0,10.9396],\"y0\":\" \",\"yaxis\":\"y\",\"type\":\"violin\",\"width\":0.75},{\"alignmentgroup\":\"True\",\"box\":{\"visible\":true},\"hovertemplate\":\"ab_target=%{x}<br>value=%{y}<extra></extra>\",\"legendgroup\":\"AB_2814134 (CD41)\",\"marker\":{\"color\":\"#FECB52\",\"size\":1},\"name\":\"AB_2814134 (CD41)\",\"offsetgroup\":\"AB_2814134 (CD41)\",\"orientation\":\"v\",\"scalegroup\":\"True\",\"showlegend\":true,\"x\":[\"AB_2814134 (CD41)\",\"AB_2814134 (CD41)\",\"AB_2814134 (CD41)\",\"AB_2814134 (CD41)\",\"AB_2814134 (CD41)\",\"AB_2814134 (CD41)\"],\"x0\":\" \",\"xaxis\":\"x\",\"y\":[0.2230383333,0.0,0.0,0.0,0.0,9.36761],\"y0\":\" \",\"yaxis\":\"y\",\"type\":\"violin\",\"width\":0.75},{\"alignmentgroup\":\"True\",\"box\":{\"visible\":true},\"hovertemplate\":\"ab_target=%{x}<br>value=%{y}<extra></extra>\",\"legendgroup\":\"AB_2800931 (CD81)\",\"marker\":{\"color\":\"#636efa\",\"size\":1},\"name\":\"AB_2800931 (CD81)\",\"offsetgroup\":\"AB_2800931 (CD81)\",\"orientation\":\"v\",\"scalegroup\":\"True\",\"showlegend\":true,\"x\":[\"AB_2800931 (CD81)\",\"AB_2800931 (CD81)\",\"AB_2800931 (CD81)\",\"AB_2800931 (CD81)\",\"AB_2800931 (CD81)\",\"AB_2800931 (CD81)\"],\"x0\":\" \",\"xaxis\":\"x\",\"y\":[0.7909783333,0.0,0.0,0.0,0.0,9.49174],\"y0\":\" \",\"yaxis\":\"y\",\"type\":\"violin\",\"width\":0.75},{\"alignmentgroup\":\"True\",\"box\":{\"visible\":true},\"hovertemplate\":\"ab_target=%{x}<br>value=%{y}<extra></extra>\",\"legendgroup\":\"AB_2800900 (CD44)\",\"marker\":{\"color\":\"#EF553B\",\"size\":1},\"name\":\"AB_2800900 (CD44)\",\"offsetgroup\":\"AB_2800900 (CD44)\",\"orientation\":\"v\",\"scalegroup\":\"True\",\"showlegend\":true,\"x\":[\"AB_2800900 (CD44)\",\"AB_2800900 (CD44)\",\"AB_2800900 (CD44)\",\"AB_2800900 (CD44)\",\"AB_2800900 (CD44)\",\"AB_2800900 (CD44)\"],\"x0\":\" \",\"xaxis\":\"x\",\"y\":[7.4580375,6.863775,9.7222,10.0074,0.0,10.8632],\"y0\":\" \",\"yaxis\":\"y\",\"type\":\"violin\",\"width\":0.75},{\"alignmentgroup\":\"True\",\"box\":{\"visible\":true},\"hovertemplate\":\"ab_target=%{x}<br>value=%{y}<extra></extra>\",\"legendgroup\":\"AB_2800786 (CD86)\",\"marker\":{\"color\":\"#00cc96\",\"size\":1},\"name\":\"AB_2800786 (CD86)\",\"offsetgroup\":\"AB_2800786 (CD86)\",\"orientation\":\"v\",\"scalegroup\":\"True\",\"showlegend\":true,\"x\":[\"AB_2800786 (CD86)\",\"AB_2800786 (CD86)\",\"AB_2800786 (CD86)\",\"AB_2800786 (CD86)\",\"AB_2800786 (CD86)\",\"AB_2800786 (CD86)\"],\"x0\":\" \",\"xaxis\":\"x\",\"y\":[0.0,0.0,0.0,0.0,0.0,0.0],\"y0\":\" \",\"yaxis\":\"y\",\"type\":\"violin\",\"width\":0.75},{\"alignmentgroup\":\"True\",\"box\":{\"visible\":true},\"hovertemplate\":\"ab_target=%{x}<br>value=%{y}<extra></extra>\",\"legendgroup\":\"AB_2800756 (CD29)\",\"marker\":{\"color\":\"#ab63fa\",\"size\":1},\"name\":\"AB_2800756 (CD29)\",\"offsetgroup\":\"AB_2800756 (CD29)\",\"orientation\":\"v\",\"scalegroup\":\"True\",\"showlegend\":true,\"x\":[\"AB_2800756 (CD29)\",\"AB_2800756 (CD29)\",\"AB_2800756 (CD29)\",\"AB_2800756 (CD29)\",\"AB_2800756 (CD29)\",\"AB_2800756 (CD29)\"],\"x0\":\" \",\"xaxis\":\"x\",\"y\":[2.3925183333,0.0,0.0,2.2988525,0.0,10.3194],\"y0\":\" \",\"yaxis\":\"y\",\"type\":\"violin\",\"width\":0.75},{\"alignmentgroup\":\"True\",\"box\":{\"visible\":true},\"hovertemplate\":\"ab_target=%{x}<br>value=%{y}<extra></extra>\",\"legendgroup\":\"AB_2749993 (CD183)\",\"marker\":{\"color\":\"#FFA15A\",\"size\":1},\"name\":\"AB_2749993 (CD183)\",\"offsetgroup\":\"AB_2749993 (CD183)\",\"orientation\":\"v\",\"scalegroup\":\"True\",\"showlegend\":true,\"x\":[\"AB_2749993 (CD183)\",\"AB_2749993 (CD183)\",\"AB_2749993 (CD183)\",\"AB_2749993 (CD183)\",\"AB_2749993 (CD183)\",\"AB_2749993 (CD183)\"],\"x0\":\" \",\"xaxis\":\"x\",\"y\":[0.9907295752,0.0,0.0,0.0,0.0,17.7237],\"y0\":\" \",\"yaxis\":\"y\",\"type\":\"violin\",\"width\":0.75},{\"alignmentgroup\":\"True\",\"box\":{\"visible\":true},\"hovertemplate\":\"ab_target=%{x}<br>value=%{y}<extra></extra>\",\"legendgroup\":\"AB_2734249 (CD11b)\",\"marker\":{\"color\":\"#19d3f3\",\"size\":1},\"name\":\"AB_2734249 (CD11b)\",\"offsetgroup\":\"AB_2734249 (CD11b)\",\"orientation\":\"v\",\"scalegroup\":\"True\",\"showlegend\":true,\"x\":[\"AB_2734249 (CD11b)\",\"AB_2734249 (CD11b)\",\"AB_2734249 (CD11b)\",\"AB_2734249 (CD11b)\",\"AB_2734249 (CD11b)\",\"AB_2734249 (CD11b)\"],\"x0\":\" \",\"xaxis\":\"x\",\"y\":[3.2913378516,0.0,0.0,9.4733425,0.0,11.9763],\"y0\":\" \",\"yaxis\":\"y\",\"type\":\"violin\",\"width\":0.75},{\"alignmentgroup\":\"True\",\"box\":{\"visible\":true},\"hovertemplate\":\"ab_target=%{x}<br>value=%{y}<extra></extra>\",\"legendgroup\":\"AB_2800851 (CD337)\",\"marker\":{\"color\":\"#FF6692\",\"size\":1},\"name\":\"AB_2800851 (CD337)\",\"offsetgroup\":\"AB_2800851 (CD337)\",\"orientation\":\"v\",\"scalegroup\":\"True\",\"showlegend\":true,\"x\":[\"AB_2800851 (CD337)\",\"AB_2800851 (CD337)\",\"AB_2800851 (CD337)\",\"AB_2800851 (CD337)\",\"AB_2800851 (CD337)\",\"AB_2800851 (CD337)\"],\"x0\":\" \",\"xaxis\":\"x\",\"y\":[1.6392562069,0.0,0.0,0.0,0.0,9.93239],\"y0\":\" \",\"yaxis\":\"y\",\"type\":\"violin\",\"width\":0.75},{\"alignmentgroup\":\"True\",\"box\":{\"visible\":true},\"hovertemplate\":\"ab_target=%{x}<br>value=%{y}<extra></extra>\",\"legendgroup\":\"AB_2814233 (CD155)\",\"marker\":{\"color\":\"#B6E880\",\"size\":1},\"name\":\"AB_2814233 (CD155)\",\"offsetgroup\":\"AB_2814233 (CD155)\",\"orientation\":\"v\",\"scalegroup\":\"True\",\"showlegend\":true,\"x\":[\"AB_2814233 (CD155)\",\"AB_2814233 (CD155)\",\"AB_2814233 (CD155)\",\"AB_2814233 (CD155)\",\"AB_2814233 (CD155)\",\"AB_2814233 (CD155)\"],\"x0\":\" \",\"xaxis\":\"x\",\"y\":[1.6693371429,0.0,0.0,0.0,0.0,10.1164],\"y0\":\" \",\"yaxis\":\"y\",\"type\":\"violin\",\"width\":0.75},{\"alignmentgroup\":\"True\",\"box\":{\"visible\":true},\"hovertemplate\":\"ab_target=%{x}<br>value=%{y}<extra></extra>\",\"legendgroup\":\"AB_2749972 (CD34)\",\"marker\":{\"color\":\"#FF97FF\",\"size\":1},\"name\":\"AB_2749972 (CD34)\",\"offsetgroup\":\"AB_2749972 (CD34)\",\"orientation\":\"v\",\"scalegroup\":\"True\",\"showlegend\":true,\"x\":[\"AB_2749972 (CD34)\",\"AB_2749972 (CD34)\",\"AB_2749972 (CD34)\",\"AB_2749972 (CD34)\",\"AB_2749972 (CD34)\",\"AB_2749972 (CD34)\"],\"x0\":\" \",\"xaxis\":\"x\",\"y\":[0.8478709473,0.0,0.0,0.0,0.0,13.3407],\"y0\":\" \",\"yaxis\":\"y\",\"type\":\"violin\",\"width\":0.75},{\"alignmentgroup\":\"True\",\"box\":{\"visible\":true},\"hovertemplate\":\"ab_target=%{x}<br>value=%{y}<extra></extra>\",\"legendgroup\":\"AB_2800874 (CD335)\",\"marker\":{\"color\":\"#FECB52\",\"size\":1},\"name\":\"AB_2800874 (CD335)\",\"offsetgroup\":\"AB_2800874 (CD335)\",\"orientation\":\"v\",\"scalegroup\":\"True\",\"showlegend\":true,\"x\":[\"AB_2800874 (CD335)\",\"AB_2800874 (CD335)\",\"AB_2800874 (CD335)\",\"AB_2800874 (CD335)\",\"AB_2800874 (CD335)\",\"AB_2800874 (CD335)\"],\"x0\":\" \",\"xaxis\":\"x\",\"y\":[1.2740186364,0.0,0.0,0.0,0.0,9.64457],\"y0\":\" \",\"yaxis\":\"y\",\"type\":\"violin\",\"width\":0.75},{\"alignmentgroup\":\"True\",\"box\":{\"visible\":true},\"hovertemplate\":\"ab_target=%{x}<br>value=%{y}<extra></extra>\",\"legendgroup\":\"AB_2800823 (CD278)\",\"marker\":{\"color\":\"#636efa\",\"size\":1},\"name\":\"AB_2800823 (CD278)\",\"offsetgroup\":\"AB_2800823 (CD278)\",\"orientation\":\"v\",\"scalegroup\":\"True\",\"showlegend\":true,\"x\":[\"AB_2800823 (CD278)\",\"AB_2800823 (CD278)\",\"AB_2800823 (CD278)\",\"AB_2800823 (CD278)\",\"AB_2800823 (CD278)\",\"AB_2800823 (CD278)\"],\"x0\":\" \",\"xaxis\":\"x\",\"y\":[0.0,0.0,0.0,0.0,0.0,0.0],\"y0\":\" \",\"yaxis\":\"y\",\"type\":\"violin\",\"width\":0.75},{\"alignmentgroup\":\"True\",\"box\":{\"visible\":true},\"hovertemplate\":\"ab_target=%{x}<br>value=%{y}<extra></extra>\",\"legendgroup\":\"AB_2734409 (CD33)\",\"marker\":{\"color\":\"#EF553B\",\"size\":1},\"name\":\"AB_2734409 (CD33)\",\"offsetgroup\":\"AB_2734409 (CD33)\",\"orientation\":\"v\",\"scalegroup\":\"True\",\"showlegend\":true,\"x\":[\"AB_2734409 (CD33)\",\"AB_2734409 (CD33)\",\"AB_2734409 (CD33)\",\"AB_2734409 (CD33)\",\"AB_2734409 (CD33)\",\"AB_2734409 (CD33)\"],\"x0\":\" \",\"xaxis\":\"x\",\"y\":[0.0540616162,0.0,0.0,0.0,0.0,8.53412],\"y0\":\" \",\"yaxis\":\"y\",\"type\":\"violin\",\"width\":0.75},{\"alignmentgroup\":\"True\",\"box\":{\"visible\":true},\"hovertemplate\":\"ab_target=%{x}<br>value=%{y}<extra></extra>\",\"legendgroup\":\"AB_2820039 (CD224)\",\"marker\":{\"color\":\"#00cc96\",\"size\":1},\"name\":\"AB_2820039 (CD224)\",\"offsetgroup\":\"AB_2820039 (CD224)\",\"orientation\":\"v\",\"scalegroup\":\"True\",\"showlegend\":true,\"x\":[\"AB_2820039 (CD224)\",\"AB_2820039 (CD224)\",\"AB_2820039 (CD224)\",\"AB_2820039 (CD224)\",\"AB_2820039 (CD224)\",\"AB_2820039 (CD224)\"],\"x0\":\" \",\"xaxis\":\"x\",\"y\":[1.6249814286,0.0,0.0,0.0,0.0,10.17],\"y0\":\" \",\"yaxis\":\"y\",\"type\":\"violin\",\"width\":0.75},{\"alignmentgroup\":\"True\",\"box\":{\"visible\":true},\"hovertemplate\":\"ab_target=%{x}<br>value=%{y}<extra></extra>\",\"legendgroup\":\"AB_2800922 (CD8a)\",\"marker\":{\"color\":\"#ab63fa\",\"size\":1},\"name\":\"AB_2800922 (CD8a)\",\"offsetgroup\":\"AB_2800922 (CD8a)\",\"orientation\":\"v\",\"scalegroup\":\"True\",\"showlegend\":true,\"x\":[\"AB_2800922 (CD8a)\",\"AB_2800922 (CD8a)\",\"AB_2800922 (CD8a)\",\"AB_2800922 (CD8a)\",\"AB_2800922 (CD8a)\",\"AB_2800922 (CD8a)\"],\"x0\":\" \",\"xaxis\":\"x\",\"y\":[0.3565232,0.0,0.0,0.0,0.0,8.91308],\"y0\":\" \",\"yaxis\":\"y\",\"type\":\"violin\",\"width\":0.75},{\"alignmentgroup\":\"True\",\"box\":{\"visible\":true},\"hovertemplate\":\"ab_target=%{x}<br>value=%{y}<extra></extra>\",\"legendgroup\":\"AB_2749994 (CD195)\",\"marker\":{\"color\":\"#FFA15A\",\"size\":1},\"name\":\"AB_2749994 (CD195)\",\"offsetgroup\":\"AB_2749994 (CD195)\",\"orientation\":\"v\",\"scalegroup\":\"True\",\"showlegend\":true,\"x\":[\"AB_2749994 (CD195)\",\"AB_2749994 (CD195)\",\"AB_2749994 (CD195)\",\"AB_2749994 (CD195)\",\"AB_2749994 (CD195)\",\"AB_2749994 (CD195)\"],\"x0\":\" \",\"xaxis\":\"x\",\"y\":[0.9972902588,0.0,0.0,0.0,0.0,11.314],\"y0\":\" \",\"yaxis\":\"y\",\"type\":\"violin\",\"width\":0.75},{\"alignmentgroup\":\"True\",\"box\":{\"visible\":true},\"hovertemplate\":\"ab_target=%{x}<br>value=%{y}<extra></extra>\",\"legendgroup\":\"AB_2810482 (CD47)\",\"marker\":{\"color\":\"#19d3f3\",\"size\":1},\"name\":\"AB_2810482 (CD47)\",\"offsetgroup\":\"AB_2810482 (CD47)\",\"orientation\":\"v\",\"scalegroup\":\"True\",\"showlegend\":true,\"x\":[\"AB_2810482 (CD47)\",\"AB_2810482 (CD47)\",\"AB_2810482 (CD47)\",\"AB_2810482 (CD47)\",\"AB_2810482 (CD47)\",\"AB_2810482 (CD47)\"],\"x0\":\" \",\"xaxis\":\"x\",\"y\":[5.5810663636,0.0,8.821525,9.5427075,0.0,10.5711],\"y0\":\" \",\"yaxis\":\"y\",\"type\":\"violin\",\"width\":0.75},{\"alignmentgroup\":\"True\",\"box\":{\"visible\":true},\"hovertemplate\":\"ab_target=%{x}<br>value=%{y}<extra></extra>\",\"legendgroup\":\"AB_2904401 (KLRG1)\",\"marker\":{\"color\":\"#FF6692\",\"size\":1},\"name\":\"AB_2904401 (KLRG1)\",\"offsetgroup\":\"AB_2904401 (KLRG1)\",\"orientation\":\"v\",\"scalegroup\":\"True\",\"showlegend\":true,\"x\":[\"AB_2904401 (KLRG1)\",\"AB_2904401 (KLRG1)\",\"AB_2904401 (KLRG1)\",\"AB_2904401 (KLRG1)\",\"AB_2904401 (KLRG1)\",\"AB_2904401 (KLRG1)\"],\"x0\":\" \",\"xaxis\":\"x\",\"y\":[1.5126528,0.0,0.0,0.0,0.0,9.64133],\"y0\":\" \",\"yaxis\":\"y\",\"type\":\"violin\",\"width\":0.75},{\"alignmentgroup\":\"True\",\"box\":{\"visible\":true},\"hovertemplate\":\"ab_target=%{x}<br>value=%{y}<extra></extra>\",\"legendgroup\":\"AB_2734255 (CD16)\",\"marker\":{\"color\":\"#B6E880\",\"size\":1},\"name\":\"AB_2734255 (CD16)\",\"offsetgroup\":\"AB_2734255 (CD16)\",\"orientation\":\"v\",\"scalegroup\":\"True\",\"showlegend\":true,\"x\":[\"AB_2734255 (CD16)\",\"AB_2734255 (CD16)\",\"AB_2734255 (CD16)\",\"AB_2734255 (CD16)\",\"AB_2734255 (CD16)\",\"AB_2734255 (CD16)\"],\"x0\":\" \",\"xaxis\":\"x\",\"y\":[1.0291998193,0.0,0.0,0.0,0.0,9.44608],\"y0\":\" \",\"yaxis\":\"y\",\"type\":\"violin\",\"width\":0.75},{\"alignmentgroup\":\"True\",\"box\":{\"visible\":true},\"hovertemplate\":\"ab_target=%{x}<br>value=%{y}<extra></extra>\",\"legendgroup\":\"AB_2800738 (CD16)\",\"marker\":{\"color\":\"#FF97FF\",\"size\":1},\"name\":\"AB_2800738 (CD16)\",\"offsetgroup\":\"AB_2800738 (CD16)\",\"orientation\":\"v\",\"scalegroup\":\"True\",\"showlegend\":true,\"x\":[\"AB_2800738 (CD16)\",\"AB_2800738 (CD16)\",\"AB_2800738 (CD16)\",\"AB_2800738 (CD16)\",\"AB_2800738 (CD16)\",\"AB_2800738 (CD16)\"],\"x0\":\" \",\"xaxis\":\"x\",\"y\":[0.1999309524,0.0,0.0,0.0,0.0,8.3971],\"y0\":\" \",\"yaxis\":\"y\",\"type\":\"violin\",\"width\":0.75},{\"alignmentgroup\":\"True\",\"box\":{\"visible\":true},\"hovertemplate\":\"ab_target=%{x}<br>value=%{y}<extra></extra>\",\"legendgroup\":\"AB_2734445 (CD56)\",\"marker\":{\"color\":\"#FECB52\",\"size\":1},\"name\":\"AB_2734445 (CD56)\",\"offsetgroup\":\"AB_2734445 (CD56)\",\"orientation\":\"v\",\"scalegroup\":\"True\",\"showlegend\":true,\"x\":[\"AB_2734445 (CD56)\",\"AB_2734445 (CD56)\",\"AB_2734445 (CD56)\",\"AB_2734445 (CD56)\",\"AB_2734445 (CD56)\",\"AB_2734445 (CD56)\"],\"x0\":\" \",\"xaxis\":\"x\",\"y\":[0.2813818604,0.0,0.0,0.0,0.0,9.36256],\"y0\":\" \",\"yaxis\":\"y\",\"type\":\"violin\",\"width\":0.75},{\"alignmentgroup\":\"True\",\"box\":{\"visible\":true},\"hovertemplate\":\"ab_target=%{x}<br>value=%{y}<extra></extra>\",\"legendgroup\":\"AB_2814143 (CD94)\",\"marker\":{\"color\":\"#636efa\",\"size\":1},\"name\":\"AB_2814143 (CD94)\",\"offsetgroup\":\"AB_2814143 (CD94)\",\"orientation\":\"v\",\"scalegroup\":\"True\",\"showlegend\":true,\"x\":[\"AB_2814143 (CD94)\",\"AB_2814143 (CD94)\",\"AB_2814143 (CD94)\",\"AB_2814143 (CD94)\",\"AB_2814143 (CD94)\",\"AB_2814143 (CD94)\"],\"x0\":\" \",\"xaxis\":\"x\",\"y\":[0.4223854545,0.0,0.0,0.0,0.0,9.29248],\"y0\":\" \",\"yaxis\":\"y\",\"type\":\"violin\",\"width\":0.75},{\"alignmentgroup\":\"True\",\"box\":{\"visible\":true},\"hovertemplate\":\"ab_target=%{x}<br>value=%{y}<extra></extra>\",\"legendgroup\":\"AB_2749971 (CD11c)\",\"marker\":{\"color\":\"#EF553B\",\"size\":1},\"name\":\"AB_2749971 (CD11c)\",\"offsetgroup\":\"AB_2749971 (CD11c)\",\"orientation\":\"v\",\"scalegroup\":\"True\",\"showlegend\":true,\"x\":[\"AB_2749971 (CD11c)\",\"AB_2749971 (CD11c)\",\"AB_2749971 (CD11c)\",\"AB_2749971 (CD11c)\",\"AB_2749971 (CD11c)\",\"AB_2749971 (CD11c)\"],\"x0\":\" \",\"xaxis\":\"x\",\"y\":[1.1597453613,0.0,0.0,0.0,0.0,12.2266],\"y0\":\" \",\"yaxis\":\"y\",\"type\":\"violin\",\"width\":0.75},{\"alignmentgroup\":\"True\",\"box\":{\"visible\":true},\"hovertemplate\":\"ab_target=%{x}<br>value=%{y}<extra></extra>\",\"legendgroup\":\"AB_2814240 (CD122)\",\"marker\":{\"color\":\"#00cc96\",\"size\":1},\"name\":\"AB_2814240 (CD122)\",\"offsetgroup\":\"AB_2814240 (CD122)\",\"orientation\":\"v\",\"scalegroup\":\"True\",\"showlegend\":true,\"x\":[\"AB_2814240 (CD122)\",\"AB_2814240 (CD122)\",\"AB_2814240 (CD122)\",\"AB_2814240 (CD122)\",\"AB_2814240 (CD122)\",\"AB_2814240 (CD122)\"],\"x0\":\" \",\"xaxis\":\"x\",\"y\":[0.56716,0.0,0.0,0.0,0.0,10.219],\"y0\":\" \",\"yaxis\":\"y\",\"type\":\"violin\",\"width\":0.75},{\"alignmentgroup\":\"True\",\"box\":{\"visible\":true},\"hovertemplate\":\"ab_target=%{x}<br>value=%{y}<extra></extra>\",\"legendgroup\":\"AB_2814249 (CD328)\",\"marker\":{\"color\":\"#ab63fa\",\"size\":1},\"name\":\"AB_2814249 (CD328)\",\"offsetgroup\":\"AB_2814249 (CD328)\",\"orientation\":\"v\",\"scalegroup\":\"True\",\"showlegend\":true,\"x\":[\"AB_2814249 (CD328)\",\"AB_2814249 (CD328)\",\"AB_2814249 (CD328)\",\"AB_2814249 (CD328)\",\"AB_2814249 (CD328)\",\"AB_2814249 (CD328)\"],\"x0\":\" \",\"xaxis\":\"x\",\"y\":[0.0,0.0,0.0,0.0,0.0,0.0],\"y0\":\" \",\"yaxis\":\"y\",\"type\":\"violin\",\"width\":0.75},{\"alignmentgroup\":\"True\",\"box\":{\"visible\":true},\"hovertemplate\":\"ab_target=%{x}<br>value=%{y}<extra></extra>\",\"legendgroup\":\"AB_2800988 (CD194)\",\"marker\":{\"color\":\"#FFA15A\",\"size\":1},\"name\":\"AB_2800988 (CD194)\",\"offsetgroup\":\"AB_2800988 (CD194)\",\"orientation\":\"v\",\"scalegroup\":\"True\",\"showlegend\":true,\"x\":[\"AB_2800988 (CD194)\",\"AB_2800988 (CD194)\",\"AB_2800988 (CD194)\",\"AB_2800988 (CD194)\",\"AB_2800988 (CD194)\",\"AB_2800988 (CD194)\"],\"x0\":\" \",\"xaxis\":\"x\",\"y\":[0.0,0.0,0.0,0.0,0.0,0.0],\"y0\":\" \",\"yaxis\":\"y\",\"type\":\"violin\",\"width\":0.75},{\"alignmentgroup\":\"True\",\"box\":{\"visible\":true},\"hovertemplate\":\"ab_target=%{x}<br>value=%{y}<extra></extra>\",\"legendgroup\":\"AB_2749979 (CD194)\",\"marker\":{\"color\":\"#19d3f3\",\"size\":1},\"name\":\"AB_2749979 (CD194)\",\"offsetgroup\":\"AB_2749979 (CD194)\",\"orientation\":\"v\",\"scalegroup\":\"True\",\"showlegend\":true,\"x\":[\"AB_2749979 (CD194)\",\"AB_2749979 (CD194)\",\"AB_2749979 (CD194)\",\"AB_2749979 (CD194)\",\"AB_2749979 (CD194)\",\"AB_2749979 (CD194)\"],\"x0\":\" \",\"xaxis\":\"x\",\"y\":[0.7616733936,0.0,0.0,0.0,0.0,10.4029],\"y0\":\" \",\"yaxis\":\"y\",\"type\":\"violin\",\"width\":0.75},{\"alignmentgroup\":\"True\",\"box\":{\"visible\":true},\"hovertemplate\":\"ab_target=%{x}<br>value=%{y}<extra></extra>\",\"legendgroup\":\"AB_2801002 (CD56)\",\"marker\":{\"color\":\"#FF6692\",\"size\":1},\"name\":\"AB_2801002 (CD56)\",\"offsetgroup\":\"AB_2801002 (CD56)\",\"orientation\":\"v\",\"scalegroup\":\"True\",\"showlegend\":true,\"x\":[\"AB_2801002 (CD56)\",\"AB_2801002 (CD56)\",\"AB_2801002 (CD56)\",\"AB_2801002 (CD56)\",\"AB_2801002 (CD56)\",\"AB_2801002 (CD56)\"],\"x0\":\" \",\"xaxis\":\"x\",\"y\":[0.0,0.0,0.0,0.0,0.0,0.0],\"y0\":\" \",\"yaxis\":\"y\",\"type\":\"violin\",\"width\":0.75},{\"alignmentgroup\":\"True\",\"box\":{\"visible\":true},\"hovertemplate\":\"ab_target=%{x}<br>value=%{y}<extra></extra>\",\"legendgroup\":\"AB_2800739 (CD18)\",\"marker\":{\"color\":\"#B6E880\",\"size\":1},\"name\":\"AB_2800739 (CD18)\",\"offsetgroup\":\"AB_2800739 (CD18)\",\"orientation\":\"v\",\"scalegroup\":\"True\",\"showlegend\":true,\"x\":[\"AB_2800739 (CD18)\",\"AB_2800739 (CD18)\",\"AB_2800739 (CD18)\",\"AB_2800739 (CD18)\",\"AB_2800739 (CD18)\",\"AB_2800739 (CD18)\"],\"x0\":\" \",\"xaxis\":\"x\",\"y\":[0.0,0.0,0.0,0.0,0.0,0.0],\"y0\":\" \",\"yaxis\":\"y\",\"type\":\"violin\",\"width\":0.75},{\"alignmentgroup\":\"True\",\"box\":{\"visible\":true},\"hovertemplate\":\"ab_target=%{x}<br>value=%{y}<extra></extra>\",\"legendgroup\":\"AB_2800787 (CD95)\",\"marker\":{\"color\":\"#FF97FF\",\"size\":1},\"name\":\"AB_2800787 (CD95)\",\"offsetgroup\":\"AB_2800787 (CD95)\",\"orientation\":\"v\",\"scalegroup\":\"True\",\"showlegend\":true,\"x\":[\"AB_2800787 (CD95)\",\"AB_2800787 (CD95)\",\"AB_2800787 (CD95)\",\"AB_2800787 (CD95)\",\"AB_2800787 (CD95)\",\"AB_2800787 (CD95)\"],\"x0\":\" \",\"xaxis\":\"x\",\"y\":[0.6820759524,0.0,0.0,0.0,0.0,9.74165],\"y0\":\" \",\"yaxis\":\"y\",\"type\":\"violin\",\"width\":0.75},{\"alignmentgroup\":\"True\",\"box\":{\"visible\":true},\"hovertemplate\":\"ab_target=%{x}<br>value=%{y}<extra></extra>\",\"legendgroup\":\"AB_2734322 (CD279)\",\"marker\":{\"color\":\"#FECB52\",\"size\":1},\"name\":\"AB_2734322 (CD279)\",\"offsetgroup\":\"AB_2734322 (CD279)\",\"orientation\":\"v\",\"scalegroup\":\"True\",\"showlegend\":true,\"x\":[\"AB_2734322 (CD279)\",\"AB_2734322 (CD279)\",\"AB_2734322 (CD279)\",\"AB_2734322 (CD279)\",\"AB_2734322 (CD279)\",\"AB_2734322 (CD279)\"],\"x0\":\" \",\"xaxis\":\"x\",\"y\":[0.515400332,0.0,0.0,0.0,0.0,10.7199],\"y0\":\" \",\"yaxis\":\"y\",\"type\":\"violin\",\"width\":0.75},{\"alignmentgroup\":\"True\",\"box\":{\"visible\":true},\"hovertemplate\":\"ab_target=%{x}<br>value=%{y}<extra></extra>\",\"legendgroup\":\"AB_2800857 (CD244)\",\"marker\":{\"color\":\"#636efa\",\"size\":1},\"name\":\"AB_2800857 (CD244)\",\"offsetgroup\":\"AB_2800857 (CD244)\",\"orientation\":\"v\",\"scalegroup\":\"True\",\"showlegend\":true,\"x\":[\"AB_2800857 (CD244)\",\"AB_2800857 (CD244)\",\"AB_2800857 (CD244)\",\"AB_2800857 (CD244)\",\"AB_2800857 (CD244)\",\"AB_2800857 (CD244)\"],\"x0\":\" \",\"xaxis\":\"x\",\"y\":[0.2376505714,0.0,0.0,0.0,0.0,8.31777],\"y0\":\" \",\"yaxis\":\"y\",\"type\":\"violin\",\"width\":0.75},{\"alignmentgroup\":\"True\",\"box\":{\"visible\":true},\"hovertemplate\":\"ab_target=%{x}<br>value=%{y}<extra></extra>\",\"legendgroup\":\"AB_2749998 (CD161)\",\"marker\":{\"color\":\"#EF553B\",\"size\":1},\"name\":\"AB_2749998 (CD161)\",\"offsetgroup\":\"AB_2749998 (CD161)\",\"orientation\":\"v\",\"scalegroup\":\"True\",\"showlegend\":true,\"x\":[\"AB_2749998 (CD161)\",\"AB_2749998 (CD161)\",\"AB_2749998 (CD161)\",\"AB_2749998 (CD161)\",\"AB_2749998 (CD161)\",\"AB_2749998 (CD161)\"],\"x0\":\" \",\"xaxis\":\"x\",\"y\":[0.8790433105,0.0,0.0,0.0,0.0,11.7041],\"y0\":\" \",\"yaxis\":\"y\",\"type\":\"violin\",\"width\":0.75},{\"alignmentgroup\":\"True\",\"box\":{\"visible\":true},\"hovertemplate\":\"ab_target=%{x}<br>value=%{y}<extra></extra>\",\"legendgroup\":\"AB_2800844 (CD314)\",\"marker\":{\"color\":\"#00cc96\",\"size\":1},\"name\":\"AB_2800844 (CD314)\",\"offsetgroup\":\"AB_2800844 (CD314)\",\"orientation\":\"v\",\"scalegroup\":\"True\",\"showlegend\":true,\"x\":[\"AB_2800844 (CD314)\",\"AB_2800844 (CD314)\",\"AB_2800844 (CD314)\",\"AB_2800844 (CD314)\",\"AB_2800844 (CD314)\",\"AB_2800844 (CD314)\"],\"x0\":\" \",\"xaxis\":\"x\",\"y\":[0.7699175,0.0,0.0,0.0,0.0,9.23901],\"y0\":\" \",\"yaxis\":\"y\",\"type\":\"violin\",\"width\":0.75},{\"alignmentgroup\":\"True\",\"box\":{\"visible\":true},\"hovertemplate\":\"ab_target=%{x}<br>value=%{y}<extra></extra>\",\"legendgroup\":\"AB_2800899 (CD226)\",\"marker\":{\"color\":\"#ab63fa\",\"size\":1},\"name\":\"AB_2800899 (CD226)\",\"offsetgroup\":\"AB_2800899 (CD226)\",\"orientation\":\"v\",\"scalegroup\":\"True\",\"showlegend\":true,\"x\":[\"AB_2800899 (CD226)\",\"AB_2800899 (CD226)\",\"AB_2800899 (CD226)\",\"AB_2800899 (CD226)\",\"AB_2800899 (CD226)\",\"AB_2800899 (CD226)\"],\"x0\":\" \",\"xaxis\":\"x\",\"y\":[0.4659978571,0.0,0.0,0.0,0.0,9.82598],\"y0\":\" \",\"yaxis\":\"y\",\"type\":\"violin\",\"width\":0.75},{\"alignmentgroup\":\"True\",\"box\":{\"visible\":true},\"hovertemplate\":\"ab_target=%{x}<br>value=%{y}<extra></extra>\",\"legendgroup\":\"AB_2832651 (CD101)\",\"marker\":{\"color\":\"#FFA15A\",\"size\":1},\"name\":\"AB_2832651 (CD101)\",\"offsetgroup\":\"AB_2832651 (CD101)\",\"orientation\":\"v\",\"scalegroup\":\"True\",\"showlegend\":true,\"x\":[\"AB_2832651 (CD101)\",\"AB_2832651 (CD101)\",\"AB_2832651 (CD101)\",\"AB_2832651 (CD101)\",\"AB_2832651 (CD101)\",\"AB_2832651 (CD101)\"],\"x0\":\" \",\"xaxis\":\"x\",\"y\":[0.9045309524,0.0,0.0,0.0,0.0,9.80689],\"y0\":\" \",\"yaxis\":\"y\",\"type\":\"violin\",\"width\":0.75},{\"alignmentgroup\":\"True\",\"box\":{\"visible\":true},\"hovertemplate\":\"ab_target=%{x}<br>value=%{y}<extra></extra>\",\"legendgroup\":\"AB_2800770 (CD62L)\",\"marker\":{\"color\":\"#19d3f3\",\"size\":1},\"name\":\"AB_2800770 (CD62L)\",\"offsetgroup\":\"AB_2800770 (CD62L)\",\"orientation\":\"v\",\"scalegroup\":\"True\",\"showlegend\":true,\"x\":[\"AB_2800770 (CD62L)\",\"AB_2800770 (CD62L)\",\"AB_2800770 (CD62L)\",\"AB_2800770 (CD62L)\",\"AB_2800770 (CD62L)\",\"AB_2800770 (CD62L)\"],\"x0\":\" \",\"xaxis\":\"x\",\"y\":[3.7407088095,0.0,0.0,8.9817075,0.0,10.0823],\"y0\":\" \",\"yaxis\":\"y\",\"type\":\"violin\",\"width\":0.75},{\"alignmentgroup\":\"True\",\"box\":{\"visible\":true},\"hovertemplate\":\"ab_target=%{x}<br>value=%{y}<extra></extra>\",\"legendgroup\":\"AB_2734351 (CD8a)\",\"marker\":{\"color\":\"#FF6692\",\"size\":1},\"name\":\"AB_2734351 (CD8a)\",\"offsetgroup\":\"AB_2734351 (CD8a)\",\"orientation\":\"v\",\"scalegroup\":\"True\",\"showlegend\":true,\"x\":[\"AB_2734351 (CD8a)\",\"AB_2734351 (CD8a)\",\"AB_2734351 (CD8a)\",\"AB_2734351 (CD8a)\",\"AB_2734351 (CD8a)\",\"AB_2734351 (CD8a)\"],\"x0\":\" \",\"xaxis\":\"x\",\"y\":[0.3531526514,0.0,0.0,0.0,0.0,12.8807],\"y0\":\" \",\"yaxis\":\"y\",\"type\":\"violin\",\"width\":0.75},{\"alignmentgroup\":\"True\",\"box\":{\"visible\":true},\"hovertemplate\":\"ab_target=%{x}<br>value=%{y}<extra></extra>\",\"legendgroup\":\"AB_2734312 (CD90)\",\"marker\":{\"color\":\"#B6E880\",\"size\":1},\"name\":\"AB_2734312 (CD90)\",\"offsetgroup\":\"AB_2734312 (CD90)\",\"orientation\":\"v\",\"scalegroup\":\"True\",\"showlegend\":true,\"x\":[\"AB_2734312 (CD90)\",\"AB_2734312 (CD90)\",\"AB_2734312 (CD90)\",\"AB_2734312 (CD90)\",\"AB_2734312 (CD90)\",\"AB_2734312 (CD90)\"],\"x0\":\" \",\"xaxis\":\"x\",\"y\":[1.2329946826,0.0,0.0,0.0,0.0,14.1526],\"y0\":\" \",\"yaxis\":\"y\",\"type\":\"violin\",\"width\":0.75},{\"alignmentgroup\":\"True\",\"box\":{\"visible\":true},\"hovertemplate\":\"ab_target=%{x}<br>value=%{y}<extra></extra>\",\"legendgroup\":\"AB_2800935 (CD11a)\",\"marker\":{\"color\":\"#FF97FF\",\"size\":1},\"name\":\"AB_2800935 (CD11a)\",\"offsetgroup\":\"AB_2800935 (CD11a)\",\"orientation\":\"v\",\"scalegroup\":\"True\",\"showlegend\":true,\"x\":[\"AB_2800935 (CD11a)\",\"AB_2800935 (CD11a)\",\"AB_2800935 (CD11a)\",\"AB_2800935 (CD11a)\",\"AB_2800935 (CD11a)\",\"AB_2800935 (CD11a)\"],\"x0\":\" \",\"xaxis\":\"x\",\"y\":[0.4138186364,0.0,0.0,0.0,0.0,9.10401],\"y0\":\" \",\"yaxis\":\"y\",\"type\":\"violin\",\"width\":0.75},{\"alignmentgroup\":\"True\",\"box\":{\"visible\":true},\"hovertemplate\":\"ab_target=%{x}<br>value=%{y}<extra></extra>\",\"legendgroup\":\"AB_2800825 (CD49f)\",\"marker\":{\"color\":\"#FECB52\",\"size\":1},\"name\":\"AB_2800825 (CD49f)\",\"offsetgroup\":\"AB_2800825 (CD49f)\",\"orientation\":\"v\",\"scalegroup\":\"True\",\"showlegend\":true,\"x\":[\"AB_2800825 (CD49f)\",\"AB_2800825 (CD49f)\",\"AB_2800825 (CD49f)\",\"AB_2800825 (CD49f)\",\"AB_2800825 (CD49f)\",\"AB_2800825 (CD49f)\"],\"x0\":\" \",\"xaxis\":\"x\",\"y\":[0.0,0.0,0.0,0.0,0.0,0.0],\"y0\":\" \",\"yaxis\":\"y\",\"type\":\"violin\",\"width\":0.75},{\"alignmentgroup\":\"True\",\"box\":{\"visible\":true},\"hovertemplate\":\"ab_target=%{x}<br>value=%{y}<extra></extra>\",\"legendgroup\":\"AB_2750007 (CD244)\",\"marker\":{\"color\":\"#636efa\",\"size\":1},\"name\":\"AB_2750007 (CD244)\",\"offsetgroup\":\"AB_2750007 (CD244)\",\"orientation\":\"v\",\"scalegroup\":\"True\",\"showlegend\":true,\"x\":[\"AB_2750007 (CD244)\",\"AB_2750007 (CD244)\",\"AB_2750007 (CD244)\",\"AB_2750007 (CD244)\",\"AB_2750007 (CD244)\",\"AB_2750007 (CD244)\"],\"x0\":\" \",\"xaxis\":\"x\",\"y\":[0.397102085,0.0,0.0,0.0,0.0,14.0061],\"y0\":\" \",\"yaxis\":\"y\",\"type\":\"violin\",\"width\":0.75},{\"alignmentgroup\":\"True\",\"box\":{\"visible\":true},\"hovertemplate\":\"ab_target=%{x}<br>value=%{y}<extra></extra>\",\"legendgroup\":\"AB_2734254 (CD14)\",\"marker\":{\"color\":\"#EF553B\",\"size\":1},\"name\":\"AB_2734254 (CD14)\",\"offsetgroup\":\"AB_2734254 (CD14)\",\"orientation\":\"v\",\"scalegroup\":\"True\",\"showlegend\":true,\"x\":[\"AB_2734254 (CD14)\",\"AB_2734254 (CD14)\",\"AB_2734254 (CD14)\",\"AB_2734254 (CD14)\",\"AB_2734254 (CD14)\",\"AB_2734254 (CD14)\"],\"x0\":\" \",\"xaxis\":\"x\",\"y\":[1.6467213623,0.0,0.0,0.0,0.0,10.4684],\"y0\":\" \",\"yaxis\":\"y\",\"type\":\"violin\",\"width\":0.75},{\"alignmentgroup\":\"True\",\"box\":{\"visible\":true},\"hovertemplate\":\"ab_target=%{x}<br>value=%{y}<extra></extra>\",\"legendgroup\":\"AB_2800747 (CD27)\",\"marker\":{\"color\":\"#00cc96\",\"size\":1},\"name\":\"AB_2800747 (CD27)\",\"offsetgroup\":\"AB_2800747 (CD27)\",\"orientation\":\"v\",\"scalegroup\":\"True\",\"showlegend\":true,\"x\":[\"AB_2800747 (CD27)\",\"AB_2800747 (CD27)\",\"AB_2800747 (CD27)\",\"AB_2800747 (CD27)\",\"AB_2800747 (CD27)\",\"AB_2800747 (CD27)\"],\"x0\":\" \",\"xaxis\":\"x\",\"y\":[0.6327189655,0.0,0.0,0.0,0.0,9.64181],\"y0\":\" \",\"yaxis\":\"y\",\"type\":\"violin\",\"width\":0.75},{\"alignmentgroup\":\"True\",\"box\":{\"visible\":true},\"hovertemplate\":\"ab_target=%{x}<br>value=%{y}<extra></extra>\",\"legendgroup\":\"AB_2810435 (CD26)\",\"marker\":{\"color\":\"#ab63fa\",\"size\":1},\"name\":\"AB_2810435 (CD26)\",\"offsetgroup\":\"AB_2810435 (CD26)\",\"orientation\":\"v\",\"scalegroup\":\"True\",\"showlegend\":true,\"x\":[\"AB_2810435 (CD26)\",\"AB_2810435 (CD26)\",\"AB_2810435 (CD26)\",\"AB_2810435 (CD26)\",\"AB_2810435 (CD26)\",\"AB_2810435 (CD26)\"],\"x0\":\" \",\"xaxis\":\"x\",\"y\":[0.6335662069,0.0,0.0,0.0,0.0,9.29803],\"y0\":\" \",\"yaxis\":\"y\",\"type\":\"violin\",\"width\":0.75},{\"alignmentgroup\":\"True\",\"box\":{\"visible\":true},\"hovertemplate\":\"ab_target=%{x}<br>value=%{y}<extra></extra>\",\"legendgroup\":\"AB_2749969 (CD4)\",\"marker\":{\"color\":\"#FFA15A\",\"size\":1},\"name\":\"AB_2749969 (CD4)\",\"offsetgroup\":\"AB_2749969 (CD4)\",\"orientation\":\"v\",\"scalegroup\":\"True\",\"showlegend\":true,\"x\":[\"AB_2749969 (CD4)\",\"AB_2749969 (CD4)\",\"AB_2749969 (CD4)\",\"AB_2749969 (CD4)\",\"AB_2749969 (CD4)\",\"AB_2749969 (CD4)\"],\"x0\":\" \",\"xaxis\":\"x\",\"y\":[0.9808549219,0.0,0.0,0.0,0.0,11.1155],\"y0\":\" \",\"yaxis\":\"y\",\"type\":\"violin\",\"width\":0.75},{\"alignmentgroup\":\"True\",\"box\":{\"visible\":true},\"hovertemplate\":\"ab_target=%{x}<br>value=%{y}<extra></extra>\",\"legendgroup\":\"AB_2800726 (CD5)\",\"marker\":{\"color\":\"#19d3f3\",\"size\":1},\"name\":\"AB_2800726 (CD5)\",\"offsetgroup\":\"AB_2800726 (CD5)\",\"orientation\":\"v\",\"scalegroup\":\"True\",\"showlegend\":true,\"x\":[\"AB_2800726 (CD5)\",\"AB_2800726 (CD5)\",\"AB_2800726 (CD5)\",\"AB_2800726 (CD5)\",\"AB_2800726 (CD5)\",\"AB_2800726 (CD5)\"],\"x0\":\" \",\"xaxis\":\"x\",\"y\":[1.6473059524,0.0,0.0,0.0,0.0,9.96221],\"y0\":\" \",\"yaxis\":\"y\",\"type\":\"violin\",\"width\":0.75},{\"alignmentgroup\":\"True\",\"box\":{\"visible\":true},\"hovertemplate\":\"ab_target=%{x}<br>value=%{y}<extra></extra>\",\"legendgroup\":\"AB_2750000 (CD27)\",\"marker\":{\"color\":\"#FF6692\",\"size\":1},\"name\":\"AB_2750000 (CD27)\",\"offsetgroup\":\"AB_2750000 (CD27)\",\"orientation\":\"v\",\"scalegroup\":\"True\",\"showlegend\":true,\"x\":[\"AB_2750000 (CD27)\",\"AB_2750000 (CD27)\",\"AB_2750000 (CD27)\",\"AB_2750000 (CD27)\",\"AB_2750000 (CD27)\",\"AB_2750000 (CD27)\"],\"x0\":\" \",\"xaxis\":\"x\",\"y\":[1.7202988428,0.0,0.0,0.0,0.0,11.6732],\"y0\":\" \",\"yaxis\":\"y\",\"type\":\"violin\",\"width\":0.75},{\"alignmentgroup\":\"True\",\"box\":{\"visible\":true},\"hovertemplate\":\"ab_target=%{x}<br>value=%{y}<extra></extra>\",\"legendgroup\":\"AB_2820032 (CD99)\",\"marker\":{\"color\":\"#B6E880\",\"size\":1},\"name\":\"AB_2820032 (CD99)\",\"offsetgroup\":\"AB_2820032 (CD99)\",\"orientation\":\"v\",\"scalegroup\":\"True\",\"showlegend\":true,\"x\":[\"AB_2820032 (CD99)\",\"AB_2820032 (CD99)\",\"AB_2820032 (CD99)\",\"AB_2820032 (CD99)\",\"AB_2820032 (CD99)\",\"AB_2820032 (CD99)\"],\"x0\":\" \",\"xaxis\":\"x\",\"y\":[1.3108042857,0.0,0.0,0.0,0.0,9.24513],\"y0\":\" \",\"yaxis\":\"y\",\"type\":\"violin\",\"width\":0.75},{\"alignmentgroup\":\"True\",\"box\":{\"visible\":true},\"hovertemplate\":\"ab_target=%{x}<br>value=%{y}<extra></extra>\",\"legendgroup\":\"AB_2734366 (CD127)\",\"marker\":{\"color\":\"#FF97FF\",\"size\":1},\"name\":\"AB_2734366 (CD127)\",\"offsetgroup\":\"AB_2734366 (CD127)\",\"orientation\":\"v\",\"scalegroup\":\"True\",\"showlegend\":true,\"x\":[\"AB_2734366 (CD127)\",\"AB_2734366 (CD127)\",\"AB_2734366 (CD127)\",\"AB_2734366 (CD127)\",\"AB_2734366 (CD127)\",\"AB_2734366 (CD127)\"],\"x0\":\" \",\"xaxis\":\"x\",\"y\":[0.6489724609,0.0,0.0,0.0,0.0,11.449],\"y0\":\" \",\"yaxis\":\"y\",\"type\":\"violin\",\"width\":0.75},{\"alignmentgroup\":\"True\",\"box\":{\"visible\":true},\"hovertemplate\":\"ab_target=%{x}<br>value=%{y}<extra></extra>\",\"legendgroup\":\"AB_2800725 (CD4)\",\"marker\":{\"color\":\"#FECB52\",\"size\":1},\"name\":\"AB_2800725 (CD4)\",\"offsetgroup\":\"AB_2800725 (CD4)\",\"orientation\":\"v\",\"scalegroup\":\"True\",\"showlegend\":true,\"x\":[\"AB_2800725 (CD4)\",\"AB_2800725 (CD4)\",\"AB_2800725 (CD4)\",\"AB_2800725 (CD4)\",\"AB_2800725 (CD4)\",\"AB_2800725 (CD4)\"],\"x0\":\" \",\"xaxis\":\"x\",\"y\":[0.1821435714,0.0,0.0,0.0,0.0,7.65003],\"y0\":\" \",\"yaxis\":\"y\",\"type\":\"violin\",\"width\":0.75},{\"alignmentgroup\":\"True\",\"box\":{\"visible\":true},\"hovertemplate\":\"ab_target=%{x}<br>value=%{y}<extra></extra>\",\"legendgroup\":\"AB_2800937 (CD127)\",\"marker\":{\"color\":\"#636efa\",\"size\":1},\"name\":\"AB_2800937 (CD127)\",\"offsetgroup\":\"AB_2800937 (CD127)\",\"orientation\":\"v\",\"scalegroup\":\"True\",\"showlegend\":true,\"x\":[\"AB_2800937 (CD127)\",\"AB_2800937 (CD127)\",\"AB_2800937 (CD127)\",\"AB_2800937 (CD127)\",\"AB_2800937 (CD127)\",\"AB_2800937 (CD127)\"],\"x0\":\" \",\"xaxis\":\"x\",\"y\":[0.4024459091,0.0,0.0,0.0,0.0,8.85381],\"y0\":\" \",\"yaxis\":\"y\",\"type\":\"violin\",\"width\":0.75},{\"alignmentgroup\":\"True\",\"box\":{\"visible\":true},\"hovertemplate\":\"ab_target=%{x}<br>value=%{y}<extra></extra>\",\"legendgroup\":\"AB_2800793 (TCR alpha/beta)\",\"marker\":{\"color\":\"#EF553B\",\"size\":1},\"name\":\"AB_2800793 (TCR alpha/beta)\",\"offsetgroup\":\"AB_2800793 (TCR alpha/beta)\",\"orientation\":\"v\",\"scalegroup\":\"True\",\"showlegend\":true,\"x\":[\"AB_2800793 (TCR alpha/beta)\",\"AB_2800793 (TCR alpha/beta)\",\"AB_2800793 (TCR alpha/beta)\",\"AB_2800793 (TCR alpha/beta)\",\"AB_2800793 (TCR alpha/beta)\",\"AB_2800793 (TCR alpha/beta)\"],\"x0\":\" \",\"xaxis\":\"x\",\"y\":[0.2535062857,0.0,0.0,0.0,0.0,8.87272],\"y0\":\" \",\"yaxis\":\"y\",\"type\":\"violin\",\"width\":0.75},{\"alignmentgroup\":\"True\",\"box\":{\"visible\":true},\"hovertemplate\":\"ab_target=%{x}<br>value=%{y}<extra></extra>\",\"legendgroup\":\"AB_2734353 (CD3)\",\"marker\":{\"color\":\"#00cc96\",\"size\":1},\"name\":\"AB_2734353 (CD3)\",\"offsetgroup\":\"AB_2734353 (CD3)\",\"orientation\":\"v\",\"scalegroup\":\"True\",\"showlegend\":true,\"x\":[\"AB_2734353 (CD3)\",\"AB_2734353 (CD3)\",\"AB_2734353 (CD3)\",\"AB_2734353 (CD3)\",\"AB_2734353 (CD3)\",\"AB_2734353 (CD3)\"],\"x0\":\" \",\"xaxis\":\"x\",\"y\":[0.0781910059,0.0,0.0,0.0,0.0,10.3854],\"y0\":\" \",\"yaxis\":\"y\",\"type\":\"violin\",\"width\":0.75},{\"alignmentgroup\":\"True\",\"box\":{\"visible\":true},\"hovertemplate\":\"ab_target=%{x}<br>value=%{y}<extra></extra>\",\"legendgroup\":\"AB_2800914 (CD7)\",\"marker\":{\"color\":\"#ab63fa\",\"size\":1},\"name\":\"AB_2800914 (CD7)\",\"offsetgroup\":\"AB_2800914 (CD7)\",\"orientation\":\"v\",\"scalegroup\":\"True\",\"showlegend\":true,\"x\":[\"AB_2800914 (CD7)\",\"AB_2800914 (CD7)\",\"AB_2800914 (CD7)\",\"AB_2800914 (CD7)\",\"AB_2800914 (CD7)\",\"AB_2800914 (CD7)\"],\"x0\":\" \",\"xaxis\":\"x\",\"y\":[0.0,0.0,0.0,0.0,0.0,0.0],\"y0\":\" \",\"yaxis\":\"y\",\"type\":\"violin\",\"width\":0.75},{\"alignmentgroup\":\"True\",\"box\":{\"visible\":true},\"hovertemplate\":\"ab_target=%{x}<br>value=%{y}<extra></extra>\",\"legendgroup\":\"AB_2800751 (CD28)\",\"marker\":{\"color\":\"#FFA15A\",\"size\":1},\"name\":\"AB_2800751 (CD28)\",\"offsetgroup\":\"AB_2800751 (CD28)\",\"orientation\":\"v\",\"scalegroup\":\"True\",\"showlegend\":true,\"x\":[\"AB_2800751 (CD28)\",\"AB_2800751 (CD28)\",\"AB_2800751 (CD28)\",\"AB_2800751 (CD28)\",\"AB_2800751 (CD28)\",\"AB_2800751 (CD28)\"],\"x0\":\" \",\"xaxis\":\"x\",\"y\":[0.0,0.0,0.0,0.0,0.0,0.0],\"y0\":\" \",\"yaxis\":\"y\",\"type\":\"violin\",\"width\":0.75},{\"alignmentgroup\":\"True\",\"box\":{\"visible\":true},\"hovertemplate\":\"ab_target=%{x}<br>value=%{y}<extra></extra>\",\"legendgroup\":\"AB_2734345 (CD7)\",\"marker\":{\"color\":\"#19d3f3\",\"size\":1},\"name\":\"AB_2734345 (CD7)\",\"offsetgroup\":\"AB_2734345 (CD7)\",\"orientation\":\"v\",\"scalegroup\":\"True\",\"showlegend\":true,\"x\":[\"AB_2734345 (CD7)\",\"AB_2734345 (CD7)\",\"AB_2734345 (CD7)\",\"AB_2734345 (CD7)\",\"AB_2734345 (CD7)\",\"AB_2734345 (CD7)\"],\"x0\":\" \",\"xaxis\":\"x\",\"y\":[0.2499613574,0.0,0.0,0.0,0.0,12.3266],\"y0\":\" \",\"yaxis\":\"y\",\"type\":\"violin\",\"width\":0.75},{\"alignmentgroup\":\"True\",\"box\":{\"visible\":true},\"hovertemplate\":\"ab_target=%{x}<br>value=%{y}<extra></extra>\",\"legendgroup\":\"AB_2800723 (CD3)\",\"marker\":{\"color\":\"#FF6692\",\"size\":1},\"name\":\"AB_2800723 (CD3)\",\"offsetgroup\":\"AB_2800723 (CD3)\",\"orientation\":\"v\",\"scalegroup\":\"True\",\"showlegend\":true,\"x\":[\"AB_2800723 (CD3)\",\"AB_2800723 (CD3)\",\"AB_2800723 (CD3)\",\"AB_2800723 (CD3)\",\"AB_2800723 (CD3)\",\"AB_2800723 (CD3)\"],\"x0\":\" \",\"xaxis\":\"x\",\"y\":[0.0,0.0,0.0,0.0,0.0,0.0],\"y0\":\" \",\"yaxis\":\"y\",\"type\":\"violin\",\"width\":0.75},{\"alignmentgroup\":\"True\",\"box\":{\"visible\":true},\"hovertemplate\":\"ab_target=%{x}<br>value=%{y}<extra></extra>\",\"legendgroup\":\"AB_2810464 (CD2)\",\"marker\":{\"color\":\"#B6E880\",\"size\":1},\"name\":\"AB_2810464 (CD2)\",\"offsetgroup\":\"AB_2810464 (CD2)\",\"orientation\":\"v\",\"scalegroup\":\"True\",\"showlegend\":true,\"x\":[\"AB_2810464 (CD2)\",\"AB_2810464 (CD2)\",\"AB_2810464 (CD2)\",\"AB_2810464 (CD2)\",\"AB_2810464 (CD2)\",\"AB_2810464 (CD2)\"],\"x0\":\" \",\"xaxis\":\"x\",\"y\":[0.0,0.0,0.0,0.0,0.0,0.0],\"y0\":\" \",\"yaxis\":\"y\",\"type\":\"violin\",\"width\":0.75}],                        {\"template\":{\"data\":{\"histogram2dcontour\":[{\"type\":\"histogram2dcontour\",\"colorbar\":{\"outlinewidth\":0,\"ticks\":\"\"},\"colorscale\":[[0.0,\"#0d0887\"],[0.1111111111111111,\"#46039f\"],[0.2222222222222222,\"#7201a8\"],[0.3333333333333333,\"#9c179e\"],[0.4444444444444444,\"#bd3786\"],[0.5555555555555556,\"#d8576b\"],[0.6666666666666666,\"#ed7953\"],[0.7777777777777778,\"#fb9f3a\"],[0.8888888888888888,\"#fdca26\"],[1.0,\"#f0f921\"]]}],\"choropleth\":[{\"type\":\"choropleth\",\"colorbar\":{\"outlinewidth\":0,\"ticks\":\"\"}}],\"histogram2d\":[{\"type\":\"histogram2d\",\"colorbar\":{\"outlinewidth\":0,\"ticks\":\"\"},\"colorscale\":[[0.0,\"#0d0887\"],[0.1111111111111111,\"#46039f\"],[0.2222222222222222,\"#7201a8\"],[0.3333333333333333,\"#9c179e\"],[0.4444444444444444,\"#bd3786\"],[0.5555555555555556,\"#d8576b\"],[0.6666666666666666,\"#ed7953\"],[0.7777777777777778,\"#fb9f3a\"],[0.8888888888888888,\"#fdca26\"],[1.0,\"#f0f921\"]]}],\"heatmap\":[{\"type\":\"heatmap\",\"colorbar\":{\"outlinewidth\":0,\"ticks\":\"\"},\"colorscale\":[[0.0,\"#0d0887\"],[0.1111111111111111,\"#46039f\"],[0.2222222222222222,\"#7201a8\"],[0.3333333333333333,\"#9c179e\"],[0.4444444444444444,\"#bd3786\"],[0.5555555555555556,\"#d8576b\"],[0.6666666666666666,\"#ed7953\"],[0.7777777777777778,\"#fb9f3a\"],[0.8888888888888888,\"#fdca26\"],[1.0,\"#f0f921\"]]}],\"heatmapgl\":[{\"type\":\"heatmapgl\",\"colorbar\":{\"outlinewidth\":0,\"ticks\":\"\"},\"colorscale\":[[0.0,\"#0d0887\"],[0.1111111111111111,\"#46039f\"],[0.2222222222222222,\"#7201a8\"],[0.3333333333333333,\"#9c179e\"],[0.4444444444444444,\"#bd3786\"],[0.5555555555555556,\"#d8576b\"],[0.6666666666666666,\"#ed7953\"],[0.7777777777777778,\"#fb9f3a\"],[0.8888888888888888,\"#fdca26\"],[1.0,\"#f0f921\"]]}],\"contourcarpet\":[{\"type\":\"contourcarpet\",\"colorbar\":{\"outlinewidth\":0,\"ticks\":\"\"}}],\"contour\":[{\"type\":\"contour\",\"colorbar\":{\"outlinewidth\":0,\"ticks\":\"\"},\"colorscale\":[[0.0,\"#0d0887\"],[0.1111111111111111,\"#46039f\"],[0.2222222222222222,\"#7201a8\"],[0.3333333333333333,\"#9c179e\"],[0.4444444444444444,\"#bd3786\"],[0.5555555555555556,\"#d8576b\"],[0.6666666666666666,\"#ed7953\"],[0.7777777777777778,\"#fb9f3a\"],[0.8888888888888888,\"#fdca26\"],[1.0,\"#f0f921\"]]}],\"surface\":[{\"type\":\"surface\",\"colorbar\":{\"outlinewidth\":0,\"ticks\":\"\"},\"colorscale\":[[0.0,\"#0d0887\"],[0.1111111111111111,\"#46039f\"],[0.2222222222222222,\"#7201a8\"],[0.3333333333333333,\"#9c179e\"],[0.4444444444444444,\"#bd3786\"],[0.5555555555555556,\"#d8576b\"],[0.6666666666666666,\"#ed7953\"],[0.7777777777777778,\"#fb9f3a\"],[0.8888888888888888,\"#fdca26\"],[1.0,\"#f0f921\"]]}],\"mesh3d\":[{\"type\":\"mesh3d\",\"colorbar\":{\"outlinewidth\":0,\"ticks\":\"\"}}],\"scatter\":[{\"fillpattern\":{\"fillmode\":\"overlay\",\"size\":10,\"solidity\":0.2},\"type\":\"scatter\"}],\"parcoords\":[{\"type\":\"parcoords\",\"line\":{\"colorbar\":{\"outlinewidth\":0,\"ticks\":\"\"}}}],\"scatterpolargl\":[{\"type\":\"scatterpolargl\",\"marker\":{\"colorbar\":{\"outlinewidth\":0,\"ticks\":\"\"}}}],\"bar\":[{\"error_x\":{\"color\":\"#2a3f5f\"},\"error_y\":{\"color\":\"#2a3f5f\"},\"marker\":{\"line\":{\"color\":\"#E5ECF6\",\"width\":0.5},\"pattern\":{\"fillmode\":\"overlay\",\"size\":10,\"solidity\":0.2}},\"type\":\"bar\"}],\"scattergeo\":[{\"type\":\"scattergeo\",\"marker\":{\"colorbar\":{\"outlinewidth\":0,\"ticks\":\"\"}}}],\"scatterpolar\":[{\"type\":\"scatterpolar\",\"marker\":{\"colorbar\":{\"outlinewidth\":0,\"ticks\":\"\"}}}],\"histogram\":[{\"marker\":{\"pattern\":{\"fillmode\":\"overlay\",\"size\":10,\"solidity\":0.2}},\"type\":\"histogram\"}],\"scattergl\":[{\"type\":\"scattergl\",\"marker\":{\"colorbar\":{\"outlinewidth\":0,\"ticks\":\"\"}}}],\"scatter3d\":[{\"type\":\"scatter3d\",\"line\":{\"colorbar\":{\"outlinewidth\":0,\"ticks\":\"\"}},\"marker\":{\"colorbar\":{\"outlinewidth\":0,\"ticks\":\"\"}}}],\"scattermapbox\":[{\"type\":\"scattermapbox\",\"marker\":{\"colorbar\":{\"outlinewidth\":0,\"ticks\":\"\"}}}],\"scatterternary\":[{\"type\":\"scatterternary\",\"marker\":{\"colorbar\":{\"outlinewidth\":0,\"ticks\":\"\"}}}],\"scattercarpet\":[{\"type\":\"scattercarpet\",\"marker\":{\"colorbar\":{\"outlinewidth\":0,\"ticks\":\"\"}}}],\"carpet\":[{\"aaxis\":{\"endlinecolor\":\"#2a3f5f\",\"gridcolor\":\"white\",\"linecolor\":\"white\",\"minorgridcolor\":\"white\",\"startlinecolor\":\"#2a3f5f\"},\"baxis\":{\"endlinecolor\":\"#2a3f5f\",\"gridcolor\":\"white\",\"linecolor\":\"white\",\"minorgridcolor\":\"white\",\"startlinecolor\":\"#2a3f5f\"},\"type\":\"carpet\"}],\"table\":[{\"cells\":{\"fill\":{\"color\":\"#EBF0F8\"},\"line\":{\"color\":\"white\"}},\"header\":{\"fill\":{\"color\":\"#C8D4E3\"},\"line\":{\"color\":\"white\"}},\"type\":\"table\"}],\"barpolar\":[{\"marker\":{\"line\":{\"color\":\"#E5ECF6\",\"width\":0.5},\"pattern\":{\"fillmode\":\"overlay\",\"size\":10,\"solidity\":0.2}},\"type\":\"barpolar\"}],\"pie\":[{\"automargin\":true,\"type\":\"pie\"}]},\"layout\":{\"autotypenumbers\":\"strict\",\"colorway\":[\"#636efa\",\"#EF553B\",\"#00cc96\",\"#ab63fa\",\"#FFA15A\",\"#19d3f3\",\"#FF6692\",\"#B6E880\",\"#FF97FF\",\"#FECB52\"],\"font\":{\"color\":\"#2a3f5f\"},\"hovermode\":\"closest\",\"hoverlabel\":{\"align\":\"left\"},\"paper_bgcolor\":\"white\",\"plot_bgcolor\":\"#E5ECF6\",\"polar\":{\"bgcolor\":\"#E5ECF6\",\"angularaxis\":{\"gridcolor\":\"white\",\"linecolor\":\"white\",\"ticks\":\"\"},\"radialaxis\":{\"gridcolor\":\"white\",\"linecolor\":\"white\",\"ticks\":\"\"}},\"ternary\":{\"bgcolor\":\"#E5ECF6\",\"aaxis\":{\"gridcolor\":\"white\",\"linecolor\":\"white\",\"ticks\":\"\"},\"baxis\":{\"gridcolor\":\"white\",\"linecolor\":\"white\",\"ticks\":\"\"},\"caxis\":{\"gridcolor\":\"white\",\"linecolor\":\"white\",\"ticks\":\"\"}},\"coloraxis\":{\"colorbar\":{\"outlinewidth\":0,\"ticks\":\"\"}},\"colorscale\":{\"sequential\":[[0.0,\"#0d0887\"],[0.1111111111111111,\"#46039f\"],[0.2222222222222222,\"#7201a8\"],[0.3333333333333333,\"#9c179e\"],[0.4444444444444444,\"#bd3786\"],[0.5555555555555556,\"#d8576b\"],[0.6666666666666666,\"#ed7953\"],[0.7777777777777778,\"#fb9f3a\"],[0.8888888888888888,\"#fdca26\"],[1.0,\"#f0f921\"]],\"sequentialminus\":[[0.0,\"#0d0887\"],[0.1111111111111111,\"#46039f\"],[0.2222222222222222,\"#7201a8\"],[0.3333333333333333,\"#9c179e\"],[0.4444444444444444,\"#bd3786\"],[0.5555555555555556,\"#d8576b\"],[0.6666666666666666,\"#ed7953\"],[0.7777777777777778,\"#fb9f3a\"],[0.8888888888888888,\"#fdca26\"],[1.0,\"#f0f921\"]],\"diverging\":[[0,\"#8e0152\"],[0.1,\"#c51b7d\"],[0.2,\"#de77ae\"],[0.3,\"#f1b6da\"],[0.4,\"#fde0ef\"],[0.5,\"#f7f7f7\"],[0.6,\"#e6f5d0\"],[0.7,\"#b8e186\"],[0.8,\"#7fbc41\"],[0.9,\"#4d9221\"],[1,\"#276419\"]]},\"xaxis\":{\"gridcolor\":\"white\",\"linecolor\":\"white\",\"ticks\":\"\",\"title\":{\"standoff\":15},\"zerolinecolor\":\"white\",\"automargin\":true,\"zerolinewidth\":2},\"yaxis\":{\"gridcolor\":\"white\",\"linecolor\":\"white\",\"ticks\":\"\",\"title\":{\"standoff\":15},\"zerolinecolor\":\"white\",\"automargin\":true,\"zerolinewidth\":2},\"scene\":{\"xaxis\":{\"backgroundcolor\":\"#E5ECF6\",\"gridcolor\":\"white\",\"linecolor\":\"white\",\"showbackground\":true,\"ticks\":\"\",\"zerolinecolor\":\"white\",\"gridwidth\":2},\"yaxis\":{\"backgroundcolor\":\"#E5ECF6\",\"gridcolor\":\"white\",\"linecolor\":\"white\",\"showbackground\":true,\"ticks\":\"\",\"zerolinecolor\":\"white\",\"gridwidth\":2},\"zaxis\":{\"backgroundcolor\":\"#E5ECF6\",\"gridcolor\":\"white\",\"linecolor\":\"white\",\"showbackground\":true,\"ticks\":\"\",\"zerolinecolor\":\"white\",\"gridwidth\":2}},\"shapedefaults\":{\"line\":{\"color\":\"#2a3f5f\"}},\"annotationdefaults\":{\"arrowcolor\":\"#2a3f5f\",\"arrowhead\":0,\"arrowwidth\":1},\"geo\":{\"bgcolor\":\"white\",\"landcolor\":\"#E5ECF6\",\"subunitcolor\":\"white\",\"showland\":true,\"showlakes\":true,\"lakecolor\":\"white\"},\"title\":{\"x\":0.05},\"mapbox\":{\"style\":\"light\"}}},\"xaxis\":{\"anchor\":\"y\",\"domain\":[0.0,1.0],\"title\":{\"text\":\"Antibody\"},\"categoryorder\":\"array\",\"categoryarray\":[\"AB_2801006 (CD22)\",\"AB_2814172 (CD268)\",\"AB_2800741 (CD19)\",\"AB_2800886 (CD40)\",\"AB_2800795 (HLA-DR)\",\"AB_2814129 (CD32)\",\"AB_2734256 (CD19)\",\"AB_2749984 (CD20)\",\"AB_2800743 (CD20)\",\"AB_2749968 (CD40)\",\"AB_2800876 (CD35)\",\"AB_2800813 (CD24)\",\"AB_2800953 (CD21)\",\"AB_2750001 (HLA-DR)\",\"AB_2800835 (IgM)\",\"AB_2749995 (CD32)\",\"AB_2750006 (CD21)\",\"AB_2749992 (IgM)\",\"AB_2750002 (CD272)\",\"AB_2800934 (CD1d)\",\"AB_2800905 (CD79b)\",\"AB_2750005 (CD39)\",\"AB_2800853 (CD39)\",\"AB_2734326 (CD1c)\",\"AB_2800871 (CD1c)\",\"AB_2800810 (CD69)\",\"AB_2810562 (CD54)\",\"AB_2814169 (Ig light chain kappa)\",\"AB_2814171 (Ig light chain lambda)\",\"AB_2800955 (CD70)\",\"AB_2814236 (CD23)\",\"AB_2814257 (CD82)\",\"AB_2801027 (CD66b)\",\"AB_2814295 (CD303)\",\"AB_2800817 (CD10)\",\"AB_2800808 (CD154)\",\"AB_2800919 (CD272)\",\"AB_2800883 (CD30)\",\"AB_2749977 (CD123)\",\"AB_2800949 (CD183)\",\"AB_2810570 (CD195)\",\"AB_2800960 (CX3CR1)\",\"AB_2800745 (CD25)\",\"AB_2814327 (CD223)\",\"AB_2800916 (CD73)\",\"AB_2800854 (CD107a)\",\"AB_2801021 (TIGIT)\",\"AB_2800836 (CD52)\",\"AB_2810541 (CD141)\",\"AB_2800943 (CD197)\",\"AB_2800758 (CD38)\",\"AB_2814137 (CD49d)\",\"AB_2749976 (HLA-ABC)\",\"AB_2810506 (CD58)\",\"AB_2734286 (CD10)\",\"AB_2801087 (IgG)\",\"AB_2832672 (CD88)\",\"AB_2810531 (CD96)\",\"AB_2810481 (Integrin beta7)\",\"AB_2749965 (CD70)\",\"AB_2814252 (CD158)\",\"AB_2800925 (CD366)\",\"AB_2800862 (CD279)\",\"AB_2801008 (CD33)\",\"AB_2749996 (CD103)\",\"AB_2734278 (CD275)\",\"AB_2832593 (CD62P)\",\"AB_2734360 (CD294)\",\"AB_2749999 (CD223)\",\"AB_2734258 (CD25)\",\"AB_2814292 (CD371)\",\"AB_2800732 (CD11b)\",\"AB_2801018 (CD11c)\",\"AB_2810510 (CD163)\",\"AB_2800893 (CD36)\",\"AB_2800762 (CD45)\",\"AB_2800757 (CD31)\",\"AB_2749997 (CD69)\",\"AB_2734287 (CD117)\",\"AB_2814134 (CD41)\",\"AB_2800931 (CD81)\",\"AB_2800900 (CD44)\",\"AB_2800786 (CD86)\",\"AB_2800756 (CD29)\",\"AB_2749993 (CD183)\",\"AB_2734249 (CD11b)\",\"AB_2800851 (CD337)\",\"AB_2814233 (CD155)\",\"AB_2749972 (CD34)\",\"AB_2800874 (CD335)\",\"AB_2800823 (CD278)\",\"AB_2734409 (CD33)\",\"AB_2820039 (CD224)\",\"AB_2800922 (CD8a)\",\"AB_2749994 (CD195)\",\"AB_2810482 (CD47)\",\"AB_2904401 (KLRG1)\",\"AB_2734255 (CD16)\",\"AB_2800738 (CD16)\",\"AB_2734445 (CD56)\",\"AB_2814143 (CD94)\",\"AB_2749971 (CD11c)\",\"AB_2814240 (CD122)\",\"AB_2814249 (CD328)\",\"AB_2800988 (CD194)\",\"AB_2749979 (CD194)\",\"AB_2801002 (CD56)\",\"AB_2800739 (CD18)\",\"AB_2800787 (CD95)\",\"AB_2734322 (CD279)\",\"AB_2800857 (CD244)\",\"AB_2749998 (CD161)\",\"AB_2800844 (CD314)\",\"AB_2800899 (CD226)\",\"AB_2832651 (CD101)\",\"AB_2800770 (CD62L)\",\"AB_2734351 (CD8a)\",\"AB_2734312 (CD90)\",\"AB_2800935 (CD11a)\",\"AB_2800825 (CD49f)\",\"AB_2750007 (CD244)\",\"AB_2734254 (CD14)\",\"AB_2800747 (CD27)\",\"AB_2810435 (CD26)\",\"AB_2749969 (CD4)\",\"AB_2800726 (CD5)\",\"AB_2750000 (CD27)\",\"AB_2820032 (CD99)\",\"AB_2734366 (CD127)\",\"AB_2800725 (CD4)\",\"AB_2800937 (CD127)\",\"AB_2800793 (TCR alpha/beta)\",\"AB_2734353 (CD3)\",\"AB_2800914 (CD7)\",\"AB_2800751 (CD28)\",\"AB_2734345 (CD7)\",\"AB_2800723 (CD3)\",\"AB_2810464 (CD2)\"]},\"yaxis\":{\"anchor\":\"x\",\"domain\":[0.0,1.0],\"title\":{\"text\":\"Normalized Values\"},\"rangemode\":\"nonnegative\"},\"legend\":{\"title\":{\"text\":\"ab_target\"},\"tracegroupgap\":0},\"margin\":{\"t\":60},\"violinmode\":\"overlay\",\"title\":{\"text\":\"Antibodies for: immature B cell (CL:0000816)\",\"x\":0.45},\"font\":{\"size\":8},\"autosize\":true,\"height\":600},                        {\"responsive\": true}                    ).then(function(){\n",
       "                            \n",
       "var gd = document.getElementById('0808a039-15d6-47d5-890f-b4af7930606c');\n",
       "var x = new MutationObserver(function (mutations, observer) {{\n",
       "        var display = window.getComputedStyle(gd).display;\n",
       "        if (!display || display === 'none') {{\n",
       "            console.log([gd, 'removed!']);\n",
       "            Plotly.purge(gd);\n",
       "            observer.disconnect();\n",
       "        }}\n",
       "}});\n",
       "\n",
       "// Listen for the removal of the full notebook cells\n",
       "var notebookContainer = gd.closest('#notebook-container');\n",
       "if (notebookContainer) {{\n",
       "    x.observe(notebookContainer, {childList: true});\n",
       "}}\n",
       "\n",
       "// Listen for the clearing of the current output cell\n",
       "var outputEl = gd.closest('.output');\n",
       "if (outputEl) {{\n",
       "    x.observe(outputEl, {childList: true});\n",
       "}}\n",
       "\n",
       "                        })                };                });            </script>        </div>"
      ]
     },
     "metadata": {},
     "output_type": "display_data"
    }
   ],
   "source": [
    "result_df1, plot_dict1 = cxn.find_antibodies(id_CLs=[\"CL:0000816\"])\n",
    "plot_dict1[\"CL:0000816\"]"
   ]
  },
  {
   "cell_type": "code",
   "execution_count": 26,
   "id": "f12ab203-d3f8-4268-b54b-bd4cc26fe68e",
   "metadata": {},
   "outputs": [
    {
     "data": {
      "application/vnd.plotly.v1+json": {
       "config": {
        "plotlyServerURL": "https://plot.ly"
       },
       "data": [
        {
         "alignmentgroup": "True",
         "box": {
          "visible": true
         },
         "hovertemplate": "ab_target=%{x}<br>value=%{y}<extra></extra>",
         "legendgroup": "AB_2814172 (CD268)",
         "marker": {
          "color": "#636efa",
          "size": 1
         },
         "name": "AB_2814172 (CD268)",
         "offsetgroup": "AB_2814172 (CD268)",
         "orientation": "v",
         "scalegroup": "True",
         "showlegend": true,
         "type": "violin",
         "width": 0.75,
         "x": [
          "AB_2814172 (CD268)",
          "AB_2814172 (CD268)",
          "AB_2814172 (CD268)",
          "AB_2814172 (CD268)",
          "AB_2814172 (CD268)",
          "AB_2814172 (CD268)"
         ],
         "x0": " ",
         "xaxis": "x",
         "y": [
          10.3598480645,
          9.7163475,
          10.3294,
          10.9603,
          8.95955,
          13.4467
         ],
         "y0": " ",
         "yaxis": "y"
        },
        {
         "alignmentgroup": "True",
         "box": {
          "visible": true
         },
         "hovertemplate": "ab_target=%{x}<br>value=%{y}<extra></extra>",
         "legendgroup": "AB_2800886 (CD40)",
         "marker": {
          "color": "#EF553B",
          "size": 1
         },
         "name": "AB_2800886 (CD40)",
         "offsetgroup": "AB_2800886 (CD40)",
         "orientation": "v",
         "scalegroup": "True",
         "showlegend": true,
         "type": "violin",
         "width": 0.75,
         "x": [
          "AB_2800886 (CD40)",
          "AB_2800886 (CD40)",
          "AB_2800886 (CD40)",
          "AB_2800886 (CD40)",
          "AB_2800886 (CD40)",
          "AB_2800886 (CD40)"
         ],
         "x0": " ",
         "xaxis": "x",
         "y": [
          10.5200770968,
          9.8123525,
          10.33535,
          11.099025,
          9.05866,
          13.5123
         ],
         "y0": " ",
         "yaxis": "y"
        },
        {
         "alignmentgroup": "True",
         "box": {
          "visible": true
         },
         "hovertemplate": "ab_target=%{x}<br>value=%{y}<extra></extra>",
         "legendgroup": "AB_2800741 (CD19)",
         "marker": {
          "color": "#00cc96",
          "size": 1
         },
         "name": "AB_2800741 (CD19)",
         "offsetgroup": "AB_2800741 (CD19)",
         "orientation": "v",
         "scalegroup": "True",
         "showlegend": true,
         "type": "violin",
         "width": 0.75,
         "x": [
          "AB_2800741 (CD19)",
          "AB_2800741 (CD19)",
          "AB_2800741 (CD19)",
          "AB_2800741 (CD19)",
          "AB_2800741 (CD19)",
          "AB_2800741 (CD19)"
         ],
         "x0": " ",
         "xaxis": "x",
         "y": [
          10.0655474059,
          9.371775,
          9.86745,
          10.5057,
          8.36102,
          14.1097
         ],
         "y0": " ",
         "yaxis": "y"
        },
        {
         "alignmentgroup": "True",
         "box": {
          "visible": true
         },
         "hovertemplate": "ab_target=%{x}<br>value=%{y}<extra></extra>",
         "legendgroup": "AB_2801006 (CD22)",
         "marker": {
          "color": "#ab63fa",
          "size": 1
         },
         "name": "AB_2801006 (CD22)",
         "offsetgroup": "AB_2801006 (CD22)",
         "orientation": "v",
         "scalegroup": "True",
         "showlegend": true,
         "type": "violin",
         "width": 0.75,
         "x": [
          "AB_2801006 (CD22)",
          "AB_2801006 (CD22)",
          "AB_2801006 (CD22)",
          "AB_2801006 (CD22)",
          "AB_2801006 (CD22)",
          "AB_2801006 (CD22)"
         ],
         "x0": " ",
         "xaxis": "x",
         "y": [
          10.0905685484,
          9.4433625,
          10.05875,
          10.546775,
          0,
          14.3312
         ],
         "y0": " ",
         "yaxis": "y"
        },
        {
         "alignmentgroup": "True",
         "box": {
          "visible": true
         },
         "hovertemplate": "ab_target=%{x}<br>value=%{y}<extra></extra>",
         "legendgroup": "AB_2734256 (CD19)",
         "marker": {
          "color": "#FFA15A",
          "size": 1
         },
         "name": "AB_2734256 (CD19)",
         "offsetgroup": "AB_2734256 (CD19)",
         "orientation": "v",
         "scalegroup": "True",
         "showlegend": true,
         "type": "violin",
         "width": 0.75,
         "x": [
          "AB_2734256 (CD19)",
          "AB_2734256 (CD19)",
          "AB_2734256 (CD19)",
          "AB_2734256 (CD19)",
          "AB_2734256 (CD19)",
          "AB_2734256 (CD19)"
         ],
         "x0": " ",
         "xaxis": "x",
         "y": [
          10.3220987035,
          9.81563,
          10.3121,
          10.8647,
          0,
          16.3591
         ],
         "y0": " ",
         "yaxis": "y"
        },
        {
         "alignmentgroup": "True",
         "box": {
          "visible": true
         },
         "hovertemplate": "ab_target=%{x}<br>value=%{y}<extra></extra>",
         "legendgroup": "AB_2814129 (CD32)",
         "marker": {
          "color": "#19d3f3",
          "size": 1
         },
         "name": "AB_2814129 (CD32)",
         "offsetgroup": "AB_2814129 (CD32)",
         "orientation": "v",
         "scalegroup": "True",
         "showlegend": true,
         "type": "violin",
         "width": 0.75,
         "x": [
          "AB_2814129 (CD32)",
          "AB_2814129 (CD32)",
          "AB_2814129 (CD32)",
          "AB_2814129 (CD32)",
          "AB_2814129 (CD32)",
          "AB_2814129 (CD32)"
         ],
         "x0": " ",
         "xaxis": "x",
         "y": [
          10.2277089121,
          9.66656,
          10.0758,
          10.90105,
          0,
          13.8621
         ],
         "y0": " ",
         "yaxis": "y"
        },
        {
         "alignmentgroup": "True",
         "box": {
          "visible": true
         },
         "hovertemplate": "ab_target=%{x}<br>value=%{y}<extra></extra>",
         "legendgroup": "AB_2749984 (CD20)",
         "marker": {
          "color": "#FF6692",
          "size": 1
         },
         "name": "AB_2749984 (CD20)",
         "offsetgroup": "AB_2749984 (CD20)",
         "orientation": "v",
         "scalegroup": "True",
         "showlegend": true,
         "type": "violin",
         "width": 0.75,
         "x": [
          "AB_2749984 (CD20)",
          "AB_2749984 (CD20)",
          "AB_2749984 (CD20)",
          "AB_2749984 (CD20)",
          "AB_2749984 (CD20)",
          "AB_2749984 (CD20)"
         ],
         "x0": " ",
         "xaxis": "x",
         "y": [
          10.2714669822,
          9.71175,
          10.1392,
          10.7311,
          0,
          18.0409
         ],
         "y0": " ",
         "yaxis": "y"
        },
        {
         "alignmentgroup": "True",
         "box": {
          "visible": true
         },
         "hovertemplate": "ab_target=%{x}<br>value=%{y}<extra></extra>",
         "legendgroup": "AB_2800795 (HLA-DR)",
         "marker": {
          "color": "#B6E880",
          "size": 1
         },
         "name": "AB_2800795 (HLA-DR)",
         "offsetgroup": "AB_2800795 (HLA-DR)",
         "orientation": "v",
         "scalegroup": "True",
         "showlegend": true,
         "type": "violin",
         "width": 0.75,
         "x": [
          "AB_2800795 (HLA-DR)",
          "AB_2800795 (HLA-DR)",
          "AB_2800795 (HLA-DR)",
          "AB_2800795 (HLA-DR)",
          "AB_2800795 (HLA-DR)",
          "AB_2800795 (HLA-DR)"
         ],
         "x0": " ",
         "xaxis": "x",
         "y": [
          10.3195473109,
          9.70688,
          9.97645,
          10.5481,
          9.25517,
          15.6393
         ],
         "y0": " ",
         "yaxis": "y"
        },
        {
         "alignmentgroup": "True",
         "box": {
          "visible": true
         },
         "hovertemplate": "ab_target=%{x}<br>value=%{y}<extra></extra>",
         "legendgroup": "AB_2749968 (CD40)",
         "marker": {
          "color": "#FF97FF",
          "size": 1
         },
         "name": "AB_2749968 (CD40)",
         "offsetgroup": "AB_2749968 (CD40)",
         "orientation": "v",
         "scalegroup": "True",
         "showlegend": true,
         "type": "violin",
         "width": 0.75,
         "x": [
          "AB_2749968 (CD40)",
          "AB_2749968 (CD40)",
          "AB_2749968 (CD40)",
          "AB_2749968 (CD40)",
          "AB_2749968 (CD40)",
          "AB_2749968 (CD40)"
         ],
         "x0": " ",
         "xaxis": "x",
         "y": [
          10.2754811394,
          9.75303,
          10.3126,
          10.9209,
          0,
          15.7415
         ],
         "y0": " ",
         "yaxis": "y"
        },
        {
         "alignmentgroup": "True",
         "box": {
          "visible": true
         },
         "hovertemplate": "ab_target=%{x}<br>value=%{y}<extra></extra>",
         "legendgroup": "AB_2800953 (CD21)",
         "marker": {
          "color": "#FECB52",
          "size": 1
         },
         "name": "AB_2800953 (CD21)",
         "offsetgroup": "AB_2800953 (CD21)",
         "orientation": "v",
         "scalegroup": "True",
         "showlegend": true,
         "type": "violin",
         "width": 0.75,
         "x": [
          "AB_2800953 (CD21)",
          "AB_2800953 (CD21)",
          "AB_2800953 (CD21)",
          "AB_2800953 (CD21)",
          "AB_2800953 (CD21)",
          "AB_2800953 (CD21)"
         ],
         "x0": " ",
         "xaxis": "x",
         "y": [
          11.0322872269,
          10.3701,
          10.9018,
          11.8149,
          0,
          16.1885
         ],
         "y0": " ",
         "yaxis": "y"
        },
        {
         "alignmentgroup": "True",
         "box": {
          "visible": true
         },
         "hovertemplate": "ab_target=%{x}<br>value=%{y}<extra></extra>",
         "legendgroup": "AB_2800876 (CD35)",
         "marker": {
          "color": "#636efa",
          "size": 1
         },
         "name": "AB_2800876 (CD35)",
         "offsetgroup": "AB_2800876 (CD35)",
         "orientation": "v",
         "scalegroup": "True",
         "showlegend": true,
         "type": "violin",
         "width": 0.75,
         "x": [
          "AB_2800876 (CD35)",
          "AB_2800876 (CD35)",
          "AB_2800876 (CD35)",
          "AB_2800876 (CD35)",
          "AB_2800876 (CD35)",
          "AB_2800876 (CD35)"
         ],
         "x0": " ",
         "xaxis": "x",
         "y": [
          9.9142574895,
          9.562695,
          10.0126,
          10.6015,
          0,
          13.6753
         ],
         "y0": " ",
         "yaxis": "y"
        },
        {
         "alignmentgroup": "True",
         "box": {
          "visible": true
         },
         "hovertemplate": "ab_target=%{x}<br>value=%{y}<extra></extra>",
         "legendgroup": "AB_2800743 (CD20)",
         "marker": {
          "color": "#EF553B",
          "size": 1
         },
         "name": "AB_2800743 (CD20)",
         "offsetgroup": "AB_2800743 (CD20)",
         "orientation": "v",
         "scalegroup": "True",
         "showlegend": true,
         "type": "violin",
         "width": 0.75,
         "x": [
          "AB_2800743 (CD20)",
          "AB_2800743 (CD20)",
          "AB_2800743 (CD20)",
          "AB_2800743 (CD20)",
          "AB_2800743 (CD20)",
          "AB_2800743 (CD20)"
         ],
         "x0": " ",
         "xaxis": "x",
         "y": [
          10.7291631092,
          9.880415,
          10.5341,
          11.4787,
          0,
          17.3548
         ],
         "y0": " ",
         "yaxis": "y"
        },
        {
         "alignmentgroup": "True",
         "box": {
          "visible": true
         },
         "hovertemplate": "ab_target=%{x}<br>value=%{y}<extra></extra>",
         "legendgroup": "AB_2750001 (HLA-DR)",
         "marker": {
          "color": "#00cc96",
          "size": 1
         },
         "name": "AB_2750001 (HLA-DR)",
         "offsetgroup": "AB_2750001 (HLA-DR)",
         "orientation": "v",
         "scalegroup": "True",
         "showlegend": true,
         "type": "violin",
         "width": 0.75,
         "x": [
          "AB_2750001 (HLA-DR)",
          "AB_2750001 (HLA-DR)",
          "AB_2750001 (HLA-DR)",
          "AB_2750001 (HLA-DR)",
          "AB_2750001 (HLA-DR)",
          "AB_2750001 (HLA-DR)"
         ],
         "x0": " ",
         "xaxis": "x",
         "y": [
          10.4252424341,
          9.70576,
          10.1214,
          10.8141,
          0,
          20.328
         ],
         "y0": " ",
         "yaxis": "y"
        },
        {
         "alignmentgroup": "True",
         "box": {
          "visible": true
         },
         "hovertemplate": "ab_target=%{x}<br>value=%{y}<extra></extra>",
         "legendgroup": "AB_2749995 (CD32)",
         "marker": {
          "color": "#ab63fa",
          "size": 1
         },
         "name": "AB_2749995 (CD32)",
         "offsetgroup": "AB_2749995 (CD32)",
         "orientation": "v",
         "scalegroup": "True",
         "showlegend": true,
         "type": "violin",
         "width": 0.75,
         "x": [
          "AB_2749995 (CD32)",
          "AB_2749995 (CD32)",
          "AB_2749995 (CD32)",
          "AB_2749995 (CD32)",
          "AB_2749995 (CD32)",
          "AB_2749995 (CD32)"
         ],
         "x0": " ",
         "xaxis": "x",
         "y": [
          10.6586579383,
          10.1081,
          10.6504,
          11.2404,
          0,
          17.5631
         ],
         "y0": " ",
         "yaxis": "y"
        },
        {
         "alignmentgroup": "True",
         "box": {
          "visible": true
         },
         "hovertemplate": "ab_target=%{x}<br>value=%{y}<extra></extra>",
         "legendgroup": "AB_2800853 (CD39)",
         "marker": {
          "color": "#FFA15A",
          "size": 1
         },
         "name": "AB_2800853 (CD39)",
         "offsetgroup": "AB_2800853 (CD39)",
         "orientation": "v",
         "scalegroup": "True",
         "showlegend": true,
         "type": "violin",
         "width": 0.75,
         "x": [
          "AB_2800853 (CD39)",
          "AB_2800853 (CD39)",
          "AB_2800853 (CD39)",
          "AB_2800853 (CD39)",
          "AB_2800853 (CD39)",
          "AB_2800853 (CD39)"
         ],
         "x0": " ",
         "xaxis": "x",
         "y": [
          9.907112437,
          9.76395,
          10.4248,
          11.3223,
          0,
          16.2474
         ],
         "y0": " ",
         "yaxis": "y"
        },
        {
         "alignmentgroup": "True",
         "box": {
          "visible": true
         },
         "hovertemplate": "ab_target=%{x}<br>value=%{y}<extra></extra>",
         "legendgroup": "AB_2750006 (CD21)",
         "marker": {
          "color": "#19d3f3",
          "size": 1
         },
         "name": "AB_2750006 (CD21)",
         "offsetgroup": "AB_2750006 (CD21)",
         "orientation": "v",
         "scalegroup": "True",
         "showlegend": true,
         "type": "violin",
         "width": 0.75,
         "x": [
          "AB_2750006 (CD21)",
          "AB_2750006 (CD21)",
          "AB_2750006 (CD21)",
          "AB_2750006 (CD21)",
          "AB_2750006 (CD21)",
          "AB_2750006 (CD21)"
         ],
         "x0": " ",
         "xaxis": "x",
         "y": [
          10.9580745706,
          10.3334,
          10.9393,
          11.666,
          0,
          29.9263
         ],
         "y0": " ",
         "yaxis": "y"
        },
        {
         "alignmentgroup": "True",
         "box": {
          "visible": true
         },
         "hovertemplate": "ab_target=%{x}<br>value=%{y}<extra></extra>",
         "legendgroup": "AB_2800835 (IgM)",
         "marker": {
          "color": "#FF6692",
          "size": 1
         },
         "name": "AB_2800835 (IgM)",
         "offsetgroup": "AB_2800835 (IgM)",
         "orientation": "v",
         "scalegroup": "True",
         "showlegend": true,
         "type": "violin",
         "width": 0.75,
         "x": [
          "AB_2800835 (IgM)",
          "AB_2800835 (IgM)",
          "AB_2800835 (IgM)",
          "AB_2800835 (IgM)",
          "AB_2800835 (IgM)",
          "AB_2800835 (IgM)"
         ],
         "x0": " ",
         "xaxis": "x",
         "y": [
          9.2157410042,
          9.63508,
          10.0621,
          10.9509,
          0,
          19.8174
         ],
         "y0": " ",
         "yaxis": "y"
        },
        {
         "alignmentgroup": "True",
         "box": {
          "visible": true
         },
         "hovertemplate": "ab_target=%{x}<br>value=%{y}<extra></extra>",
         "legendgroup": "AB_2800905 (CD79b)",
         "marker": {
          "color": "#B6E880",
          "size": 1
         },
         "name": "AB_2800905 (CD79b)",
         "offsetgroup": "AB_2800905 (CD79b)",
         "orientation": "v",
         "scalegroup": "True",
         "showlegend": true,
         "type": "violin",
         "width": 0.75,
         "x": [
          "AB_2800905 (CD79b)",
          "AB_2800905 (CD79b)",
          "AB_2800905 (CD79b)",
          "AB_2800905 (CD79b)",
          "AB_2800905 (CD79b)",
          "AB_2800905 (CD79b)"
         ],
         "x0": " ",
         "xaxis": "x",
         "y": [
          8.6672968908,
          9.61893,
          9.99005,
          10.74335,
          0,
          17.1277
         ],
         "y0": " ",
         "yaxis": "y"
        },
        {
         "alignmentgroup": "True",
         "box": {
          "visible": true
         },
         "hovertemplate": "ab_target=%{x}<br>value=%{y}<extra></extra>",
         "legendgroup": "AB_2750005 (CD39)",
         "marker": {
          "color": "#FF97FF",
          "size": 1
         },
         "name": "AB_2750005 (CD39)",
         "offsetgroup": "AB_2750005 (CD39)",
         "orientation": "v",
         "scalegroup": "True",
         "showlegend": true,
         "type": "violin",
         "width": 0.75,
         "x": [
          "AB_2750005 (CD39)",
          "AB_2750005 (CD39)",
          "AB_2750005 (CD39)",
          "AB_2750005 (CD39)",
          "AB_2750005 (CD39)",
          "AB_2750005 (CD39)"
         ],
         "x0": " ",
         "xaxis": "x",
         "y": [
          9.3055067091,
          9.22319,
          9.68649,
          10.2901,
          0,
          15.3181
         ],
         "y0": " ",
         "yaxis": "y"
        },
        {
         "alignmentgroup": "True",
         "box": {
          "visible": true
         },
         "hovertemplate": "ab_target=%{x}<br>value=%{y}<extra></extra>",
         "legendgroup": "AB_2750002 (CD272)",
         "marker": {
          "color": "#FECB52",
          "size": 1
         },
         "name": "AB_2750002 (CD272)",
         "offsetgroup": "AB_2750002 (CD272)",
         "orientation": "v",
         "scalegroup": "True",
         "showlegend": true,
         "type": "violin",
         "width": 0.75,
         "x": [
          "AB_2750002 (CD272)",
          "AB_2750002 (CD272)",
          "AB_2750002 (CD272)",
          "AB_2750002 (CD272)",
          "AB_2750002 (CD272)",
          "AB_2750002 (CD272)"
         ],
         "x0": " ",
         "xaxis": "x",
         "y": [
          8.4008154481,
          9.15658,
          9.89777,
          10.7834,
          0,
          15.5224
         ],
         "y0": " ",
         "yaxis": "y"
        },
        {
         "alignmentgroup": "True",
         "box": {
          "visible": true
         },
         "hovertemplate": "ab_target=%{x}<br>value=%{y}<extra></extra>",
         "legendgroup": "AB_2749992 (IgM)",
         "marker": {
          "color": "#636efa",
          "size": 1
         },
         "name": "AB_2749992 (IgM)",
         "offsetgroup": "AB_2749992 (IgM)",
         "orientation": "v",
         "scalegroup": "True",
         "showlegend": true,
         "type": "violin",
         "width": 0.75,
         "x": [
          "AB_2749992 (IgM)",
          "AB_2749992 (IgM)",
          "AB_2749992 (IgM)",
          "AB_2749992 (IgM)",
          "AB_2749992 (IgM)",
          "AB_2749992 (IgM)"
         ],
         "x0": " ",
         "xaxis": "x",
         "y": [
          8.0554149935,
          9.30344,
          9.69866,
          10.5297,
          0,
          22.0207
         ],
         "y0": " ",
         "yaxis": "y"
        },
        {
         "alignmentgroup": "True",
         "box": {
          "visible": true
         },
         "hovertemplate": "ab_target=%{x}<br>value=%{y}<extra></extra>",
         "legendgroup": "AB_2800810 (CD69)",
         "marker": {
          "color": "#EF553B",
          "size": 1
         },
         "name": "AB_2800810 (CD69)",
         "offsetgroup": "AB_2800810 (CD69)",
         "orientation": "v",
         "scalegroup": "True",
         "showlegend": true,
         "type": "violin",
         "width": 0.75,
         "x": [
          "AB_2800810 (CD69)",
          "AB_2800810 (CD69)",
          "AB_2800810 (CD69)",
          "AB_2800810 (CD69)",
          "AB_2800810 (CD69)",
          "AB_2800810 (CD69)"
         ],
         "x0": " ",
         "xaxis": "x",
         "y": [
          8.3040691632,
          9.53299,
          9.86551,
          10.09815,
          0,
          21.3431
         ],
         "y0": " ",
         "yaxis": "y"
        },
        {
         "alignmentgroup": "True",
         "box": {
          "visible": true
         },
         "hovertemplate": "ab_target=%{x}<br>value=%{y}<extra></extra>",
         "legendgroup": "AB_2800813 (CD24)",
         "marker": {
          "color": "#00cc96",
          "size": 1
         },
         "name": "AB_2800813 (CD24)",
         "offsetgroup": "AB_2800813 (CD24)",
         "orientation": "v",
         "scalegroup": "True",
         "showlegend": true,
         "type": "violin",
         "width": 0.75,
         "x": [
          "AB_2800813 (CD24)",
          "AB_2800813 (CD24)",
          "AB_2800813 (CD24)",
          "AB_2800813 (CD24)",
          "AB_2800813 (CD24)",
          "AB_2800813 (CD24)"
         ],
         "x0": " ",
         "xaxis": "x",
         "y": [
          10.0298132773,
          9.67366,
          10.3847,
          11.49465,
          0,
          22.5138
         ],
         "y0": " ",
         "yaxis": "y"
        },
        {
         "alignmentgroup": "True",
         "box": {
          "visible": true
         },
         "hovertemplate": "ab_target=%{x}<br>value=%{y}<extra></extra>",
         "legendgroup": "AB_2734326 (CD1c)",
         "marker": {
          "color": "#ab63fa",
          "size": 1
         },
         "name": "AB_2734326 (CD1c)",
         "offsetgroup": "AB_2734326 (CD1c)",
         "orientation": "v",
         "scalegroup": "True",
         "showlegend": true,
         "type": "violin",
         "width": 0.75,
         "x": [
          "AB_2734326 (CD1c)",
          "AB_2734326 (CD1c)",
          "AB_2734326 (CD1c)",
          "AB_2734326 (CD1c)",
          "AB_2734326 (CD1c)",
          "AB_2734326 (CD1c)"
         ],
         "x0": " ",
         "xaxis": "x",
         "y": [
          7.4748329841,
          0,
          9.56662,
          10.1227,
          0,
          19.1555
         ],
         "y0": " ",
         "yaxis": "y"
        },
        {
         "alignmentgroup": "True",
         "box": {
          "visible": true
         },
         "hovertemplate": "ab_target=%{x}<br>value=%{y}<extra></extra>",
         "legendgroup": "AB_2800934 (CD1d)",
         "marker": {
          "color": "#FFA15A",
          "size": 1
         },
         "name": "AB_2800934 (CD1d)",
         "offsetgroup": "AB_2800934 (CD1d)",
         "orientation": "v",
         "scalegroup": "True",
         "showlegend": true,
         "type": "violin",
         "width": 0.75,
         "x": [
          "AB_2800934 (CD1d)",
          "AB_2800934 (CD1d)",
          "AB_2800934 (CD1d)",
          "AB_2800934 (CD1d)",
          "AB_2800934 (CD1d)",
          "AB_2800934 (CD1d)"
         ],
         "x0": " ",
         "xaxis": "x",
         "y": [
          8.5878746774,
          9.78654,
          9.96443,
          10.15815,
          0,
          10.6203
         ],
         "y0": " ",
         "yaxis": "y"
        },
        {
         "alignmentgroup": "True",
         "box": {
          "visible": true
         },
         "hovertemplate": "ab_target=%{x}<br>value=%{y}<extra></extra>",
         "legendgroup": "AB_2814236 (CD23)",
         "marker": {
          "color": "#19d3f3",
          "size": 1
         },
         "name": "AB_2814236 (CD23)",
         "offsetgroup": "AB_2814236 (CD23)",
         "orientation": "v",
         "scalegroup": "True",
         "showlegend": true,
         "type": "violin",
         "width": 0.75,
         "x": [
          "AB_2814236 (CD23)",
          "AB_2814236 (CD23)",
          "AB_2814236 (CD23)",
          "AB_2814236 (CD23)",
          "AB_2814236 (CD23)",
          "AB_2814236 (CD23)"
         ],
         "x0": " ",
         "xaxis": "x",
         "y": [
          7.8410335484,
          0,
          9.81796,
          10.434525,
          0,
          17.7602
         ],
         "y0": " ",
         "yaxis": "y"
        },
        {
         "alignmentgroup": "True",
         "box": {
          "visible": true
         },
         "hovertemplate": "ab_target=%{x}<br>value=%{y}<extra></extra>",
         "legendgroup": "AB_2800916 (CD73)",
         "marker": {
          "color": "#FF6692",
          "size": 1
         },
         "name": "AB_2800916 (CD73)",
         "offsetgroup": "AB_2800916 (CD73)",
         "orientation": "v",
         "scalegroup": "True",
         "showlegend": true,
         "type": "violin",
         "width": 0.75,
         "x": [
          "AB_2800916 (CD73)",
          "AB_2800916 (CD73)",
          "AB_2800916 (CD73)",
          "AB_2800916 (CD73)",
          "AB_2800916 (CD73)",
          "AB_2800916 (CD73)"
         ],
         "x0": " ",
         "xaxis": "x",
         "y": [
          8.1761258081,
          9.3634,
          9.967395,
          10.862825,
          0,
          22.8935
         ],
         "y0": " ",
         "yaxis": "y"
        },
        {
         "alignmentgroup": "True",
         "box": {
          "visible": true
         },
         "hovertemplate": "ab_target=%{x}<br>value=%{y}<extra></extra>",
         "legendgroup": "AB_2814171 (Ig light chain lambda)",
         "marker": {
          "color": "#B6E880",
          "size": 1
         },
         "name": "AB_2814171 (Ig light chain lambda)",
         "offsetgroup": "AB_2814171 (Ig light chain lambda)",
         "orientation": "v",
         "scalegroup": "True",
         "showlegend": true,
         "type": "violin",
         "width": 0.75,
         "x": [
          "AB_2814171 (Ig light chain lambda)",
          "AB_2814171 (Ig light chain lambda)",
          "AB_2814171 (Ig light chain lambda)",
          "AB_2814171 (Ig light chain lambda)",
          "AB_2814171 (Ig light chain lambda)",
          "AB_2814171 (Ig light chain lambda)"
         ],
         "x0": " ",
         "xaxis": "x",
         "y": [
          8.2708806695,
          9.01228,
          9.82434,
          11.05105,
          0,
          22.8803
         ],
         "y0": " ",
         "yaxis": "y"
        },
        {
         "alignmentgroup": "True",
         "box": {
          "visible": true
         },
         "hovertemplate": "ab_target=%{x}<br>value=%{y}<extra></extra>",
         "legendgroup": "AB_2814169 (Ig light chain kappa)",
         "marker": {
          "color": "#FF97FF",
          "size": 1
         },
         "name": "AB_2814169 (Ig light chain kappa)",
         "offsetgroup": "AB_2814169 (Ig light chain kappa)",
         "orientation": "v",
         "scalegroup": "True",
         "showlegend": true,
         "type": "violin",
         "width": 0.75,
         "x": [
          "AB_2814169 (Ig light chain kappa)",
          "AB_2814169 (Ig light chain kappa)",
          "AB_2814169 (Ig light chain kappa)",
          "AB_2814169 (Ig light chain kappa)",
          "AB_2814169 (Ig light chain kappa)",
          "AB_2814169 (Ig light chain kappa)"
         ],
         "x0": " ",
         "xaxis": "x",
         "y": [
          8.386818954,
          4.56632,
          9.95252,
          11.66235,
          0,
          18.5763
         ],
         "y0": " ",
         "yaxis": "y"
        },
        {
         "alignmentgroup": "True",
         "box": {
          "visible": true
         },
         "hovertemplate": "ab_target=%{x}<br>value=%{y}<extra></extra>",
         "legendgroup": "AB_2810562 (CD54)",
         "marker": {
          "color": "#FECB52",
          "size": 1
         },
         "name": "AB_2810562 (CD54)",
         "offsetgroup": "AB_2810562 (CD54)",
         "orientation": "v",
         "scalegroup": "True",
         "showlegend": true,
         "type": "violin",
         "width": 0.75,
         "x": [
          "AB_2810562 (CD54)",
          "AB_2810562 (CD54)",
          "AB_2810562 (CD54)",
          "AB_2810562 (CD54)",
          "AB_2810562 (CD54)",
          "AB_2810562 (CD54)"
         ],
         "x0": " ",
         "xaxis": "x",
         "y": [
          7.844427113,
          9.411445,
          9.74497,
          10.2103,
          0,
          14.7924
         ],
         "y0": " ",
         "yaxis": "y"
        },
        {
         "alignmentgroup": "True",
         "box": {
          "visible": true
         },
         "hovertemplate": "ab_target=%{x}<br>value=%{y}<extra></extra>",
         "legendgroup": "AB_2800955 (CD70)",
         "marker": {
          "color": "#636efa",
          "size": 1
         },
         "name": "AB_2800955 (CD70)",
         "offsetgroup": "AB_2800955 (CD70)",
         "orientation": "v",
         "scalegroup": "True",
         "showlegend": true,
         "type": "violin",
         "width": 0.75,
         "x": [
          "AB_2800955 (CD70)",
          "AB_2800955 (CD70)",
          "AB_2800955 (CD70)",
          "AB_2800955 (CD70)",
          "AB_2800955 (CD70)",
          "AB_2800955 (CD70)"
         ],
         "x0": " ",
         "xaxis": "x",
         "y": [
          6.9510935625,
          0,
          9.73761,
          10.14135,
          0,
          14.48
         ],
         "y0": " ",
         "yaxis": "y"
        },
        {
         "alignmentgroup": "True",
         "box": {
          "visible": true
         },
         "hovertemplate": "ab_target=%{x}<br>value=%{y}<extra></extra>",
         "legendgroup": "AB_2800871 (CD1c)",
         "marker": {
          "color": "#EF553B",
          "size": 1
         },
         "name": "AB_2800871 (CD1c)",
         "offsetgroup": "AB_2800871 (CD1c)",
         "orientation": "v",
         "scalegroup": "True",
         "showlegend": true,
         "type": "violin",
         "width": 0.75,
         "x": [
          "AB_2800871 (CD1c)",
          "AB_2800871 (CD1c)",
          "AB_2800871 (CD1c)",
          "AB_2800871 (CD1c)",
          "AB_2800871 (CD1c)",
          "AB_2800871 (CD1c)"
         ],
         "x0": " ",
         "xaxis": "x",
         "y": [
          5.3878057143,
          0,
          9.55133,
          9.848525,
          0,
          13.9989
         ],
         "y0": " ",
         "yaxis": "y"
        },
        {
         "alignmentgroup": "True",
         "box": {
          "visible": true
         },
         "hovertemplate": "ab_target=%{x}<br>value=%{y}<extra></extra>",
         "legendgroup": "AB_2814257 (CD82)",
         "marker": {
          "color": "#00cc96",
          "size": 1
         },
         "name": "AB_2814257 (CD82)",
         "offsetgroup": "AB_2814257 (CD82)",
         "orientation": "v",
         "scalegroup": "True",
         "showlegend": true,
         "type": "violin",
         "width": 0.75,
         "x": [
          "AB_2814257 (CD82)",
          "AB_2814257 (CD82)",
          "AB_2814257 (CD82)",
          "AB_2814257 (CD82)",
          "AB_2814257 (CD82)",
          "AB_2814257 (CD82)"
         ],
         "x0": " ",
         "xaxis": "x",
         "y": [
          8.3683340586,
          9.256745,
          9.78665,
          10.96375,
          0,
          21.4647
         ],
         "y0": " ",
         "yaxis": "y"
        },
        {
         "alignmentgroup": "True",
         "box": {
          "visible": true
         },
         "hovertemplate": "ab_target=%{x}<br>value=%{y}<extra></extra>",
         "legendgroup": "AB_2801027 (CD66b)",
         "marker": {
          "color": "#ab63fa",
          "size": 1
         },
         "name": "AB_2801027 (CD66b)",
         "offsetgroup": "AB_2801027 (CD66b)",
         "orientation": "v",
         "scalegroup": "True",
         "showlegend": true,
         "type": "violin",
         "width": 0.75,
         "x": [
          "AB_2801027 (CD66b)",
          "AB_2801027 (CD66b)",
          "AB_2801027 (CD66b)",
          "AB_2801027 (CD66b)",
          "AB_2801027 (CD66b)",
          "AB_2801027 (CD66b)"
         ],
         "x0": " ",
         "xaxis": "x",
         "y": [
          5.30659525,
          0,
          9.599025,
          9.935535,
          0,
          16.0057
         ],
         "y0": " ",
         "yaxis": "y"
        },
        {
         "alignmentgroup": "True",
         "box": {
          "visible": true
         },
         "hovertemplate": "ab_target=%{x}<br>value=%{y}<extra></extra>",
         "legendgroup": "AB_2800919 (CD272)",
         "marker": {
          "color": "#FFA15A",
          "size": 1
         },
         "name": "AB_2800919 (CD272)",
         "offsetgroup": "AB_2800919 (CD272)",
         "orientation": "v",
         "scalegroup": "True",
         "showlegend": true,
         "type": "violin",
         "width": 0.75,
         "x": [
          "AB_2800919 (CD272)",
          "AB_2800919 (CD272)",
          "AB_2800919 (CD272)",
          "AB_2800919 (CD272)",
          "AB_2800919 (CD272)",
          "AB_2800919 (CD272)"
         ],
         "x0": " ",
         "xaxis": "x",
         "y": [
          3.9623103361,
          0,
          0,
          9.85367,
          0,
          11.8147
         ],
         "y0": " ",
         "yaxis": "y"
        },
        {
         "alignmentgroup": "True",
         "box": {
          "visible": true
         },
         "hovertemplate": "ab_target=%{x}<br>value=%{y}<extra></extra>",
         "legendgroup": "AB_2800808 (CD154)",
         "marker": {
          "color": "#19d3f3",
          "size": 1
         },
         "name": "AB_2800808 (CD154)",
         "offsetgroup": "AB_2800808 (CD154)",
         "orientation": "v",
         "scalegroup": "True",
         "showlegend": true,
         "type": "violin",
         "width": 0.75,
         "x": [
          "AB_2800808 (CD154)",
          "AB_2800808 (CD154)",
          "AB_2800808 (CD154)",
          "AB_2800808 (CD154)",
          "AB_2800808 (CD154)",
          "AB_2800808 (CD154)"
         ],
         "x0": " ",
         "xaxis": "x",
         "y": [
          5.4951953782,
          0,
          9.53601,
          9.8391,
          0,
          16.8037
         ],
         "y0": " ",
         "yaxis": "y"
        },
        {
         "alignmentgroup": "True",
         "box": {
          "visible": true
         },
         "hovertemplate": "ab_target=%{x}<br>value=%{y}<extra></extra>",
         "legendgroup": "AB_2749977 (CD123)",
         "marker": {
          "color": "#FF6692",
          "size": 1
         },
         "name": "AB_2749977 (CD123)",
         "offsetgroup": "AB_2749977 (CD123)",
         "orientation": "v",
         "scalegroup": "True",
         "showlegend": true,
         "type": "violin",
         "width": 0.75,
         "x": [
          "AB_2749977 (CD123)",
          "AB_2749977 (CD123)",
          "AB_2749977 (CD123)",
          "AB_2749977 (CD123)",
          "AB_2749977 (CD123)",
          "AB_2749977 (CD123)"
         ],
         "x0": " ",
         "xaxis": "x",
         "y": [
          5.0761707502,
          0,
          0,
          9.79195,
          0,
          33.3496
         ],
         "y0": " ",
         "yaxis": "y"
        },
        {
         "alignmentgroup": "True",
         "box": {
          "visible": true
         },
         "hovertemplate": "ab_target=%{x}<br>value=%{y}<extra></extra>",
         "legendgroup": "AB_2800854 (CD107a)",
         "marker": {
          "color": "#B6E880",
          "size": 1
         },
         "name": "AB_2800854 (CD107a)",
         "offsetgroup": "AB_2800854 (CD107a)",
         "orientation": "v",
         "scalegroup": "True",
         "showlegend": true,
         "type": "violin",
         "width": 0.75,
         "x": [
          "AB_2800854 (CD107a)",
          "AB_2800854 (CD107a)",
          "AB_2800854 (CD107a)",
          "AB_2800854 (CD107a)",
          "AB_2800854 (CD107a)",
          "AB_2800854 (CD107a)"
         ],
         "x0": " ",
         "xaxis": "x",
         "y": [
          4.0247696653,
          0,
          0,
          9.626145,
          0,
          14.9766
         ],
         "y0": " ",
         "yaxis": "y"
        },
        {
         "alignmentgroup": "True",
         "box": {
          "visible": true
         },
         "hovertemplate": "ab_target=%{x}<br>value=%{y}<extra></extra>",
         "legendgroup": "AB_2814295 (CD303)",
         "marker": {
          "color": "#FF97FF",
          "size": 1
         },
         "name": "AB_2814295 (CD303)",
         "offsetgroup": "AB_2814295 (CD303)",
         "orientation": "v",
         "scalegroup": "True",
         "showlegend": true,
         "type": "violin",
         "width": 0.75,
         "x": [
          "AB_2814295 (CD303)",
          "AB_2814295 (CD303)",
          "AB_2814295 (CD303)",
          "AB_2814295 (CD303)",
          "AB_2814295 (CD303)",
          "AB_2814295 (CD303)"
         ],
         "x0": " ",
         "xaxis": "x",
         "y": [
          4.5710434375,
          0,
          0,
          9.7861,
          0,
          18.621
         ],
         "y0": " ",
         "yaxis": "y"
        },
        {
         "alignmentgroup": "True",
         "box": {
          "visible": true
         },
         "hovertemplate": "ab_target=%{x}<br>value=%{y}<extra></extra>",
         "legendgroup": "AB_2800817 (CD10)",
         "marker": {
          "color": "#FECB52",
          "size": 1
         },
         "name": "AB_2800817 (CD10)",
         "offsetgroup": "AB_2800817 (CD10)",
         "orientation": "v",
         "scalegroup": "True",
         "showlegend": true,
         "type": "violin",
         "width": 0.75,
         "x": [
          "AB_2800817 (CD10)",
          "AB_2800817 (CD10)",
          "AB_2800817 (CD10)",
          "AB_2800817 (CD10)",
          "AB_2800817 (CD10)",
          "AB_2800817 (CD10)"
         ],
         "x0": " ",
         "xaxis": "x",
         "y": [
          3.5924061616,
          0,
          0,
          9.6187,
          0,
          17.4798
         ],
         "y0": " ",
         "yaxis": "y"
        },
        {
         "alignmentgroup": "True",
         "box": {
          "visible": true
         },
         "hovertemplate": "ab_target=%{x}<br>value=%{y}<extra></extra>",
         "legendgroup": "AB_2814327 (CD223)",
         "marker": {
          "color": "#636efa",
          "size": 1
         },
         "name": "AB_2814327 (CD223)",
         "offsetgroup": "AB_2814327 (CD223)",
         "orientation": "v",
         "scalegroup": "True",
         "showlegend": true,
         "type": "violin",
         "width": 0.75,
         "x": [
          "AB_2814327 (CD223)",
          "AB_2814327 (CD223)",
          "AB_2814327 (CD223)",
          "AB_2814327 (CD223)",
          "AB_2814327 (CD223)",
          "AB_2814327 (CD223)"
         ],
         "x0": " ",
         "xaxis": "x",
         "y": [
          4.2834570293,
          0,
          0,
          9.78799,
          0,
          13.3283
         ],
         "y0": " ",
         "yaxis": "y"
        },
        {
         "alignmentgroup": "True",
         "box": {
          "visible": true
         },
         "hovertemplate": "ab_target=%{x}<br>value=%{y}<extra></extra>",
         "legendgroup": "AB_2800949 (CD183)",
         "marker": {
          "color": "#EF553B",
          "size": 1
         },
         "name": "AB_2800949 (CD183)",
         "offsetgroup": "AB_2800949 (CD183)",
         "orientation": "v",
         "scalegroup": "True",
         "showlegend": true,
         "type": "violin",
         "width": 0.75,
         "x": [
          "AB_2800949 (CD183)",
          "AB_2800949 (CD183)",
          "AB_2800949 (CD183)",
          "AB_2800949 (CD183)",
          "AB_2800949 (CD183)",
          "AB_2800949 (CD183)"
         ],
         "x0": " ",
         "xaxis": "x",
         "y": [
          4.33644275,
          0,
          0,
          9.8481825,
          0,
          15.2177
         ],
         "y0": " ",
         "yaxis": "y"
        },
        {
         "alignmentgroup": "True",
         "box": {
          "visible": true
         },
         "hovertemplate": "ab_target=%{x}<br>value=%{y}<extra></extra>",
         "legendgroup": "AB_2800883 (CD30)",
         "marker": {
          "color": "#00cc96",
          "size": 1
         },
         "name": "AB_2800883 (CD30)",
         "offsetgroup": "AB_2800883 (CD30)",
         "orientation": "v",
         "scalegroup": "True",
         "showlegend": true,
         "type": "violin",
         "width": 0.75,
         "x": [
          "AB_2800883 (CD30)",
          "AB_2800883 (CD30)",
          "AB_2800883 (CD30)",
          "AB_2800883 (CD30)",
          "AB_2800883 (CD30)",
          "AB_2800883 (CD30)"
         ],
         "x0": " ",
         "xaxis": "x",
         "y": [
          4.7519178661,
          0,
          0,
          9.7573,
          0,
          17.1474
         ],
         "y0": " ",
         "yaxis": "y"
        },
        {
         "alignmentgroup": "True",
         "box": {
          "visible": true
         },
         "hovertemplate": "ab_target=%{x}<br>value=%{y}<extra></extra>",
         "legendgroup": "AB_2801021 (TIGIT)",
         "marker": {
          "color": "#ab63fa",
          "size": 1
         },
         "name": "AB_2801021 (TIGIT)",
         "offsetgroup": "AB_2801021 (TIGIT)",
         "orientation": "v",
         "scalegroup": "True",
         "showlegend": true,
         "type": "violin",
         "width": 0.75,
         "x": [
          "AB_2801021 (TIGIT)",
          "AB_2801021 (TIGIT)",
          "AB_2801021 (TIGIT)",
          "AB_2801021 (TIGIT)",
          "AB_2801021 (TIGIT)",
          "AB_2801021 (TIGIT)"
         ],
         "x0": " ",
         "xaxis": "x",
         "y": [
          4.1636741875,
          0,
          0,
          9.84083,
          0,
          12.0627
         ],
         "y0": " ",
         "yaxis": "y"
        },
        {
         "alignmentgroup": "True",
         "box": {
          "visible": true
         },
         "hovertemplate": "ab_target=%{x}<br>value=%{y}<extra></extra>",
         "legendgroup": "AB_2800960 (CX3CR1)",
         "marker": {
          "color": "#FFA15A",
          "size": 1
         },
         "name": "AB_2800960 (CX3CR1)",
         "offsetgroup": "AB_2800960 (CX3CR1)",
         "orientation": "v",
         "scalegroup": "True",
         "showlegend": true,
         "type": "violin",
         "width": 0.75,
         "x": [
          "AB_2800960 (CX3CR1)",
          "AB_2800960 (CX3CR1)",
          "AB_2800960 (CX3CR1)",
          "AB_2800960 (CX3CR1)",
          "AB_2800960 (CX3CR1)",
          "AB_2800960 (CX3CR1)"
         ],
         "x0": " ",
         "xaxis": "x",
         "y": [
          4.6206459833,
          0,
          0,
          9.673165,
          0,
          12.8709
         ],
         "y0": " ",
         "yaxis": "y"
        },
        {
         "alignmentgroup": "True",
         "box": {
          "visible": true
         },
         "hovertemplate": "ab_target=%{x}<br>value=%{y}<extra></extra>",
         "legendgroup": "AB_2810481 (Integrin beta7)",
         "marker": {
          "color": "#19d3f3",
          "size": 1
         },
         "name": "AB_2810481 (Integrin beta7)",
         "offsetgroup": "AB_2810481 (Integrin beta7)",
         "orientation": "v",
         "scalegroup": "True",
         "showlegend": true,
         "type": "violin",
         "width": 0.75,
         "x": [
          "AB_2810481 (Integrin beta7)",
          "AB_2810481 (Integrin beta7)",
          "AB_2810481 (Integrin beta7)",
          "AB_2810481 (Integrin beta7)",
          "AB_2810481 (Integrin beta7)",
          "AB_2810481 (Integrin beta7)"
         ],
         "x0": " ",
         "xaxis": "x",
         "y": [
          6.1094037238,
          0,
          9.33189,
          9.760255,
          0,
          13.703
         ],
         "y0": " ",
         "yaxis": "y"
        },
        {
         "alignmentgroup": "True",
         "box": {
          "visible": true
         },
         "hovertemplate": "ab_target=%{x}<br>value=%{y}<extra></extra>",
         "legendgroup": "AB_2749976 (HLA-ABC)",
         "marker": {
          "color": "#FF6692",
          "size": 1
         },
         "name": "AB_2749976 (HLA-ABC)",
         "offsetgroup": "AB_2749976 (HLA-ABC)",
         "orientation": "v",
         "scalegroup": "True",
         "showlegend": true,
         "type": "violin",
         "width": 0.75,
         "x": [
          "AB_2749976 (HLA-ABC)",
          "AB_2749976 (HLA-ABC)",
          "AB_2749976 (HLA-ABC)",
          "AB_2749976 (HLA-ABC)",
          "AB_2749976 (HLA-ABC)",
          "AB_2749976 (HLA-ABC)"
         ],
         "x0": " ",
         "xaxis": "x",
         "y": [
          7.1424453901,
          0,
          9.49906,
          10.6133,
          0,
          28.0531
         ],
         "y0": " ",
         "yaxis": "y"
        },
        {
         "alignmentgroup": "True",
         "box": {
          "visible": true
         },
         "hovertemplate": "ab_target=%{x}<br>value=%{y}<extra></extra>",
         "legendgroup": "AB_2800758 (CD38)",
         "marker": {
          "color": "#B6E880",
          "size": 1
         },
         "name": "AB_2800758 (CD38)",
         "offsetgroup": "AB_2800758 (CD38)",
         "orientation": "v",
         "scalegroup": "True",
         "showlegend": true,
         "type": "violin",
         "width": 0.75,
         "x": [
          "AB_2800758 (CD38)",
          "AB_2800758 (CD38)",
          "AB_2800758 (CD38)",
          "AB_2800758 (CD38)",
          "AB_2800758 (CD38)",
          "AB_2800758 (CD38)"
         ],
         "x0": " ",
         "xaxis": "x",
         "y": [
          4.7253168182,
          0,
          0,
          9.5750775,
          0,
          19.7702
         ],
         "y0": " ",
         "yaxis": "y"
        },
        {
         "alignmentgroup": "True",
         "box": {
          "visible": true
         },
         "hovertemplate": "ab_target=%{x}<br>value=%{y}<extra></extra>",
         "legendgroup": "AB_2810506 (CD58)",
         "marker": {
          "color": "#FF97FF",
          "size": 1
         },
         "name": "AB_2810506 (CD58)",
         "offsetgroup": "AB_2810506 (CD58)",
         "orientation": "v",
         "scalegroup": "True",
         "showlegend": true,
         "type": "violin",
         "width": 0.75,
         "x": [
          "AB_2810506 (CD58)",
          "AB_2810506 (CD58)",
          "AB_2810506 (CD58)",
          "AB_2810506 (CD58)",
          "AB_2810506 (CD58)",
          "AB_2810506 (CD58)"
         ],
         "x0": " ",
         "xaxis": "x",
         "y": [
          2.5702470879,
          0,
          0,
          9.3680025,
          0,
          12.8346
         ],
         "y0": " ",
         "yaxis": "y"
        },
        {
         "alignmentgroup": "True",
         "box": {
          "visible": true
         },
         "hovertemplate": "ab_target=%{x}<br>value=%{y}<extra></extra>",
         "legendgroup": "AB_2810541 (CD141)",
         "marker": {
          "color": "#FECB52",
          "size": 1
         },
         "name": "AB_2810541 (CD141)",
         "offsetgroup": "AB_2810541 (CD141)",
         "orientation": "v",
         "scalegroup": "True",
         "showlegend": true,
         "type": "violin",
         "width": 0.75,
         "x": [
          "AB_2810541 (CD141)",
          "AB_2810541 (CD141)",
          "AB_2810541 (CD141)",
          "AB_2810541 (CD141)",
          "AB_2810541 (CD141)",
          "AB_2810541 (CD141)"
         ],
         "x0": " ",
         "xaxis": "x",
         "y": [
          4.9911803226,
          0,
          4.61369,
          9.8100925,
          0,
          12.0017
         ],
         "y0": " ",
         "yaxis": "y"
        },
        {
         "alignmentgroup": "True",
         "box": {
          "visible": true
         },
         "hovertemplate": "ab_target=%{x}<br>value=%{y}<extra></extra>",
         "legendgroup": "AB_2801087 (IgG)",
         "marker": {
          "color": "#636efa",
          "size": 1
         },
         "name": "AB_2801087 (IgG)",
         "offsetgroup": "AB_2801087 (IgG)",
         "orientation": "v",
         "scalegroup": "True",
         "showlegend": true,
         "type": "violin",
         "width": 0.75,
         "x": [
          "AB_2801087 (IgG)",
          "AB_2801087 (IgG)",
          "AB_2801087 (IgG)",
          "AB_2801087 (IgG)",
          "AB_2801087 (IgG)",
          "AB_2801087 (IgG)"
         ],
         "x0": " ",
         "xaxis": "x",
         "y": [
          3.9178246025,
          0,
          0,
          9.629335,
          0,
          19.8086
         ],
         "y0": " ",
         "yaxis": "y"
        },
        {
         "alignmentgroup": "True",
         "box": {
          "visible": true
         },
         "hovertemplate": "ab_target=%{x}<br>value=%{y}<extra></extra>",
         "legendgroup": "AB_2810570 (CD195)",
         "marker": {
          "color": "#EF553B",
          "size": 1
         },
         "name": "AB_2810570 (CD195)",
         "offsetgroup": "AB_2810570 (CD195)",
         "orientation": "v",
         "scalegroup": "True",
         "showlegend": true,
         "type": "violin",
         "width": 0.75,
         "x": [
          "AB_2810570 (CD195)",
          "AB_2810570 (CD195)",
          "AB_2810570 (CD195)",
          "AB_2810570 (CD195)",
          "AB_2810570 (CD195)",
          "AB_2810570 (CD195)"
         ],
         "x0": " ",
         "xaxis": "x",
         "y": [
          2.5954812605,
          0,
          0,
          9.297215,
          0,
          19.4677
         ],
         "y0": " ",
         "yaxis": "y"
        },
        {
         "alignmentgroup": "True",
         "box": {
          "visible": true
         },
         "hovertemplate": "ab_target=%{x}<br>value=%{y}<extra></extra>",
         "legendgroup": "AB_2800836 (CD52)",
         "marker": {
          "color": "#00cc96",
          "size": 1
         },
         "name": "AB_2800836 (CD52)",
         "offsetgroup": "AB_2800836 (CD52)",
         "orientation": "v",
         "scalegroup": "True",
         "showlegend": true,
         "type": "violin",
         "width": 0.75,
         "x": [
          "AB_2800836 (CD52)",
          "AB_2800836 (CD52)",
          "AB_2800836 (CD52)",
          "AB_2800836 (CD52)",
          "AB_2800836 (CD52)",
          "AB_2800836 (CD52)"
         ],
         "x0": " ",
         "xaxis": "x",
         "y": [
          5.4515625105,
          0,
          8.78181,
          9.965175,
          0,
          14.486
         ],
         "y0": " ",
         "yaxis": "y"
        },
        {
         "alignmentgroup": "True",
         "box": {
          "visible": true
         },
         "hovertemplate": "ab_target=%{x}<br>value=%{y}<extra></extra>",
         "legendgroup": "AB_2814137 (CD49d)",
         "marker": {
          "color": "#ab63fa",
          "size": 1
         },
         "name": "AB_2814137 (CD49d)",
         "offsetgroup": "AB_2814137 (CD49d)",
         "orientation": "v",
         "scalegroup": "True",
         "showlegend": true,
         "type": "violin",
         "width": 0.75,
         "x": [
          "AB_2814137 (CD49d)",
          "AB_2814137 (CD49d)",
          "AB_2814137 (CD49d)",
          "AB_2814137 (CD49d)",
          "AB_2814137 (CD49d)",
          "AB_2814137 (CD49d)"
         ],
         "x0": " ",
         "xaxis": "x",
         "y": [
          6.2199070588,
          0,
          9.4658,
          9.96514,
          0,
          14.0541
         ],
         "y0": " ",
         "yaxis": "y"
        },
        {
         "alignmentgroup": "True",
         "box": {
          "visible": true
         },
         "hovertemplate": "ab_target=%{x}<br>value=%{y}<extra></extra>",
         "legendgroup": "AB_2749965 (CD70)",
         "marker": {
          "color": "#FFA15A",
          "size": 1
         },
         "name": "AB_2749965 (CD70)",
         "offsetgroup": "AB_2749965 (CD70)",
         "orientation": "v",
         "scalegroup": "True",
         "showlegend": true,
         "type": "violin",
         "width": 0.75,
         "x": [
          "AB_2749965 (CD70)",
          "AB_2749965 (CD70)",
          "AB_2749965 (CD70)",
          "AB_2749965 (CD70)",
          "AB_2749965 (CD70)",
          "AB_2749965 (CD70)"
         ],
         "x0": " ",
         "xaxis": "x",
         "y": [
          2.2700173152,
          0,
          0,
          0,
          0,
          31.1305
         ],
         "y0": " ",
         "yaxis": "y"
        },
        {
         "alignmentgroup": "True",
         "box": {
          "visible": true
         },
         "hovertemplate": "ab_target=%{x}<br>value=%{y}<extra></extra>",
         "legendgroup": "AB_2800943 (CD197)",
         "marker": {
          "color": "#19d3f3",
          "size": 1
         },
         "name": "AB_2800943 (CD197)",
         "offsetgroup": "AB_2800943 (CD197)",
         "orientation": "v",
         "scalegroup": "True",
         "showlegend": true,
         "type": "violin",
         "width": 0.75,
         "x": [
          "AB_2800943 (CD197)",
          "AB_2800943 (CD197)",
          "AB_2800943 (CD197)",
          "AB_2800943 (CD197)",
          "AB_2800943 (CD197)",
          "AB_2800943 (CD197)"
         ],
         "x0": " ",
         "xaxis": "x",
         "y": [
          2.3047928125,
          0,
          0,
          0,
          0,
          11.3122
         ],
         "y0": " ",
         "yaxis": "y"
        },
        {
         "alignmentgroup": "True",
         "box": {
          "visible": true
         },
         "hovertemplate": "ab_target=%{x}<br>value=%{y}<extra></extra>",
         "legendgroup": "AB_2832672 (CD88)",
         "marker": {
          "color": "#FF6692",
          "size": 1
         },
         "name": "AB_2832672 (CD88)",
         "offsetgroup": "AB_2832672 (CD88)",
         "orientation": "v",
         "scalegroup": "True",
         "showlegend": true,
         "type": "violin",
         "width": 0.75,
         "x": [
          "AB_2832672 (CD88)",
          "AB_2832672 (CD88)",
          "AB_2832672 (CD88)",
          "AB_2832672 (CD88)",
          "AB_2832672 (CD88)",
          "AB_2832672 (CD88)"
         ],
         "x0": " ",
         "xaxis": "x",
         "y": [
          2.5154040625,
          0,
          0,
          9.30852,
          0,
          9.97377
         ],
         "y0": " ",
         "yaxis": "y"
        },
        {
         "alignmentgroup": "True",
         "box": {
          "visible": true
         },
         "hovertemplate": "ab_target=%{x}<br>value=%{y}<extra></extra>",
         "legendgroup": "AB_2734286 (CD10)",
         "marker": {
          "color": "#B6E880",
          "size": 1
         },
         "name": "AB_2734286 (CD10)",
         "offsetgroup": "AB_2734286 (CD10)",
         "orientation": "v",
         "scalegroup": "True",
         "showlegend": true,
         "type": "violin",
         "width": 0.75,
         "x": [
          "AB_2734286 (CD10)",
          "AB_2734286 (CD10)",
          "AB_2734286 (CD10)",
          "AB_2734286 (CD10)",
          "AB_2734286 (CD10)",
          "AB_2734286 (CD10)"
         ],
         "x0": " ",
         "xaxis": "x",
         "y": [
          1.8142752816,
          0,
          0,
          0,
          0,
          23.2483
         ],
         "y0": " ",
         "yaxis": "y"
        },
        {
         "alignmentgroup": "True",
         "box": {
          "visible": true
         },
         "hovertemplate": "ab_target=%{x}<br>value=%{y}<extra></extra>",
         "legendgroup": "AB_2800745 (CD25)",
         "marker": {
          "color": "#FF97FF",
          "size": 1
         },
         "name": "AB_2800745 (CD25)",
         "offsetgroup": "AB_2800745 (CD25)",
         "orientation": "v",
         "scalegroup": "True",
         "showlegend": true,
         "type": "violin",
         "width": 0.75,
         "x": [
          "AB_2800745 (CD25)",
          "AB_2800745 (CD25)",
          "AB_2800745 (CD25)",
          "AB_2800745 (CD25)",
          "AB_2800745 (CD25)",
          "AB_2800745 (CD25)"
         ],
         "x0": " ",
         "xaxis": "x",
         "y": [
          2.8008115966,
          0,
          0,
          9.27723,
          0,
          12.2029
         ],
         "y0": " ",
         "yaxis": "y"
        },
        {
         "alignmentgroup": "True",
         "box": {
          "visible": true
         },
         "hovertemplate": "ab_target=%{x}<br>value=%{y}<extra></extra>",
         "legendgroup": "AB_2810531 (CD96)",
         "marker": {
          "color": "#FECB52",
          "size": 1
         },
         "name": "AB_2810531 (CD96)",
         "offsetgroup": "AB_2810531 (CD96)",
         "orientation": "v",
         "scalegroup": "True",
         "showlegend": true,
         "type": "violin",
         "width": 0.75,
         "x": [
          "AB_2810531 (CD96)",
          "AB_2810531 (CD96)",
          "AB_2810531 (CD96)",
          "AB_2810531 (CD96)",
          "AB_2810531 (CD96)",
          "AB_2810531 (CD96)"
         ],
         "x0": " ",
         "xaxis": "x",
         "y": [
          3.8092950625,
          0,
          0,
          9.5095,
          0,
          14.1556
         ],
         "y0": " ",
         "yaxis": "y"
        },
        {
         "alignmentgroup": "True",
         "box": {
          "visible": true
         },
         "hovertemplate": "ab_target=%{x}<br>value=%{y}<extra></extra>",
         "legendgroup": "AB_2800925 (CD366)",
         "marker": {
          "color": "#636efa",
          "size": 1
         },
         "name": "AB_2800925 (CD366)",
         "offsetgroup": "AB_2800925 (CD366)",
         "orientation": "v",
         "scalegroup": "True",
         "showlegend": true,
         "type": "violin",
         "width": 0.75,
         "x": [
          "AB_2800925 (CD366)",
          "AB_2800925 (CD366)",
          "AB_2800925 (CD366)",
          "AB_2800925 (CD366)",
          "AB_2800925 (CD366)",
          "AB_2800925 (CD366)"
         ],
         "x0": " ",
         "xaxis": "x",
         "y": [
          2.0741145378,
          0,
          0,
          0,
          0,
          10.0573
         ],
         "y0": " ",
         "yaxis": "y"
        },
        {
         "alignmentgroup": "True",
         "box": {
          "visible": true
         },
         "hovertemplate": "ab_target=%{x}<br>value=%{y}<extra></extra>",
         "legendgroup": "AB_2749996 (CD103)",
         "marker": {
          "color": "#EF553B",
          "size": 1
         },
         "name": "AB_2749996 (CD103)",
         "offsetgroup": "AB_2749996 (CD103)",
         "orientation": "v",
         "scalegroup": "True",
         "showlegend": true,
         "type": "violin",
         "width": 0.75,
         "x": [
          "AB_2749996 (CD103)",
          "AB_2749996 (CD103)",
          "AB_2749996 (CD103)",
          "AB_2749996 (CD103)",
          "AB_2749996 (CD103)",
          "AB_2749996 (CD103)"
         ],
         "x0": " ",
         "xaxis": "x",
         "y": [
          0.9420020505,
          0,
          0,
          0,
          0,
          12.5744
         ],
         "y0": " ",
         "yaxis": "y"
        },
        {
         "alignmentgroup": "True",
         "box": {
          "visible": true
         },
         "hovertemplate": "ab_target=%{x}<br>value=%{y}<extra></extra>",
         "legendgroup": "AB_2734278 (CD275)",
         "marker": {
          "color": "#00cc96",
          "size": 1
         },
         "name": "AB_2734278 (CD275)",
         "offsetgroup": "AB_2734278 (CD275)",
         "orientation": "v",
         "scalegroup": "True",
         "showlegend": true,
         "type": "violin",
         "width": 0.75,
         "x": [
          "AB_2734278 (CD275)",
          "AB_2734278 (CD275)",
          "AB_2734278 (CD275)",
          "AB_2734278 (CD275)",
          "AB_2734278 (CD275)",
          "AB_2734278 (CD275)"
         ],
         "x0": " ",
         "xaxis": "x",
         "y": [
          1.5159622039,
          0,
          0,
          0,
          0,
          68.9608
         ],
         "y0": " ",
         "yaxis": "y"
        },
        {
         "alignmentgroup": "True",
         "box": {
          "visible": true
         },
         "hovertemplate": "ab_target=%{x}<br>value=%{y}<extra></extra>",
         "legendgroup": "AB_2800851 (CD337)",
         "marker": {
          "color": "#ab63fa",
          "size": 1
         },
         "name": "AB_2800851 (CD337)",
         "offsetgroup": "AB_2800851 (CD337)",
         "orientation": "v",
         "scalegroup": "True",
         "showlegend": true,
         "type": "violin",
         "width": 0.75,
         "x": [
          "AB_2800851 (CD337)",
          "AB_2800851 (CD337)",
          "AB_2800851 (CD337)",
          "AB_2800851 (CD337)",
          "AB_2800851 (CD337)",
          "AB_2800851 (CD337)"
         ],
         "x0": " ",
         "xaxis": "x",
         "y": [
          2.741804,
          0,
          0,
          9.22848,
          0,
          10.581
         ],
         "y0": " ",
         "yaxis": "y"
        },
        {
         "alignmentgroup": "True",
         "box": {
          "visible": true
         },
         "hovertemplate": "ab_target=%{x}<br>value=%{y}<extra></extra>",
         "legendgroup": "AB_2734258 (CD25)",
         "marker": {
          "color": "#FFA15A",
          "size": 1
         },
         "name": "AB_2734258 (CD25)",
         "offsetgroup": "AB_2734258 (CD25)",
         "orientation": "v",
         "scalegroup": "True",
         "showlegend": true,
         "type": "violin",
         "width": 0.75,
         "x": [
          "AB_2734258 (CD25)",
          "AB_2734258 (CD25)",
          "AB_2734258 (CD25)",
          "AB_2734258 (CD25)",
          "AB_2734258 (CD25)",
          "AB_2734258 (CD25)"
         ],
         "x0": " ",
         "xaxis": "x",
         "y": [
          3.0725607222,
          0,
          0,
          9.54556,
          0,
          15.8396
         ],
         "y0": " ",
         "yaxis": "y"
        },
        {
         "alignmentgroup": "True",
         "box": {
          "visible": true
         },
         "hovertemplate": "ab_target=%{x}<br>value=%{y}<extra></extra>",
         "legendgroup": "AB_2734360 (CD294)",
         "marker": {
          "color": "#19d3f3",
          "size": 1
         },
         "name": "AB_2734360 (CD294)",
         "offsetgroup": "AB_2734360 (CD294)",
         "orientation": "v",
         "scalegroup": "True",
         "showlegend": true,
         "type": "violin",
         "width": 0.75,
         "x": [
          "AB_2734360 (CD294)",
          "AB_2734360 (CD294)",
          "AB_2734360 (CD294)",
          "AB_2734360 (CD294)",
          "AB_2734360 (CD294)",
          "AB_2734360 (CD294)"
         ],
         "x0": " ",
         "xaxis": "x",
         "y": [
          3.9966107147,
          0,
          0,
          9.56494,
          0,
          51.261
         ],
         "y0": " ",
         "yaxis": "y"
        },
        {
         "alignmentgroup": "True",
         "box": {
          "visible": true
         },
         "hovertemplate": "ab_target=%{x}<br>value=%{y}<extra></extra>",
         "legendgroup": "AB_2810510 (CD163)",
         "marker": {
          "color": "#FF6692",
          "size": 1
         },
         "name": "AB_2810510 (CD163)",
         "offsetgroup": "AB_2810510 (CD163)",
         "orientation": "v",
         "scalegroup": "True",
         "showlegend": true,
         "type": "violin",
         "width": 0.75,
         "x": [
          "AB_2810510 (CD163)",
          "AB_2810510 (CD163)",
          "AB_2810510 (CD163)",
          "AB_2810510 (CD163)",
          "AB_2810510 (CD163)",
          "AB_2810510 (CD163)"
         ],
         "x0": " ",
         "xaxis": "x",
         "y": [
          0.7375098058,
          0,
          0,
          0,
          0,
          9.58385
         ],
         "y0": " ",
         "yaxis": "y"
        },
        {
         "alignmentgroup": "True",
         "box": {
          "visible": true
         },
         "hovertemplate": "ab_target=%{x}<br>value=%{y}<extra></extra>",
         "legendgroup": "AB_2800757 (CD31)",
         "marker": {
          "color": "#B6E880",
          "size": 1
         },
         "name": "AB_2800757 (CD31)",
         "offsetgroup": "AB_2800757 (CD31)",
         "orientation": "v",
         "scalegroup": "True",
         "showlegend": true,
         "type": "violin",
         "width": 0.75,
         "x": [
          "AB_2800757 (CD31)",
          "AB_2800757 (CD31)",
          "AB_2800757 (CD31)",
          "AB_2800757 (CD31)",
          "AB_2800757 (CD31)",
          "AB_2800757 (CD31)"
         ],
         "x0": " ",
         "xaxis": "x",
         "y": [
          0.7983383193,
          0,
          0,
          0,
          0,
          9.7252
         ],
         "y0": " ",
         "yaxis": "y"
        },
        {
         "alignmentgroup": "True",
         "box": {
          "visible": true
         },
         "hovertemplate": "ab_target=%{x}<br>value=%{y}<extra></extra>",
         "legendgroup": "AB_2800900 (CD44)",
         "marker": {
          "color": "#FF97FF",
          "size": 1
         },
         "name": "AB_2800900 (CD44)",
         "offsetgroup": "AB_2800900 (CD44)",
         "orientation": "v",
         "scalegroup": "True",
         "showlegend": true,
         "type": "violin",
         "width": 0.75,
         "x": [
          "AB_2800900 (CD44)",
          "AB_2800900 (CD44)",
          "AB_2800900 (CD44)",
          "AB_2800900 (CD44)",
          "AB_2800900 (CD44)",
          "AB_2800900 (CD44)"
         ],
         "x0": " ",
         "xaxis": "x",
         "y": [
          7.9753146774,
          8.86137,
          9.53865,
          10.116275,
          0,
          12.3633
         ],
         "y0": " ",
         "yaxis": "y"
        },
        {
         "alignmentgroup": "True",
         "box": {
          "visible": true
         },
         "hovertemplate": "ab_target=%{x}<br>value=%{y}<extra></extra>",
         "legendgroup": "AB_2749999 (CD223)",
         "marker": {
          "color": "#FECB52",
          "size": 1
         },
         "name": "AB_2749999 (CD223)",
         "offsetgroup": "AB_2749999 (CD223)",
         "orientation": "v",
         "scalegroup": "True",
         "showlegend": true,
         "type": "violin",
         "width": 0.75,
         "x": [
          "AB_2749999 (CD223)",
          "AB_2749999 (CD223)",
          "AB_2749999 (CD223)",
          "AB_2749999 (CD223)",
          "AB_2749999 (CD223)",
          "AB_2749999 (CD223)"
         ],
         "x0": " ",
         "xaxis": "x",
         "y": [
          3.8150591693,
          0,
          0,
          9.70274,
          0,
          28.921
         ],
         "y0": " ",
         "yaxis": "y"
        },
        {
         "alignmentgroup": "True",
         "box": {
          "visible": true
         },
         "hovertemplate": "ab_target=%{x}<br>value=%{y}<extra></extra>",
         "legendgroup": "AB_2749997 (CD69)",
         "marker": {
          "color": "#636efa",
          "size": 1
         },
         "name": "AB_2749997 (CD69)",
         "offsetgroup": "AB_2749997 (CD69)",
         "orientation": "v",
         "scalegroup": "True",
         "showlegend": true,
         "type": "violin",
         "width": 0.75,
         "x": [
          "AB_2749997 (CD69)",
          "AB_2749997 (CD69)",
          "AB_2749997 (CD69)",
          "AB_2749997 (CD69)",
          "AB_2749997 (CD69)",
          "AB_2749997 (CD69)"
         ],
         "x0": " ",
         "xaxis": "x",
         "y": [
          1.9959467933,
          0,
          0,
          0,
          0,
          15.5646
         ],
         "y0": " ",
         "yaxis": "y"
        },
        {
         "alignmentgroup": "True",
         "box": {
          "visible": true
         },
         "hovertemplate": "ab_target=%{x}<br>value=%{y}<extra></extra>",
         "legendgroup": "AB_2832593 (CD62P)",
         "marker": {
          "color": "#EF553B",
          "size": 1
         },
         "name": "AB_2832593 (CD62P)",
         "offsetgroup": "AB_2832593 (CD62P)",
         "orientation": "v",
         "scalegroup": "True",
         "showlegend": true,
         "type": "violin",
         "width": 0.75,
         "x": [
          "AB_2832593 (CD62P)",
          "AB_2832593 (CD62P)",
          "AB_2832593 (CD62P)",
          "AB_2832593 (CD62P)",
          "AB_2832593 (CD62P)",
          "AB_2832593 (CD62P)"
         ],
         "x0": " ",
         "xaxis": "x",
         "y": [
          1.8735070213,
          0,
          0,
          0,
          0,
          9.96714
         ],
         "y0": " ",
         "yaxis": "y"
        },
        {
         "alignmentgroup": "True",
         "box": {
          "visible": true
         },
         "hovertemplate": "ab_target=%{x}<br>value=%{y}<extra></extra>",
         "legendgroup": "AB_2800786 (CD86)",
         "marker": {
          "color": "#00cc96",
          "size": 1
         },
         "name": "AB_2800786 (CD86)",
         "offsetgroup": "AB_2800786 (CD86)",
         "orientation": "v",
         "scalegroup": "True",
         "showlegend": true,
         "type": "violin",
         "width": 0.75,
         "x": [
          "AB_2800786 (CD86)",
          "AB_2800786 (CD86)",
          "AB_2800786 (CD86)",
          "AB_2800786 (CD86)",
          "AB_2800786 (CD86)",
          "AB_2800786 (CD86)"
         ],
         "x0": " ",
         "xaxis": "x",
         "y": [
          0.4391801613,
          0,
          0,
          0,
          0,
          9.08881
         ],
         "y0": " ",
         "yaxis": "y"
        },
        {
         "alignmentgroup": "True",
         "box": {
          "visible": true
         },
         "hovertemplate": "ab_target=%{x}<br>value=%{y}<extra></extra>",
         "legendgroup": "AB_2800762 (CD45)",
         "marker": {
          "color": "#ab63fa",
          "size": 1
         },
         "name": "AB_2800762 (CD45)",
         "offsetgroup": "AB_2800762 (CD45)",
         "orientation": "v",
         "scalegroup": "True",
         "showlegend": true,
         "type": "violin",
         "width": 0.75,
         "x": [
          "AB_2800762 (CD45)",
          "AB_2800762 (CD45)",
          "AB_2800762 (CD45)",
          "AB_2800762 (CD45)",
          "AB_2800762 (CD45)",
          "AB_2800762 (CD45)"
         ],
         "x0": " ",
         "xaxis": "x",
         "y": [
          0.1565704839,
          0,
          0,
          0,
          0,
          9.70737
         ],
         "y0": " ",
         "yaxis": "y"
        },
        {
         "alignmentgroup": "True",
         "box": {
          "visible": true
         },
         "hovertemplate": "ab_target=%{x}<br>value=%{y}<extra></extra>",
         "legendgroup": "AB_2734249 (CD11b)",
         "marker": {
          "color": "#FFA15A",
          "size": 1
         },
         "name": "AB_2734249 (CD11b)",
         "offsetgroup": "AB_2734249 (CD11b)",
         "orientation": "v",
         "scalegroup": "True",
         "showlegend": true,
         "type": "violin",
         "width": 0.75,
         "x": [
          "AB_2734249 (CD11b)",
          "AB_2734249 (CD11b)",
          "AB_2734249 (CD11b)",
          "AB_2734249 (CD11b)",
          "AB_2734249 (CD11b)",
          "AB_2734249 (CD11b)"
         ],
         "x0": " ",
         "xaxis": "x",
         "y": [
          3.7916995566,
          0,
          0,
          9.48059,
          0,
          15.553
         ],
         "y0": " ",
         "yaxis": "y"
        },
        {
         "alignmentgroup": "True",
         "box": {
          "visible": true
         },
         "hovertemplate": "ab_target=%{x}<br>value=%{y}<extra></extra>",
         "legendgroup": "AB_2814292 (CD371)",
         "marker": {
          "color": "#19d3f3",
          "size": 1
         },
         "name": "AB_2814292 (CD371)",
         "offsetgroup": "AB_2814292 (CD371)",
         "orientation": "v",
         "scalegroup": "True",
         "showlegend": true,
         "type": "violin",
         "width": 0.75,
         "x": [
          "AB_2814292 (CD371)",
          "AB_2814292 (CD371)",
          "AB_2814292 (CD371)",
          "AB_2814292 (CD371)",
          "AB_2814292 (CD371)",
          "AB_2814292 (CD371)"
         ],
         "x0": " ",
         "xaxis": "x",
         "y": [
          0.5698838912,
          0,
          0,
          0,
          0,
          10.1348
         ],
         "y0": " ",
         "yaxis": "y"
        },
        {
         "alignmentgroup": "True",
         "box": {
          "visible": true
         },
         "hovertemplate": "ab_target=%{x}<br>value=%{y}<extra></extra>",
         "legendgroup": "AB_2814134 (CD41)",
         "marker": {
          "color": "#FF6692",
          "size": 1
         },
         "name": "AB_2814134 (CD41)",
         "offsetgroup": "AB_2814134 (CD41)",
         "orientation": "v",
         "scalegroup": "True",
         "showlegend": true,
         "type": "violin",
         "width": 0.75,
         "x": [
          "AB_2814134 (CD41)",
          "AB_2814134 (CD41)",
          "AB_2814134 (CD41)",
          "AB_2814134 (CD41)",
          "AB_2814134 (CD41)",
          "AB_2814134 (CD41)"
         ],
         "x0": " ",
         "xaxis": "x",
         "y": [
          0.4307879916,
          0,
          0,
          0,
          0,
          9.52265
         ],
         "y0": " ",
         "yaxis": "y"
        },
        {
         "alignmentgroup": "True",
         "box": {
          "visible": true
         },
         "hovertemplate": "ab_target=%{x}<br>value=%{y}<extra></extra>",
         "legendgroup": "AB_2814233 (CD155)",
         "marker": {
          "color": "#B6E880",
          "size": 1
         },
         "name": "AB_2814233 (CD155)",
         "offsetgroup": "AB_2814233 (CD155)",
         "orientation": "v",
         "scalegroup": "True",
         "showlegend": true,
         "type": "violin",
         "width": 0.75,
         "x": [
          "AB_2814233 (CD155)",
          "AB_2814233 (CD155)",
          "AB_2814233 (CD155)",
          "AB_2814233 (CD155)",
          "AB_2814233 (CD155)",
          "AB_2814233 (CD155)"
         ],
         "x0": " ",
         "xaxis": "x",
         "y": [
          2.3521282828,
          0,
          0,
          0,
          0,
          13.9557
         ],
         "y0": " ",
         "yaxis": "y"
        },
        {
         "alignmentgroup": "True",
         "box": {
          "visible": true
         },
         "hovertemplate": "ab_target=%{x}<br>value=%{y}<extra></extra>",
         "legendgroup": "AB_2800893 (CD36)",
         "marker": {
          "color": "#FF97FF",
          "size": 1
         },
         "name": "AB_2800893 (CD36)",
         "offsetgroup": "AB_2800893 (CD36)",
         "orientation": "v",
         "scalegroup": "True",
         "showlegend": true,
         "type": "violin",
         "width": 0.75,
         "x": [
          "AB_2800893 (CD36)",
          "AB_2800893 (CD36)",
          "AB_2800893 (CD36)",
          "AB_2800893 (CD36)",
          "AB_2800893 (CD36)",
          "AB_2800893 (CD36)"
         ],
         "x0": " ",
         "xaxis": "x",
         "y": [
          0.3363133333,
          0,
          0,
          0,
          0,
          9.51756
         ],
         "y0": " ",
         "yaxis": "y"
        },
        {
         "alignmentgroup": "True",
         "box": {
          "visible": true
         },
         "hovertemplate": "ab_target=%{x}<br>value=%{y}<extra></extra>",
         "legendgroup": "AB_2734287 (CD117)",
         "marker": {
          "color": "#FECB52",
          "size": 1
         },
         "name": "AB_2734287 (CD117)",
         "offsetgroup": "AB_2734287 (CD117)",
         "orientation": "v",
         "scalegroup": "True",
         "showlegend": true,
         "type": "violin",
         "width": 0.75,
         "x": [
          "AB_2734287 (CD117)",
          "AB_2734287 (CD117)",
          "AB_2734287 (CD117)",
          "AB_2734287 (CD117)",
          "AB_2734287 (CD117)",
          "AB_2734287 (CD117)"
         ],
         "x0": " ",
         "xaxis": "x",
         "y": [
          1.5238077905,
          0,
          0,
          0,
          0,
          21.0393
         ],
         "y0": " ",
         "yaxis": "y"
        },
        {
         "alignmentgroup": "True",
         "box": {
          "visible": true
         },
         "hovertemplate": "ab_target=%{x}<br>value=%{y}<extra></extra>",
         "legendgroup": "AB_2801008 (CD33)",
         "marker": {
          "color": "#636efa",
          "size": 1
         },
         "name": "AB_2801008 (CD33)",
         "offsetgroup": "AB_2801008 (CD33)",
         "orientation": "v",
         "scalegroup": "True",
         "showlegend": true,
         "type": "violin",
         "width": 0.75,
         "x": [
          "AB_2801008 (CD33)",
          "AB_2801008 (CD33)",
          "AB_2801008 (CD33)",
          "AB_2801008 (CD33)",
          "AB_2801008 (CD33)",
          "AB_2801008 (CD33)"
         ],
         "x0": " ",
         "xaxis": "x",
         "y": [
          0.2902976263,
          0,
          0,
          0,
          0,
          9.61543
         ],
         "y0": " ",
         "yaxis": "y"
        },
        {
         "alignmentgroup": "True",
         "box": {
          "visible": true
         },
         "hovertemplate": "ab_target=%{x}<br>value=%{y}<extra></extra>",
         "legendgroup": "AB_2749993 (CD183)",
         "marker": {
          "color": "#EF553B",
          "size": 1
         },
         "name": "AB_2749993 (CD183)",
         "offsetgroup": "AB_2749993 (CD183)",
         "orientation": "v",
         "scalegroup": "True",
         "showlegend": true,
         "type": "violin",
         "width": 0.75,
         "x": [
          "AB_2749993 (CD183)",
          "AB_2749993 (CD183)",
          "AB_2749993 (CD183)",
          "AB_2749993 (CD183)",
          "AB_2749993 (CD183)",
          "AB_2749993 (CD183)"
         ],
         "x0": " ",
         "xaxis": "x",
         "y": [
          1.1700254051,
          0,
          0,
          0,
          0,
          32.5127
         ],
         "y0": " ",
         "yaxis": "y"
        },
        {
         "alignmentgroup": "True",
         "box": {
          "visible": true
         },
         "hovertemplate": "ab_target=%{x}<br>value=%{y}<extra></extra>",
         "legendgroup": "AB_2801018 (CD11c)",
         "marker": {
          "color": "#00cc96",
          "size": 1
         },
         "name": "AB_2801018 (CD11c)",
         "offsetgroup": "AB_2801018 (CD11c)",
         "orientation": "v",
         "scalegroup": "True",
         "showlegend": true,
         "type": "violin",
         "width": 0.75,
         "x": [
          "AB_2801018 (CD11c)",
          "AB_2801018 (CD11c)",
          "AB_2801018 (CD11c)",
          "AB_2801018 (CD11c)",
          "AB_2801018 (CD11c)",
          "AB_2801018 (CD11c)"
         ],
         "x0": " ",
         "xaxis": "x",
         "y": [
          1.0471663866,
          0,
          0,
          0,
          0,
          9.84198
         ],
         "y0": " ",
         "yaxis": "y"
        },
        {
         "alignmentgroup": "True",
         "box": {
          "visible": true
         },
         "hovertemplate": "ab_target=%{x}<br>value=%{y}<extra></extra>",
         "legendgroup": "AB_2814252 (CD158)",
         "marker": {
          "color": "#ab63fa",
          "size": 1
         },
         "name": "AB_2814252 (CD158)",
         "offsetgroup": "AB_2814252 (CD158)",
         "orientation": "v",
         "scalegroup": "True",
         "showlegend": true,
         "type": "violin",
         "width": 0.75,
         "x": [
          "AB_2814252 (CD158)",
          "AB_2814252 (CD158)",
          "AB_2814252 (CD158)",
          "AB_2814252 (CD158)",
          "AB_2814252 (CD158)",
          "AB_2814252 (CD158)"
         ],
         "x0": " ",
         "xaxis": "x",
         "y": [
          0.3784746218,
          0,
          0,
          0,
          0,
          9.05352
         ],
         "y0": " ",
         "yaxis": "y"
        },
        {
         "alignmentgroup": "True",
         "box": {
          "visible": true
         },
         "hovertemplate": "ab_target=%{x}<br>value=%{y}<extra></extra>",
         "legendgroup": "AB_2800732 (CD11b)",
         "marker": {
          "color": "#FFA15A",
          "size": 1
         },
         "name": "AB_2800732 (CD11b)",
         "offsetgroup": "AB_2800732 (CD11b)",
         "orientation": "v",
         "scalegroup": "True",
         "showlegend": true,
         "type": "violin",
         "width": 0.75,
         "x": [
          "AB_2800732 (CD11b)",
          "AB_2800732 (CD11b)",
          "AB_2800732 (CD11b)",
          "AB_2800732 (CD11b)",
          "AB_2800732 (CD11b)",
          "AB_2800732 (CD11b)"
         ],
         "x0": " ",
         "xaxis": "x",
         "y": [
          1.5404651883,
          0,
          0,
          0,
          0,
          9.84985
         ],
         "y0": " ",
         "yaxis": "y"
        },
        {
         "alignmentgroup": "True",
         "box": {
          "visible": true
         },
         "hovertemplate": "ab_target=%{x}<br>value=%{y}<extra></extra>",
         "legendgroup": "AB_2800931 (CD81)",
         "marker": {
          "color": "#19d3f3",
          "size": 1
         },
         "name": "AB_2800931 (CD81)",
         "offsetgroup": "AB_2800931 (CD81)",
         "orientation": "v",
         "scalegroup": "True",
         "showlegend": true,
         "type": "violin",
         "width": 0.75,
         "x": [
          "AB_2800931 (CD81)",
          "AB_2800931 (CD81)",
          "AB_2800931 (CD81)",
          "AB_2800931 (CD81)",
          "AB_2800931 (CD81)",
          "AB_2800931 (CD81)"
         ],
         "x0": " ",
         "xaxis": "x",
         "y": [
          0.6125906452,
          0,
          0,
          0,
          0,
          9.9466
         ],
         "y0": " ",
         "yaxis": "y"
        },
        {
         "alignmentgroup": "True",
         "box": {
          "visible": true
         },
         "hovertemplate": "ab_target=%{x}<br>value=%{y}<extra></extra>",
         "legendgroup": "AB_2749972 (CD34)",
         "marker": {
          "color": "#FF6692",
          "size": 1
         },
         "name": "AB_2749972 (CD34)",
         "offsetgroup": "AB_2749972 (CD34)",
         "orientation": "v",
         "scalegroup": "True",
         "showlegend": true,
         "type": "violin",
         "width": 0.75,
         "x": [
          "AB_2749972 (CD34)",
          "AB_2749972 (CD34)",
          "AB_2749972 (CD34)",
          "AB_2749972 (CD34)",
          "AB_2749972 (CD34)",
          "AB_2749972 (CD34)"
         ],
         "x0": " ",
         "xaxis": "x",
         "y": [
          0.979787377,
          0,
          0,
          0,
          0,
          22.6536
         ],
         "y0": " ",
         "yaxis": "y"
        },
        {
         "alignmentgroup": "True",
         "box": {
          "visible": true
         },
         "hovertemplate": "ab_target=%{x}<br>value=%{y}<extra></extra>",
         "legendgroup": "AB_2800862 (CD279)",
         "marker": {
          "color": "#B6E880",
          "size": 1
         },
         "name": "AB_2800862 (CD279)",
         "offsetgroup": "AB_2800862 (CD279)",
         "orientation": "v",
         "scalegroup": "True",
         "showlegend": true,
         "type": "violin",
         "width": 0.75,
         "x": [
          "AB_2800862 (CD279)",
          "AB_2800862 (CD279)",
          "AB_2800862 (CD279)",
          "AB_2800862 (CD279)",
          "AB_2800862 (CD279)",
          "AB_2800862 (CD279)"
         ],
         "x0": " ",
         "xaxis": "x",
         "y": [
          0.5933149375,
          0,
          0,
          0,
          0,
          9.99339
         ],
         "y0": " ",
         "yaxis": "y"
        },
        {
         "alignmentgroup": "True",
         "box": {
          "visible": true
         },
         "hovertemplate": "ab_target=%{x}<br>value=%{y}<extra></extra>",
         "legendgroup": "AB_2814143 (CD94)",
         "marker": {
          "color": "#FF97FF",
          "size": 1
         },
         "name": "AB_2814143 (CD94)",
         "offsetgroup": "AB_2814143 (CD94)",
         "orientation": "v",
         "scalegroup": "True",
         "showlegend": true,
         "type": "violin",
         "width": 0.75,
         "x": [
          "AB_2814143 (CD94)",
          "AB_2814143 (CD94)",
          "AB_2814143 (CD94)",
          "AB_2814143 (CD94)",
          "AB_2814143 (CD94)",
          "AB_2814143 (CD94)"
         ],
         "x0": " ",
         "xaxis": "x",
         "y": [
          1.0981187395,
          0,
          0,
          0,
          0,
          9.46718
         ],
         "y0": " ",
         "yaxis": "y"
        },
        {
         "alignmentgroup": "True",
         "box": {
          "visible": true
         },
         "hovertemplate": "ab_target=%{x}<br>value=%{y}<extra></extra>",
         "legendgroup": "AB_2820039 (CD224)",
         "marker": {
          "color": "#FECB52",
          "size": 1
         },
         "name": "AB_2820039 (CD224)",
         "offsetgroup": "AB_2820039 (CD224)",
         "orientation": "v",
         "scalegroup": "True",
         "showlegend": true,
         "type": "violin",
         "width": 0.75,
         "x": [
          "AB_2820039 (CD224)",
          "AB_2820039 (CD224)",
          "AB_2820039 (CD224)",
          "AB_2820039 (CD224)",
          "AB_2820039 (CD224)",
          "AB_2820039 (CD224)"
         ],
         "x0": " ",
         "xaxis": "x",
         "y": [
          1.7390518182,
          0,
          0,
          0,
          0,
          10.8077
         ],
         "y0": " ",
         "yaxis": "y"
        },
        {
         "alignmentgroup": "True",
         "box": {
          "visible": true
         },
         "hovertemplate": "ab_target=%{x}<br>value=%{y}<extra></extra>",
         "legendgroup": "AB_2734409 (CD33)",
         "marker": {
          "color": "#636efa",
          "size": 1
         },
         "name": "AB_2734409 (CD33)",
         "offsetgroup": "AB_2734409 (CD33)",
         "orientation": "v",
         "scalegroup": "True",
         "showlegend": true,
         "type": "violin",
         "width": 0.75,
         "x": [
          "AB_2734409 (CD33)",
          "AB_2734409 (CD33)",
          "AB_2734409 (CD33)",
          "AB_2734409 (CD33)",
          "AB_2734409 (CD33)",
          "AB_2734409 (CD33)"
         ],
         "x0": " ",
         "xaxis": "x",
         "y": [
          0.1049050047,
          0,
          0,
          0,
          0,
          12.2074
         ],
         "y0": " ",
         "yaxis": "y"
        },
        {
         "alignmentgroup": "True",
         "box": {
          "visible": true
         },
         "hovertemplate": "ab_target=%{x}<br>value=%{y}<extra></extra>",
         "legendgroup": "AB_2800823 (CD278)",
         "marker": {
          "color": "#EF553B",
          "size": 1
         },
         "name": "AB_2800823 (CD278)",
         "offsetgroup": "AB_2800823 (CD278)",
         "orientation": "v",
         "scalegroup": "True",
         "showlegend": true,
         "type": "violin",
         "width": 0.75,
         "x": [
          "AB_2800823 (CD278)",
          "AB_2800823 (CD278)",
          "AB_2800823 (CD278)",
          "AB_2800823 (CD278)",
          "AB_2800823 (CD278)",
          "AB_2800823 (CD278)"
         ],
         "x0": " ",
         "xaxis": "x",
         "y": [
          0,
          0,
          0,
          0,
          0,
          0
         ],
         "y0": " ",
         "yaxis": "y"
        },
        {
         "alignmentgroup": "True",
         "box": {
          "visible": true
         },
         "hovertemplate": "ab_target=%{x}<br>value=%{y}<extra></extra>",
         "legendgroup": "AB_2749994 (CD195)",
         "marker": {
          "color": "#00cc96",
          "size": 1
         },
         "name": "AB_2749994 (CD195)",
         "offsetgroup": "AB_2749994 (CD195)",
         "orientation": "v",
         "scalegroup": "True",
         "showlegend": true,
         "type": "violin",
         "width": 0.75,
         "x": [
          "AB_2749994 (CD195)",
          "AB_2749994 (CD195)",
          "AB_2749994 (CD195)",
          "AB_2749994 (CD195)",
          "AB_2749994 (CD195)",
          "AB_2749994 (CD195)"
         ],
         "x0": " ",
         "xaxis": "x",
         "y": [
          1.0500223181,
          0,
          0,
          0,
          0,
          15.1385
         ],
         "y0": " ",
         "yaxis": "y"
        },
        {
         "alignmentgroup": "True",
         "box": {
          "visible": true
         },
         "hovertemplate": "ab_target=%{x}<br>value=%{y}<extra></extra>",
         "legendgroup": "AB_2800874 (CD335)",
         "marker": {
          "color": "#ab63fa",
          "size": 1
         },
         "name": "AB_2800874 (CD335)",
         "offsetgroup": "AB_2800874 (CD335)",
         "orientation": "v",
         "scalegroup": "True",
         "showlegend": true,
         "type": "violin",
         "width": 0.75,
         "x": [
          "AB_2800874 (CD335)",
          "AB_2800874 (CD335)",
          "AB_2800874 (CD335)",
          "AB_2800874 (CD335)",
          "AB_2800874 (CD335)",
          "AB_2800874 (CD335)"
         ],
         "x0": " ",
         "xaxis": "x",
         "y": [
          0.7101958824,
          0,
          0,
          0,
          0,
          9.64457
         ],
         "y0": " ",
         "yaxis": "y"
        },
        {
         "alignmentgroup": "True",
         "box": {
          "visible": true
         },
         "hovertemplate": "ab_target=%{x}<br>value=%{y}<extra></extra>",
         "legendgroup": "AB_2749971 (CD11c)",
         "marker": {
          "color": "#FFA15A",
          "size": 1
         },
         "name": "AB_2749971 (CD11c)",
         "offsetgroup": "AB_2749971 (CD11c)",
         "orientation": "v",
         "scalegroup": "True",
         "showlegend": true,
         "type": "violin",
         "width": 0.75,
         "x": [
          "AB_2749971 (CD11c)",
          "AB_2749971 (CD11c)",
          "AB_2749971 (CD11c)",
          "AB_2749971 (CD11c)",
          "AB_2749971 (CD11c)",
          "AB_2749971 (CD11c)"
         ],
         "x0": " ",
         "xaxis": "x",
         "y": [
          1.4801070776,
          0,
          0,
          0,
          0,
          13.1849
         ],
         "y0": " ",
         "yaxis": "y"
        },
        {
         "alignmentgroup": "True",
         "box": {
          "visible": true
         },
         "hovertemplate": "ab_target=%{x}<br>value=%{y}<extra></extra>",
         "legendgroup": "AB_2800922 (CD8a)",
         "marker": {
          "color": "#19d3f3",
          "size": 1
         },
         "name": "AB_2800922 (CD8a)",
         "offsetgroup": "AB_2800922 (CD8a)",
         "orientation": "v",
         "scalegroup": "True",
         "showlegend": true,
         "type": "violin",
         "width": 0.75,
         "x": [
          "AB_2800922 (CD8a)",
          "AB_2800922 (CD8a)",
          "AB_2800922 (CD8a)",
          "AB_2800922 (CD8a)",
          "AB_2800922 (CD8a)",
          "AB_2800922 (CD8a)"
         ],
         "x0": " ",
         "xaxis": "x",
         "y": [
          0.1264224823,
          0,
          0,
          0,
          0,
          8.91308
         ],
         "y0": " ",
         "yaxis": "y"
        },
        {
         "alignmentgroup": "True",
         "box": {
          "visible": true
         },
         "hovertemplate": "ab_target=%{x}<br>value=%{y}<extra></extra>",
         "legendgroup": "AB_2800770 (CD62L)",
         "marker": {
          "color": "#FF6692",
          "size": 1
         },
         "name": "AB_2800770 (CD62L)",
         "offsetgroup": "AB_2800770 (CD62L)",
         "orientation": "v",
         "scalegroup": "True",
         "showlegend": true,
         "type": "violin",
         "width": 0.75,
         "x": [
          "AB_2800770 (CD62L)",
          "AB_2800770 (CD62L)",
          "AB_2800770 (CD62L)",
          "AB_2800770 (CD62L)",
          "AB_2800770 (CD62L)",
          "AB_2800770 (CD62L)"
         ],
         "x0": " ",
         "xaxis": "x",
         "y": [
          5.3538559414,
          0,
          8.83045,
          9.157105,
          0,
          13.6715
         ],
         "y0": " ",
         "yaxis": "y"
        },
        {
         "alignmentgroup": "True",
         "box": {
          "visible": true
         },
         "hovertemplate": "ab_target=%{x}<br>value=%{y}<extra></extra>",
         "legendgroup": "AB_2800738 (CD16)",
         "marker": {
          "color": "#B6E880",
          "size": 1
         },
         "name": "AB_2800738 (CD16)",
         "offsetgroup": "AB_2800738 (CD16)",
         "orientation": "v",
         "scalegroup": "True",
         "showlegend": true,
         "type": "violin",
         "width": 0.75,
         "x": [
          "AB_2800738 (CD16)",
          "AB_2800738 (CD16)",
          "AB_2800738 (CD16)",
          "AB_2800738 (CD16)",
          "AB_2800738 (CD16)",
          "AB_2800738 (CD16)"
         ],
         "x0": " ",
         "xaxis": "x",
         "y": [
          0.3352311715,
          0,
          0,
          0,
          0,
          9.42285
         ],
         "y0": " ",
         "yaxis": "y"
        },
        {
         "alignmentgroup": "True",
         "box": {
          "visible": true
         },
         "hovertemplate": "ab_target=%{x}<br>value=%{y}<extra></extra>",
         "legendgroup": "AB_2800756 (CD29)",
         "marker": {
          "color": "#FF97FF",
          "size": 1
         },
         "name": "AB_2800756 (CD29)",
         "offsetgroup": "AB_2800756 (CD29)",
         "orientation": "v",
         "scalegroup": "True",
         "showlegend": true,
         "type": "violin",
         "width": 0.75,
         "x": [
          "AB_2800756 (CD29)",
          "AB_2800756 (CD29)",
          "AB_2800756 (CD29)",
          "AB_2800756 (CD29)",
          "AB_2800756 (CD29)",
          "AB_2800756 (CD29)"
         ],
         "x0": " ",
         "xaxis": "x",
         "y": [
          1.3667625806,
          0,
          0,
          0,
          0,
          10.3194
         ],
         "y0": " ",
         "yaxis": "y"
        },
        {
         "alignmentgroup": "True",
         "box": {
          "visible": true
         },
         "hovertemplate": "ab_target=%{x}<br>value=%{y}<extra></extra>",
         "legendgroup": "AB_2814249 (CD328)",
         "marker": {
          "color": "#FECB52",
          "size": 1
         },
         "name": "AB_2814249 (CD328)",
         "offsetgroup": "AB_2814249 (CD328)",
         "orientation": "v",
         "scalegroup": "True",
         "showlegend": true,
         "type": "violin",
         "width": 0.75,
         "x": [
          "AB_2814249 (CD328)",
          "AB_2814249 (CD328)",
          "AB_2814249 (CD328)",
          "AB_2814249 (CD328)",
          "AB_2814249 (CD328)",
          "AB_2814249 (CD328)"
         ],
         "x0": " ",
         "xaxis": "x",
         "y": [
          0.219646,
          0,
          0,
          0,
          0,
          8.78584
         ],
         "y0": " ",
         "yaxis": "y"
        },
        {
         "alignmentgroup": "True",
         "box": {
          "visible": true
         },
         "hovertemplate": "ab_target=%{x}<br>value=%{y}<extra></extra>",
         "legendgroup": "AB_2814240 (CD122)",
         "marker": {
          "color": "#636efa",
          "size": 1
         },
         "name": "AB_2814240 (CD122)",
         "offsetgroup": "AB_2814240 (CD122)",
         "orientation": "v",
         "scalegroup": "True",
         "showlegend": true,
         "type": "violin",
         "width": 0.75,
         "x": [
          "AB_2814240 (CD122)",
          "AB_2814240 (CD122)",
          "AB_2814240 (CD122)",
          "AB_2814240 (CD122)",
          "AB_2814240 (CD122)",
          "AB_2814240 (CD122)"
         ],
         "x0": " ",
         "xaxis": "x",
         "y": [
          0.6828921212,
          0,
          0,
          0,
          0,
          11.2469
         ],
         "y0": " ",
         "yaxis": "y"
        },
        {
         "alignmentgroup": "True",
         "box": {
          "visible": true
         },
         "hovertemplate": "ab_target=%{x}<br>value=%{y}<extra></extra>",
         "legendgroup": "AB_2904401 (KLRG1)",
         "marker": {
          "color": "#EF553B",
          "size": 1
         },
         "name": "AB_2904401 (KLRG1)",
         "offsetgroup": "AB_2904401 (KLRG1)",
         "orientation": "v",
         "scalegroup": "True",
         "showlegend": true,
         "type": "violin",
         "width": 0.75,
         "x": [
          "AB_2904401 (KLRG1)",
          "AB_2904401 (KLRG1)",
          "AB_2904401 (KLRG1)",
          "AB_2904401 (KLRG1)",
          "AB_2904401 (KLRG1)",
          "AB_2904401 (KLRG1)"
         ],
         "x0": " ",
         "xaxis": "x",
         "y": [
          1.4271940426,
          0,
          0,
          0,
          0,
          13.2341
         ],
         "y0": " ",
         "yaxis": "y"
        },
        {
         "alignmentgroup": "True",
         "box": {
          "visible": true
         },
         "hovertemplate": "ab_target=%{x}<br>value=%{y}<extra></extra>",
         "legendgroup": "AB_2800787 (CD95)",
         "marker": {
          "color": "#00cc96",
          "size": 1
         },
         "name": "AB_2800787 (CD95)",
         "offsetgroup": "AB_2800787 (CD95)",
         "orientation": "v",
         "scalegroup": "True",
         "showlegend": true,
         "type": "violin",
         "width": 0.75,
         "x": [
          "AB_2800787 (CD95)",
          "AB_2800787 (CD95)",
          "AB_2800787 (CD95)",
          "AB_2800787 (CD95)",
          "AB_2800787 (CD95)",
          "AB_2800787 (CD95)"
         ],
         "x0": " ",
         "xaxis": "x",
         "y": [
          1.33081841,
          0,
          0,
          0,
          0,
          15.6334
         ],
         "y0": " ",
         "yaxis": "y"
        },
        {
         "alignmentgroup": "True",
         "box": {
          "visible": true
         },
         "hovertemplate": "ab_target=%{x}<br>value=%{y}<extra></extra>",
         "legendgroup": "AB_2734255 (CD16)",
         "marker": {
          "color": "#ab63fa",
          "size": 1
         },
         "name": "AB_2734255 (CD16)",
         "offsetgroup": "AB_2734255 (CD16)",
         "orientation": "v",
         "scalegroup": "True",
         "showlegend": true,
         "type": "violin",
         "width": 0.75,
         "x": [
          "AB_2734255 (CD16)",
          "AB_2734255 (CD16)",
          "AB_2734255 (CD16)",
          "AB_2734255 (CD16)",
          "AB_2734255 (CD16)",
          "AB_2734255 (CD16)"
         ],
         "x0": " ",
         "xaxis": "x",
         "y": [
          1.0728861216,
          0,
          0,
          0,
          0,
          12.8871
         ],
         "y0": " ",
         "yaxis": "y"
        },
        {
         "alignmentgroup": "True",
         "box": {
          "visible": true
         },
         "hovertemplate": "ab_target=%{x}<br>value=%{y}<extra></extra>",
         "legendgroup": "AB_2734445 (CD56)",
         "marker": {
          "color": "#FFA15A",
          "size": 1
         },
         "name": "AB_2734445 (CD56)",
         "offsetgroup": "AB_2734445 (CD56)",
         "orientation": "v",
         "scalegroup": "True",
         "showlegend": true,
         "type": "violin",
         "width": 0.75,
         "x": [
          "AB_2734445 (CD56)",
          "AB_2734445 (CD56)",
          "AB_2734445 (CD56)",
          "AB_2734445 (CD56)",
          "AB_2734445 (CD56)",
          "AB_2734445 (CD56)"
         ],
         "x0": " ",
         "xaxis": "x",
         "y": [
          0.3101018279,
          0,
          0,
          0,
          0,
          11.9211
         ],
         "y0": " ",
         "yaxis": "y"
        },
        {
         "alignmentgroup": "True",
         "box": {
          "visible": true
         },
         "hovertemplate": "ab_target=%{x}<br>value=%{y}<extra></extra>",
         "legendgroup": "AB_2800988 (CD194)",
         "marker": {
          "color": "#19d3f3",
          "size": 1
         },
         "name": "AB_2800988 (CD194)",
         "offsetgroup": "AB_2800988 (CD194)",
         "orientation": "v",
         "scalegroup": "True",
         "showlegend": true,
         "type": "violin",
         "width": 0.75,
         "x": [
          "AB_2800988 (CD194)",
          "AB_2800988 (CD194)",
          "AB_2800988 (CD194)",
          "AB_2800988 (CD194)",
          "AB_2800988 (CD194)",
          "AB_2800988 (CD194)"
         ],
         "x0": " ",
         "xaxis": "x",
         "y": [
          0.3198779832,
          0,
          0,
          0,
          0,
          9.63728
         ],
         "y0": " ",
         "yaxis": "y"
        },
        {
         "alignmentgroup": "True",
         "box": {
          "visible": true
         },
         "hovertemplate": "ab_target=%{x}<br>value=%{y}<extra></extra>",
         "legendgroup": "AB_2800857 (CD244)",
         "marker": {
          "color": "#FF6692",
          "size": 1
         },
         "name": "AB_2800857 (CD244)",
         "offsetgroup": "AB_2800857 (CD244)",
         "orientation": "v",
         "scalegroup": "True",
         "showlegend": true,
         "type": "violin",
         "width": 0.75,
         "x": [
          "AB_2800857 (CD244)",
          "AB_2800857 (CD244)",
          "AB_2800857 (CD244)",
          "AB_2800857 (CD244)",
          "AB_2800857 (CD244)",
          "AB_2800857 (CD244)"
         ],
         "x0": " ",
         "xaxis": "x",
         "y": [
          0.8034714646,
          0,
          0,
          0,
          0,
          10.0988
         ],
         "y0": " ",
         "yaxis": "y"
        },
        {
         "alignmentgroup": "True",
         "box": {
          "visible": true
         },
         "hovertemplate": "ab_target=%{x}<br>value=%{y}<extra></extra>",
         "legendgroup": "AB_2810482 (CD47)",
         "marker": {
          "color": "#B6E880",
          "size": 1
         },
         "name": "AB_2810482 (CD47)",
         "offsetgroup": "AB_2810482 (CD47)",
         "orientation": "v",
         "scalegroup": "True",
         "showlegend": true,
         "type": "violin",
         "width": 0.75,
         "x": [
          "AB_2810482 (CD47)",
          "AB_2810482 (CD47)",
          "AB_2810482 (CD47)",
          "AB_2810482 (CD47)",
          "AB_2810482 (CD47)",
          "AB_2810482 (CD47)"
         ],
         "x0": " ",
         "xaxis": "x",
         "y": [
          4.9588833613,
          0,
          8.67307,
          9.43605,
          0,
          11.454
         ],
         "y0": " ",
         "yaxis": "y"
        },
        {
         "alignmentgroup": "True",
         "box": {
          "visible": true
         },
         "hovertemplate": "ab_target=%{x}<br>value=%{y}<extra></extra>",
         "legendgroup": "AB_2801002 (CD56)",
         "marker": {
          "color": "#FF97FF",
          "size": 1
         },
         "name": "AB_2801002 (CD56)",
         "offsetgroup": "AB_2801002 (CD56)",
         "orientation": "v",
         "scalegroup": "True",
         "showlegend": true,
         "type": "violin",
         "width": 0.75,
         "x": [
          "AB_2801002 (CD56)",
          "AB_2801002 (CD56)",
          "AB_2801002 (CD56)",
          "AB_2801002 (CD56)",
          "AB_2801002 (CD56)",
          "AB_2801002 (CD56)"
         ],
         "x0": " ",
         "xaxis": "x",
         "y": [
          0.1508970588,
          0,
          0,
          0,
          0,
          8.99602
         ],
         "y0": " ",
         "yaxis": "y"
        },
        {
         "alignmentgroup": "True",
         "box": {
          "visible": true
         },
         "hovertemplate": "ab_target=%{x}<br>value=%{y}<extra></extra>",
         "legendgroup": "AB_2800739 (CD18)",
         "marker": {
          "color": "#FECB52",
          "size": 1
         },
         "name": "AB_2800739 (CD18)",
         "offsetgroup": "AB_2800739 (CD18)",
         "orientation": "v",
         "scalegroup": "True",
         "showlegend": true,
         "type": "violin",
         "width": 0.75,
         "x": [
          "AB_2800739 (CD18)",
          "AB_2800739 (CD18)",
          "AB_2800739 (CD18)",
          "AB_2800739 (CD18)",
          "AB_2800739 (CD18)",
          "AB_2800739 (CD18)"
         ],
         "x0": " ",
         "xaxis": "x",
         "y": [
          0.0840781513,
          0,
          0,
          0,
          0,
          10.0053
         ],
         "y0": " ",
         "yaxis": "y"
        },
        {
         "alignmentgroup": "True",
         "box": {
          "visible": true
         },
         "hovertemplate": "ab_target=%{x}<br>value=%{y}<extra></extra>",
         "legendgroup": "AB_2749979 (CD194)",
         "marker": {
          "color": "#636efa",
          "size": 1
         },
         "name": "AB_2749979 (CD194)",
         "offsetgroup": "AB_2749979 (CD194)",
         "orientation": "v",
         "scalegroup": "True",
         "showlegend": true,
         "type": "violin",
         "width": 0.75,
         "x": [
          "AB_2749979 (CD194)",
          "AB_2749979 (CD194)",
          "AB_2749979 (CD194)",
          "AB_2749979 (CD194)",
          "AB_2749979 (CD194)",
          "AB_2749979 (CD194)"
         ],
         "x0": " ",
         "xaxis": "x",
         "y": [
          0.8750524153,
          0,
          0,
          0,
          0,
          11.2933
         ],
         "y0": " ",
         "yaxis": "y"
        },
        {
         "alignmentgroup": "True",
         "box": {
          "visible": true
         },
         "hovertemplate": "ab_target=%{x}<br>value=%{y}<extra></extra>",
         "legendgroup": "AB_2734322 (CD279)",
         "marker": {
          "color": "#EF553B",
          "size": 1
         },
         "name": "AB_2734322 (CD279)",
         "offsetgroup": "AB_2734322 (CD279)",
         "orientation": "v",
         "scalegroup": "True",
         "showlegend": true,
         "type": "violin",
         "width": 0.75,
         "x": [
          "AB_2734322 (CD279)",
          "AB_2734322 (CD279)",
          "AB_2734322 (CD279)",
          "AB_2734322 (CD279)",
          "AB_2734322 (CD279)",
          "AB_2734322 (CD279)"
         ],
         "x0": " ",
         "xaxis": "x",
         "y": [
          0.654056479,
          0,
          0,
          0,
          0,
          16.4323
         ],
         "y0": " ",
         "yaxis": "y"
        },
        {
         "alignmentgroup": "True",
         "box": {
          "visible": true
         },
         "hovertemplate": "ab_target=%{x}<br>value=%{y}<extra></extra>",
         "legendgroup": "AB_2800844 (CD314)",
         "marker": {
          "color": "#00cc96",
          "size": 1
         },
         "name": "AB_2800844 (CD314)",
         "offsetgroup": "AB_2800844 (CD314)",
         "orientation": "v",
         "scalegroup": "True",
         "showlegend": true,
         "type": "violin",
         "width": 0.75,
         "x": [
          "AB_2800844 (CD314)",
          "AB_2800844 (CD314)",
          "AB_2800844 (CD314)",
          "AB_2800844 (CD314)",
          "AB_2800844 (CD314)",
          "AB_2800844 (CD314)"
         ],
         "x0": " ",
         "xaxis": "x",
         "y": [
          1.0534217742,
          0,
          0,
          0,
          0,
          9.7301
         ],
         "y0": " ",
         "yaxis": "y"
        },
        {
         "alignmentgroup": "True",
         "box": {
          "visible": true
         },
         "hovertemplate": "ab_target=%{x}<br>value=%{y}<extra></extra>",
         "legendgroup": "AB_2749998 (CD161)",
         "marker": {
          "color": "#ab63fa",
          "size": 1
         },
         "name": "AB_2749998 (CD161)",
         "offsetgroup": "AB_2749998 (CD161)",
         "orientation": "v",
         "scalegroup": "True",
         "showlegend": true,
         "type": "violin",
         "width": 0.75,
         "x": [
          "AB_2749998 (CD161)",
          "AB_2749998 (CD161)",
          "AB_2749998 (CD161)",
          "AB_2749998 (CD161)",
          "AB_2749998 (CD161)",
          "AB_2749998 (CD161)"
         ],
         "x0": " ",
         "xaxis": "x",
         "y": [
          1.0675292105,
          0,
          0,
          0,
          0,
          12.8305
         ],
         "y0": " ",
         "yaxis": "y"
        },
        {
         "alignmentgroup": "True",
         "box": {
          "visible": true
         },
         "hovertemplate": "ab_target=%{x}<br>value=%{y}<extra></extra>",
         "legendgroup": "AB_2832651 (CD101)",
         "marker": {
          "color": "#FFA15A",
          "size": 1
         },
         "name": "AB_2832651 (CD101)",
         "offsetgroup": "AB_2832651 (CD101)",
         "orientation": "v",
         "scalegroup": "True",
         "showlegend": true,
         "type": "violin",
         "width": 0.75,
         "x": [
          "AB_2832651 (CD101)",
          "AB_2832651 (CD101)",
          "AB_2832651 (CD101)",
          "AB_2832651 (CD101)",
          "AB_2832651 (CD101)",
          "AB_2832651 (CD101)"
         ],
         "x0": " ",
         "xaxis": "x",
         "y": [
          1.1713779498,
          0,
          0,
          0,
          0,
          9.80689
         ],
         "y0": " ",
         "yaxis": "y"
        },
        {
         "alignmentgroup": "True",
         "box": {
          "visible": true
         },
         "hovertemplate": "ab_target=%{x}<br>value=%{y}<extra></extra>",
         "legendgroup": "AB_2800899 (CD226)",
         "marker": {
          "color": "#19d3f3",
          "size": 1
         },
         "name": "AB_2800899 (CD226)",
         "offsetgroup": "AB_2800899 (CD226)",
         "orientation": "v",
         "scalegroup": "True",
         "showlegend": true,
         "type": "violin",
         "width": 0.75,
         "x": [
          "AB_2800899 (CD226)",
          "AB_2800899 (CD226)",
          "AB_2800899 (CD226)",
          "AB_2800899 (CD226)",
          "AB_2800899 (CD226)",
          "AB_2800899 (CD226)"
         ],
         "x0": " ",
         "xaxis": "x",
         "y": [
          0.5601338912,
          0,
          0,
          0,
          0,
          23.8746
         ],
         "y0": " ",
         "yaxis": "y"
        },
        {
         "alignmentgroup": "True",
         "box": {
          "visible": true
         },
         "hovertemplate": "ab_target=%{x}<br>value=%{y}<extra></extra>",
         "legendgroup": "AB_2800935 (CD11a)",
         "marker": {
          "color": "#FF6692",
          "size": 1
         },
         "name": "AB_2800935 (CD11a)",
         "offsetgroup": "AB_2800935 (CD11a)",
         "orientation": "v",
         "scalegroup": "True",
         "showlegend": true,
         "type": "violin",
         "width": 0.75,
         "x": [
          "AB_2800935 (CD11a)",
          "AB_2800935 (CD11a)",
          "AB_2800935 (CD11a)",
          "AB_2800935 (CD11a)",
          "AB_2800935 (CD11a)",
          "AB_2800935 (CD11a)"
         ],
         "x0": " ",
         "xaxis": "x",
         "y": [
          1.0222214286,
          0,
          0,
          0,
          0,
          9.96046
         ],
         "y0": " ",
         "yaxis": "y"
        },
        {
         "alignmentgroup": "True",
         "box": {
          "visible": true
         },
         "hovertemplate": "ab_target=%{x}<br>value=%{y}<extra></extra>",
         "legendgroup": "AB_2734312 (CD90)",
         "marker": {
          "color": "#B6E880",
          "size": 1
         },
         "name": "AB_2734312 (CD90)",
         "offsetgroup": "AB_2734312 (CD90)",
         "orientation": "v",
         "scalegroup": "True",
         "showlegend": true,
         "type": "violin",
         "width": 0.75,
         "x": [
          "AB_2734312 (CD90)",
          "AB_2734312 (CD90)",
          "AB_2734312 (CD90)",
          "AB_2734312 (CD90)",
          "AB_2734312 (CD90)",
          "AB_2734312 (CD90)"
         ],
         "x0": " ",
         "xaxis": "x",
         "y": [
          1.420151637,
          0,
          0,
          0,
          0,
          26.9333
         ],
         "y0": " ",
         "yaxis": "y"
        },
        {
         "alignmentgroup": "True",
         "box": {
          "visible": true
         },
         "hovertemplate": "ab_target=%{x}<br>value=%{y}<extra></extra>",
         "legendgroup": "AB_2734351 (CD8a)",
         "marker": {
          "color": "#FF97FF",
          "size": 1
         },
         "name": "AB_2734351 (CD8a)",
         "offsetgroup": "AB_2734351 (CD8a)",
         "orientation": "v",
         "scalegroup": "True",
         "showlegend": true,
         "type": "violin",
         "width": 0.75,
         "x": [
          "AB_2734351 (CD8a)",
          "AB_2734351 (CD8a)",
          "AB_2734351 (CD8a)",
          "AB_2734351 (CD8a)",
          "AB_2734351 (CD8a)",
          "AB_2734351 (CD8a)"
         ],
         "x0": " ",
         "xaxis": "x",
         "y": [
          0.4104495772,
          0,
          0,
          0,
          0,
          12.8807
         ],
         "y0": " ",
         "yaxis": "y"
        },
        {
         "alignmentgroup": "True",
         "box": {
          "visible": true
         },
         "hovertemplate": "ab_target=%{x}<br>value=%{y}<extra></extra>",
         "legendgroup": "AB_2810435 (CD26)",
         "marker": {
          "color": "#FECB52",
          "size": 1
         },
         "name": "AB_2810435 (CD26)",
         "offsetgroup": "AB_2810435 (CD26)",
         "orientation": "v",
         "scalegroup": "True",
         "showlegend": true,
         "type": "violin",
         "width": 0.75,
         "x": [
          "AB_2810435 (CD26)",
          "AB_2810435 (CD26)",
          "AB_2810435 (CD26)",
          "AB_2810435 (CD26)",
          "AB_2810435 (CD26)",
          "AB_2810435 (CD26)"
         ],
         "x0": " ",
         "xaxis": "x",
         "y": [
          1.5841754375,
          0,
          0,
          0,
          0,
          10.6774
         ],
         "y0": " ",
         "yaxis": "y"
        },
        {
         "alignmentgroup": "True",
         "box": {
          "visible": true
         },
         "hovertemplate": "ab_target=%{x}<br>value=%{y}<extra></extra>",
         "legendgroup": "AB_2800825 (CD49f)",
         "marker": {
          "color": "#636efa",
          "size": 1
         },
         "name": "AB_2800825 (CD49f)",
         "offsetgroup": "AB_2800825 (CD49f)",
         "orientation": "v",
         "scalegroup": "True",
         "showlegend": true,
         "type": "violin",
         "width": 0.75,
         "x": [
          "AB_2800825 (CD49f)",
          "AB_2800825 (CD49f)",
          "AB_2800825 (CD49f)",
          "AB_2800825 (CD49f)",
          "AB_2800825 (CD49f)",
          "AB_2800825 (CD49f)"
         ],
         "x0": " ",
         "xaxis": "x",
         "y": [
          0.0763564435,
          0,
          0,
          0,
          0,
          9.14401
         ],
         "y0": " ",
         "yaxis": "y"
        },
        {
         "alignmentgroup": "True",
         "box": {
          "visible": true
         },
         "hovertemplate": "ab_target=%{x}<br>value=%{y}<extra></extra>",
         "legendgroup": "AB_2800747 (CD27)",
         "marker": {
          "color": "#EF553B",
          "size": 1
         },
         "name": "AB_2800747 (CD27)",
         "offsetgroup": "AB_2800747 (CD27)",
         "orientation": "v",
         "scalegroup": "True",
         "showlegend": true,
         "type": "violin",
         "width": 0.75,
         "x": [
          "AB_2800747 (CD27)",
          "AB_2800747 (CD27)",
          "AB_2800747 (CD27)",
          "AB_2800747 (CD27)",
          "AB_2800747 (CD27)",
          "AB_2800747 (CD27)"
         ],
         "x0": " ",
         "xaxis": "x",
         "y": [
          0.9452355,
          0,
          0,
          0,
          0,
          11.2361
         ],
         "y0": " ",
         "yaxis": "y"
        },
        {
         "alignmentgroup": "True",
         "box": {
          "visible": true
         },
         "hovertemplate": "ab_target=%{x}<br>value=%{y}<extra></extra>",
         "legendgroup": "AB_2750007 (CD244)",
         "marker": {
          "color": "#00cc96",
          "size": 1
         },
         "name": "AB_2750007 (CD244)",
         "offsetgroup": "AB_2750007 (CD244)",
         "orientation": "v",
         "scalegroup": "True",
         "showlegend": true,
         "type": "violin",
         "width": 0.75,
         "x": [
          "AB_2750007 (CD244)",
          "AB_2750007 (CD244)",
          "AB_2750007 (CD244)",
          "AB_2750007 (CD244)",
          "AB_2750007 (CD244)",
          "AB_2750007 (CD244)"
         ],
         "x0": " ",
         "xaxis": "x",
         "y": [
          0.5113455154,
          0,
          0,
          0,
          0,
          14.0966
         ],
         "y0": " ",
         "yaxis": "y"
        },
        {
         "alignmentgroup": "True",
         "box": {
          "visible": true
         },
         "hovertemplate": "ab_target=%{x}<br>value=%{y}<extra></extra>",
         "legendgroup": "AB_2734254 (CD14)",
         "marker": {
          "color": "#ab63fa",
          "size": 1
         },
         "name": "AB_2734254 (CD14)",
         "offsetgroup": "AB_2734254 (CD14)",
         "orientation": "v",
         "scalegroup": "True",
         "showlegend": true,
         "type": "violin",
         "width": 0.75,
         "x": [
          "AB_2734254 (CD14)",
          "AB_2734254 (CD14)",
          "AB_2734254 (CD14)",
          "AB_2734254 (CD14)",
          "AB_2734254 (CD14)",
          "AB_2734254 (CD14)"
         ],
         "x0": " ",
         "xaxis": "x",
         "y": [
          1.7820079719,
          0,
          0,
          0,
          0,
          17.5666
         ],
         "y0": " ",
         "yaxis": "y"
        },
        {
         "alignmentgroup": "True",
         "box": {
          "visible": true
         },
         "hovertemplate": "ab_target=%{x}<br>value=%{y}<extra></extra>",
         "legendgroup": "AB_2750000 (CD27)",
         "marker": {
          "color": "#FFA15A",
          "size": 1
         },
         "name": "AB_2750000 (CD27)",
         "offsetgroup": "AB_2750000 (CD27)",
         "orientation": "v",
         "scalegroup": "True",
         "showlegend": true,
         "type": "violin",
         "width": 0.75,
         "x": [
          "AB_2750000 (CD27)",
          "AB_2750000 (CD27)",
          "AB_2750000 (CD27)",
          "AB_2750000 (CD27)",
          "AB_2750000 (CD27)",
          "AB_2750000 (CD27)"
         ],
         "x0": " ",
         "xaxis": "x",
         "y": [
          2.3393744995,
          0,
          0,
          8.33674,
          0,
          13.0592
         ],
         "y0": " ",
         "yaxis": "y"
        },
        {
         "alignmentgroup": "True",
         "box": {
          "visible": true
         },
         "hovertemplate": "ab_target=%{x}<br>value=%{y}<extra></extra>",
         "legendgroup": "AB_2820032 (CD99)",
         "marker": {
          "color": "#19d3f3",
          "size": 1
         },
         "name": "AB_2820032 (CD99)",
         "offsetgroup": "AB_2820032 (CD99)",
         "orientation": "v",
         "scalegroup": "True",
         "showlegend": true,
         "type": "violin",
         "width": 0.75,
         "x": [
          "AB_2820032 (CD99)",
          "AB_2820032 (CD99)",
          "AB_2820032 (CD99)",
          "AB_2820032 (CD99)",
          "AB_2820032 (CD99)",
          "AB_2820032 (CD99)"
         ],
         "x0": " ",
         "xaxis": "x",
         "y": [
          1.746575202,
          0,
          0,
          0,
          0,
          12.9278
         ],
         "y0": " ",
         "yaxis": "y"
        },
        {
         "alignmentgroup": "True",
         "box": {
          "visible": true
         },
         "hovertemplate": "ab_target=%{x}<br>value=%{y}<extra></extra>",
         "legendgroup": "AB_2749969 (CD4)",
         "marker": {
          "color": "#FF6692",
          "size": 1
         },
         "name": "AB_2749969 (CD4)",
         "offsetgroup": "AB_2749969 (CD4)",
         "orientation": "v",
         "scalegroup": "True",
         "showlegend": true,
         "type": "violin",
         "width": 0.75,
         "x": [
          "AB_2749969 (CD4)",
          "AB_2749969 (CD4)",
          "AB_2749969 (CD4)",
          "AB_2749969 (CD4)",
          "AB_2749969 (CD4)",
          "AB_2749969 (CD4)"
         ],
         "x0": " ",
         "xaxis": "x",
         "y": [
          1.0288228625,
          0,
          0,
          0,
          0,
          11.2665
         ],
         "y0": " ",
         "yaxis": "y"
        },
        {
         "alignmentgroup": "True",
         "box": {
          "visible": true
         },
         "hovertemplate": "ab_target=%{x}<br>value=%{y}<extra></extra>",
         "legendgroup": "AB_2800726 (CD5)",
         "marker": {
          "color": "#B6E880",
          "size": 1
         },
         "name": "AB_2800726 (CD5)",
         "offsetgroup": "AB_2800726 (CD5)",
         "orientation": "v",
         "scalegroup": "True",
         "showlegend": true,
         "type": "violin",
         "width": 0.75,
         "x": [
          "AB_2800726 (CD5)",
          "AB_2800726 (CD5)",
          "AB_2800726 (CD5)",
          "AB_2800726 (CD5)",
          "AB_2800726 (CD5)",
          "AB_2800726 (CD5)"
         ],
         "x0": " ",
         "xaxis": "x",
         "y": [
          1.3698585356,
          0,
          0,
          0,
          0,
          9.96221
         ],
         "y0": " ",
         "yaxis": "y"
        },
        {
         "alignmentgroup": "True",
         "box": {
          "visible": true
         },
         "hovertemplate": "ab_target=%{x}<br>value=%{y}<extra></extra>",
         "legendgroup": "AB_2800937 (CD127)",
         "marker": {
          "color": "#FF97FF",
          "size": 1
         },
         "name": "AB_2800937 (CD127)",
         "offsetgroup": "AB_2800937 (CD127)",
         "orientation": "v",
         "scalegroup": "True",
         "showlegend": true,
         "type": "violin",
         "width": 0.75,
         "x": [
          "AB_2800937 (CD127)",
          "AB_2800937 (CD127)",
          "AB_2800937 (CD127)",
          "AB_2800937 (CD127)",
          "AB_2800937 (CD127)",
          "AB_2800937 (CD127)"
         ],
         "x0": " ",
         "xaxis": "x",
         "y": [
          0.7534110084,
          0,
          0,
          0,
          0,
          9.29569
         ],
         "y0": " ",
         "yaxis": "y"
        },
        {
         "alignmentgroup": "True",
         "box": {
          "visible": true
         },
         "hovertemplate": "ab_target=%{x}<br>value=%{y}<extra></extra>",
         "legendgroup": "AB_2734366 (CD127)",
         "marker": {
          "color": "#FECB52",
          "size": 1
         },
         "name": "AB_2734366 (CD127)",
         "offsetgroup": "AB_2734366 (CD127)",
         "orientation": "v",
         "scalegroup": "True",
         "showlegend": true,
         "type": "violin",
         "width": 0.75,
         "x": [
          "AB_2734366 (CD127)",
          "AB_2734366 (CD127)",
          "AB_2734366 (CD127)",
          "AB_2734366 (CD127)",
          "AB_2734366 (CD127)",
          "AB_2734366 (CD127)"
         ],
         "x0": " ",
         "xaxis": "x",
         "y": [
          0.731335884,
          0,
          0,
          0,
          0,
          11.449
         ],
         "y0": " ",
         "yaxis": "y"
        },
        {
         "alignmentgroup": "True",
         "box": {
          "visible": true
         },
         "hovertemplate": "ab_target=%{x}<br>value=%{y}<extra></extra>",
         "legendgroup": "AB_2800725 (CD4)",
         "marker": {
          "color": "#636efa",
          "size": 1
         },
         "name": "AB_2800725 (CD4)",
         "offsetgroup": "AB_2800725 (CD4)",
         "orientation": "v",
         "scalegroup": "True",
         "showlegend": true,
         "type": "violin",
         "width": 0.75,
         "x": [
          "AB_2800725 (CD4)",
          "AB_2800725 (CD4)",
          "AB_2800725 (CD4)",
          "AB_2800725 (CD4)",
          "AB_2800725 (CD4)",
          "AB_2800725 (CD4)"
         ],
         "x0": " ",
         "xaxis": "x",
         "y": [
          0.2394808368,
          0,
          0,
          0,
          0,
          9.02799
         ],
         "y0": " ",
         "yaxis": "y"
        },
        {
         "alignmentgroup": "True",
         "box": {
          "visible": true
         },
         "hovertemplate": "ab_target=%{x}<br>value=%{y}<extra></extra>",
         "legendgroup": "AB_2800793 (TCR alpha/beta)",
         "marker": {
          "color": "#EF553B",
          "size": 1
         },
         "name": "AB_2800793 (TCR alpha/beta)",
         "offsetgroup": "AB_2800793 (TCR alpha/beta)",
         "orientation": "v",
         "scalegroup": "True",
         "showlegend": true,
         "type": "violin",
         "width": 0.75,
         "x": [
          "AB_2800793 (TCR alpha/beta)",
          "AB_2800793 (TCR alpha/beta)",
          "AB_2800793 (TCR alpha/beta)",
          "AB_2800793 (TCR alpha/beta)",
          "AB_2800793 (TCR alpha/beta)",
          "AB_2800793 (TCR alpha/beta)"
         ],
         "x0": " ",
         "xaxis": "x",
         "y": [
          0.2815568687,
          0,
          0,
          0,
          0,
          11.0191
         ],
         "y0": " ",
         "yaxis": "y"
        },
        {
         "alignmentgroup": "True",
         "box": {
          "visible": true
         },
         "hovertemplate": "ab_target=%{x}<br>value=%{y}<extra></extra>",
         "legendgroup": "AB_2800751 (CD28)",
         "marker": {
          "color": "#00cc96",
          "size": 1
         },
         "name": "AB_2800751 (CD28)",
         "offsetgroup": "AB_2800751 (CD28)",
         "orientation": "v",
         "scalegroup": "True",
         "showlegend": true,
         "type": "violin",
         "width": 0.75,
         "x": [
          "AB_2800751 (CD28)",
          "AB_2800751 (CD28)",
          "AB_2800751 (CD28)",
          "AB_2800751 (CD28)",
          "AB_2800751 (CD28)",
          "AB_2800751 (CD28)"
         ],
         "x0": " ",
         "xaxis": "x",
         "y": [
          0.5124184874,
          0,
          0,
          0,
          0,
          9.13044
         ],
         "y0": " ",
         "yaxis": "y"
        },
        {
         "alignmentgroup": "True",
         "box": {
          "visible": true
         },
         "hovertemplate": "ab_target=%{x}<br>value=%{y}<extra></extra>",
         "legendgroup": "AB_2800914 (CD7)",
         "marker": {
          "color": "#ab63fa",
          "size": 1
         },
         "name": "AB_2800914 (CD7)",
         "offsetgroup": "AB_2800914 (CD7)",
         "orientation": "v",
         "scalegroup": "True",
         "showlegend": true,
         "type": "violin",
         "width": 0.75,
         "x": [
          "AB_2800914 (CD7)",
          "AB_2800914 (CD7)",
          "AB_2800914 (CD7)",
          "AB_2800914 (CD7)",
          "AB_2800914 (CD7)",
          "AB_2800914 (CD7)"
         ],
         "x0": " ",
         "xaxis": "x",
         "y": [
          0,
          0,
          0,
          0,
          0,
          0
         ],
         "y0": " ",
         "yaxis": "y"
        },
        {
         "alignmentgroup": "True",
         "box": {
          "visible": true
         },
         "hovertemplate": "ab_target=%{x}<br>value=%{y}<extra></extra>",
         "legendgroup": "AB_2734353 (CD3)",
         "marker": {
          "color": "#FFA15A",
          "size": 1
         },
         "name": "AB_2734353 (CD3)",
         "offsetgroup": "AB_2734353 (CD3)",
         "orientation": "v",
         "scalegroup": "True",
         "showlegend": true,
         "type": "violin",
         "width": 0.75,
         "x": [
          "AB_2734353 (CD3)",
          "AB_2734353 (CD3)",
          "AB_2734353 (CD3)",
          "AB_2734353 (CD3)",
          "AB_2734353 (CD3)",
          "AB_2734353 (CD3)"
         ],
         "x0": " ",
         "xaxis": "x",
         "y": [
          0.1093093171,
          0,
          0,
          0,
          0,
          13.3944
         ],
         "y0": " ",
         "yaxis": "y"
        },
        {
         "alignmentgroup": "True",
         "box": {
          "visible": true
         },
         "hovertemplate": "ab_target=%{x}<br>value=%{y}<extra></extra>",
         "legendgroup": "AB_2800723 (CD3)",
         "marker": {
          "color": "#19d3f3",
          "size": 1
         },
         "name": "AB_2800723 (CD3)",
         "offsetgroup": "AB_2800723 (CD3)",
         "orientation": "v",
         "scalegroup": "True",
         "showlegend": true,
         "type": "violin",
         "width": 0.75,
         "x": [
          "AB_2800723 (CD3)",
          "AB_2800723 (CD3)",
          "AB_2800723 (CD3)",
          "AB_2800723 (CD3)",
          "AB_2800723 (CD3)",
          "AB_2800723 (CD3)"
         ],
         "x0": " ",
         "xaxis": "x",
         "y": [
          0.0751432636,
          0,
          0,
          0,
          0,
          9.32159
         ],
         "y0": " ",
         "yaxis": "y"
        },
        {
         "alignmentgroup": "True",
         "box": {
          "visible": true
         },
         "hovertemplate": "ab_target=%{x}<br>value=%{y}<extra></extra>",
         "legendgroup": "AB_2734345 (CD7)",
         "marker": {
          "color": "#FF6692",
          "size": 1
         },
         "name": "AB_2734345 (CD7)",
         "offsetgroup": "AB_2734345 (CD7)",
         "orientation": "v",
         "scalegroup": "True",
         "showlegend": true,
         "type": "violin",
         "width": 0.75,
         "x": [
          "AB_2734345 (CD7)",
          "AB_2734345 (CD7)",
          "AB_2734345 (CD7)",
          "AB_2734345 (CD7)",
          "AB_2734345 (CD7)",
          "AB_2734345 (CD7)"
         ],
         "x0": " ",
         "xaxis": "x",
         "y": [
          0.2972453695,
          0,
          0,
          0,
          0,
          12.3266
         ],
         "y0": " ",
         "yaxis": "y"
        },
        {
         "alignmentgroup": "True",
         "box": {
          "visible": true
         },
         "hovertemplate": "ab_target=%{x}<br>value=%{y}<extra></extra>",
         "legendgroup": "AB_2810464 (CD2)",
         "marker": {
          "color": "#B6E880",
          "size": 1
         },
         "name": "AB_2810464 (CD2)",
         "offsetgroup": "AB_2810464 (CD2)",
         "orientation": "v",
         "scalegroup": "True",
         "showlegend": true,
         "type": "violin",
         "width": 0.75,
         "x": [
          "AB_2810464 (CD2)",
          "AB_2810464 (CD2)",
          "AB_2810464 (CD2)",
          "AB_2810464 (CD2)",
          "AB_2810464 (CD2)",
          "AB_2810464 (CD2)"
         ],
         "x0": " ",
         "xaxis": "x",
         "y": [
          0.0883713636,
          0,
          0,
          0,
          0,
          8.87424
         ],
         "y0": " ",
         "yaxis": "y"
        }
       ],
       "layout": {
        "autosize": true,
        "font": {
         "size": 8
        },
        "legend": {
         "title": {
          "text": "ab_target"
         },
         "tracegroupgap": 0
        },
        "margin": {
         "t": 60
        },
        "template": {
         "data": {
          "bar": [
           {
            "error_x": {
             "color": "#2a3f5f"
            },
            "error_y": {
             "color": "#2a3f5f"
            },
            "marker": {
             "line": {
              "color": "#E5ECF6",
              "width": 0.5
             },
             "pattern": {
              "fillmode": "overlay",
              "size": 10,
              "solidity": 0.2
             }
            },
            "type": "bar"
           }
          ],
          "barpolar": [
           {
            "marker": {
             "line": {
              "color": "#E5ECF6",
              "width": 0.5
             },
             "pattern": {
              "fillmode": "overlay",
              "size": 10,
              "solidity": 0.2
             }
            },
            "type": "barpolar"
           }
          ],
          "carpet": [
           {
            "aaxis": {
             "endlinecolor": "#2a3f5f",
             "gridcolor": "white",
             "linecolor": "white",
             "minorgridcolor": "white",
             "startlinecolor": "#2a3f5f"
            },
            "baxis": {
             "endlinecolor": "#2a3f5f",
             "gridcolor": "white",
             "linecolor": "white",
             "minorgridcolor": "white",
             "startlinecolor": "#2a3f5f"
            },
            "type": "carpet"
           }
          ],
          "choropleth": [
           {
            "colorbar": {
             "outlinewidth": 0,
             "ticks": ""
            },
            "type": "choropleth"
           }
          ],
          "contour": [
           {
            "colorbar": {
             "outlinewidth": 0,
             "ticks": ""
            },
            "colorscale": [
             [
              0,
              "#0d0887"
             ],
             [
              0.1111111111111111,
              "#46039f"
             ],
             [
              0.2222222222222222,
              "#7201a8"
             ],
             [
              0.3333333333333333,
              "#9c179e"
             ],
             [
              0.4444444444444444,
              "#bd3786"
             ],
             [
              0.5555555555555556,
              "#d8576b"
             ],
             [
              0.6666666666666666,
              "#ed7953"
             ],
             [
              0.7777777777777778,
              "#fb9f3a"
             ],
             [
              0.8888888888888888,
              "#fdca26"
             ],
             [
              1,
              "#f0f921"
             ]
            ],
            "type": "contour"
           }
          ],
          "contourcarpet": [
           {
            "colorbar": {
             "outlinewidth": 0,
             "ticks": ""
            },
            "type": "contourcarpet"
           }
          ],
          "heatmap": [
           {
            "colorbar": {
             "outlinewidth": 0,
             "ticks": ""
            },
            "colorscale": [
             [
              0,
              "#0d0887"
             ],
             [
              0.1111111111111111,
              "#46039f"
             ],
             [
              0.2222222222222222,
              "#7201a8"
             ],
             [
              0.3333333333333333,
              "#9c179e"
             ],
             [
              0.4444444444444444,
              "#bd3786"
             ],
             [
              0.5555555555555556,
              "#d8576b"
             ],
             [
              0.6666666666666666,
              "#ed7953"
             ],
             [
              0.7777777777777778,
              "#fb9f3a"
             ],
             [
              0.8888888888888888,
              "#fdca26"
             ],
             [
              1,
              "#f0f921"
             ]
            ],
            "type": "heatmap"
           }
          ],
          "heatmapgl": [
           {
            "colorbar": {
             "outlinewidth": 0,
             "ticks": ""
            },
            "colorscale": [
             [
              0,
              "#0d0887"
             ],
             [
              0.1111111111111111,
              "#46039f"
             ],
             [
              0.2222222222222222,
              "#7201a8"
             ],
             [
              0.3333333333333333,
              "#9c179e"
             ],
             [
              0.4444444444444444,
              "#bd3786"
             ],
             [
              0.5555555555555556,
              "#d8576b"
             ],
             [
              0.6666666666666666,
              "#ed7953"
             ],
             [
              0.7777777777777778,
              "#fb9f3a"
             ],
             [
              0.8888888888888888,
              "#fdca26"
             ],
             [
              1,
              "#f0f921"
             ]
            ],
            "type": "heatmapgl"
           }
          ],
          "histogram": [
           {
            "marker": {
             "pattern": {
              "fillmode": "overlay",
              "size": 10,
              "solidity": 0.2
             }
            },
            "type": "histogram"
           }
          ],
          "histogram2d": [
           {
            "colorbar": {
             "outlinewidth": 0,
             "ticks": ""
            },
            "colorscale": [
             [
              0,
              "#0d0887"
             ],
             [
              0.1111111111111111,
              "#46039f"
             ],
             [
              0.2222222222222222,
              "#7201a8"
             ],
             [
              0.3333333333333333,
              "#9c179e"
             ],
             [
              0.4444444444444444,
              "#bd3786"
             ],
             [
              0.5555555555555556,
              "#d8576b"
             ],
             [
              0.6666666666666666,
              "#ed7953"
             ],
             [
              0.7777777777777778,
              "#fb9f3a"
             ],
             [
              0.8888888888888888,
              "#fdca26"
             ],
             [
              1,
              "#f0f921"
             ]
            ],
            "type": "histogram2d"
           }
          ],
          "histogram2dcontour": [
           {
            "colorbar": {
             "outlinewidth": 0,
             "ticks": ""
            },
            "colorscale": [
             [
              0,
              "#0d0887"
             ],
             [
              0.1111111111111111,
              "#46039f"
             ],
             [
              0.2222222222222222,
              "#7201a8"
             ],
             [
              0.3333333333333333,
              "#9c179e"
             ],
             [
              0.4444444444444444,
              "#bd3786"
             ],
             [
              0.5555555555555556,
              "#d8576b"
             ],
             [
              0.6666666666666666,
              "#ed7953"
             ],
             [
              0.7777777777777778,
              "#fb9f3a"
             ],
             [
              0.8888888888888888,
              "#fdca26"
             ],
             [
              1,
              "#f0f921"
             ]
            ],
            "type": "histogram2dcontour"
           }
          ],
          "mesh3d": [
           {
            "colorbar": {
             "outlinewidth": 0,
             "ticks": ""
            },
            "type": "mesh3d"
           }
          ],
          "parcoords": [
           {
            "line": {
             "colorbar": {
              "outlinewidth": 0,
              "ticks": ""
             }
            },
            "type": "parcoords"
           }
          ],
          "pie": [
           {
            "automargin": true,
            "type": "pie"
           }
          ],
          "scatter": [
           {
            "fillpattern": {
             "fillmode": "overlay",
             "size": 10,
             "solidity": 0.2
            },
            "type": "scatter"
           }
          ],
          "scatter3d": [
           {
            "line": {
             "colorbar": {
              "outlinewidth": 0,
              "ticks": ""
             }
            },
            "marker": {
             "colorbar": {
              "outlinewidth": 0,
              "ticks": ""
             }
            },
            "type": "scatter3d"
           }
          ],
          "scattercarpet": [
           {
            "marker": {
             "colorbar": {
              "outlinewidth": 0,
              "ticks": ""
             }
            },
            "type": "scattercarpet"
           }
          ],
          "scattergeo": [
           {
            "marker": {
             "colorbar": {
              "outlinewidth": 0,
              "ticks": ""
             }
            },
            "type": "scattergeo"
           }
          ],
          "scattergl": [
           {
            "marker": {
             "colorbar": {
              "outlinewidth": 0,
              "ticks": ""
             }
            },
            "type": "scattergl"
           }
          ],
          "scattermapbox": [
           {
            "marker": {
             "colorbar": {
              "outlinewidth": 0,
              "ticks": ""
             }
            },
            "type": "scattermapbox"
           }
          ],
          "scatterpolar": [
           {
            "marker": {
             "colorbar": {
              "outlinewidth": 0,
              "ticks": ""
             }
            },
            "type": "scatterpolar"
           }
          ],
          "scatterpolargl": [
           {
            "marker": {
             "colorbar": {
              "outlinewidth": 0,
              "ticks": ""
             }
            },
            "type": "scatterpolargl"
           }
          ],
          "scatterternary": [
           {
            "marker": {
             "colorbar": {
              "outlinewidth": 0,
              "ticks": ""
             }
            },
            "type": "scatterternary"
           }
          ],
          "surface": [
           {
            "colorbar": {
             "outlinewidth": 0,
             "ticks": ""
            },
            "colorscale": [
             [
              0,
              "#0d0887"
             ],
             [
              0.1111111111111111,
              "#46039f"
             ],
             [
              0.2222222222222222,
              "#7201a8"
             ],
             [
              0.3333333333333333,
              "#9c179e"
             ],
             [
              0.4444444444444444,
              "#bd3786"
             ],
             [
              0.5555555555555556,
              "#d8576b"
             ],
             [
              0.6666666666666666,
              "#ed7953"
             ],
             [
              0.7777777777777778,
              "#fb9f3a"
             ],
             [
              0.8888888888888888,
              "#fdca26"
             ],
             [
              1,
              "#f0f921"
             ]
            ],
            "type": "surface"
           }
          ],
          "table": [
           {
            "cells": {
             "fill": {
              "color": "#EBF0F8"
             },
             "line": {
              "color": "white"
             }
            },
            "header": {
             "fill": {
              "color": "#C8D4E3"
             },
             "line": {
              "color": "white"
             }
            },
            "type": "table"
           }
          ]
         },
         "layout": {
          "annotationdefaults": {
           "arrowcolor": "#2a3f5f",
           "arrowhead": 0,
           "arrowwidth": 1
          },
          "autotypenumbers": "strict",
          "coloraxis": {
           "colorbar": {
            "outlinewidth": 0,
            "ticks": ""
           }
          },
          "colorscale": {
           "diverging": [
            [
             0,
             "#8e0152"
            ],
            [
             0.1,
             "#c51b7d"
            ],
            [
             0.2,
             "#de77ae"
            ],
            [
             0.3,
             "#f1b6da"
            ],
            [
             0.4,
             "#fde0ef"
            ],
            [
             0.5,
             "#f7f7f7"
            ],
            [
             0.6,
             "#e6f5d0"
            ],
            [
             0.7,
             "#b8e186"
            ],
            [
             0.8,
             "#7fbc41"
            ],
            [
             0.9,
             "#4d9221"
            ],
            [
             1,
             "#276419"
            ]
           ],
           "sequential": [
            [
             0,
             "#0d0887"
            ],
            [
             0.1111111111111111,
             "#46039f"
            ],
            [
             0.2222222222222222,
             "#7201a8"
            ],
            [
             0.3333333333333333,
             "#9c179e"
            ],
            [
             0.4444444444444444,
             "#bd3786"
            ],
            [
             0.5555555555555556,
             "#d8576b"
            ],
            [
             0.6666666666666666,
             "#ed7953"
            ],
            [
             0.7777777777777778,
             "#fb9f3a"
            ],
            [
             0.8888888888888888,
             "#fdca26"
            ],
            [
             1,
             "#f0f921"
            ]
           ],
           "sequentialminus": [
            [
             0,
             "#0d0887"
            ],
            [
             0.1111111111111111,
             "#46039f"
            ],
            [
             0.2222222222222222,
             "#7201a8"
            ],
            [
             0.3333333333333333,
             "#9c179e"
            ],
            [
             0.4444444444444444,
             "#bd3786"
            ],
            [
             0.5555555555555556,
             "#d8576b"
            ],
            [
             0.6666666666666666,
             "#ed7953"
            ],
            [
             0.7777777777777778,
             "#fb9f3a"
            ],
            [
             0.8888888888888888,
             "#fdca26"
            ],
            [
             1,
             "#f0f921"
            ]
           ]
          },
          "colorway": [
           "#636efa",
           "#EF553B",
           "#00cc96",
           "#ab63fa",
           "#FFA15A",
           "#19d3f3",
           "#FF6692",
           "#B6E880",
           "#FF97FF",
           "#FECB52"
          ],
          "font": {
           "color": "#2a3f5f"
          },
          "geo": {
           "bgcolor": "white",
           "lakecolor": "white",
           "landcolor": "#E5ECF6",
           "showlakes": true,
           "showland": true,
           "subunitcolor": "white"
          },
          "hoverlabel": {
           "align": "left"
          },
          "hovermode": "closest",
          "mapbox": {
           "style": "light"
          },
          "paper_bgcolor": "white",
          "plot_bgcolor": "#E5ECF6",
          "polar": {
           "angularaxis": {
            "gridcolor": "white",
            "linecolor": "white",
            "ticks": ""
           },
           "bgcolor": "#E5ECF6",
           "radialaxis": {
            "gridcolor": "white",
            "linecolor": "white",
            "ticks": ""
           }
          },
          "scene": {
           "xaxis": {
            "backgroundcolor": "#E5ECF6",
            "gridcolor": "white",
            "gridwidth": 2,
            "linecolor": "white",
            "showbackground": true,
            "ticks": "",
            "zerolinecolor": "white"
           },
           "yaxis": {
            "backgroundcolor": "#E5ECF6",
            "gridcolor": "white",
            "gridwidth": 2,
            "linecolor": "white",
            "showbackground": true,
            "ticks": "",
            "zerolinecolor": "white"
           },
           "zaxis": {
            "backgroundcolor": "#E5ECF6",
            "gridcolor": "white",
            "gridwidth": 2,
            "linecolor": "white",
            "showbackground": true,
            "ticks": "",
            "zerolinecolor": "white"
           }
          },
          "shapedefaults": {
           "line": {
            "color": "#2a3f5f"
           }
          },
          "ternary": {
           "aaxis": {
            "gridcolor": "white",
            "linecolor": "white",
            "ticks": ""
           },
           "baxis": {
            "gridcolor": "white",
            "linecolor": "white",
            "ticks": ""
           },
           "bgcolor": "#E5ECF6",
           "caxis": {
            "gridcolor": "white",
            "linecolor": "white",
            "ticks": ""
           }
          },
          "title": {
           "x": 0.05
          },
          "xaxis": {
           "automargin": true,
           "gridcolor": "white",
           "linecolor": "white",
           "ticks": "",
           "title": {
            "standoff": 15
           },
           "zerolinecolor": "white",
           "zerolinewidth": 2
          },
          "yaxis": {
           "automargin": true,
           "gridcolor": "white",
           "linecolor": "white",
           "ticks": "",
           "title": {
            "standoff": 15
           },
           "zerolinecolor": "white",
           "zerolinewidth": 2
          }
         }
        },
        "title": {
         "text": "Antibodies for: B cell (CL:0000236)",
         "x": 0.45
        },
        "violinmode": "overlay",
        "xaxis": {
         "anchor": "y",
         "autorange": true,
         "categoryarray": [
          "AB_2814172 (CD268)",
          "AB_2800886 (CD40)",
          "AB_2800741 (CD19)",
          "AB_2801006 (CD22)",
          "AB_2734256 (CD19)",
          "AB_2814129 (CD32)",
          "AB_2749984 (CD20)",
          "AB_2800795 (HLA-DR)",
          "AB_2749968 (CD40)",
          "AB_2800953 (CD21)",
          "AB_2800876 (CD35)",
          "AB_2800743 (CD20)",
          "AB_2750001 (HLA-DR)",
          "AB_2749995 (CD32)",
          "AB_2800853 (CD39)",
          "AB_2750006 (CD21)",
          "AB_2800835 (IgM)",
          "AB_2800905 (CD79b)",
          "AB_2750005 (CD39)",
          "AB_2750002 (CD272)",
          "AB_2749992 (IgM)",
          "AB_2800810 (CD69)",
          "AB_2800813 (CD24)",
          "AB_2734326 (CD1c)",
          "AB_2800934 (CD1d)",
          "AB_2814236 (CD23)",
          "AB_2800916 (CD73)",
          "AB_2814171 (Ig light chain lambda)",
          "AB_2814169 (Ig light chain kappa)",
          "AB_2810562 (CD54)",
          "AB_2800955 (CD70)",
          "AB_2800871 (CD1c)",
          "AB_2814257 (CD82)",
          "AB_2801027 (CD66b)",
          "AB_2800919 (CD272)",
          "AB_2800808 (CD154)",
          "AB_2749977 (CD123)",
          "AB_2800854 (CD107a)",
          "AB_2814295 (CD303)",
          "AB_2800817 (CD10)",
          "AB_2814327 (CD223)",
          "AB_2800949 (CD183)",
          "AB_2800883 (CD30)",
          "AB_2801021 (TIGIT)",
          "AB_2800960 (CX3CR1)",
          "AB_2810481 (Integrin beta7)",
          "AB_2749976 (HLA-ABC)",
          "AB_2800758 (CD38)",
          "AB_2810506 (CD58)",
          "AB_2810541 (CD141)",
          "AB_2801087 (IgG)",
          "AB_2810570 (CD195)",
          "AB_2800836 (CD52)",
          "AB_2814137 (CD49d)",
          "AB_2749965 (CD70)",
          "AB_2800943 (CD197)",
          "AB_2832672 (CD88)",
          "AB_2734286 (CD10)",
          "AB_2800745 (CD25)",
          "AB_2810531 (CD96)",
          "AB_2800925 (CD366)",
          "AB_2749996 (CD103)",
          "AB_2734278 (CD275)",
          "AB_2800851 (CD337)",
          "AB_2734258 (CD25)",
          "AB_2734360 (CD294)",
          "AB_2810510 (CD163)",
          "AB_2800757 (CD31)",
          "AB_2800900 (CD44)",
          "AB_2749999 (CD223)",
          "AB_2749997 (CD69)",
          "AB_2832593 (CD62P)",
          "AB_2800786 (CD86)",
          "AB_2800762 (CD45)",
          "AB_2734249 (CD11b)",
          "AB_2814292 (CD371)",
          "AB_2814134 (CD41)",
          "AB_2814233 (CD155)",
          "AB_2800893 (CD36)",
          "AB_2734287 (CD117)",
          "AB_2801008 (CD33)",
          "AB_2749993 (CD183)",
          "AB_2801018 (CD11c)",
          "AB_2814252 (CD158)",
          "AB_2800732 (CD11b)",
          "AB_2800931 (CD81)",
          "AB_2749972 (CD34)",
          "AB_2800862 (CD279)",
          "AB_2814143 (CD94)",
          "AB_2820039 (CD224)",
          "AB_2734409 (CD33)",
          "AB_2800823 (CD278)",
          "AB_2749994 (CD195)",
          "AB_2800874 (CD335)",
          "AB_2749971 (CD11c)",
          "AB_2800922 (CD8a)",
          "AB_2800770 (CD62L)",
          "AB_2800738 (CD16)",
          "AB_2800756 (CD29)",
          "AB_2814249 (CD328)",
          "AB_2814240 (CD122)",
          "AB_2904401 (KLRG1)",
          "AB_2800787 (CD95)",
          "AB_2734255 (CD16)",
          "AB_2734445 (CD56)",
          "AB_2800988 (CD194)",
          "AB_2800857 (CD244)",
          "AB_2810482 (CD47)",
          "AB_2801002 (CD56)",
          "AB_2800739 (CD18)",
          "AB_2749979 (CD194)",
          "AB_2734322 (CD279)",
          "AB_2800844 (CD314)",
          "AB_2749998 (CD161)",
          "AB_2832651 (CD101)",
          "AB_2800899 (CD226)",
          "AB_2800935 (CD11a)",
          "AB_2734312 (CD90)",
          "AB_2734351 (CD8a)",
          "AB_2810435 (CD26)",
          "AB_2800825 (CD49f)",
          "AB_2800747 (CD27)",
          "AB_2750007 (CD244)",
          "AB_2734254 (CD14)",
          "AB_2750000 (CD27)",
          "AB_2820032 (CD99)",
          "AB_2749969 (CD4)",
          "AB_2800726 (CD5)",
          "AB_2800937 (CD127)",
          "AB_2734366 (CD127)",
          "AB_2800725 (CD4)",
          "AB_2800793 (TCR alpha/beta)",
          "AB_2800751 (CD28)",
          "AB_2800914 (CD7)",
          "AB_2734353 (CD3)",
          "AB_2800723 (CD3)",
          "AB_2734345 (CD7)",
          "AB_2810464 (CD2)"
         ],
         "categoryorder": "array",
         "domain": [
          0,
          1
         ],
         "range": [
          -8.027777777777777,
          145.02777777777777
         ],
         "title": {
          "text": "Antibody"
         },
         "type": "category"
        },
        "yaxis": {
         "anchor": "x",
         "autorange": true,
         "domain": [
          0,
          1
         ],
         "range": [
          0,
          74.3411641115306
         ],
         "rangemode": "nonnegative",
         "title": {
          "text": "Normalized Values"
         },
         "type": "linear"
        }
       }
      },
      "text/html": [
       "<div>                            <div id=\"712b898a-1d6b-4a60-b8aa-5e295683dd2e\" class=\"plotly-graph-div\" style=\"height:600px; width:100%;\"></div>            <script type=\"text/javascript\">                require([\"plotly\"], function(Plotly) {                    window.PLOTLYENV=window.PLOTLYENV || {};                                    if (document.getElementById(\"712b898a-1d6b-4a60-b8aa-5e295683dd2e\")) {                    Plotly.newPlot(                        \"712b898a-1d6b-4a60-b8aa-5e295683dd2e\",                        [{\"alignmentgroup\":\"True\",\"box\":{\"visible\":true},\"hovertemplate\":\"ab_target=%{x}<br>value=%{y}<extra></extra>\",\"legendgroup\":\"AB_2814172 (CD268)\",\"marker\":{\"color\":\"#636efa\",\"size\":1},\"name\":\"AB_2814172 (CD268)\",\"offsetgroup\":\"AB_2814172 (CD268)\",\"orientation\":\"v\",\"scalegroup\":\"True\",\"showlegend\":true,\"x\":[\"AB_2814172 (CD268)\",\"AB_2814172 (CD268)\",\"AB_2814172 (CD268)\",\"AB_2814172 (CD268)\",\"AB_2814172 (CD268)\",\"AB_2814172 (CD268)\"],\"x0\":\" \",\"xaxis\":\"x\",\"y\":[10.3598480645,9.7163475,10.3294,10.9603,8.95955,13.4467],\"y0\":\" \",\"yaxis\":\"y\",\"type\":\"violin\",\"width\":0.75},{\"alignmentgroup\":\"True\",\"box\":{\"visible\":true},\"hovertemplate\":\"ab_target=%{x}<br>value=%{y}<extra></extra>\",\"legendgroup\":\"AB_2800886 (CD40)\",\"marker\":{\"color\":\"#EF553B\",\"size\":1},\"name\":\"AB_2800886 (CD40)\",\"offsetgroup\":\"AB_2800886 (CD40)\",\"orientation\":\"v\",\"scalegroup\":\"True\",\"showlegend\":true,\"x\":[\"AB_2800886 (CD40)\",\"AB_2800886 (CD40)\",\"AB_2800886 (CD40)\",\"AB_2800886 (CD40)\",\"AB_2800886 (CD40)\",\"AB_2800886 (CD40)\"],\"x0\":\" \",\"xaxis\":\"x\",\"y\":[10.5200770968,9.8123525,10.33535,11.099025,9.05866,13.5123],\"y0\":\" \",\"yaxis\":\"y\",\"type\":\"violin\",\"width\":0.75},{\"alignmentgroup\":\"True\",\"box\":{\"visible\":true},\"hovertemplate\":\"ab_target=%{x}<br>value=%{y}<extra></extra>\",\"legendgroup\":\"AB_2800741 (CD19)\",\"marker\":{\"color\":\"#00cc96\",\"size\":1},\"name\":\"AB_2800741 (CD19)\",\"offsetgroup\":\"AB_2800741 (CD19)\",\"orientation\":\"v\",\"scalegroup\":\"True\",\"showlegend\":true,\"x\":[\"AB_2800741 (CD19)\",\"AB_2800741 (CD19)\",\"AB_2800741 (CD19)\",\"AB_2800741 (CD19)\",\"AB_2800741 (CD19)\",\"AB_2800741 (CD19)\"],\"x0\":\" \",\"xaxis\":\"x\",\"y\":[10.0655474059,9.371775,9.86745,10.5057,8.36102,14.1097],\"y0\":\" \",\"yaxis\":\"y\",\"type\":\"violin\",\"width\":0.75},{\"alignmentgroup\":\"True\",\"box\":{\"visible\":true},\"hovertemplate\":\"ab_target=%{x}<br>value=%{y}<extra></extra>\",\"legendgroup\":\"AB_2801006 (CD22)\",\"marker\":{\"color\":\"#ab63fa\",\"size\":1},\"name\":\"AB_2801006 (CD22)\",\"offsetgroup\":\"AB_2801006 (CD22)\",\"orientation\":\"v\",\"scalegroup\":\"True\",\"showlegend\":true,\"x\":[\"AB_2801006 (CD22)\",\"AB_2801006 (CD22)\",\"AB_2801006 (CD22)\",\"AB_2801006 (CD22)\",\"AB_2801006 (CD22)\",\"AB_2801006 (CD22)\"],\"x0\":\" \",\"xaxis\":\"x\",\"y\":[10.0905685484,9.4433625,10.05875,10.546775,0.0,14.3312],\"y0\":\" \",\"yaxis\":\"y\",\"type\":\"violin\",\"width\":0.75},{\"alignmentgroup\":\"True\",\"box\":{\"visible\":true},\"hovertemplate\":\"ab_target=%{x}<br>value=%{y}<extra></extra>\",\"legendgroup\":\"AB_2734256 (CD19)\",\"marker\":{\"color\":\"#FFA15A\",\"size\":1},\"name\":\"AB_2734256 (CD19)\",\"offsetgroup\":\"AB_2734256 (CD19)\",\"orientation\":\"v\",\"scalegroup\":\"True\",\"showlegend\":true,\"x\":[\"AB_2734256 (CD19)\",\"AB_2734256 (CD19)\",\"AB_2734256 (CD19)\",\"AB_2734256 (CD19)\",\"AB_2734256 (CD19)\",\"AB_2734256 (CD19)\"],\"x0\":\" \",\"xaxis\":\"x\",\"y\":[10.3220987035,9.81563,10.3121,10.8647,0.0,16.3591],\"y0\":\" \",\"yaxis\":\"y\",\"type\":\"violin\",\"width\":0.75},{\"alignmentgroup\":\"True\",\"box\":{\"visible\":true},\"hovertemplate\":\"ab_target=%{x}<br>value=%{y}<extra></extra>\",\"legendgroup\":\"AB_2814129 (CD32)\",\"marker\":{\"color\":\"#19d3f3\",\"size\":1},\"name\":\"AB_2814129 (CD32)\",\"offsetgroup\":\"AB_2814129 (CD32)\",\"orientation\":\"v\",\"scalegroup\":\"True\",\"showlegend\":true,\"x\":[\"AB_2814129 (CD32)\",\"AB_2814129 (CD32)\",\"AB_2814129 (CD32)\",\"AB_2814129 (CD32)\",\"AB_2814129 (CD32)\",\"AB_2814129 (CD32)\"],\"x0\":\" \",\"xaxis\":\"x\",\"y\":[10.2277089121,9.66656,10.0758,10.90105,0.0,13.8621],\"y0\":\" \",\"yaxis\":\"y\",\"type\":\"violin\",\"width\":0.75},{\"alignmentgroup\":\"True\",\"box\":{\"visible\":true},\"hovertemplate\":\"ab_target=%{x}<br>value=%{y}<extra></extra>\",\"legendgroup\":\"AB_2749984 (CD20)\",\"marker\":{\"color\":\"#FF6692\",\"size\":1},\"name\":\"AB_2749984 (CD20)\",\"offsetgroup\":\"AB_2749984 (CD20)\",\"orientation\":\"v\",\"scalegroup\":\"True\",\"showlegend\":true,\"x\":[\"AB_2749984 (CD20)\",\"AB_2749984 (CD20)\",\"AB_2749984 (CD20)\",\"AB_2749984 (CD20)\",\"AB_2749984 (CD20)\",\"AB_2749984 (CD20)\"],\"x0\":\" \",\"xaxis\":\"x\",\"y\":[10.2714669822,9.71175,10.1392,10.7311,0.0,18.0409],\"y0\":\" \",\"yaxis\":\"y\",\"type\":\"violin\",\"width\":0.75},{\"alignmentgroup\":\"True\",\"box\":{\"visible\":true},\"hovertemplate\":\"ab_target=%{x}<br>value=%{y}<extra></extra>\",\"legendgroup\":\"AB_2800795 (HLA-DR)\",\"marker\":{\"color\":\"#B6E880\",\"size\":1},\"name\":\"AB_2800795 (HLA-DR)\",\"offsetgroup\":\"AB_2800795 (HLA-DR)\",\"orientation\":\"v\",\"scalegroup\":\"True\",\"showlegend\":true,\"x\":[\"AB_2800795 (HLA-DR)\",\"AB_2800795 (HLA-DR)\",\"AB_2800795 (HLA-DR)\",\"AB_2800795 (HLA-DR)\",\"AB_2800795 (HLA-DR)\",\"AB_2800795 (HLA-DR)\"],\"x0\":\" \",\"xaxis\":\"x\",\"y\":[10.3195473109,9.70688,9.97645,10.5481,9.25517,15.6393],\"y0\":\" \",\"yaxis\":\"y\",\"type\":\"violin\",\"width\":0.75},{\"alignmentgroup\":\"True\",\"box\":{\"visible\":true},\"hovertemplate\":\"ab_target=%{x}<br>value=%{y}<extra></extra>\",\"legendgroup\":\"AB_2749968 (CD40)\",\"marker\":{\"color\":\"#FF97FF\",\"size\":1},\"name\":\"AB_2749968 (CD40)\",\"offsetgroup\":\"AB_2749968 (CD40)\",\"orientation\":\"v\",\"scalegroup\":\"True\",\"showlegend\":true,\"x\":[\"AB_2749968 (CD40)\",\"AB_2749968 (CD40)\",\"AB_2749968 (CD40)\",\"AB_2749968 (CD40)\",\"AB_2749968 (CD40)\",\"AB_2749968 (CD40)\"],\"x0\":\" \",\"xaxis\":\"x\",\"y\":[10.2754811394,9.75303,10.3126,10.9209,0.0,15.7415],\"y0\":\" \",\"yaxis\":\"y\",\"type\":\"violin\",\"width\":0.75},{\"alignmentgroup\":\"True\",\"box\":{\"visible\":true},\"hovertemplate\":\"ab_target=%{x}<br>value=%{y}<extra></extra>\",\"legendgroup\":\"AB_2800953 (CD21)\",\"marker\":{\"color\":\"#FECB52\",\"size\":1},\"name\":\"AB_2800953 (CD21)\",\"offsetgroup\":\"AB_2800953 (CD21)\",\"orientation\":\"v\",\"scalegroup\":\"True\",\"showlegend\":true,\"x\":[\"AB_2800953 (CD21)\",\"AB_2800953 (CD21)\",\"AB_2800953 (CD21)\",\"AB_2800953 (CD21)\",\"AB_2800953 (CD21)\",\"AB_2800953 (CD21)\"],\"x0\":\" \",\"xaxis\":\"x\",\"y\":[11.0322872269,10.3701,10.9018,11.8149,0.0,16.1885],\"y0\":\" \",\"yaxis\":\"y\",\"type\":\"violin\",\"width\":0.75},{\"alignmentgroup\":\"True\",\"box\":{\"visible\":true},\"hovertemplate\":\"ab_target=%{x}<br>value=%{y}<extra></extra>\",\"legendgroup\":\"AB_2800876 (CD35)\",\"marker\":{\"color\":\"#636efa\",\"size\":1},\"name\":\"AB_2800876 (CD35)\",\"offsetgroup\":\"AB_2800876 (CD35)\",\"orientation\":\"v\",\"scalegroup\":\"True\",\"showlegend\":true,\"x\":[\"AB_2800876 (CD35)\",\"AB_2800876 (CD35)\",\"AB_2800876 (CD35)\",\"AB_2800876 (CD35)\",\"AB_2800876 (CD35)\",\"AB_2800876 (CD35)\"],\"x0\":\" \",\"xaxis\":\"x\",\"y\":[9.9142574895,9.562695,10.0126,10.6015,0.0,13.6753],\"y0\":\" \",\"yaxis\":\"y\",\"type\":\"violin\",\"width\":0.75},{\"alignmentgroup\":\"True\",\"box\":{\"visible\":true},\"hovertemplate\":\"ab_target=%{x}<br>value=%{y}<extra></extra>\",\"legendgroup\":\"AB_2800743 (CD20)\",\"marker\":{\"color\":\"#EF553B\",\"size\":1},\"name\":\"AB_2800743 (CD20)\",\"offsetgroup\":\"AB_2800743 (CD20)\",\"orientation\":\"v\",\"scalegroup\":\"True\",\"showlegend\":true,\"x\":[\"AB_2800743 (CD20)\",\"AB_2800743 (CD20)\",\"AB_2800743 (CD20)\",\"AB_2800743 (CD20)\",\"AB_2800743 (CD20)\",\"AB_2800743 (CD20)\"],\"x0\":\" \",\"xaxis\":\"x\",\"y\":[10.7291631092,9.880415,10.5341,11.4787,0.0,17.3548],\"y0\":\" \",\"yaxis\":\"y\",\"type\":\"violin\",\"width\":0.75},{\"alignmentgroup\":\"True\",\"box\":{\"visible\":true},\"hovertemplate\":\"ab_target=%{x}<br>value=%{y}<extra></extra>\",\"legendgroup\":\"AB_2750001 (HLA-DR)\",\"marker\":{\"color\":\"#00cc96\",\"size\":1},\"name\":\"AB_2750001 (HLA-DR)\",\"offsetgroup\":\"AB_2750001 (HLA-DR)\",\"orientation\":\"v\",\"scalegroup\":\"True\",\"showlegend\":true,\"x\":[\"AB_2750001 (HLA-DR)\",\"AB_2750001 (HLA-DR)\",\"AB_2750001 (HLA-DR)\",\"AB_2750001 (HLA-DR)\",\"AB_2750001 (HLA-DR)\",\"AB_2750001 (HLA-DR)\"],\"x0\":\" \",\"xaxis\":\"x\",\"y\":[10.4252424341,9.70576,10.1214,10.8141,0.0,20.328],\"y0\":\" \",\"yaxis\":\"y\",\"type\":\"violin\",\"width\":0.75},{\"alignmentgroup\":\"True\",\"box\":{\"visible\":true},\"hovertemplate\":\"ab_target=%{x}<br>value=%{y}<extra></extra>\",\"legendgroup\":\"AB_2749995 (CD32)\",\"marker\":{\"color\":\"#ab63fa\",\"size\":1},\"name\":\"AB_2749995 (CD32)\",\"offsetgroup\":\"AB_2749995 (CD32)\",\"orientation\":\"v\",\"scalegroup\":\"True\",\"showlegend\":true,\"x\":[\"AB_2749995 (CD32)\",\"AB_2749995 (CD32)\",\"AB_2749995 (CD32)\",\"AB_2749995 (CD32)\",\"AB_2749995 (CD32)\",\"AB_2749995 (CD32)\"],\"x0\":\" \",\"xaxis\":\"x\",\"y\":[10.6586579383,10.1081,10.6504,11.2404,0.0,17.5631],\"y0\":\" \",\"yaxis\":\"y\",\"type\":\"violin\",\"width\":0.75},{\"alignmentgroup\":\"True\",\"box\":{\"visible\":true},\"hovertemplate\":\"ab_target=%{x}<br>value=%{y}<extra></extra>\",\"legendgroup\":\"AB_2800853 (CD39)\",\"marker\":{\"color\":\"#FFA15A\",\"size\":1},\"name\":\"AB_2800853 (CD39)\",\"offsetgroup\":\"AB_2800853 (CD39)\",\"orientation\":\"v\",\"scalegroup\":\"True\",\"showlegend\":true,\"x\":[\"AB_2800853 (CD39)\",\"AB_2800853 (CD39)\",\"AB_2800853 (CD39)\",\"AB_2800853 (CD39)\",\"AB_2800853 (CD39)\",\"AB_2800853 (CD39)\"],\"x0\":\" \",\"xaxis\":\"x\",\"y\":[9.907112437,9.76395,10.4248,11.3223,0.0,16.2474],\"y0\":\" \",\"yaxis\":\"y\",\"type\":\"violin\",\"width\":0.75},{\"alignmentgroup\":\"True\",\"box\":{\"visible\":true},\"hovertemplate\":\"ab_target=%{x}<br>value=%{y}<extra></extra>\",\"legendgroup\":\"AB_2750006 (CD21)\",\"marker\":{\"color\":\"#19d3f3\",\"size\":1},\"name\":\"AB_2750006 (CD21)\",\"offsetgroup\":\"AB_2750006 (CD21)\",\"orientation\":\"v\",\"scalegroup\":\"True\",\"showlegend\":true,\"x\":[\"AB_2750006 (CD21)\",\"AB_2750006 (CD21)\",\"AB_2750006 (CD21)\",\"AB_2750006 (CD21)\",\"AB_2750006 (CD21)\",\"AB_2750006 (CD21)\"],\"x0\":\" \",\"xaxis\":\"x\",\"y\":[10.9580745706,10.3334,10.9393,11.666,0.0,29.9263],\"y0\":\" \",\"yaxis\":\"y\",\"type\":\"violin\",\"width\":0.75},{\"alignmentgroup\":\"True\",\"box\":{\"visible\":true},\"hovertemplate\":\"ab_target=%{x}<br>value=%{y}<extra></extra>\",\"legendgroup\":\"AB_2800835 (IgM)\",\"marker\":{\"color\":\"#FF6692\",\"size\":1},\"name\":\"AB_2800835 (IgM)\",\"offsetgroup\":\"AB_2800835 (IgM)\",\"orientation\":\"v\",\"scalegroup\":\"True\",\"showlegend\":true,\"x\":[\"AB_2800835 (IgM)\",\"AB_2800835 (IgM)\",\"AB_2800835 (IgM)\",\"AB_2800835 (IgM)\",\"AB_2800835 (IgM)\",\"AB_2800835 (IgM)\"],\"x0\":\" \",\"xaxis\":\"x\",\"y\":[9.2157410042,9.63508,10.0621,10.9509,0.0,19.8174],\"y0\":\" \",\"yaxis\":\"y\",\"type\":\"violin\",\"width\":0.75},{\"alignmentgroup\":\"True\",\"box\":{\"visible\":true},\"hovertemplate\":\"ab_target=%{x}<br>value=%{y}<extra></extra>\",\"legendgroup\":\"AB_2800905 (CD79b)\",\"marker\":{\"color\":\"#B6E880\",\"size\":1},\"name\":\"AB_2800905 (CD79b)\",\"offsetgroup\":\"AB_2800905 (CD79b)\",\"orientation\":\"v\",\"scalegroup\":\"True\",\"showlegend\":true,\"x\":[\"AB_2800905 (CD79b)\",\"AB_2800905 (CD79b)\",\"AB_2800905 (CD79b)\",\"AB_2800905 (CD79b)\",\"AB_2800905 (CD79b)\",\"AB_2800905 (CD79b)\"],\"x0\":\" \",\"xaxis\":\"x\",\"y\":[8.6672968908,9.61893,9.99005,10.74335,0.0,17.1277],\"y0\":\" \",\"yaxis\":\"y\",\"type\":\"violin\",\"width\":0.75},{\"alignmentgroup\":\"True\",\"box\":{\"visible\":true},\"hovertemplate\":\"ab_target=%{x}<br>value=%{y}<extra></extra>\",\"legendgroup\":\"AB_2750005 (CD39)\",\"marker\":{\"color\":\"#FF97FF\",\"size\":1},\"name\":\"AB_2750005 (CD39)\",\"offsetgroup\":\"AB_2750005 (CD39)\",\"orientation\":\"v\",\"scalegroup\":\"True\",\"showlegend\":true,\"x\":[\"AB_2750005 (CD39)\",\"AB_2750005 (CD39)\",\"AB_2750005 (CD39)\",\"AB_2750005 (CD39)\",\"AB_2750005 (CD39)\",\"AB_2750005 (CD39)\"],\"x0\":\" \",\"xaxis\":\"x\",\"y\":[9.3055067091,9.22319,9.68649,10.2901,0.0,15.3181],\"y0\":\" \",\"yaxis\":\"y\",\"type\":\"violin\",\"width\":0.75},{\"alignmentgroup\":\"True\",\"box\":{\"visible\":true},\"hovertemplate\":\"ab_target=%{x}<br>value=%{y}<extra></extra>\",\"legendgroup\":\"AB_2750002 (CD272)\",\"marker\":{\"color\":\"#FECB52\",\"size\":1},\"name\":\"AB_2750002 (CD272)\",\"offsetgroup\":\"AB_2750002 (CD272)\",\"orientation\":\"v\",\"scalegroup\":\"True\",\"showlegend\":true,\"x\":[\"AB_2750002 (CD272)\",\"AB_2750002 (CD272)\",\"AB_2750002 (CD272)\",\"AB_2750002 (CD272)\",\"AB_2750002 (CD272)\",\"AB_2750002 (CD272)\"],\"x0\":\" \",\"xaxis\":\"x\",\"y\":[8.4008154481,9.15658,9.89777,10.7834,0.0,15.5224],\"y0\":\" \",\"yaxis\":\"y\",\"type\":\"violin\",\"width\":0.75},{\"alignmentgroup\":\"True\",\"box\":{\"visible\":true},\"hovertemplate\":\"ab_target=%{x}<br>value=%{y}<extra></extra>\",\"legendgroup\":\"AB_2749992 (IgM)\",\"marker\":{\"color\":\"#636efa\",\"size\":1},\"name\":\"AB_2749992 (IgM)\",\"offsetgroup\":\"AB_2749992 (IgM)\",\"orientation\":\"v\",\"scalegroup\":\"True\",\"showlegend\":true,\"x\":[\"AB_2749992 (IgM)\",\"AB_2749992 (IgM)\",\"AB_2749992 (IgM)\",\"AB_2749992 (IgM)\",\"AB_2749992 (IgM)\",\"AB_2749992 (IgM)\"],\"x0\":\" \",\"xaxis\":\"x\",\"y\":[8.0554149935,9.30344,9.69866,10.5297,0.0,22.0207],\"y0\":\" \",\"yaxis\":\"y\",\"type\":\"violin\",\"width\":0.75},{\"alignmentgroup\":\"True\",\"box\":{\"visible\":true},\"hovertemplate\":\"ab_target=%{x}<br>value=%{y}<extra></extra>\",\"legendgroup\":\"AB_2800810 (CD69)\",\"marker\":{\"color\":\"#EF553B\",\"size\":1},\"name\":\"AB_2800810 (CD69)\",\"offsetgroup\":\"AB_2800810 (CD69)\",\"orientation\":\"v\",\"scalegroup\":\"True\",\"showlegend\":true,\"x\":[\"AB_2800810 (CD69)\",\"AB_2800810 (CD69)\",\"AB_2800810 (CD69)\",\"AB_2800810 (CD69)\",\"AB_2800810 (CD69)\",\"AB_2800810 (CD69)\"],\"x0\":\" \",\"xaxis\":\"x\",\"y\":[8.3040691632,9.53299,9.86551,10.09815,0.0,21.3431],\"y0\":\" \",\"yaxis\":\"y\",\"type\":\"violin\",\"width\":0.75},{\"alignmentgroup\":\"True\",\"box\":{\"visible\":true},\"hovertemplate\":\"ab_target=%{x}<br>value=%{y}<extra></extra>\",\"legendgroup\":\"AB_2800813 (CD24)\",\"marker\":{\"color\":\"#00cc96\",\"size\":1},\"name\":\"AB_2800813 (CD24)\",\"offsetgroup\":\"AB_2800813 (CD24)\",\"orientation\":\"v\",\"scalegroup\":\"True\",\"showlegend\":true,\"x\":[\"AB_2800813 (CD24)\",\"AB_2800813 (CD24)\",\"AB_2800813 (CD24)\",\"AB_2800813 (CD24)\",\"AB_2800813 (CD24)\",\"AB_2800813 (CD24)\"],\"x0\":\" \",\"xaxis\":\"x\",\"y\":[10.0298132773,9.67366,10.3847,11.49465,0.0,22.5138],\"y0\":\" \",\"yaxis\":\"y\",\"type\":\"violin\",\"width\":0.75},{\"alignmentgroup\":\"True\",\"box\":{\"visible\":true},\"hovertemplate\":\"ab_target=%{x}<br>value=%{y}<extra></extra>\",\"legendgroup\":\"AB_2734326 (CD1c)\",\"marker\":{\"color\":\"#ab63fa\",\"size\":1},\"name\":\"AB_2734326 (CD1c)\",\"offsetgroup\":\"AB_2734326 (CD1c)\",\"orientation\":\"v\",\"scalegroup\":\"True\",\"showlegend\":true,\"x\":[\"AB_2734326 (CD1c)\",\"AB_2734326 (CD1c)\",\"AB_2734326 (CD1c)\",\"AB_2734326 (CD1c)\",\"AB_2734326 (CD1c)\",\"AB_2734326 (CD1c)\"],\"x0\":\" \",\"xaxis\":\"x\",\"y\":[7.4748329841,0.0,9.56662,10.1227,0.0,19.1555],\"y0\":\" \",\"yaxis\":\"y\",\"type\":\"violin\",\"width\":0.75},{\"alignmentgroup\":\"True\",\"box\":{\"visible\":true},\"hovertemplate\":\"ab_target=%{x}<br>value=%{y}<extra></extra>\",\"legendgroup\":\"AB_2800934 (CD1d)\",\"marker\":{\"color\":\"#FFA15A\",\"size\":1},\"name\":\"AB_2800934 (CD1d)\",\"offsetgroup\":\"AB_2800934 (CD1d)\",\"orientation\":\"v\",\"scalegroup\":\"True\",\"showlegend\":true,\"x\":[\"AB_2800934 (CD1d)\",\"AB_2800934 (CD1d)\",\"AB_2800934 (CD1d)\",\"AB_2800934 (CD1d)\",\"AB_2800934 (CD1d)\",\"AB_2800934 (CD1d)\"],\"x0\":\" \",\"xaxis\":\"x\",\"y\":[8.5878746774,9.78654,9.96443,10.15815,0.0,10.6203],\"y0\":\" \",\"yaxis\":\"y\",\"type\":\"violin\",\"width\":0.75},{\"alignmentgroup\":\"True\",\"box\":{\"visible\":true},\"hovertemplate\":\"ab_target=%{x}<br>value=%{y}<extra></extra>\",\"legendgroup\":\"AB_2814236 (CD23)\",\"marker\":{\"color\":\"#19d3f3\",\"size\":1},\"name\":\"AB_2814236 (CD23)\",\"offsetgroup\":\"AB_2814236 (CD23)\",\"orientation\":\"v\",\"scalegroup\":\"True\",\"showlegend\":true,\"x\":[\"AB_2814236 (CD23)\",\"AB_2814236 (CD23)\",\"AB_2814236 (CD23)\",\"AB_2814236 (CD23)\",\"AB_2814236 (CD23)\",\"AB_2814236 (CD23)\"],\"x0\":\" \",\"xaxis\":\"x\",\"y\":[7.8410335484,0.0,9.81796,10.434525,0.0,17.7602],\"y0\":\" \",\"yaxis\":\"y\",\"type\":\"violin\",\"width\":0.75},{\"alignmentgroup\":\"True\",\"box\":{\"visible\":true},\"hovertemplate\":\"ab_target=%{x}<br>value=%{y}<extra></extra>\",\"legendgroup\":\"AB_2800916 (CD73)\",\"marker\":{\"color\":\"#FF6692\",\"size\":1},\"name\":\"AB_2800916 (CD73)\",\"offsetgroup\":\"AB_2800916 (CD73)\",\"orientation\":\"v\",\"scalegroup\":\"True\",\"showlegend\":true,\"x\":[\"AB_2800916 (CD73)\",\"AB_2800916 (CD73)\",\"AB_2800916 (CD73)\",\"AB_2800916 (CD73)\",\"AB_2800916 (CD73)\",\"AB_2800916 (CD73)\"],\"x0\":\" \",\"xaxis\":\"x\",\"y\":[8.1761258081,9.3634,9.967395,10.862825,0.0,22.8935],\"y0\":\" \",\"yaxis\":\"y\",\"type\":\"violin\",\"width\":0.75},{\"alignmentgroup\":\"True\",\"box\":{\"visible\":true},\"hovertemplate\":\"ab_target=%{x}<br>value=%{y}<extra></extra>\",\"legendgroup\":\"AB_2814171 (Ig light chain lambda)\",\"marker\":{\"color\":\"#B6E880\",\"size\":1},\"name\":\"AB_2814171 (Ig light chain lambda)\",\"offsetgroup\":\"AB_2814171 (Ig light chain lambda)\",\"orientation\":\"v\",\"scalegroup\":\"True\",\"showlegend\":true,\"x\":[\"AB_2814171 (Ig light chain lambda)\",\"AB_2814171 (Ig light chain lambda)\",\"AB_2814171 (Ig light chain lambda)\",\"AB_2814171 (Ig light chain lambda)\",\"AB_2814171 (Ig light chain lambda)\",\"AB_2814171 (Ig light chain lambda)\"],\"x0\":\" \",\"xaxis\":\"x\",\"y\":[8.2708806695,9.01228,9.82434,11.05105,0.0,22.8803],\"y0\":\" \",\"yaxis\":\"y\",\"type\":\"violin\",\"width\":0.75},{\"alignmentgroup\":\"True\",\"box\":{\"visible\":true},\"hovertemplate\":\"ab_target=%{x}<br>value=%{y}<extra></extra>\",\"legendgroup\":\"AB_2814169 (Ig light chain kappa)\",\"marker\":{\"color\":\"#FF97FF\",\"size\":1},\"name\":\"AB_2814169 (Ig light chain kappa)\",\"offsetgroup\":\"AB_2814169 (Ig light chain kappa)\",\"orientation\":\"v\",\"scalegroup\":\"True\",\"showlegend\":true,\"x\":[\"AB_2814169 (Ig light chain kappa)\",\"AB_2814169 (Ig light chain kappa)\",\"AB_2814169 (Ig light chain kappa)\",\"AB_2814169 (Ig light chain kappa)\",\"AB_2814169 (Ig light chain kappa)\",\"AB_2814169 (Ig light chain kappa)\"],\"x0\":\" \",\"xaxis\":\"x\",\"y\":[8.386818954,4.56632,9.95252,11.66235,0.0,18.5763],\"y0\":\" \",\"yaxis\":\"y\",\"type\":\"violin\",\"width\":0.75},{\"alignmentgroup\":\"True\",\"box\":{\"visible\":true},\"hovertemplate\":\"ab_target=%{x}<br>value=%{y}<extra></extra>\",\"legendgroup\":\"AB_2810562 (CD54)\",\"marker\":{\"color\":\"#FECB52\",\"size\":1},\"name\":\"AB_2810562 (CD54)\",\"offsetgroup\":\"AB_2810562 (CD54)\",\"orientation\":\"v\",\"scalegroup\":\"True\",\"showlegend\":true,\"x\":[\"AB_2810562 (CD54)\",\"AB_2810562 (CD54)\",\"AB_2810562 (CD54)\",\"AB_2810562 (CD54)\",\"AB_2810562 (CD54)\",\"AB_2810562 (CD54)\"],\"x0\":\" \",\"xaxis\":\"x\",\"y\":[7.844427113,9.411445,9.74497,10.2103,0.0,14.7924],\"y0\":\" \",\"yaxis\":\"y\",\"type\":\"violin\",\"width\":0.75},{\"alignmentgroup\":\"True\",\"box\":{\"visible\":true},\"hovertemplate\":\"ab_target=%{x}<br>value=%{y}<extra></extra>\",\"legendgroup\":\"AB_2800955 (CD70)\",\"marker\":{\"color\":\"#636efa\",\"size\":1},\"name\":\"AB_2800955 (CD70)\",\"offsetgroup\":\"AB_2800955 (CD70)\",\"orientation\":\"v\",\"scalegroup\":\"True\",\"showlegend\":true,\"x\":[\"AB_2800955 (CD70)\",\"AB_2800955 (CD70)\",\"AB_2800955 (CD70)\",\"AB_2800955 (CD70)\",\"AB_2800955 (CD70)\",\"AB_2800955 (CD70)\"],\"x0\":\" \",\"xaxis\":\"x\",\"y\":[6.9510935625,0.0,9.73761,10.14135,0.0,14.48],\"y0\":\" \",\"yaxis\":\"y\",\"type\":\"violin\",\"width\":0.75},{\"alignmentgroup\":\"True\",\"box\":{\"visible\":true},\"hovertemplate\":\"ab_target=%{x}<br>value=%{y}<extra></extra>\",\"legendgroup\":\"AB_2800871 (CD1c)\",\"marker\":{\"color\":\"#EF553B\",\"size\":1},\"name\":\"AB_2800871 (CD1c)\",\"offsetgroup\":\"AB_2800871 (CD1c)\",\"orientation\":\"v\",\"scalegroup\":\"True\",\"showlegend\":true,\"x\":[\"AB_2800871 (CD1c)\",\"AB_2800871 (CD1c)\",\"AB_2800871 (CD1c)\",\"AB_2800871 (CD1c)\",\"AB_2800871 (CD1c)\",\"AB_2800871 (CD1c)\"],\"x0\":\" \",\"xaxis\":\"x\",\"y\":[5.3878057143,0.0,9.55133,9.848525,0.0,13.9989],\"y0\":\" \",\"yaxis\":\"y\",\"type\":\"violin\",\"width\":0.75},{\"alignmentgroup\":\"True\",\"box\":{\"visible\":true},\"hovertemplate\":\"ab_target=%{x}<br>value=%{y}<extra></extra>\",\"legendgroup\":\"AB_2814257 (CD82)\",\"marker\":{\"color\":\"#00cc96\",\"size\":1},\"name\":\"AB_2814257 (CD82)\",\"offsetgroup\":\"AB_2814257 (CD82)\",\"orientation\":\"v\",\"scalegroup\":\"True\",\"showlegend\":true,\"x\":[\"AB_2814257 (CD82)\",\"AB_2814257 (CD82)\",\"AB_2814257 (CD82)\",\"AB_2814257 (CD82)\",\"AB_2814257 (CD82)\",\"AB_2814257 (CD82)\"],\"x0\":\" \",\"xaxis\":\"x\",\"y\":[8.3683340586,9.256745,9.78665,10.96375,0.0,21.4647],\"y0\":\" \",\"yaxis\":\"y\",\"type\":\"violin\",\"width\":0.75},{\"alignmentgroup\":\"True\",\"box\":{\"visible\":true},\"hovertemplate\":\"ab_target=%{x}<br>value=%{y}<extra></extra>\",\"legendgroup\":\"AB_2801027 (CD66b)\",\"marker\":{\"color\":\"#ab63fa\",\"size\":1},\"name\":\"AB_2801027 (CD66b)\",\"offsetgroup\":\"AB_2801027 (CD66b)\",\"orientation\":\"v\",\"scalegroup\":\"True\",\"showlegend\":true,\"x\":[\"AB_2801027 (CD66b)\",\"AB_2801027 (CD66b)\",\"AB_2801027 (CD66b)\",\"AB_2801027 (CD66b)\",\"AB_2801027 (CD66b)\",\"AB_2801027 (CD66b)\"],\"x0\":\" \",\"xaxis\":\"x\",\"y\":[5.30659525,0.0,9.599025,9.935535,0.0,16.0057],\"y0\":\" \",\"yaxis\":\"y\",\"type\":\"violin\",\"width\":0.75},{\"alignmentgroup\":\"True\",\"box\":{\"visible\":true},\"hovertemplate\":\"ab_target=%{x}<br>value=%{y}<extra></extra>\",\"legendgroup\":\"AB_2800919 (CD272)\",\"marker\":{\"color\":\"#FFA15A\",\"size\":1},\"name\":\"AB_2800919 (CD272)\",\"offsetgroup\":\"AB_2800919 (CD272)\",\"orientation\":\"v\",\"scalegroup\":\"True\",\"showlegend\":true,\"x\":[\"AB_2800919 (CD272)\",\"AB_2800919 (CD272)\",\"AB_2800919 (CD272)\",\"AB_2800919 (CD272)\",\"AB_2800919 (CD272)\",\"AB_2800919 (CD272)\"],\"x0\":\" \",\"xaxis\":\"x\",\"y\":[3.9623103361,0.0,0.0,9.85367,0.0,11.8147],\"y0\":\" \",\"yaxis\":\"y\",\"type\":\"violin\",\"width\":0.75},{\"alignmentgroup\":\"True\",\"box\":{\"visible\":true},\"hovertemplate\":\"ab_target=%{x}<br>value=%{y}<extra></extra>\",\"legendgroup\":\"AB_2800808 (CD154)\",\"marker\":{\"color\":\"#19d3f3\",\"size\":1},\"name\":\"AB_2800808 (CD154)\",\"offsetgroup\":\"AB_2800808 (CD154)\",\"orientation\":\"v\",\"scalegroup\":\"True\",\"showlegend\":true,\"x\":[\"AB_2800808 (CD154)\",\"AB_2800808 (CD154)\",\"AB_2800808 (CD154)\",\"AB_2800808 (CD154)\",\"AB_2800808 (CD154)\",\"AB_2800808 (CD154)\"],\"x0\":\" \",\"xaxis\":\"x\",\"y\":[5.4951953782,0.0,9.53601,9.8391,0.0,16.8037],\"y0\":\" \",\"yaxis\":\"y\",\"type\":\"violin\",\"width\":0.75},{\"alignmentgroup\":\"True\",\"box\":{\"visible\":true},\"hovertemplate\":\"ab_target=%{x}<br>value=%{y}<extra></extra>\",\"legendgroup\":\"AB_2749977 (CD123)\",\"marker\":{\"color\":\"#FF6692\",\"size\":1},\"name\":\"AB_2749977 (CD123)\",\"offsetgroup\":\"AB_2749977 (CD123)\",\"orientation\":\"v\",\"scalegroup\":\"True\",\"showlegend\":true,\"x\":[\"AB_2749977 (CD123)\",\"AB_2749977 (CD123)\",\"AB_2749977 (CD123)\",\"AB_2749977 (CD123)\",\"AB_2749977 (CD123)\",\"AB_2749977 (CD123)\"],\"x0\":\" \",\"xaxis\":\"x\",\"y\":[5.0761707502,0.0,0.0,9.79195,0.0,33.3496],\"y0\":\" \",\"yaxis\":\"y\",\"type\":\"violin\",\"width\":0.75},{\"alignmentgroup\":\"True\",\"box\":{\"visible\":true},\"hovertemplate\":\"ab_target=%{x}<br>value=%{y}<extra></extra>\",\"legendgroup\":\"AB_2800854 (CD107a)\",\"marker\":{\"color\":\"#B6E880\",\"size\":1},\"name\":\"AB_2800854 (CD107a)\",\"offsetgroup\":\"AB_2800854 (CD107a)\",\"orientation\":\"v\",\"scalegroup\":\"True\",\"showlegend\":true,\"x\":[\"AB_2800854 (CD107a)\",\"AB_2800854 (CD107a)\",\"AB_2800854 (CD107a)\",\"AB_2800854 (CD107a)\",\"AB_2800854 (CD107a)\",\"AB_2800854 (CD107a)\"],\"x0\":\" \",\"xaxis\":\"x\",\"y\":[4.0247696653,0.0,0.0,9.626145,0.0,14.9766],\"y0\":\" \",\"yaxis\":\"y\",\"type\":\"violin\",\"width\":0.75},{\"alignmentgroup\":\"True\",\"box\":{\"visible\":true},\"hovertemplate\":\"ab_target=%{x}<br>value=%{y}<extra></extra>\",\"legendgroup\":\"AB_2814295 (CD303)\",\"marker\":{\"color\":\"#FF97FF\",\"size\":1},\"name\":\"AB_2814295 (CD303)\",\"offsetgroup\":\"AB_2814295 (CD303)\",\"orientation\":\"v\",\"scalegroup\":\"True\",\"showlegend\":true,\"x\":[\"AB_2814295 (CD303)\",\"AB_2814295 (CD303)\",\"AB_2814295 (CD303)\",\"AB_2814295 (CD303)\",\"AB_2814295 (CD303)\",\"AB_2814295 (CD303)\"],\"x0\":\" \",\"xaxis\":\"x\",\"y\":[4.5710434375,0.0,0.0,9.7861,0.0,18.621],\"y0\":\" \",\"yaxis\":\"y\",\"type\":\"violin\",\"width\":0.75},{\"alignmentgroup\":\"True\",\"box\":{\"visible\":true},\"hovertemplate\":\"ab_target=%{x}<br>value=%{y}<extra></extra>\",\"legendgroup\":\"AB_2800817 (CD10)\",\"marker\":{\"color\":\"#FECB52\",\"size\":1},\"name\":\"AB_2800817 (CD10)\",\"offsetgroup\":\"AB_2800817 (CD10)\",\"orientation\":\"v\",\"scalegroup\":\"True\",\"showlegend\":true,\"x\":[\"AB_2800817 (CD10)\",\"AB_2800817 (CD10)\",\"AB_2800817 (CD10)\",\"AB_2800817 (CD10)\",\"AB_2800817 (CD10)\",\"AB_2800817 (CD10)\"],\"x0\":\" \",\"xaxis\":\"x\",\"y\":[3.5924061616,0.0,0.0,9.6187,0.0,17.4798],\"y0\":\" \",\"yaxis\":\"y\",\"type\":\"violin\",\"width\":0.75},{\"alignmentgroup\":\"True\",\"box\":{\"visible\":true},\"hovertemplate\":\"ab_target=%{x}<br>value=%{y}<extra></extra>\",\"legendgroup\":\"AB_2814327 (CD223)\",\"marker\":{\"color\":\"#636efa\",\"size\":1},\"name\":\"AB_2814327 (CD223)\",\"offsetgroup\":\"AB_2814327 (CD223)\",\"orientation\":\"v\",\"scalegroup\":\"True\",\"showlegend\":true,\"x\":[\"AB_2814327 (CD223)\",\"AB_2814327 (CD223)\",\"AB_2814327 (CD223)\",\"AB_2814327 (CD223)\",\"AB_2814327 (CD223)\",\"AB_2814327 (CD223)\"],\"x0\":\" \",\"xaxis\":\"x\",\"y\":[4.2834570293,0.0,0.0,9.78799,0.0,13.3283],\"y0\":\" \",\"yaxis\":\"y\",\"type\":\"violin\",\"width\":0.75},{\"alignmentgroup\":\"True\",\"box\":{\"visible\":true},\"hovertemplate\":\"ab_target=%{x}<br>value=%{y}<extra></extra>\",\"legendgroup\":\"AB_2800949 (CD183)\",\"marker\":{\"color\":\"#EF553B\",\"size\":1},\"name\":\"AB_2800949 (CD183)\",\"offsetgroup\":\"AB_2800949 (CD183)\",\"orientation\":\"v\",\"scalegroup\":\"True\",\"showlegend\":true,\"x\":[\"AB_2800949 (CD183)\",\"AB_2800949 (CD183)\",\"AB_2800949 (CD183)\",\"AB_2800949 (CD183)\",\"AB_2800949 (CD183)\",\"AB_2800949 (CD183)\"],\"x0\":\" \",\"xaxis\":\"x\",\"y\":[4.33644275,0.0,0.0,9.8481825,0.0,15.2177],\"y0\":\" \",\"yaxis\":\"y\",\"type\":\"violin\",\"width\":0.75},{\"alignmentgroup\":\"True\",\"box\":{\"visible\":true},\"hovertemplate\":\"ab_target=%{x}<br>value=%{y}<extra></extra>\",\"legendgroup\":\"AB_2800883 (CD30)\",\"marker\":{\"color\":\"#00cc96\",\"size\":1},\"name\":\"AB_2800883 (CD30)\",\"offsetgroup\":\"AB_2800883 (CD30)\",\"orientation\":\"v\",\"scalegroup\":\"True\",\"showlegend\":true,\"x\":[\"AB_2800883 (CD30)\",\"AB_2800883 (CD30)\",\"AB_2800883 (CD30)\",\"AB_2800883 (CD30)\",\"AB_2800883 (CD30)\",\"AB_2800883 (CD30)\"],\"x0\":\" \",\"xaxis\":\"x\",\"y\":[4.7519178661,0.0,0.0,9.7573,0.0,17.1474],\"y0\":\" \",\"yaxis\":\"y\",\"type\":\"violin\",\"width\":0.75},{\"alignmentgroup\":\"True\",\"box\":{\"visible\":true},\"hovertemplate\":\"ab_target=%{x}<br>value=%{y}<extra></extra>\",\"legendgroup\":\"AB_2801021 (TIGIT)\",\"marker\":{\"color\":\"#ab63fa\",\"size\":1},\"name\":\"AB_2801021 (TIGIT)\",\"offsetgroup\":\"AB_2801021 (TIGIT)\",\"orientation\":\"v\",\"scalegroup\":\"True\",\"showlegend\":true,\"x\":[\"AB_2801021 (TIGIT)\",\"AB_2801021 (TIGIT)\",\"AB_2801021 (TIGIT)\",\"AB_2801021 (TIGIT)\",\"AB_2801021 (TIGIT)\",\"AB_2801021 (TIGIT)\"],\"x0\":\" \",\"xaxis\":\"x\",\"y\":[4.1636741875,0.0,0.0,9.84083,0.0,12.0627],\"y0\":\" \",\"yaxis\":\"y\",\"type\":\"violin\",\"width\":0.75},{\"alignmentgroup\":\"True\",\"box\":{\"visible\":true},\"hovertemplate\":\"ab_target=%{x}<br>value=%{y}<extra></extra>\",\"legendgroup\":\"AB_2800960 (CX3CR1)\",\"marker\":{\"color\":\"#FFA15A\",\"size\":1},\"name\":\"AB_2800960 (CX3CR1)\",\"offsetgroup\":\"AB_2800960 (CX3CR1)\",\"orientation\":\"v\",\"scalegroup\":\"True\",\"showlegend\":true,\"x\":[\"AB_2800960 (CX3CR1)\",\"AB_2800960 (CX3CR1)\",\"AB_2800960 (CX3CR1)\",\"AB_2800960 (CX3CR1)\",\"AB_2800960 (CX3CR1)\",\"AB_2800960 (CX3CR1)\"],\"x0\":\" \",\"xaxis\":\"x\",\"y\":[4.6206459833,0.0,0.0,9.673165,0.0,12.8709],\"y0\":\" \",\"yaxis\":\"y\",\"type\":\"violin\",\"width\":0.75},{\"alignmentgroup\":\"True\",\"box\":{\"visible\":true},\"hovertemplate\":\"ab_target=%{x}<br>value=%{y}<extra></extra>\",\"legendgroup\":\"AB_2810481 (Integrin beta7)\",\"marker\":{\"color\":\"#19d3f3\",\"size\":1},\"name\":\"AB_2810481 (Integrin beta7)\",\"offsetgroup\":\"AB_2810481 (Integrin beta7)\",\"orientation\":\"v\",\"scalegroup\":\"True\",\"showlegend\":true,\"x\":[\"AB_2810481 (Integrin beta7)\",\"AB_2810481 (Integrin beta7)\",\"AB_2810481 (Integrin beta7)\",\"AB_2810481 (Integrin beta7)\",\"AB_2810481 (Integrin beta7)\",\"AB_2810481 (Integrin beta7)\"],\"x0\":\" \",\"xaxis\":\"x\",\"y\":[6.1094037238,0.0,9.33189,9.760255,0.0,13.703],\"y0\":\" \",\"yaxis\":\"y\",\"type\":\"violin\",\"width\":0.75},{\"alignmentgroup\":\"True\",\"box\":{\"visible\":true},\"hovertemplate\":\"ab_target=%{x}<br>value=%{y}<extra></extra>\",\"legendgroup\":\"AB_2749976 (HLA-ABC)\",\"marker\":{\"color\":\"#FF6692\",\"size\":1},\"name\":\"AB_2749976 (HLA-ABC)\",\"offsetgroup\":\"AB_2749976 (HLA-ABC)\",\"orientation\":\"v\",\"scalegroup\":\"True\",\"showlegend\":true,\"x\":[\"AB_2749976 (HLA-ABC)\",\"AB_2749976 (HLA-ABC)\",\"AB_2749976 (HLA-ABC)\",\"AB_2749976 (HLA-ABC)\",\"AB_2749976 (HLA-ABC)\",\"AB_2749976 (HLA-ABC)\"],\"x0\":\" \",\"xaxis\":\"x\",\"y\":[7.1424453901,0.0,9.49906,10.6133,0.0,28.0531],\"y0\":\" \",\"yaxis\":\"y\",\"type\":\"violin\",\"width\":0.75},{\"alignmentgroup\":\"True\",\"box\":{\"visible\":true},\"hovertemplate\":\"ab_target=%{x}<br>value=%{y}<extra></extra>\",\"legendgroup\":\"AB_2800758 (CD38)\",\"marker\":{\"color\":\"#B6E880\",\"size\":1},\"name\":\"AB_2800758 (CD38)\",\"offsetgroup\":\"AB_2800758 (CD38)\",\"orientation\":\"v\",\"scalegroup\":\"True\",\"showlegend\":true,\"x\":[\"AB_2800758 (CD38)\",\"AB_2800758 (CD38)\",\"AB_2800758 (CD38)\",\"AB_2800758 (CD38)\",\"AB_2800758 (CD38)\",\"AB_2800758 (CD38)\"],\"x0\":\" \",\"xaxis\":\"x\",\"y\":[4.7253168182,0.0,0.0,9.5750775,0.0,19.7702],\"y0\":\" \",\"yaxis\":\"y\",\"type\":\"violin\",\"width\":0.75},{\"alignmentgroup\":\"True\",\"box\":{\"visible\":true},\"hovertemplate\":\"ab_target=%{x}<br>value=%{y}<extra></extra>\",\"legendgroup\":\"AB_2810506 (CD58)\",\"marker\":{\"color\":\"#FF97FF\",\"size\":1},\"name\":\"AB_2810506 (CD58)\",\"offsetgroup\":\"AB_2810506 (CD58)\",\"orientation\":\"v\",\"scalegroup\":\"True\",\"showlegend\":true,\"x\":[\"AB_2810506 (CD58)\",\"AB_2810506 (CD58)\",\"AB_2810506 (CD58)\",\"AB_2810506 (CD58)\",\"AB_2810506 (CD58)\",\"AB_2810506 (CD58)\"],\"x0\":\" \",\"xaxis\":\"x\",\"y\":[2.5702470879,0.0,0.0,9.3680025,0.0,12.8346],\"y0\":\" \",\"yaxis\":\"y\",\"type\":\"violin\",\"width\":0.75},{\"alignmentgroup\":\"True\",\"box\":{\"visible\":true},\"hovertemplate\":\"ab_target=%{x}<br>value=%{y}<extra></extra>\",\"legendgroup\":\"AB_2810541 (CD141)\",\"marker\":{\"color\":\"#FECB52\",\"size\":1},\"name\":\"AB_2810541 (CD141)\",\"offsetgroup\":\"AB_2810541 (CD141)\",\"orientation\":\"v\",\"scalegroup\":\"True\",\"showlegend\":true,\"x\":[\"AB_2810541 (CD141)\",\"AB_2810541 (CD141)\",\"AB_2810541 (CD141)\",\"AB_2810541 (CD141)\",\"AB_2810541 (CD141)\",\"AB_2810541 (CD141)\"],\"x0\":\" \",\"xaxis\":\"x\",\"y\":[4.9911803226,0.0,4.61369,9.8100925,0.0,12.0017],\"y0\":\" \",\"yaxis\":\"y\",\"type\":\"violin\",\"width\":0.75},{\"alignmentgroup\":\"True\",\"box\":{\"visible\":true},\"hovertemplate\":\"ab_target=%{x}<br>value=%{y}<extra></extra>\",\"legendgroup\":\"AB_2801087 (IgG)\",\"marker\":{\"color\":\"#636efa\",\"size\":1},\"name\":\"AB_2801087 (IgG)\",\"offsetgroup\":\"AB_2801087 (IgG)\",\"orientation\":\"v\",\"scalegroup\":\"True\",\"showlegend\":true,\"x\":[\"AB_2801087 (IgG)\",\"AB_2801087 (IgG)\",\"AB_2801087 (IgG)\",\"AB_2801087 (IgG)\",\"AB_2801087 (IgG)\",\"AB_2801087 (IgG)\"],\"x0\":\" \",\"xaxis\":\"x\",\"y\":[3.9178246025,0.0,0.0,9.629335,0.0,19.8086],\"y0\":\" \",\"yaxis\":\"y\",\"type\":\"violin\",\"width\":0.75},{\"alignmentgroup\":\"True\",\"box\":{\"visible\":true},\"hovertemplate\":\"ab_target=%{x}<br>value=%{y}<extra></extra>\",\"legendgroup\":\"AB_2810570 (CD195)\",\"marker\":{\"color\":\"#EF553B\",\"size\":1},\"name\":\"AB_2810570 (CD195)\",\"offsetgroup\":\"AB_2810570 (CD195)\",\"orientation\":\"v\",\"scalegroup\":\"True\",\"showlegend\":true,\"x\":[\"AB_2810570 (CD195)\",\"AB_2810570 (CD195)\",\"AB_2810570 (CD195)\",\"AB_2810570 (CD195)\",\"AB_2810570 (CD195)\",\"AB_2810570 (CD195)\"],\"x0\":\" \",\"xaxis\":\"x\",\"y\":[2.5954812605,0.0,0.0,9.297215,0.0,19.4677],\"y0\":\" \",\"yaxis\":\"y\",\"type\":\"violin\",\"width\":0.75},{\"alignmentgroup\":\"True\",\"box\":{\"visible\":true},\"hovertemplate\":\"ab_target=%{x}<br>value=%{y}<extra></extra>\",\"legendgroup\":\"AB_2800836 (CD52)\",\"marker\":{\"color\":\"#00cc96\",\"size\":1},\"name\":\"AB_2800836 (CD52)\",\"offsetgroup\":\"AB_2800836 (CD52)\",\"orientation\":\"v\",\"scalegroup\":\"True\",\"showlegend\":true,\"x\":[\"AB_2800836 (CD52)\",\"AB_2800836 (CD52)\",\"AB_2800836 (CD52)\",\"AB_2800836 (CD52)\",\"AB_2800836 (CD52)\",\"AB_2800836 (CD52)\"],\"x0\":\" \",\"xaxis\":\"x\",\"y\":[5.4515625105,0.0,8.78181,9.965175,0.0,14.486],\"y0\":\" \",\"yaxis\":\"y\",\"type\":\"violin\",\"width\":0.75},{\"alignmentgroup\":\"True\",\"box\":{\"visible\":true},\"hovertemplate\":\"ab_target=%{x}<br>value=%{y}<extra></extra>\",\"legendgroup\":\"AB_2814137 (CD49d)\",\"marker\":{\"color\":\"#ab63fa\",\"size\":1},\"name\":\"AB_2814137 (CD49d)\",\"offsetgroup\":\"AB_2814137 (CD49d)\",\"orientation\":\"v\",\"scalegroup\":\"True\",\"showlegend\":true,\"x\":[\"AB_2814137 (CD49d)\",\"AB_2814137 (CD49d)\",\"AB_2814137 (CD49d)\",\"AB_2814137 (CD49d)\",\"AB_2814137 (CD49d)\",\"AB_2814137 (CD49d)\"],\"x0\":\" \",\"xaxis\":\"x\",\"y\":[6.2199070588,0.0,9.4658,9.96514,0.0,14.0541],\"y0\":\" \",\"yaxis\":\"y\",\"type\":\"violin\",\"width\":0.75},{\"alignmentgroup\":\"True\",\"box\":{\"visible\":true},\"hovertemplate\":\"ab_target=%{x}<br>value=%{y}<extra></extra>\",\"legendgroup\":\"AB_2749965 (CD70)\",\"marker\":{\"color\":\"#FFA15A\",\"size\":1},\"name\":\"AB_2749965 (CD70)\",\"offsetgroup\":\"AB_2749965 (CD70)\",\"orientation\":\"v\",\"scalegroup\":\"True\",\"showlegend\":true,\"x\":[\"AB_2749965 (CD70)\",\"AB_2749965 (CD70)\",\"AB_2749965 (CD70)\",\"AB_2749965 (CD70)\",\"AB_2749965 (CD70)\",\"AB_2749965 (CD70)\"],\"x0\":\" \",\"xaxis\":\"x\",\"y\":[2.2700173152,0.0,0.0,0.0,0.0,31.1305],\"y0\":\" \",\"yaxis\":\"y\",\"type\":\"violin\",\"width\":0.75},{\"alignmentgroup\":\"True\",\"box\":{\"visible\":true},\"hovertemplate\":\"ab_target=%{x}<br>value=%{y}<extra></extra>\",\"legendgroup\":\"AB_2800943 (CD197)\",\"marker\":{\"color\":\"#19d3f3\",\"size\":1},\"name\":\"AB_2800943 (CD197)\",\"offsetgroup\":\"AB_2800943 (CD197)\",\"orientation\":\"v\",\"scalegroup\":\"True\",\"showlegend\":true,\"x\":[\"AB_2800943 (CD197)\",\"AB_2800943 (CD197)\",\"AB_2800943 (CD197)\",\"AB_2800943 (CD197)\",\"AB_2800943 (CD197)\",\"AB_2800943 (CD197)\"],\"x0\":\" \",\"xaxis\":\"x\",\"y\":[2.3047928125,0.0,0.0,0.0,0.0,11.3122],\"y0\":\" \",\"yaxis\":\"y\",\"type\":\"violin\",\"width\":0.75},{\"alignmentgroup\":\"True\",\"box\":{\"visible\":true},\"hovertemplate\":\"ab_target=%{x}<br>value=%{y}<extra></extra>\",\"legendgroup\":\"AB_2832672 (CD88)\",\"marker\":{\"color\":\"#FF6692\",\"size\":1},\"name\":\"AB_2832672 (CD88)\",\"offsetgroup\":\"AB_2832672 (CD88)\",\"orientation\":\"v\",\"scalegroup\":\"True\",\"showlegend\":true,\"x\":[\"AB_2832672 (CD88)\",\"AB_2832672 (CD88)\",\"AB_2832672 (CD88)\",\"AB_2832672 (CD88)\",\"AB_2832672 (CD88)\",\"AB_2832672 (CD88)\"],\"x0\":\" \",\"xaxis\":\"x\",\"y\":[2.5154040625,0.0,0.0,9.30852,0.0,9.97377],\"y0\":\" \",\"yaxis\":\"y\",\"type\":\"violin\",\"width\":0.75},{\"alignmentgroup\":\"True\",\"box\":{\"visible\":true},\"hovertemplate\":\"ab_target=%{x}<br>value=%{y}<extra></extra>\",\"legendgroup\":\"AB_2734286 (CD10)\",\"marker\":{\"color\":\"#B6E880\",\"size\":1},\"name\":\"AB_2734286 (CD10)\",\"offsetgroup\":\"AB_2734286 (CD10)\",\"orientation\":\"v\",\"scalegroup\":\"True\",\"showlegend\":true,\"x\":[\"AB_2734286 (CD10)\",\"AB_2734286 (CD10)\",\"AB_2734286 (CD10)\",\"AB_2734286 (CD10)\",\"AB_2734286 (CD10)\",\"AB_2734286 (CD10)\"],\"x0\":\" \",\"xaxis\":\"x\",\"y\":[1.8142752816,0.0,0.0,0.0,0.0,23.2483],\"y0\":\" \",\"yaxis\":\"y\",\"type\":\"violin\",\"width\":0.75},{\"alignmentgroup\":\"True\",\"box\":{\"visible\":true},\"hovertemplate\":\"ab_target=%{x}<br>value=%{y}<extra></extra>\",\"legendgroup\":\"AB_2800745 (CD25)\",\"marker\":{\"color\":\"#FF97FF\",\"size\":1},\"name\":\"AB_2800745 (CD25)\",\"offsetgroup\":\"AB_2800745 (CD25)\",\"orientation\":\"v\",\"scalegroup\":\"True\",\"showlegend\":true,\"x\":[\"AB_2800745 (CD25)\",\"AB_2800745 (CD25)\",\"AB_2800745 (CD25)\",\"AB_2800745 (CD25)\",\"AB_2800745 (CD25)\",\"AB_2800745 (CD25)\"],\"x0\":\" \",\"xaxis\":\"x\",\"y\":[2.8008115966,0.0,0.0,9.27723,0.0,12.2029],\"y0\":\" \",\"yaxis\":\"y\",\"type\":\"violin\",\"width\":0.75},{\"alignmentgroup\":\"True\",\"box\":{\"visible\":true},\"hovertemplate\":\"ab_target=%{x}<br>value=%{y}<extra></extra>\",\"legendgroup\":\"AB_2810531 (CD96)\",\"marker\":{\"color\":\"#FECB52\",\"size\":1},\"name\":\"AB_2810531 (CD96)\",\"offsetgroup\":\"AB_2810531 (CD96)\",\"orientation\":\"v\",\"scalegroup\":\"True\",\"showlegend\":true,\"x\":[\"AB_2810531 (CD96)\",\"AB_2810531 (CD96)\",\"AB_2810531 (CD96)\",\"AB_2810531 (CD96)\",\"AB_2810531 (CD96)\",\"AB_2810531 (CD96)\"],\"x0\":\" \",\"xaxis\":\"x\",\"y\":[3.8092950625,0.0,0.0,9.5095,0.0,14.1556],\"y0\":\" \",\"yaxis\":\"y\",\"type\":\"violin\",\"width\":0.75},{\"alignmentgroup\":\"True\",\"box\":{\"visible\":true},\"hovertemplate\":\"ab_target=%{x}<br>value=%{y}<extra></extra>\",\"legendgroup\":\"AB_2800925 (CD366)\",\"marker\":{\"color\":\"#636efa\",\"size\":1},\"name\":\"AB_2800925 (CD366)\",\"offsetgroup\":\"AB_2800925 (CD366)\",\"orientation\":\"v\",\"scalegroup\":\"True\",\"showlegend\":true,\"x\":[\"AB_2800925 (CD366)\",\"AB_2800925 (CD366)\",\"AB_2800925 (CD366)\",\"AB_2800925 (CD366)\",\"AB_2800925 (CD366)\",\"AB_2800925 (CD366)\"],\"x0\":\" \",\"xaxis\":\"x\",\"y\":[2.0741145378,0.0,0.0,0.0,0.0,10.0573],\"y0\":\" \",\"yaxis\":\"y\",\"type\":\"violin\",\"width\":0.75},{\"alignmentgroup\":\"True\",\"box\":{\"visible\":true},\"hovertemplate\":\"ab_target=%{x}<br>value=%{y}<extra></extra>\",\"legendgroup\":\"AB_2749996 (CD103)\",\"marker\":{\"color\":\"#EF553B\",\"size\":1},\"name\":\"AB_2749996 (CD103)\",\"offsetgroup\":\"AB_2749996 (CD103)\",\"orientation\":\"v\",\"scalegroup\":\"True\",\"showlegend\":true,\"x\":[\"AB_2749996 (CD103)\",\"AB_2749996 (CD103)\",\"AB_2749996 (CD103)\",\"AB_2749996 (CD103)\",\"AB_2749996 (CD103)\",\"AB_2749996 (CD103)\"],\"x0\":\" \",\"xaxis\":\"x\",\"y\":[0.9420020505,0.0,0.0,0.0,0.0,12.5744],\"y0\":\" \",\"yaxis\":\"y\",\"type\":\"violin\",\"width\":0.75},{\"alignmentgroup\":\"True\",\"box\":{\"visible\":true},\"hovertemplate\":\"ab_target=%{x}<br>value=%{y}<extra></extra>\",\"legendgroup\":\"AB_2734278 (CD275)\",\"marker\":{\"color\":\"#00cc96\",\"size\":1},\"name\":\"AB_2734278 (CD275)\",\"offsetgroup\":\"AB_2734278 (CD275)\",\"orientation\":\"v\",\"scalegroup\":\"True\",\"showlegend\":true,\"x\":[\"AB_2734278 (CD275)\",\"AB_2734278 (CD275)\",\"AB_2734278 (CD275)\",\"AB_2734278 (CD275)\",\"AB_2734278 (CD275)\",\"AB_2734278 (CD275)\"],\"x0\":\" \",\"xaxis\":\"x\",\"y\":[1.5159622039,0.0,0.0,0.0,0.0,68.9608],\"y0\":\" \",\"yaxis\":\"y\",\"type\":\"violin\",\"width\":0.75},{\"alignmentgroup\":\"True\",\"box\":{\"visible\":true},\"hovertemplate\":\"ab_target=%{x}<br>value=%{y}<extra></extra>\",\"legendgroup\":\"AB_2800851 (CD337)\",\"marker\":{\"color\":\"#ab63fa\",\"size\":1},\"name\":\"AB_2800851 (CD337)\",\"offsetgroup\":\"AB_2800851 (CD337)\",\"orientation\":\"v\",\"scalegroup\":\"True\",\"showlegend\":true,\"x\":[\"AB_2800851 (CD337)\",\"AB_2800851 (CD337)\",\"AB_2800851 (CD337)\",\"AB_2800851 (CD337)\",\"AB_2800851 (CD337)\",\"AB_2800851 (CD337)\"],\"x0\":\" \",\"xaxis\":\"x\",\"y\":[2.741804,0.0,0.0,9.22848,0.0,10.581],\"y0\":\" \",\"yaxis\":\"y\",\"type\":\"violin\",\"width\":0.75},{\"alignmentgroup\":\"True\",\"box\":{\"visible\":true},\"hovertemplate\":\"ab_target=%{x}<br>value=%{y}<extra></extra>\",\"legendgroup\":\"AB_2734258 (CD25)\",\"marker\":{\"color\":\"#FFA15A\",\"size\":1},\"name\":\"AB_2734258 (CD25)\",\"offsetgroup\":\"AB_2734258 (CD25)\",\"orientation\":\"v\",\"scalegroup\":\"True\",\"showlegend\":true,\"x\":[\"AB_2734258 (CD25)\",\"AB_2734258 (CD25)\",\"AB_2734258 (CD25)\",\"AB_2734258 (CD25)\",\"AB_2734258 (CD25)\",\"AB_2734258 (CD25)\"],\"x0\":\" \",\"xaxis\":\"x\",\"y\":[3.0725607222,0.0,0.0,9.54556,0.0,15.8396],\"y0\":\" \",\"yaxis\":\"y\",\"type\":\"violin\",\"width\":0.75},{\"alignmentgroup\":\"True\",\"box\":{\"visible\":true},\"hovertemplate\":\"ab_target=%{x}<br>value=%{y}<extra></extra>\",\"legendgroup\":\"AB_2734360 (CD294)\",\"marker\":{\"color\":\"#19d3f3\",\"size\":1},\"name\":\"AB_2734360 (CD294)\",\"offsetgroup\":\"AB_2734360 (CD294)\",\"orientation\":\"v\",\"scalegroup\":\"True\",\"showlegend\":true,\"x\":[\"AB_2734360 (CD294)\",\"AB_2734360 (CD294)\",\"AB_2734360 (CD294)\",\"AB_2734360 (CD294)\",\"AB_2734360 (CD294)\",\"AB_2734360 (CD294)\"],\"x0\":\" \",\"xaxis\":\"x\",\"y\":[3.9966107147,0.0,0.0,9.56494,0.0,51.261],\"y0\":\" \",\"yaxis\":\"y\",\"type\":\"violin\",\"width\":0.75},{\"alignmentgroup\":\"True\",\"box\":{\"visible\":true},\"hovertemplate\":\"ab_target=%{x}<br>value=%{y}<extra></extra>\",\"legendgroup\":\"AB_2810510 (CD163)\",\"marker\":{\"color\":\"#FF6692\",\"size\":1},\"name\":\"AB_2810510 (CD163)\",\"offsetgroup\":\"AB_2810510 (CD163)\",\"orientation\":\"v\",\"scalegroup\":\"True\",\"showlegend\":true,\"x\":[\"AB_2810510 (CD163)\",\"AB_2810510 (CD163)\",\"AB_2810510 (CD163)\",\"AB_2810510 (CD163)\",\"AB_2810510 (CD163)\",\"AB_2810510 (CD163)\"],\"x0\":\" \",\"xaxis\":\"x\",\"y\":[0.7375098058,0.0,0.0,0.0,0.0,9.58385],\"y0\":\" \",\"yaxis\":\"y\",\"type\":\"violin\",\"width\":0.75},{\"alignmentgroup\":\"True\",\"box\":{\"visible\":true},\"hovertemplate\":\"ab_target=%{x}<br>value=%{y}<extra></extra>\",\"legendgroup\":\"AB_2800757 (CD31)\",\"marker\":{\"color\":\"#B6E880\",\"size\":1},\"name\":\"AB_2800757 (CD31)\",\"offsetgroup\":\"AB_2800757 (CD31)\",\"orientation\":\"v\",\"scalegroup\":\"True\",\"showlegend\":true,\"x\":[\"AB_2800757 (CD31)\",\"AB_2800757 (CD31)\",\"AB_2800757 (CD31)\",\"AB_2800757 (CD31)\",\"AB_2800757 (CD31)\",\"AB_2800757 (CD31)\"],\"x0\":\" \",\"xaxis\":\"x\",\"y\":[0.7983383193,0.0,0.0,0.0,0.0,9.7252],\"y0\":\" \",\"yaxis\":\"y\",\"type\":\"violin\",\"width\":0.75},{\"alignmentgroup\":\"True\",\"box\":{\"visible\":true},\"hovertemplate\":\"ab_target=%{x}<br>value=%{y}<extra></extra>\",\"legendgroup\":\"AB_2800900 (CD44)\",\"marker\":{\"color\":\"#FF97FF\",\"size\":1},\"name\":\"AB_2800900 (CD44)\",\"offsetgroup\":\"AB_2800900 (CD44)\",\"orientation\":\"v\",\"scalegroup\":\"True\",\"showlegend\":true,\"x\":[\"AB_2800900 (CD44)\",\"AB_2800900 (CD44)\",\"AB_2800900 (CD44)\",\"AB_2800900 (CD44)\",\"AB_2800900 (CD44)\",\"AB_2800900 (CD44)\"],\"x0\":\" \",\"xaxis\":\"x\",\"y\":[7.9753146774,8.86137,9.53865,10.116275,0.0,12.3633],\"y0\":\" \",\"yaxis\":\"y\",\"type\":\"violin\",\"width\":0.75},{\"alignmentgroup\":\"True\",\"box\":{\"visible\":true},\"hovertemplate\":\"ab_target=%{x}<br>value=%{y}<extra></extra>\",\"legendgroup\":\"AB_2749999 (CD223)\",\"marker\":{\"color\":\"#FECB52\",\"size\":1},\"name\":\"AB_2749999 (CD223)\",\"offsetgroup\":\"AB_2749999 (CD223)\",\"orientation\":\"v\",\"scalegroup\":\"True\",\"showlegend\":true,\"x\":[\"AB_2749999 (CD223)\",\"AB_2749999 (CD223)\",\"AB_2749999 (CD223)\",\"AB_2749999 (CD223)\",\"AB_2749999 (CD223)\",\"AB_2749999 (CD223)\"],\"x0\":\" \",\"xaxis\":\"x\",\"y\":[3.8150591693,0.0,0.0,9.70274,0.0,28.921],\"y0\":\" \",\"yaxis\":\"y\",\"type\":\"violin\",\"width\":0.75},{\"alignmentgroup\":\"True\",\"box\":{\"visible\":true},\"hovertemplate\":\"ab_target=%{x}<br>value=%{y}<extra></extra>\",\"legendgroup\":\"AB_2749997 (CD69)\",\"marker\":{\"color\":\"#636efa\",\"size\":1},\"name\":\"AB_2749997 (CD69)\",\"offsetgroup\":\"AB_2749997 (CD69)\",\"orientation\":\"v\",\"scalegroup\":\"True\",\"showlegend\":true,\"x\":[\"AB_2749997 (CD69)\",\"AB_2749997 (CD69)\",\"AB_2749997 (CD69)\",\"AB_2749997 (CD69)\",\"AB_2749997 (CD69)\",\"AB_2749997 (CD69)\"],\"x0\":\" \",\"xaxis\":\"x\",\"y\":[1.9959467933,0.0,0.0,0.0,0.0,15.5646],\"y0\":\" \",\"yaxis\":\"y\",\"type\":\"violin\",\"width\":0.75},{\"alignmentgroup\":\"True\",\"box\":{\"visible\":true},\"hovertemplate\":\"ab_target=%{x}<br>value=%{y}<extra></extra>\",\"legendgroup\":\"AB_2832593 (CD62P)\",\"marker\":{\"color\":\"#EF553B\",\"size\":1},\"name\":\"AB_2832593 (CD62P)\",\"offsetgroup\":\"AB_2832593 (CD62P)\",\"orientation\":\"v\",\"scalegroup\":\"True\",\"showlegend\":true,\"x\":[\"AB_2832593 (CD62P)\",\"AB_2832593 (CD62P)\",\"AB_2832593 (CD62P)\",\"AB_2832593 (CD62P)\",\"AB_2832593 (CD62P)\",\"AB_2832593 (CD62P)\"],\"x0\":\" \",\"xaxis\":\"x\",\"y\":[1.8735070213,0.0,0.0,0.0,0.0,9.96714],\"y0\":\" \",\"yaxis\":\"y\",\"type\":\"violin\",\"width\":0.75},{\"alignmentgroup\":\"True\",\"box\":{\"visible\":true},\"hovertemplate\":\"ab_target=%{x}<br>value=%{y}<extra></extra>\",\"legendgroup\":\"AB_2800786 (CD86)\",\"marker\":{\"color\":\"#00cc96\",\"size\":1},\"name\":\"AB_2800786 (CD86)\",\"offsetgroup\":\"AB_2800786 (CD86)\",\"orientation\":\"v\",\"scalegroup\":\"True\",\"showlegend\":true,\"x\":[\"AB_2800786 (CD86)\",\"AB_2800786 (CD86)\",\"AB_2800786 (CD86)\",\"AB_2800786 (CD86)\",\"AB_2800786 (CD86)\",\"AB_2800786 (CD86)\"],\"x0\":\" \",\"xaxis\":\"x\",\"y\":[0.4391801613,0.0,0.0,0.0,0.0,9.08881],\"y0\":\" \",\"yaxis\":\"y\",\"type\":\"violin\",\"width\":0.75},{\"alignmentgroup\":\"True\",\"box\":{\"visible\":true},\"hovertemplate\":\"ab_target=%{x}<br>value=%{y}<extra></extra>\",\"legendgroup\":\"AB_2800762 (CD45)\",\"marker\":{\"color\":\"#ab63fa\",\"size\":1},\"name\":\"AB_2800762 (CD45)\",\"offsetgroup\":\"AB_2800762 (CD45)\",\"orientation\":\"v\",\"scalegroup\":\"True\",\"showlegend\":true,\"x\":[\"AB_2800762 (CD45)\",\"AB_2800762 (CD45)\",\"AB_2800762 (CD45)\",\"AB_2800762 (CD45)\",\"AB_2800762 (CD45)\",\"AB_2800762 (CD45)\"],\"x0\":\" \",\"xaxis\":\"x\",\"y\":[0.1565704839,0.0,0.0,0.0,0.0,9.70737],\"y0\":\" \",\"yaxis\":\"y\",\"type\":\"violin\",\"width\":0.75},{\"alignmentgroup\":\"True\",\"box\":{\"visible\":true},\"hovertemplate\":\"ab_target=%{x}<br>value=%{y}<extra></extra>\",\"legendgroup\":\"AB_2734249 (CD11b)\",\"marker\":{\"color\":\"#FFA15A\",\"size\":1},\"name\":\"AB_2734249 (CD11b)\",\"offsetgroup\":\"AB_2734249 (CD11b)\",\"orientation\":\"v\",\"scalegroup\":\"True\",\"showlegend\":true,\"x\":[\"AB_2734249 (CD11b)\",\"AB_2734249 (CD11b)\",\"AB_2734249 (CD11b)\",\"AB_2734249 (CD11b)\",\"AB_2734249 (CD11b)\",\"AB_2734249 (CD11b)\"],\"x0\":\" \",\"xaxis\":\"x\",\"y\":[3.7916995566,0.0,0.0,9.48059,0.0,15.553],\"y0\":\" \",\"yaxis\":\"y\",\"type\":\"violin\",\"width\":0.75},{\"alignmentgroup\":\"True\",\"box\":{\"visible\":true},\"hovertemplate\":\"ab_target=%{x}<br>value=%{y}<extra></extra>\",\"legendgroup\":\"AB_2814292 (CD371)\",\"marker\":{\"color\":\"#19d3f3\",\"size\":1},\"name\":\"AB_2814292 (CD371)\",\"offsetgroup\":\"AB_2814292 (CD371)\",\"orientation\":\"v\",\"scalegroup\":\"True\",\"showlegend\":true,\"x\":[\"AB_2814292 (CD371)\",\"AB_2814292 (CD371)\",\"AB_2814292 (CD371)\",\"AB_2814292 (CD371)\",\"AB_2814292 (CD371)\",\"AB_2814292 (CD371)\"],\"x0\":\" \",\"xaxis\":\"x\",\"y\":[0.5698838912,0.0,0.0,0.0,0.0,10.1348],\"y0\":\" \",\"yaxis\":\"y\",\"type\":\"violin\",\"width\":0.75},{\"alignmentgroup\":\"True\",\"box\":{\"visible\":true},\"hovertemplate\":\"ab_target=%{x}<br>value=%{y}<extra></extra>\",\"legendgroup\":\"AB_2814134 (CD41)\",\"marker\":{\"color\":\"#FF6692\",\"size\":1},\"name\":\"AB_2814134 (CD41)\",\"offsetgroup\":\"AB_2814134 (CD41)\",\"orientation\":\"v\",\"scalegroup\":\"True\",\"showlegend\":true,\"x\":[\"AB_2814134 (CD41)\",\"AB_2814134 (CD41)\",\"AB_2814134 (CD41)\",\"AB_2814134 (CD41)\",\"AB_2814134 (CD41)\",\"AB_2814134 (CD41)\"],\"x0\":\" \",\"xaxis\":\"x\",\"y\":[0.4307879916,0.0,0.0,0.0,0.0,9.52265],\"y0\":\" \",\"yaxis\":\"y\",\"type\":\"violin\",\"width\":0.75},{\"alignmentgroup\":\"True\",\"box\":{\"visible\":true},\"hovertemplate\":\"ab_target=%{x}<br>value=%{y}<extra></extra>\",\"legendgroup\":\"AB_2814233 (CD155)\",\"marker\":{\"color\":\"#B6E880\",\"size\":1},\"name\":\"AB_2814233 (CD155)\",\"offsetgroup\":\"AB_2814233 (CD155)\",\"orientation\":\"v\",\"scalegroup\":\"True\",\"showlegend\":true,\"x\":[\"AB_2814233 (CD155)\",\"AB_2814233 (CD155)\",\"AB_2814233 (CD155)\",\"AB_2814233 (CD155)\",\"AB_2814233 (CD155)\",\"AB_2814233 (CD155)\"],\"x0\":\" \",\"xaxis\":\"x\",\"y\":[2.3521282828,0.0,0.0,0.0,0.0,13.9557],\"y0\":\" \",\"yaxis\":\"y\",\"type\":\"violin\",\"width\":0.75},{\"alignmentgroup\":\"True\",\"box\":{\"visible\":true},\"hovertemplate\":\"ab_target=%{x}<br>value=%{y}<extra></extra>\",\"legendgroup\":\"AB_2800893 (CD36)\",\"marker\":{\"color\":\"#FF97FF\",\"size\":1},\"name\":\"AB_2800893 (CD36)\",\"offsetgroup\":\"AB_2800893 (CD36)\",\"orientation\":\"v\",\"scalegroup\":\"True\",\"showlegend\":true,\"x\":[\"AB_2800893 (CD36)\",\"AB_2800893 (CD36)\",\"AB_2800893 (CD36)\",\"AB_2800893 (CD36)\",\"AB_2800893 (CD36)\",\"AB_2800893 (CD36)\"],\"x0\":\" \",\"xaxis\":\"x\",\"y\":[0.3363133333,0.0,0.0,0.0,0.0,9.51756],\"y0\":\" \",\"yaxis\":\"y\",\"type\":\"violin\",\"width\":0.75},{\"alignmentgroup\":\"True\",\"box\":{\"visible\":true},\"hovertemplate\":\"ab_target=%{x}<br>value=%{y}<extra></extra>\",\"legendgroup\":\"AB_2734287 (CD117)\",\"marker\":{\"color\":\"#FECB52\",\"size\":1},\"name\":\"AB_2734287 (CD117)\",\"offsetgroup\":\"AB_2734287 (CD117)\",\"orientation\":\"v\",\"scalegroup\":\"True\",\"showlegend\":true,\"x\":[\"AB_2734287 (CD117)\",\"AB_2734287 (CD117)\",\"AB_2734287 (CD117)\",\"AB_2734287 (CD117)\",\"AB_2734287 (CD117)\",\"AB_2734287 (CD117)\"],\"x0\":\" \",\"xaxis\":\"x\",\"y\":[1.5238077905,0.0,0.0,0.0,0.0,21.0393],\"y0\":\" \",\"yaxis\":\"y\",\"type\":\"violin\",\"width\":0.75},{\"alignmentgroup\":\"True\",\"box\":{\"visible\":true},\"hovertemplate\":\"ab_target=%{x}<br>value=%{y}<extra></extra>\",\"legendgroup\":\"AB_2801008 (CD33)\",\"marker\":{\"color\":\"#636efa\",\"size\":1},\"name\":\"AB_2801008 (CD33)\",\"offsetgroup\":\"AB_2801008 (CD33)\",\"orientation\":\"v\",\"scalegroup\":\"True\",\"showlegend\":true,\"x\":[\"AB_2801008 (CD33)\",\"AB_2801008 (CD33)\",\"AB_2801008 (CD33)\",\"AB_2801008 (CD33)\",\"AB_2801008 (CD33)\",\"AB_2801008 (CD33)\"],\"x0\":\" \",\"xaxis\":\"x\",\"y\":[0.2902976263,0.0,0.0,0.0,0.0,9.61543],\"y0\":\" \",\"yaxis\":\"y\",\"type\":\"violin\",\"width\":0.75},{\"alignmentgroup\":\"True\",\"box\":{\"visible\":true},\"hovertemplate\":\"ab_target=%{x}<br>value=%{y}<extra></extra>\",\"legendgroup\":\"AB_2749993 (CD183)\",\"marker\":{\"color\":\"#EF553B\",\"size\":1},\"name\":\"AB_2749993 (CD183)\",\"offsetgroup\":\"AB_2749993 (CD183)\",\"orientation\":\"v\",\"scalegroup\":\"True\",\"showlegend\":true,\"x\":[\"AB_2749993 (CD183)\",\"AB_2749993 (CD183)\",\"AB_2749993 (CD183)\",\"AB_2749993 (CD183)\",\"AB_2749993 (CD183)\",\"AB_2749993 (CD183)\"],\"x0\":\" \",\"xaxis\":\"x\",\"y\":[1.1700254051,0.0,0.0,0.0,0.0,32.5127],\"y0\":\" \",\"yaxis\":\"y\",\"type\":\"violin\",\"width\":0.75},{\"alignmentgroup\":\"True\",\"box\":{\"visible\":true},\"hovertemplate\":\"ab_target=%{x}<br>value=%{y}<extra></extra>\",\"legendgroup\":\"AB_2801018 (CD11c)\",\"marker\":{\"color\":\"#00cc96\",\"size\":1},\"name\":\"AB_2801018 (CD11c)\",\"offsetgroup\":\"AB_2801018 (CD11c)\",\"orientation\":\"v\",\"scalegroup\":\"True\",\"showlegend\":true,\"x\":[\"AB_2801018 (CD11c)\",\"AB_2801018 (CD11c)\",\"AB_2801018 (CD11c)\",\"AB_2801018 (CD11c)\",\"AB_2801018 (CD11c)\",\"AB_2801018 (CD11c)\"],\"x0\":\" \",\"xaxis\":\"x\",\"y\":[1.0471663866,0.0,0.0,0.0,0.0,9.84198],\"y0\":\" \",\"yaxis\":\"y\",\"type\":\"violin\",\"width\":0.75},{\"alignmentgroup\":\"True\",\"box\":{\"visible\":true},\"hovertemplate\":\"ab_target=%{x}<br>value=%{y}<extra></extra>\",\"legendgroup\":\"AB_2814252 (CD158)\",\"marker\":{\"color\":\"#ab63fa\",\"size\":1},\"name\":\"AB_2814252 (CD158)\",\"offsetgroup\":\"AB_2814252 (CD158)\",\"orientation\":\"v\",\"scalegroup\":\"True\",\"showlegend\":true,\"x\":[\"AB_2814252 (CD158)\",\"AB_2814252 (CD158)\",\"AB_2814252 (CD158)\",\"AB_2814252 (CD158)\",\"AB_2814252 (CD158)\",\"AB_2814252 (CD158)\"],\"x0\":\" \",\"xaxis\":\"x\",\"y\":[0.3784746218,0.0,0.0,0.0,0.0,9.05352],\"y0\":\" \",\"yaxis\":\"y\",\"type\":\"violin\",\"width\":0.75},{\"alignmentgroup\":\"True\",\"box\":{\"visible\":true},\"hovertemplate\":\"ab_target=%{x}<br>value=%{y}<extra></extra>\",\"legendgroup\":\"AB_2800732 (CD11b)\",\"marker\":{\"color\":\"#FFA15A\",\"size\":1},\"name\":\"AB_2800732 (CD11b)\",\"offsetgroup\":\"AB_2800732 (CD11b)\",\"orientation\":\"v\",\"scalegroup\":\"True\",\"showlegend\":true,\"x\":[\"AB_2800732 (CD11b)\",\"AB_2800732 (CD11b)\",\"AB_2800732 (CD11b)\",\"AB_2800732 (CD11b)\",\"AB_2800732 (CD11b)\",\"AB_2800732 (CD11b)\"],\"x0\":\" \",\"xaxis\":\"x\",\"y\":[1.5404651883,0.0,0.0,0.0,0.0,9.84985],\"y0\":\" \",\"yaxis\":\"y\",\"type\":\"violin\",\"width\":0.75},{\"alignmentgroup\":\"True\",\"box\":{\"visible\":true},\"hovertemplate\":\"ab_target=%{x}<br>value=%{y}<extra></extra>\",\"legendgroup\":\"AB_2800931 (CD81)\",\"marker\":{\"color\":\"#19d3f3\",\"size\":1},\"name\":\"AB_2800931 (CD81)\",\"offsetgroup\":\"AB_2800931 (CD81)\",\"orientation\":\"v\",\"scalegroup\":\"True\",\"showlegend\":true,\"x\":[\"AB_2800931 (CD81)\",\"AB_2800931 (CD81)\",\"AB_2800931 (CD81)\",\"AB_2800931 (CD81)\",\"AB_2800931 (CD81)\",\"AB_2800931 (CD81)\"],\"x0\":\" \",\"xaxis\":\"x\",\"y\":[0.6125906452,0.0,0.0,0.0,0.0,9.9466],\"y0\":\" \",\"yaxis\":\"y\",\"type\":\"violin\",\"width\":0.75},{\"alignmentgroup\":\"True\",\"box\":{\"visible\":true},\"hovertemplate\":\"ab_target=%{x}<br>value=%{y}<extra></extra>\",\"legendgroup\":\"AB_2749972 (CD34)\",\"marker\":{\"color\":\"#FF6692\",\"size\":1},\"name\":\"AB_2749972 (CD34)\",\"offsetgroup\":\"AB_2749972 (CD34)\",\"orientation\":\"v\",\"scalegroup\":\"True\",\"showlegend\":true,\"x\":[\"AB_2749972 (CD34)\",\"AB_2749972 (CD34)\",\"AB_2749972 (CD34)\",\"AB_2749972 (CD34)\",\"AB_2749972 (CD34)\",\"AB_2749972 (CD34)\"],\"x0\":\" \",\"xaxis\":\"x\",\"y\":[0.979787377,0.0,0.0,0.0,0.0,22.6536],\"y0\":\" \",\"yaxis\":\"y\",\"type\":\"violin\",\"width\":0.75},{\"alignmentgroup\":\"True\",\"box\":{\"visible\":true},\"hovertemplate\":\"ab_target=%{x}<br>value=%{y}<extra></extra>\",\"legendgroup\":\"AB_2800862 (CD279)\",\"marker\":{\"color\":\"#B6E880\",\"size\":1},\"name\":\"AB_2800862 (CD279)\",\"offsetgroup\":\"AB_2800862 (CD279)\",\"orientation\":\"v\",\"scalegroup\":\"True\",\"showlegend\":true,\"x\":[\"AB_2800862 (CD279)\",\"AB_2800862 (CD279)\",\"AB_2800862 (CD279)\",\"AB_2800862 (CD279)\",\"AB_2800862 (CD279)\",\"AB_2800862 (CD279)\"],\"x0\":\" \",\"xaxis\":\"x\",\"y\":[0.5933149375,0.0,0.0,0.0,0.0,9.99339],\"y0\":\" \",\"yaxis\":\"y\",\"type\":\"violin\",\"width\":0.75},{\"alignmentgroup\":\"True\",\"box\":{\"visible\":true},\"hovertemplate\":\"ab_target=%{x}<br>value=%{y}<extra></extra>\",\"legendgroup\":\"AB_2814143 (CD94)\",\"marker\":{\"color\":\"#FF97FF\",\"size\":1},\"name\":\"AB_2814143 (CD94)\",\"offsetgroup\":\"AB_2814143 (CD94)\",\"orientation\":\"v\",\"scalegroup\":\"True\",\"showlegend\":true,\"x\":[\"AB_2814143 (CD94)\",\"AB_2814143 (CD94)\",\"AB_2814143 (CD94)\",\"AB_2814143 (CD94)\",\"AB_2814143 (CD94)\",\"AB_2814143 (CD94)\"],\"x0\":\" \",\"xaxis\":\"x\",\"y\":[1.0981187395,0.0,0.0,0.0,0.0,9.46718],\"y0\":\" \",\"yaxis\":\"y\",\"type\":\"violin\",\"width\":0.75},{\"alignmentgroup\":\"True\",\"box\":{\"visible\":true},\"hovertemplate\":\"ab_target=%{x}<br>value=%{y}<extra></extra>\",\"legendgroup\":\"AB_2820039 (CD224)\",\"marker\":{\"color\":\"#FECB52\",\"size\":1},\"name\":\"AB_2820039 (CD224)\",\"offsetgroup\":\"AB_2820039 (CD224)\",\"orientation\":\"v\",\"scalegroup\":\"True\",\"showlegend\":true,\"x\":[\"AB_2820039 (CD224)\",\"AB_2820039 (CD224)\",\"AB_2820039 (CD224)\",\"AB_2820039 (CD224)\",\"AB_2820039 (CD224)\",\"AB_2820039 (CD224)\"],\"x0\":\" \",\"xaxis\":\"x\",\"y\":[1.7390518182,0.0,0.0,0.0,0.0,10.8077],\"y0\":\" \",\"yaxis\":\"y\",\"type\":\"violin\",\"width\":0.75},{\"alignmentgroup\":\"True\",\"box\":{\"visible\":true},\"hovertemplate\":\"ab_target=%{x}<br>value=%{y}<extra></extra>\",\"legendgroup\":\"AB_2734409 (CD33)\",\"marker\":{\"color\":\"#636efa\",\"size\":1},\"name\":\"AB_2734409 (CD33)\",\"offsetgroup\":\"AB_2734409 (CD33)\",\"orientation\":\"v\",\"scalegroup\":\"True\",\"showlegend\":true,\"x\":[\"AB_2734409 (CD33)\",\"AB_2734409 (CD33)\",\"AB_2734409 (CD33)\",\"AB_2734409 (CD33)\",\"AB_2734409 (CD33)\",\"AB_2734409 (CD33)\"],\"x0\":\" \",\"xaxis\":\"x\",\"y\":[0.1049050047,0.0,0.0,0.0,0.0,12.2074],\"y0\":\" \",\"yaxis\":\"y\",\"type\":\"violin\",\"width\":0.75},{\"alignmentgroup\":\"True\",\"box\":{\"visible\":true},\"hovertemplate\":\"ab_target=%{x}<br>value=%{y}<extra></extra>\",\"legendgroup\":\"AB_2800823 (CD278)\",\"marker\":{\"color\":\"#EF553B\",\"size\":1},\"name\":\"AB_2800823 (CD278)\",\"offsetgroup\":\"AB_2800823 (CD278)\",\"orientation\":\"v\",\"scalegroup\":\"True\",\"showlegend\":true,\"x\":[\"AB_2800823 (CD278)\",\"AB_2800823 (CD278)\",\"AB_2800823 (CD278)\",\"AB_2800823 (CD278)\",\"AB_2800823 (CD278)\",\"AB_2800823 (CD278)\"],\"x0\":\" \",\"xaxis\":\"x\",\"y\":[0.0,0.0,0.0,0.0,0.0,0.0],\"y0\":\" \",\"yaxis\":\"y\",\"type\":\"violin\",\"width\":0.75},{\"alignmentgroup\":\"True\",\"box\":{\"visible\":true},\"hovertemplate\":\"ab_target=%{x}<br>value=%{y}<extra></extra>\",\"legendgroup\":\"AB_2749994 (CD195)\",\"marker\":{\"color\":\"#00cc96\",\"size\":1},\"name\":\"AB_2749994 (CD195)\",\"offsetgroup\":\"AB_2749994 (CD195)\",\"orientation\":\"v\",\"scalegroup\":\"True\",\"showlegend\":true,\"x\":[\"AB_2749994 (CD195)\",\"AB_2749994 (CD195)\",\"AB_2749994 (CD195)\",\"AB_2749994 (CD195)\",\"AB_2749994 (CD195)\",\"AB_2749994 (CD195)\"],\"x0\":\" \",\"xaxis\":\"x\",\"y\":[1.0500223181,0.0,0.0,0.0,0.0,15.1385],\"y0\":\" \",\"yaxis\":\"y\",\"type\":\"violin\",\"width\":0.75},{\"alignmentgroup\":\"True\",\"box\":{\"visible\":true},\"hovertemplate\":\"ab_target=%{x}<br>value=%{y}<extra></extra>\",\"legendgroup\":\"AB_2800874 (CD335)\",\"marker\":{\"color\":\"#ab63fa\",\"size\":1},\"name\":\"AB_2800874 (CD335)\",\"offsetgroup\":\"AB_2800874 (CD335)\",\"orientation\":\"v\",\"scalegroup\":\"True\",\"showlegend\":true,\"x\":[\"AB_2800874 (CD335)\",\"AB_2800874 (CD335)\",\"AB_2800874 (CD335)\",\"AB_2800874 (CD335)\",\"AB_2800874 (CD335)\",\"AB_2800874 (CD335)\"],\"x0\":\" \",\"xaxis\":\"x\",\"y\":[0.7101958824,0.0,0.0,0.0,0.0,9.64457],\"y0\":\" \",\"yaxis\":\"y\",\"type\":\"violin\",\"width\":0.75},{\"alignmentgroup\":\"True\",\"box\":{\"visible\":true},\"hovertemplate\":\"ab_target=%{x}<br>value=%{y}<extra></extra>\",\"legendgroup\":\"AB_2749971 (CD11c)\",\"marker\":{\"color\":\"#FFA15A\",\"size\":1},\"name\":\"AB_2749971 (CD11c)\",\"offsetgroup\":\"AB_2749971 (CD11c)\",\"orientation\":\"v\",\"scalegroup\":\"True\",\"showlegend\":true,\"x\":[\"AB_2749971 (CD11c)\",\"AB_2749971 (CD11c)\",\"AB_2749971 (CD11c)\",\"AB_2749971 (CD11c)\",\"AB_2749971 (CD11c)\",\"AB_2749971 (CD11c)\"],\"x0\":\" \",\"xaxis\":\"x\",\"y\":[1.4801070776,0.0,0.0,0.0,0.0,13.1849],\"y0\":\" \",\"yaxis\":\"y\",\"type\":\"violin\",\"width\":0.75},{\"alignmentgroup\":\"True\",\"box\":{\"visible\":true},\"hovertemplate\":\"ab_target=%{x}<br>value=%{y}<extra></extra>\",\"legendgroup\":\"AB_2800922 (CD8a)\",\"marker\":{\"color\":\"#19d3f3\",\"size\":1},\"name\":\"AB_2800922 (CD8a)\",\"offsetgroup\":\"AB_2800922 (CD8a)\",\"orientation\":\"v\",\"scalegroup\":\"True\",\"showlegend\":true,\"x\":[\"AB_2800922 (CD8a)\",\"AB_2800922 (CD8a)\",\"AB_2800922 (CD8a)\",\"AB_2800922 (CD8a)\",\"AB_2800922 (CD8a)\",\"AB_2800922 (CD8a)\"],\"x0\":\" \",\"xaxis\":\"x\",\"y\":[0.1264224823,0.0,0.0,0.0,0.0,8.91308],\"y0\":\" \",\"yaxis\":\"y\",\"type\":\"violin\",\"width\":0.75},{\"alignmentgroup\":\"True\",\"box\":{\"visible\":true},\"hovertemplate\":\"ab_target=%{x}<br>value=%{y}<extra></extra>\",\"legendgroup\":\"AB_2800770 (CD62L)\",\"marker\":{\"color\":\"#FF6692\",\"size\":1},\"name\":\"AB_2800770 (CD62L)\",\"offsetgroup\":\"AB_2800770 (CD62L)\",\"orientation\":\"v\",\"scalegroup\":\"True\",\"showlegend\":true,\"x\":[\"AB_2800770 (CD62L)\",\"AB_2800770 (CD62L)\",\"AB_2800770 (CD62L)\",\"AB_2800770 (CD62L)\",\"AB_2800770 (CD62L)\",\"AB_2800770 (CD62L)\"],\"x0\":\" \",\"xaxis\":\"x\",\"y\":[5.3538559414,0.0,8.83045,9.157105,0.0,13.6715],\"y0\":\" \",\"yaxis\":\"y\",\"type\":\"violin\",\"width\":0.75},{\"alignmentgroup\":\"True\",\"box\":{\"visible\":true},\"hovertemplate\":\"ab_target=%{x}<br>value=%{y}<extra></extra>\",\"legendgroup\":\"AB_2800738 (CD16)\",\"marker\":{\"color\":\"#B6E880\",\"size\":1},\"name\":\"AB_2800738 (CD16)\",\"offsetgroup\":\"AB_2800738 (CD16)\",\"orientation\":\"v\",\"scalegroup\":\"True\",\"showlegend\":true,\"x\":[\"AB_2800738 (CD16)\",\"AB_2800738 (CD16)\",\"AB_2800738 (CD16)\",\"AB_2800738 (CD16)\",\"AB_2800738 (CD16)\",\"AB_2800738 (CD16)\"],\"x0\":\" \",\"xaxis\":\"x\",\"y\":[0.3352311715,0.0,0.0,0.0,0.0,9.42285],\"y0\":\" \",\"yaxis\":\"y\",\"type\":\"violin\",\"width\":0.75},{\"alignmentgroup\":\"True\",\"box\":{\"visible\":true},\"hovertemplate\":\"ab_target=%{x}<br>value=%{y}<extra></extra>\",\"legendgroup\":\"AB_2800756 (CD29)\",\"marker\":{\"color\":\"#FF97FF\",\"size\":1},\"name\":\"AB_2800756 (CD29)\",\"offsetgroup\":\"AB_2800756 (CD29)\",\"orientation\":\"v\",\"scalegroup\":\"True\",\"showlegend\":true,\"x\":[\"AB_2800756 (CD29)\",\"AB_2800756 (CD29)\",\"AB_2800756 (CD29)\",\"AB_2800756 (CD29)\",\"AB_2800756 (CD29)\",\"AB_2800756 (CD29)\"],\"x0\":\" \",\"xaxis\":\"x\",\"y\":[1.3667625806,0.0,0.0,0.0,0.0,10.3194],\"y0\":\" \",\"yaxis\":\"y\",\"type\":\"violin\",\"width\":0.75},{\"alignmentgroup\":\"True\",\"box\":{\"visible\":true},\"hovertemplate\":\"ab_target=%{x}<br>value=%{y}<extra></extra>\",\"legendgroup\":\"AB_2814249 (CD328)\",\"marker\":{\"color\":\"#FECB52\",\"size\":1},\"name\":\"AB_2814249 (CD328)\",\"offsetgroup\":\"AB_2814249 (CD328)\",\"orientation\":\"v\",\"scalegroup\":\"True\",\"showlegend\":true,\"x\":[\"AB_2814249 (CD328)\",\"AB_2814249 (CD328)\",\"AB_2814249 (CD328)\",\"AB_2814249 (CD328)\",\"AB_2814249 (CD328)\",\"AB_2814249 (CD328)\"],\"x0\":\" \",\"xaxis\":\"x\",\"y\":[0.219646,0.0,0.0,0.0,0.0,8.78584],\"y0\":\" \",\"yaxis\":\"y\",\"type\":\"violin\",\"width\":0.75},{\"alignmentgroup\":\"True\",\"box\":{\"visible\":true},\"hovertemplate\":\"ab_target=%{x}<br>value=%{y}<extra></extra>\",\"legendgroup\":\"AB_2814240 (CD122)\",\"marker\":{\"color\":\"#636efa\",\"size\":1},\"name\":\"AB_2814240 (CD122)\",\"offsetgroup\":\"AB_2814240 (CD122)\",\"orientation\":\"v\",\"scalegroup\":\"True\",\"showlegend\":true,\"x\":[\"AB_2814240 (CD122)\",\"AB_2814240 (CD122)\",\"AB_2814240 (CD122)\",\"AB_2814240 (CD122)\",\"AB_2814240 (CD122)\",\"AB_2814240 (CD122)\"],\"x0\":\" \",\"xaxis\":\"x\",\"y\":[0.6828921212,0.0,0.0,0.0,0.0,11.2469],\"y0\":\" \",\"yaxis\":\"y\",\"type\":\"violin\",\"width\":0.75},{\"alignmentgroup\":\"True\",\"box\":{\"visible\":true},\"hovertemplate\":\"ab_target=%{x}<br>value=%{y}<extra></extra>\",\"legendgroup\":\"AB_2904401 (KLRG1)\",\"marker\":{\"color\":\"#EF553B\",\"size\":1},\"name\":\"AB_2904401 (KLRG1)\",\"offsetgroup\":\"AB_2904401 (KLRG1)\",\"orientation\":\"v\",\"scalegroup\":\"True\",\"showlegend\":true,\"x\":[\"AB_2904401 (KLRG1)\",\"AB_2904401 (KLRG1)\",\"AB_2904401 (KLRG1)\",\"AB_2904401 (KLRG1)\",\"AB_2904401 (KLRG1)\",\"AB_2904401 (KLRG1)\"],\"x0\":\" \",\"xaxis\":\"x\",\"y\":[1.4271940426,0.0,0.0,0.0,0.0,13.2341],\"y0\":\" \",\"yaxis\":\"y\",\"type\":\"violin\",\"width\":0.75},{\"alignmentgroup\":\"True\",\"box\":{\"visible\":true},\"hovertemplate\":\"ab_target=%{x}<br>value=%{y}<extra></extra>\",\"legendgroup\":\"AB_2800787 (CD95)\",\"marker\":{\"color\":\"#00cc96\",\"size\":1},\"name\":\"AB_2800787 (CD95)\",\"offsetgroup\":\"AB_2800787 (CD95)\",\"orientation\":\"v\",\"scalegroup\":\"True\",\"showlegend\":true,\"x\":[\"AB_2800787 (CD95)\",\"AB_2800787 (CD95)\",\"AB_2800787 (CD95)\",\"AB_2800787 (CD95)\",\"AB_2800787 (CD95)\",\"AB_2800787 (CD95)\"],\"x0\":\" \",\"xaxis\":\"x\",\"y\":[1.33081841,0.0,0.0,0.0,0.0,15.6334],\"y0\":\" \",\"yaxis\":\"y\",\"type\":\"violin\",\"width\":0.75},{\"alignmentgroup\":\"True\",\"box\":{\"visible\":true},\"hovertemplate\":\"ab_target=%{x}<br>value=%{y}<extra></extra>\",\"legendgroup\":\"AB_2734255 (CD16)\",\"marker\":{\"color\":\"#ab63fa\",\"size\":1},\"name\":\"AB_2734255 (CD16)\",\"offsetgroup\":\"AB_2734255 (CD16)\",\"orientation\":\"v\",\"scalegroup\":\"True\",\"showlegend\":true,\"x\":[\"AB_2734255 (CD16)\",\"AB_2734255 (CD16)\",\"AB_2734255 (CD16)\",\"AB_2734255 (CD16)\",\"AB_2734255 (CD16)\",\"AB_2734255 (CD16)\"],\"x0\":\" \",\"xaxis\":\"x\",\"y\":[1.0728861216,0.0,0.0,0.0,0.0,12.8871],\"y0\":\" \",\"yaxis\":\"y\",\"type\":\"violin\",\"width\":0.75},{\"alignmentgroup\":\"True\",\"box\":{\"visible\":true},\"hovertemplate\":\"ab_target=%{x}<br>value=%{y}<extra></extra>\",\"legendgroup\":\"AB_2734445 (CD56)\",\"marker\":{\"color\":\"#FFA15A\",\"size\":1},\"name\":\"AB_2734445 (CD56)\",\"offsetgroup\":\"AB_2734445 (CD56)\",\"orientation\":\"v\",\"scalegroup\":\"True\",\"showlegend\":true,\"x\":[\"AB_2734445 (CD56)\",\"AB_2734445 (CD56)\",\"AB_2734445 (CD56)\",\"AB_2734445 (CD56)\",\"AB_2734445 (CD56)\",\"AB_2734445 (CD56)\"],\"x0\":\" \",\"xaxis\":\"x\",\"y\":[0.3101018279,0.0,0.0,0.0,0.0,11.9211],\"y0\":\" \",\"yaxis\":\"y\",\"type\":\"violin\",\"width\":0.75},{\"alignmentgroup\":\"True\",\"box\":{\"visible\":true},\"hovertemplate\":\"ab_target=%{x}<br>value=%{y}<extra></extra>\",\"legendgroup\":\"AB_2800988 (CD194)\",\"marker\":{\"color\":\"#19d3f3\",\"size\":1},\"name\":\"AB_2800988 (CD194)\",\"offsetgroup\":\"AB_2800988 (CD194)\",\"orientation\":\"v\",\"scalegroup\":\"True\",\"showlegend\":true,\"x\":[\"AB_2800988 (CD194)\",\"AB_2800988 (CD194)\",\"AB_2800988 (CD194)\",\"AB_2800988 (CD194)\",\"AB_2800988 (CD194)\",\"AB_2800988 (CD194)\"],\"x0\":\" \",\"xaxis\":\"x\",\"y\":[0.3198779832,0.0,0.0,0.0,0.0,9.63728],\"y0\":\" \",\"yaxis\":\"y\",\"type\":\"violin\",\"width\":0.75},{\"alignmentgroup\":\"True\",\"box\":{\"visible\":true},\"hovertemplate\":\"ab_target=%{x}<br>value=%{y}<extra></extra>\",\"legendgroup\":\"AB_2800857 (CD244)\",\"marker\":{\"color\":\"#FF6692\",\"size\":1},\"name\":\"AB_2800857 (CD244)\",\"offsetgroup\":\"AB_2800857 (CD244)\",\"orientation\":\"v\",\"scalegroup\":\"True\",\"showlegend\":true,\"x\":[\"AB_2800857 (CD244)\",\"AB_2800857 (CD244)\",\"AB_2800857 (CD244)\",\"AB_2800857 (CD244)\",\"AB_2800857 (CD244)\",\"AB_2800857 (CD244)\"],\"x0\":\" \",\"xaxis\":\"x\",\"y\":[0.8034714646,0.0,0.0,0.0,0.0,10.0988],\"y0\":\" \",\"yaxis\":\"y\",\"type\":\"violin\",\"width\":0.75},{\"alignmentgroup\":\"True\",\"box\":{\"visible\":true},\"hovertemplate\":\"ab_target=%{x}<br>value=%{y}<extra></extra>\",\"legendgroup\":\"AB_2810482 (CD47)\",\"marker\":{\"color\":\"#B6E880\",\"size\":1},\"name\":\"AB_2810482 (CD47)\",\"offsetgroup\":\"AB_2810482 (CD47)\",\"orientation\":\"v\",\"scalegroup\":\"True\",\"showlegend\":true,\"x\":[\"AB_2810482 (CD47)\",\"AB_2810482 (CD47)\",\"AB_2810482 (CD47)\",\"AB_2810482 (CD47)\",\"AB_2810482 (CD47)\",\"AB_2810482 (CD47)\"],\"x0\":\" \",\"xaxis\":\"x\",\"y\":[4.9588833613,0.0,8.67307,9.43605,0.0,11.454],\"y0\":\" \",\"yaxis\":\"y\",\"type\":\"violin\",\"width\":0.75},{\"alignmentgroup\":\"True\",\"box\":{\"visible\":true},\"hovertemplate\":\"ab_target=%{x}<br>value=%{y}<extra></extra>\",\"legendgroup\":\"AB_2801002 (CD56)\",\"marker\":{\"color\":\"#FF97FF\",\"size\":1},\"name\":\"AB_2801002 (CD56)\",\"offsetgroup\":\"AB_2801002 (CD56)\",\"orientation\":\"v\",\"scalegroup\":\"True\",\"showlegend\":true,\"x\":[\"AB_2801002 (CD56)\",\"AB_2801002 (CD56)\",\"AB_2801002 (CD56)\",\"AB_2801002 (CD56)\",\"AB_2801002 (CD56)\",\"AB_2801002 (CD56)\"],\"x0\":\" \",\"xaxis\":\"x\",\"y\":[0.1508970588,0.0,0.0,0.0,0.0,8.99602],\"y0\":\" \",\"yaxis\":\"y\",\"type\":\"violin\",\"width\":0.75},{\"alignmentgroup\":\"True\",\"box\":{\"visible\":true},\"hovertemplate\":\"ab_target=%{x}<br>value=%{y}<extra></extra>\",\"legendgroup\":\"AB_2800739 (CD18)\",\"marker\":{\"color\":\"#FECB52\",\"size\":1},\"name\":\"AB_2800739 (CD18)\",\"offsetgroup\":\"AB_2800739 (CD18)\",\"orientation\":\"v\",\"scalegroup\":\"True\",\"showlegend\":true,\"x\":[\"AB_2800739 (CD18)\",\"AB_2800739 (CD18)\",\"AB_2800739 (CD18)\",\"AB_2800739 (CD18)\",\"AB_2800739 (CD18)\",\"AB_2800739 (CD18)\"],\"x0\":\" \",\"xaxis\":\"x\",\"y\":[0.0840781513,0.0,0.0,0.0,0.0,10.0053],\"y0\":\" \",\"yaxis\":\"y\",\"type\":\"violin\",\"width\":0.75},{\"alignmentgroup\":\"True\",\"box\":{\"visible\":true},\"hovertemplate\":\"ab_target=%{x}<br>value=%{y}<extra></extra>\",\"legendgroup\":\"AB_2749979 (CD194)\",\"marker\":{\"color\":\"#636efa\",\"size\":1},\"name\":\"AB_2749979 (CD194)\",\"offsetgroup\":\"AB_2749979 (CD194)\",\"orientation\":\"v\",\"scalegroup\":\"True\",\"showlegend\":true,\"x\":[\"AB_2749979 (CD194)\",\"AB_2749979 (CD194)\",\"AB_2749979 (CD194)\",\"AB_2749979 (CD194)\",\"AB_2749979 (CD194)\",\"AB_2749979 (CD194)\"],\"x0\":\" \",\"xaxis\":\"x\",\"y\":[0.8750524153,0.0,0.0,0.0,0.0,11.2933],\"y0\":\" \",\"yaxis\":\"y\",\"type\":\"violin\",\"width\":0.75},{\"alignmentgroup\":\"True\",\"box\":{\"visible\":true},\"hovertemplate\":\"ab_target=%{x}<br>value=%{y}<extra></extra>\",\"legendgroup\":\"AB_2734322 (CD279)\",\"marker\":{\"color\":\"#EF553B\",\"size\":1},\"name\":\"AB_2734322 (CD279)\",\"offsetgroup\":\"AB_2734322 (CD279)\",\"orientation\":\"v\",\"scalegroup\":\"True\",\"showlegend\":true,\"x\":[\"AB_2734322 (CD279)\",\"AB_2734322 (CD279)\",\"AB_2734322 (CD279)\",\"AB_2734322 (CD279)\",\"AB_2734322 (CD279)\",\"AB_2734322 (CD279)\"],\"x0\":\" \",\"xaxis\":\"x\",\"y\":[0.654056479,0.0,0.0,0.0,0.0,16.4323],\"y0\":\" \",\"yaxis\":\"y\",\"type\":\"violin\",\"width\":0.75},{\"alignmentgroup\":\"True\",\"box\":{\"visible\":true},\"hovertemplate\":\"ab_target=%{x}<br>value=%{y}<extra></extra>\",\"legendgroup\":\"AB_2800844 (CD314)\",\"marker\":{\"color\":\"#00cc96\",\"size\":1},\"name\":\"AB_2800844 (CD314)\",\"offsetgroup\":\"AB_2800844 (CD314)\",\"orientation\":\"v\",\"scalegroup\":\"True\",\"showlegend\":true,\"x\":[\"AB_2800844 (CD314)\",\"AB_2800844 (CD314)\",\"AB_2800844 (CD314)\",\"AB_2800844 (CD314)\",\"AB_2800844 (CD314)\",\"AB_2800844 (CD314)\"],\"x0\":\" \",\"xaxis\":\"x\",\"y\":[1.0534217742,0.0,0.0,0.0,0.0,9.7301],\"y0\":\" \",\"yaxis\":\"y\",\"type\":\"violin\",\"width\":0.75},{\"alignmentgroup\":\"True\",\"box\":{\"visible\":true},\"hovertemplate\":\"ab_target=%{x}<br>value=%{y}<extra></extra>\",\"legendgroup\":\"AB_2749998 (CD161)\",\"marker\":{\"color\":\"#ab63fa\",\"size\":1},\"name\":\"AB_2749998 (CD161)\",\"offsetgroup\":\"AB_2749998 (CD161)\",\"orientation\":\"v\",\"scalegroup\":\"True\",\"showlegend\":true,\"x\":[\"AB_2749998 (CD161)\",\"AB_2749998 (CD161)\",\"AB_2749998 (CD161)\",\"AB_2749998 (CD161)\",\"AB_2749998 (CD161)\",\"AB_2749998 (CD161)\"],\"x0\":\" \",\"xaxis\":\"x\",\"y\":[1.0675292105,0.0,0.0,0.0,0.0,12.8305],\"y0\":\" \",\"yaxis\":\"y\",\"type\":\"violin\",\"width\":0.75},{\"alignmentgroup\":\"True\",\"box\":{\"visible\":true},\"hovertemplate\":\"ab_target=%{x}<br>value=%{y}<extra></extra>\",\"legendgroup\":\"AB_2832651 (CD101)\",\"marker\":{\"color\":\"#FFA15A\",\"size\":1},\"name\":\"AB_2832651 (CD101)\",\"offsetgroup\":\"AB_2832651 (CD101)\",\"orientation\":\"v\",\"scalegroup\":\"True\",\"showlegend\":true,\"x\":[\"AB_2832651 (CD101)\",\"AB_2832651 (CD101)\",\"AB_2832651 (CD101)\",\"AB_2832651 (CD101)\",\"AB_2832651 (CD101)\",\"AB_2832651 (CD101)\"],\"x0\":\" \",\"xaxis\":\"x\",\"y\":[1.1713779498,0.0,0.0,0.0,0.0,9.80689],\"y0\":\" \",\"yaxis\":\"y\",\"type\":\"violin\",\"width\":0.75},{\"alignmentgroup\":\"True\",\"box\":{\"visible\":true},\"hovertemplate\":\"ab_target=%{x}<br>value=%{y}<extra></extra>\",\"legendgroup\":\"AB_2800899 (CD226)\",\"marker\":{\"color\":\"#19d3f3\",\"size\":1},\"name\":\"AB_2800899 (CD226)\",\"offsetgroup\":\"AB_2800899 (CD226)\",\"orientation\":\"v\",\"scalegroup\":\"True\",\"showlegend\":true,\"x\":[\"AB_2800899 (CD226)\",\"AB_2800899 (CD226)\",\"AB_2800899 (CD226)\",\"AB_2800899 (CD226)\",\"AB_2800899 (CD226)\",\"AB_2800899 (CD226)\"],\"x0\":\" \",\"xaxis\":\"x\",\"y\":[0.5601338912,0.0,0.0,0.0,0.0,23.8746],\"y0\":\" \",\"yaxis\":\"y\",\"type\":\"violin\",\"width\":0.75},{\"alignmentgroup\":\"True\",\"box\":{\"visible\":true},\"hovertemplate\":\"ab_target=%{x}<br>value=%{y}<extra></extra>\",\"legendgroup\":\"AB_2800935 (CD11a)\",\"marker\":{\"color\":\"#FF6692\",\"size\":1},\"name\":\"AB_2800935 (CD11a)\",\"offsetgroup\":\"AB_2800935 (CD11a)\",\"orientation\":\"v\",\"scalegroup\":\"True\",\"showlegend\":true,\"x\":[\"AB_2800935 (CD11a)\",\"AB_2800935 (CD11a)\",\"AB_2800935 (CD11a)\",\"AB_2800935 (CD11a)\",\"AB_2800935 (CD11a)\",\"AB_2800935 (CD11a)\"],\"x0\":\" \",\"xaxis\":\"x\",\"y\":[1.0222214286,0.0,0.0,0.0,0.0,9.96046],\"y0\":\" \",\"yaxis\":\"y\",\"type\":\"violin\",\"width\":0.75},{\"alignmentgroup\":\"True\",\"box\":{\"visible\":true},\"hovertemplate\":\"ab_target=%{x}<br>value=%{y}<extra></extra>\",\"legendgroup\":\"AB_2734312 (CD90)\",\"marker\":{\"color\":\"#B6E880\",\"size\":1},\"name\":\"AB_2734312 (CD90)\",\"offsetgroup\":\"AB_2734312 (CD90)\",\"orientation\":\"v\",\"scalegroup\":\"True\",\"showlegend\":true,\"x\":[\"AB_2734312 (CD90)\",\"AB_2734312 (CD90)\",\"AB_2734312 (CD90)\",\"AB_2734312 (CD90)\",\"AB_2734312 (CD90)\",\"AB_2734312 (CD90)\"],\"x0\":\" \",\"xaxis\":\"x\",\"y\":[1.420151637,0.0,0.0,0.0,0.0,26.9333],\"y0\":\" \",\"yaxis\":\"y\",\"type\":\"violin\",\"width\":0.75},{\"alignmentgroup\":\"True\",\"box\":{\"visible\":true},\"hovertemplate\":\"ab_target=%{x}<br>value=%{y}<extra></extra>\",\"legendgroup\":\"AB_2734351 (CD8a)\",\"marker\":{\"color\":\"#FF97FF\",\"size\":1},\"name\":\"AB_2734351 (CD8a)\",\"offsetgroup\":\"AB_2734351 (CD8a)\",\"orientation\":\"v\",\"scalegroup\":\"True\",\"showlegend\":true,\"x\":[\"AB_2734351 (CD8a)\",\"AB_2734351 (CD8a)\",\"AB_2734351 (CD8a)\",\"AB_2734351 (CD8a)\",\"AB_2734351 (CD8a)\",\"AB_2734351 (CD8a)\"],\"x0\":\" \",\"xaxis\":\"x\",\"y\":[0.4104495772,0.0,0.0,0.0,0.0,12.8807],\"y0\":\" \",\"yaxis\":\"y\",\"type\":\"violin\",\"width\":0.75},{\"alignmentgroup\":\"True\",\"box\":{\"visible\":true},\"hovertemplate\":\"ab_target=%{x}<br>value=%{y}<extra></extra>\",\"legendgroup\":\"AB_2810435 (CD26)\",\"marker\":{\"color\":\"#FECB52\",\"size\":1},\"name\":\"AB_2810435 (CD26)\",\"offsetgroup\":\"AB_2810435 (CD26)\",\"orientation\":\"v\",\"scalegroup\":\"True\",\"showlegend\":true,\"x\":[\"AB_2810435 (CD26)\",\"AB_2810435 (CD26)\",\"AB_2810435 (CD26)\",\"AB_2810435 (CD26)\",\"AB_2810435 (CD26)\",\"AB_2810435 (CD26)\"],\"x0\":\" \",\"xaxis\":\"x\",\"y\":[1.5841754375,0.0,0.0,0.0,0.0,10.6774],\"y0\":\" \",\"yaxis\":\"y\",\"type\":\"violin\",\"width\":0.75},{\"alignmentgroup\":\"True\",\"box\":{\"visible\":true},\"hovertemplate\":\"ab_target=%{x}<br>value=%{y}<extra></extra>\",\"legendgroup\":\"AB_2800825 (CD49f)\",\"marker\":{\"color\":\"#636efa\",\"size\":1},\"name\":\"AB_2800825 (CD49f)\",\"offsetgroup\":\"AB_2800825 (CD49f)\",\"orientation\":\"v\",\"scalegroup\":\"True\",\"showlegend\":true,\"x\":[\"AB_2800825 (CD49f)\",\"AB_2800825 (CD49f)\",\"AB_2800825 (CD49f)\",\"AB_2800825 (CD49f)\",\"AB_2800825 (CD49f)\",\"AB_2800825 (CD49f)\"],\"x0\":\" \",\"xaxis\":\"x\",\"y\":[0.0763564435,0.0,0.0,0.0,0.0,9.14401],\"y0\":\" \",\"yaxis\":\"y\",\"type\":\"violin\",\"width\":0.75},{\"alignmentgroup\":\"True\",\"box\":{\"visible\":true},\"hovertemplate\":\"ab_target=%{x}<br>value=%{y}<extra></extra>\",\"legendgroup\":\"AB_2800747 (CD27)\",\"marker\":{\"color\":\"#EF553B\",\"size\":1},\"name\":\"AB_2800747 (CD27)\",\"offsetgroup\":\"AB_2800747 (CD27)\",\"orientation\":\"v\",\"scalegroup\":\"True\",\"showlegend\":true,\"x\":[\"AB_2800747 (CD27)\",\"AB_2800747 (CD27)\",\"AB_2800747 (CD27)\",\"AB_2800747 (CD27)\",\"AB_2800747 (CD27)\",\"AB_2800747 (CD27)\"],\"x0\":\" \",\"xaxis\":\"x\",\"y\":[0.9452355,0.0,0.0,0.0,0.0,11.2361],\"y0\":\" \",\"yaxis\":\"y\",\"type\":\"violin\",\"width\":0.75},{\"alignmentgroup\":\"True\",\"box\":{\"visible\":true},\"hovertemplate\":\"ab_target=%{x}<br>value=%{y}<extra></extra>\",\"legendgroup\":\"AB_2750007 (CD244)\",\"marker\":{\"color\":\"#00cc96\",\"size\":1},\"name\":\"AB_2750007 (CD244)\",\"offsetgroup\":\"AB_2750007 (CD244)\",\"orientation\":\"v\",\"scalegroup\":\"True\",\"showlegend\":true,\"x\":[\"AB_2750007 (CD244)\",\"AB_2750007 (CD244)\",\"AB_2750007 (CD244)\",\"AB_2750007 (CD244)\",\"AB_2750007 (CD244)\",\"AB_2750007 (CD244)\"],\"x0\":\" \",\"xaxis\":\"x\",\"y\":[0.5113455154,0.0,0.0,0.0,0.0,14.0966],\"y0\":\" \",\"yaxis\":\"y\",\"type\":\"violin\",\"width\":0.75},{\"alignmentgroup\":\"True\",\"box\":{\"visible\":true},\"hovertemplate\":\"ab_target=%{x}<br>value=%{y}<extra></extra>\",\"legendgroup\":\"AB_2734254 (CD14)\",\"marker\":{\"color\":\"#ab63fa\",\"size\":1},\"name\":\"AB_2734254 (CD14)\",\"offsetgroup\":\"AB_2734254 (CD14)\",\"orientation\":\"v\",\"scalegroup\":\"True\",\"showlegend\":true,\"x\":[\"AB_2734254 (CD14)\",\"AB_2734254 (CD14)\",\"AB_2734254 (CD14)\",\"AB_2734254 (CD14)\",\"AB_2734254 (CD14)\",\"AB_2734254 (CD14)\"],\"x0\":\" \",\"xaxis\":\"x\",\"y\":[1.7820079719,0.0,0.0,0.0,0.0,17.5666],\"y0\":\" \",\"yaxis\":\"y\",\"type\":\"violin\",\"width\":0.75},{\"alignmentgroup\":\"True\",\"box\":{\"visible\":true},\"hovertemplate\":\"ab_target=%{x}<br>value=%{y}<extra></extra>\",\"legendgroup\":\"AB_2750000 (CD27)\",\"marker\":{\"color\":\"#FFA15A\",\"size\":1},\"name\":\"AB_2750000 (CD27)\",\"offsetgroup\":\"AB_2750000 (CD27)\",\"orientation\":\"v\",\"scalegroup\":\"True\",\"showlegend\":true,\"x\":[\"AB_2750000 (CD27)\",\"AB_2750000 (CD27)\",\"AB_2750000 (CD27)\",\"AB_2750000 (CD27)\",\"AB_2750000 (CD27)\",\"AB_2750000 (CD27)\"],\"x0\":\" \",\"xaxis\":\"x\",\"y\":[2.3393744995,0.0,0.0,8.33674,0.0,13.0592],\"y0\":\" \",\"yaxis\":\"y\",\"type\":\"violin\",\"width\":0.75},{\"alignmentgroup\":\"True\",\"box\":{\"visible\":true},\"hovertemplate\":\"ab_target=%{x}<br>value=%{y}<extra></extra>\",\"legendgroup\":\"AB_2820032 (CD99)\",\"marker\":{\"color\":\"#19d3f3\",\"size\":1},\"name\":\"AB_2820032 (CD99)\",\"offsetgroup\":\"AB_2820032 (CD99)\",\"orientation\":\"v\",\"scalegroup\":\"True\",\"showlegend\":true,\"x\":[\"AB_2820032 (CD99)\",\"AB_2820032 (CD99)\",\"AB_2820032 (CD99)\",\"AB_2820032 (CD99)\",\"AB_2820032 (CD99)\",\"AB_2820032 (CD99)\"],\"x0\":\" \",\"xaxis\":\"x\",\"y\":[1.746575202,0.0,0.0,0.0,0.0,12.9278],\"y0\":\" \",\"yaxis\":\"y\",\"type\":\"violin\",\"width\":0.75},{\"alignmentgroup\":\"True\",\"box\":{\"visible\":true},\"hovertemplate\":\"ab_target=%{x}<br>value=%{y}<extra></extra>\",\"legendgroup\":\"AB_2749969 (CD4)\",\"marker\":{\"color\":\"#FF6692\",\"size\":1},\"name\":\"AB_2749969 (CD4)\",\"offsetgroup\":\"AB_2749969 (CD4)\",\"orientation\":\"v\",\"scalegroup\":\"True\",\"showlegend\":true,\"x\":[\"AB_2749969 (CD4)\",\"AB_2749969 (CD4)\",\"AB_2749969 (CD4)\",\"AB_2749969 (CD4)\",\"AB_2749969 (CD4)\",\"AB_2749969 (CD4)\"],\"x0\":\" \",\"xaxis\":\"x\",\"y\":[1.0288228625,0.0,0.0,0.0,0.0,11.2665],\"y0\":\" \",\"yaxis\":\"y\",\"type\":\"violin\",\"width\":0.75},{\"alignmentgroup\":\"True\",\"box\":{\"visible\":true},\"hovertemplate\":\"ab_target=%{x}<br>value=%{y}<extra></extra>\",\"legendgroup\":\"AB_2800726 (CD5)\",\"marker\":{\"color\":\"#B6E880\",\"size\":1},\"name\":\"AB_2800726 (CD5)\",\"offsetgroup\":\"AB_2800726 (CD5)\",\"orientation\":\"v\",\"scalegroup\":\"True\",\"showlegend\":true,\"x\":[\"AB_2800726 (CD5)\",\"AB_2800726 (CD5)\",\"AB_2800726 (CD5)\",\"AB_2800726 (CD5)\",\"AB_2800726 (CD5)\",\"AB_2800726 (CD5)\"],\"x0\":\" \",\"xaxis\":\"x\",\"y\":[1.3698585356,0.0,0.0,0.0,0.0,9.96221],\"y0\":\" \",\"yaxis\":\"y\",\"type\":\"violin\",\"width\":0.75},{\"alignmentgroup\":\"True\",\"box\":{\"visible\":true},\"hovertemplate\":\"ab_target=%{x}<br>value=%{y}<extra></extra>\",\"legendgroup\":\"AB_2800937 (CD127)\",\"marker\":{\"color\":\"#FF97FF\",\"size\":1},\"name\":\"AB_2800937 (CD127)\",\"offsetgroup\":\"AB_2800937 (CD127)\",\"orientation\":\"v\",\"scalegroup\":\"True\",\"showlegend\":true,\"x\":[\"AB_2800937 (CD127)\",\"AB_2800937 (CD127)\",\"AB_2800937 (CD127)\",\"AB_2800937 (CD127)\",\"AB_2800937 (CD127)\",\"AB_2800937 (CD127)\"],\"x0\":\" \",\"xaxis\":\"x\",\"y\":[0.7534110084,0.0,0.0,0.0,0.0,9.29569],\"y0\":\" \",\"yaxis\":\"y\",\"type\":\"violin\",\"width\":0.75},{\"alignmentgroup\":\"True\",\"box\":{\"visible\":true},\"hovertemplate\":\"ab_target=%{x}<br>value=%{y}<extra></extra>\",\"legendgroup\":\"AB_2734366 (CD127)\",\"marker\":{\"color\":\"#FECB52\",\"size\":1},\"name\":\"AB_2734366 (CD127)\",\"offsetgroup\":\"AB_2734366 (CD127)\",\"orientation\":\"v\",\"scalegroup\":\"True\",\"showlegend\":true,\"x\":[\"AB_2734366 (CD127)\",\"AB_2734366 (CD127)\",\"AB_2734366 (CD127)\",\"AB_2734366 (CD127)\",\"AB_2734366 (CD127)\",\"AB_2734366 (CD127)\"],\"x0\":\" \",\"xaxis\":\"x\",\"y\":[0.731335884,0.0,0.0,0.0,0.0,11.449],\"y0\":\" \",\"yaxis\":\"y\",\"type\":\"violin\",\"width\":0.75},{\"alignmentgroup\":\"True\",\"box\":{\"visible\":true},\"hovertemplate\":\"ab_target=%{x}<br>value=%{y}<extra></extra>\",\"legendgroup\":\"AB_2800725 (CD4)\",\"marker\":{\"color\":\"#636efa\",\"size\":1},\"name\":\"AB_2800725 (CD4)\",\"offsetgroup\":\"AB_2800725 (CD4)\",\"orientation\":\"v\",\"scalegroup\":\"True\",\"showlegend\":true,\"x\":[\"AB_2800725 (CD4)\",\"AB_2800725 (CD4)\",\"AB_2800725 (CD4)\",\"AB_2800725 (CD4)\",\"AB_2800725 (CD4)\",\"AB_2800725 (CD4)\"],\"x0\":\" \",\"xaxis\":\"x\",\"y\":[0.2394808368,0.0,0.0,0.0,0.0,9.02799],\"y0\":\" \",\"yaxis\":\"y\",\"type\":\"violin\",\"width\":0.75},{\"alignmentgroup\":\"True\",\"box\":{\"visible\":true},\"hovertemplate\":\"ab_target=%{x}<br>value=%{y}<extra></extra>\",\"legendgroup\":\"AB_2800793 (TCR alpha/beta)\",\"marker\":{\"color\":\"#EF553B\",\"size\":1},\"name\":\"AB_2800793 (TCR alpha/beta)\",\"offsetgroup\":\"AB_2800793 (TCR alpha/beta)\",\"orientation\":\"v\",\"scalegroup\":\"True\",\"showlegend\":true,\"x\":[\"AB_2800793 (TCR alpha/beta)\",\"AB_2800793 (TCR alpha/beta)\",\"AB_2800793 (TCR alpha/beta)\",\"AB_2800793 (TCR alpha/beta)\",\"AB_2800793 (TCR alpha/beta)\",\"AB_2800793 (TCR alpha/beta)\"],\"x0\":\" \",\"xaxis\":\"x\",\"y\":[0.2815568687,0.0,0.0,0.0,0.0,11.0191],\"y0\":\" \",\"yaxis\":\"y\",\"type\":\"violin\",\"width\":0.75},{\"alignmentgroup\":\"True\",\"box\":{\"visible\":true},\"hovertemplate\":\"ab_target=%{x}<br>value=%{y}<extra></extra>\",\"legendgroup\":\"AB_2800751 (CD28)\",\"marker\":{\"color\":\"#00cc96\",\"size\":1},\"name\":\"AB_2800751 (CD28)\",\"offsetgroup\":\"AB_2800751 (CD28)\",\"orientation\":\"v\",\"scalegroup\":\"True\",\"showlegend\":true,\"x\":[\"AB_2800751 (CD28)\",\"AB_2800751 (CD28)\",\"AB_2800751 (CD28)\",\"AB_2800751 (CD28)\",\"AB_2800751 (CD28)\",\"AB_2800751 (CD28)\"],\"x0\":\" \",\"xaxis\":\"x\",\"y\":[0.5124184874,0.0,0.0,0.0,0.0,9.13044],\"y0\":\" \",\"yaxis\":\"y\",\"type\":\"violin\",\"width\":0.75},{\"alignmentgroup\":\"True\",\"box\":{\"visible\":true},\"hovertemplate\":\"ab_target=%{x}<br>value=%{y}<extra></extra>\",\"legendgroup\":\"AB_2800914 (CD7)\",\"marker\":{\"color\":\"#ab63fa\",\"size\":1},\"name\":\"AB_2800914 (CD7)\",\"offsetgroup\":\"AB_2800914 (CD7)\",\"orientation\":\"v\",\"scalegroup\":\"True\",\"showlegend\":true,\"x\":[\"AB_2800914 (CD7)\",\"AB_2800914 (CD7)\",\"AB_2800914 (CD7)\",\"AB_2800914 (CD7)\",\"AB_2800914 (CD7)\",\"AB_2800914 (CD7)\"],\"x0\":\" \",\"xaxis\":\"x\",\"y\":[0.0,0.0,0.0,0.0,0.0,0.0],\"y0\":\" \",\"yaxis\":\"y\",\"type\":\"violin\",\"width\":0.75},{\"alignmentgroup\":\"True\",\"box\":{\"visible\":true},\"hovertemplate\":\"ab_target=%{x}<br>value=%{y}<extra></extra>\",\"legendgroup\":\"AB_2734353 (CD3)\",\"marker\":{\"color\":\"#FFA15A\",\"size\":1},\"name\":\"AB_2734353 (CD3)\",\"offsetgroup\":\"AB_2734353 (CD3)\",\"orientation\":\"v\",\"scalegroup\":\"True\",\"showlegend\":true,\"x\":[\"AB_2734353 (CD3)\",\"AB_2734353 (CD3)\",\"AB_2734353 (CD3)\",\"AB_2734353 (CD3)\",\"AB_2734353 (CD3)\",\"AB_2734353 (CD3)\"],\"x0\":\" \",\"xaxis\":\"x\",\"y\":[0.1093093171,0.0,0.0,0.0,0.0,13.3944],\"y0\":\" \",\"yaxis\":\"y\",\"type\":\"violin\",\"width\":0.75},{\"alignmentgroup\":\"True\",\"box\":{\"visible\":true},\"hovertemplate\":\"ab_target=%{x}<br>value=%{y}<extra></extra>\",\"legendgroup\":\"AB_2800723 (CD3)\",\"marker\":{\"color\":\"#19d3f3\",\"size\":1},\"name\":\"AB_2800723 (CD3)\",\"offsetgroup\":\"AB_2800723 (CD3)\",\"orientation\":\"v\",\"scalegroup\":\"True\",\"showlegend\":true,\"x\":[\"AB_2800723 (CD3)\",\"AB_2800723 (CD3)\",\"AB_2800723 (CD3)\",\"AB_2800723 (CD3)\",\"AB_2800723 (CD3)\",\"AB_2800723 (CD3)\"],\"x0\":\" \",\"xaxis\":\"x\",\"y\":[0.0751432636,0.0,0.0,0.0,0.0,9.32159],\"y0\":\" \",\"yaxis\":\"y\",\"type\":\"violin\",\"width\":0.75},{\"alignmentgroup\":\"True\",\"box\":{\"visible\":true},\"hovertemplate\":\"ab_target=%{x}<br>value=%{y}<extra></extra>\",\"legendgroup\":\"AB_2734345 (CD7)\",\"marker\":{\"color\":\"#FF6692\",\"size\":1},\"name\":\"AB_2734345 (CD7)\",\"offsetgroup\":\"AB_2734345 (CD7)\",\"orientation\":\"v\",\"scalegroup\":\"True\",\"showlegend\":true,\"x\":[\"AB_2734345 (CD7)\",\"AB_2734345 (CD7)\",\"AB_2734345 (CD7)\",\"AB_2734345 (CD7)\",\"AB_2734345 (CD7)\",\"AB_2734345 (CD7)\"],\"x0\":\" \",\"xaxis\":\"x\",\"y\":[0.2972453695,0.0,0.0,0.0,0.0,12.3266],\"y0\":\" \",\"yaxis\":\"y\",\"type\":\"violin\",\"width\":0.75},{\"alignmentgroup\":\"True\",\"box\":{\"visible\":true},\"hovertemplate\":\"ab_target=%{x}<br>value=%{y}<extra></extra>\",\"legendgroup\":\"AB_2810464 (CD2)\",\"marker\":{\"color\":\"#B6E880\",\"size\":1},\"name\":\"AB_2810464 (CD2)\",\"offsetgroup\":\"AB_2810464 (CD2)\",\"orientation\":\"v\",\"scalegroup\":\"True\",\"showlegend\":true,\"x\":[\"AB_2810464 (CD2)\",\"AB_2810464 (CD2)\",\"AB_2810464 (CD2)\",\"AB_2810464 (CD2)\",\"AB_2810464 (CD2)\",\"AB_2810464 (CD2)\"],\"x0\":\" \",\"xaxis\":\"x\",\"y\":[0.0883713636,0.0,0.0,0.0,0.0,8.87424],\"y0\":\" \",\"yaxis\":\"y\",\"type\":\"violin\",\"width\":0.75}],                        {\"template\":{\"data\":{\"histogram2dcontour\":[{\"type\":\"histogram2dcontour\",\"colorbar\":{\"outlinewidth\":0,\"ticks\":\"\"},\"colorscale\":[[0.0,\"#0d0887\"],[0.1111111111111111,\"#46039f\"],[0.2222222222222222,\"#7201a8\"],[0.3333333333333333,\"#9c179e\"],[0.4444444444444444,\"#bd3786\"],[0.5555555555555556,\"#d8576b\"],[0.6666666666666666,\"#ed7953\"],[0.7777777777777778,\"#fb9f3a\"],[0.8888888888888888,\"#fdca26\"],[1.0,\"#f0f921\"]]}],\"choropleth\":[{\"type\":\"choropleth\",\"colorbar\":{\"outlinewidth\":0,\"ticks\":\"\"}}],\"histogram2d\":[{\"type\":\"histogram2d\",\"colorbar\":{\"outlinewidth\":0,\"ticks\":\"\"},\"colorscale\":[[0.0,\"#0d0887\"],[0.1111111111111111,\"#46039f\"],[0.2222222222222222,\"#7201a8\"],[0.3333333333333333,\"#9c179e\"],[0.4444444444444444,\"#bd3786\"],[0.5555555555555556,\"#d8576b\"],[0.6666666666666666,\"#ed7953\"],[0.7777777777777778,\"#fb9f3a\"],[0.8888888888888888,\"#fdca26\"],[1.0,\"#f0f921\"]]}],\"heatmap\":[{\"type\":\"heatmap\",\"colorbar\":{\"outlinewidth\":0,\"ticks\":\"\"},\"colorscale\":[[0.0,\"#0d0887\"],[0.1111111111111111,\"#46039f\"],[0.2222222222222222,\"#7201a8\"],[0.3333333333333333,\"#9c179e\"],[0.4444444444444444,\"#bd3786\"],[0.5555555555555556,\"#d8576b\"],[0.6666666666666666,\"#ed7953\"],[0.7777777777777778,\"#fb9f3a\"],[0.8888888888888888,\"#fdca26\"],[1.0,\"#f0f921\"]]}],\"heatmapgl\":[{\"type\":\"heatmapgl\",\"colorbar\":{\"outlinewidth\":0,\"ticks\":\"\"},\"colorscale\":[[0.0,\"#0d0887\"],[0.1111111111111111,\"#46039f\"],[0.2222222222222222,\"#7201a8\"],[0.3333333333333333,\"#9c179e\"],[0.4444444444444444,\"#bd3786\"],[0.5555555555555556,\"#d8576b\"],[0.6666666666666666,\"#ed7953\"],[0.7777777777777778,\"#fb9f3a\"],[0.8888888888888888,\"#fdca26\"],[1.0,\"#f0f921\"]]}],\"contourcarpet\":[{\"type\":\"contourcarpet\",\"colorbar\":{\"outlinewidth\":0,\"ticks\":\"\"}}],\"contour\":[{\"type\":\"contour\",\"colorbar\":{\"outlinewidth\":0,\"ticks\":\"\"},\"colorscale\":[[0.0,\"#0d0887\"],[0.1111111111111111,\"#46039f\"],[0.2222222222222222,\"#7201a8\"],[0.3333333333333333,\"#9c179e\"],[0.4444444444444444,\"#bd3786\"],[0.5555555555555556,\"#d8576b\"],[0.6666666666666666,\"#ed7953\"],[0.7777777777777778,\"#fb9f3a\"],[0.8888888888888888,\"#fdca26\"],[1.0,\"#f0f921\"]]}],\"surface\":[{\"type\":\"surface\",\"colorbar\":{\"outlinewidth\":0,\"ticks\":\"\"},\"colorscale\":[[0.0,\"#0d0887\"],[0.1111111111111111,\"#46039f\"],[0.2222222222222222,\"#7201a8\"],[0.3333333333333333,\"#9c179e\"],[0.4444444444444444,\"#bd3786\"],[0.5555555555555556,\"#d8576b\"],[0.6666666666666666,\"#ed7953\"],[0.7777777777777778,\"#fb9f3a\"],[0.8888888888888888,\"#fdca26\"],[1.0,\"#f0f921\"]]}],\"mesh3d\":[{\"type\":\"mesh3d\",\"colorbar\":{\"outlinewidth\":0,\"ticks\":\"\"}}],\"scatter\":[{\"fillpattern\":{\"fillmode\":\"overlay\",\"size\":10,\"solidity\":0.2},\"type\":\"scatter\"}],\"parcoords\":[{\"type\":\"parcoords\",\"line\":{\"colorbar\":{\"outlinewidth\":0,\"ticks\":\"\"}}}],\"scatterpolargl\":[{\"type\":\"scatterpolargl\",\"marker\":{\"colorbar\":{\"outlinewidth\":0,\"ticks\":\"\"}}}],\"bar\":[{\"error_x\":{\"color\":\"#2a3f5f\"},\"error_y\":{\"color\":\"#2a3f5f\"},\"marker\":{\"line\":{\"color\":\"#E5ECF6\",\"width\":0.5},\"pattern\":{\"fillmode\":\"overlay\",\"size\":10,\"solidity\":0.2}},\"type\":\"bar\"}],\"scattergeo\":[{\"type\":\"scattergeo\",\"marker\":{\"colorbar\":{\"outlinewidth\":0,\"ticks\":\"\"}}}],\"scatterpolar\":[{\"type\":\"scatterpolar\",\"marker\":{\"colorbar\":{\"outlinewidth\":0,\"ticks\":\"\"}}}],\"histogram\":[{\"marker\":{\"pattern\":{\"fillmode\":\"overlay\",\"size\":10,\"solidity\":0.2}},\"type\":\"histogram\"}],\"scattergl\":[{\"type\":\"scattergl\",\"marker\":{\"colorbar\":{\"outlinewidth\":0,\"ticks\":\"\"}}}],\"scatter3d\":[{\"type\":\"scatter3d\",\"line\":{\"colorbar\":{\"outlinewidth\":0,\"ticks\":\"\"}},\"marker\":{\"colorbar\":{\"outlinewidth\":0,\"ticks\":\"\"}}}],\"scattermapbox\":[{\"type\":\"scattermapbox\",\"marker\":{\"colorbar\":{\"outlinewidth\":0,\"ticks\":\"\"}}}],\"scatterternary\":[{\"type\":\"scatterternary\",\"marker\":{\"colorbar\":{\"outlinewidth\":0,\"ticks\":\"\"}}}],\"scattercarpet\":[{\"type\":\"scattercarpet\",\"marker\":{\"colorbar\":{\"outlinewidth\":0,\"ticks\":\"\"}}}],\"carpet\":[{\"aaxis\":{\"endlinecolor\":\"#2a3f5f\",\"gridcolor\":\"white\",\"linecolor\":\"white\",\"minorgridcolor\":\"white\",\"startlinecolor\":\"#2a3f5f\"},\"baxis\":{\"endlinecolor\":\"#2a3f5f\",\"gridcolor\":\"white\",\"linecolor\":\"white\",\"minorgridcolor\":\"white\",\"startlinecolor\":\"#2a3f5f\"},\"type\":\"carpet\"}],\"table\":[{\"cells\":{\"fill\":{\"color\":\"#EBF0F8\"},\"line\":{\"color\":\"white\"}},\"header\":{\"fill\":{\"color\":\"#C8D4E3\"},\"line\":{\"color\":\"white\"}},\"type\":\"table\"}],\"barpolar\":[{\"marker\":{\"line\":{\"color\":\"#E5ECF6\",\"width\":0.5},\"pattern\":{\"fillmode\":\"overlay\",\"size\":10,\"solidity\":0.2}},\"type\":\"barpolar\"}],\"pie\":[{\"automargin\":true,\"type\":\"pie\"}]},\"layout\":{\"autotypenumbers\":\"strict\",\"colorway\":[\"#636efa\",\"#EF553B\",\"#00cc96\",\"#ab63fa\",\"#FFA15A\",\"#19d3f3\",\"#FF6692\",\"#B6E880\",\"#FF97FF\",\"#FECB52\"],\"font\":{\"color\":\"#2a3f5f\"},\"hovermode\":\"closest\",\"hoverlabel\":{\"align\":\"left\"},\"paper_bgcolor\":\"white\",\"plot_bgcolor\":\"#E5ECF6\",\"polar\":{\"bgcolor\":\"#E5ECF6\",\"angularaxis\":{\"gridcolor\":\"white\",\"linecolor\":\"white\",\"ticks\":\"\"},\"radialaxis\":{\"gridcolor\":\"white\",\"linecolor\":\"white\",\"ticks\":\"\"}},\"ternary\":{\"bgcolor\":\"#E5ECF6\",\"aaxis\":{\"gridcolor\":\"white\",\"linecolor\":\"white\",\"ticks\":\"\"},\"baxis\":{\"gridcolor\":\"white\",\"linecolor\":\"white\",\"ticks\":\"\"},\"caxis\":{\"gridcolor\":\"white\",\"linecolor\":\"white\",\"ticks\":\"\"}},\"coloraxis\":{\"colorbar\":{\"outlinewidth\":0,\"ticks\":\"\"}},\"colorscale\":{\"sequential\":[[0.0,\"#0d0887\"],[0.1111111111111111,\"#46039f\"],[0.2222222222222222,\"#7201a8\"],[0.3333333333333333,\"#9c179e\"],[0.4444444444444444,\"#bd3786\"],[0.5555555555555556,\"#d8576b\"],[0.6666666666666666,\"#ed7953\"],[0.7777777777777778,\"#fb9f3a\"],[0.8888888888888888,\"#fdca26\"],[1.0,\"#f0f921\"]],\"sequentialminus\":[[0.0,\"#0d0887\"],[0.1111111111111111,\"#46039f\"],[0.2222222222222222,\"#7201a8\"],[0.3333333333333333,\"#9c179e\"],[0.4444444444444444,\"#bd3786\"],[0.5555555555555556,\"#d8576b\"],[0.6666666666666666,\"#ed7953\"],[0.7777777777777778,\"#fb9f3a\"],[0.8888888888888888,\"#fdca26\"],[1.0,\"#f0f921\"]],\"diverging\":[[0,\"#8e0152\"],[0.1,\"#c51b7d\"],[0.2,\"#de77ae\"],[0.3,\"#f1b6da\"],[0.4,\"#fde0ef\"],[0.5,\"#f7f7f7\"],[0.6,\"#e6f5d0\"],[0.7,\"#b8e186\"],[0.8,\"#7fbc41\"],[0.9,\"#4d9221\"],[1,\"#276419\"]]},\"xaxis\":{\"gridcolor\":\"white\",\"linecolor\":\"white\",\"ticks\":\"\",\"title\":{\"standoff\":15},\"zerolinecolor\":\"white\",\"automargin\":true,\"zerolinewidth\":2},\"yaxis\":{\"gridcolor\":\"white\",\"linecolor\":\"white\",\"ticks\":\"\",\"title\":{\"standoff\":15},\"zerolinecolor\":\"white\",\"automargin\":true,\"zerolinewidth\":2},\"scene\":{\"xaxis\":{\"backgroundcolor\":\"#E5ECF6\",\"gridcolor\":\"white\",\"linecolor\":\"white\",\"showbackground\":true,\"ticks\":\"\",\"zerolinecolor\":\"white\",\"gridwidth\":2},\"yaxis\":{\"backgroundcolor\":\"#E5ECF6\",\"gridcolor\":\"white\",\"linecolor\":\"white\",\"showbackground\":true,\"ticks\":\"\",\"zerolinecolor\":\"white\",\"gridwidth\":2},\"zaxis\":{\"backgroundcolor\":\"#E5ECF6\",\"gridcolor\":\"white\",\"linecolor\":\"white\",\"showbackground\":true,\"ticks\":\"\",\"zerolinecolor\":\"white\",\"gridwidth\":2}},\"shapedefaults\":{\"line\":{\"color\":\"#2a3f5f\"}},\"annotationdefaults\":{\"arrowcolor\":\"#2a3f5f\",\"arrowhead\":0,\"arrowwidth\":1},\"geo\":{\"bgcolor\":\"white\",\"landcolor\":\"#E5ECF6\",\"subunitcolor\":\"white\",\"showland\":true,\"showlakes\":true,\"lakecolor\":\"white\"},\"title\":{\"x\":0.05},\"mapbox\":{\"style\":\"light\"}}},\"xaxis\":{\"anchor\":\"y\",\"domain\":[0.0,1.0],\"title\":{\"text\":\"Antibody\"},\"categoryorder\":\"array\",\"categoryarray\":[\"AB_2814172 (CD268)\",\"AB_2800886 (CD40)\",\"AB_2800741 (CD19)\",\"AB_2801006 (CD22)\",\"AB_2734256 (CD19)\",\"AB_2814129 (CD32)\",\"AB_2749984 (CD20)\",\"AB_2800795 (HLA-DR)\",\"AB_2749968 (CD40)\",\"AB_2800953 (CD21)\",\"AB_2800876 (CD35)\",\"AB_2800743 (CD20)\",\"AB_2750001 (HLA-DR)\",\"AB_2749995 (CD32)\",\"AB_2800853 (CD39)\",\"AB_2750006 (CD21)\",\"AB_2800835 (IgM)\",\"AB_2800905 (CD79b)\",\"AB_2750005 (CD39)\",\"AB_2750002 (CD272)\",\"AB_2749992 (IgM)\",\"AB_2800810 (CD69)\",\"AB_2800813 (CD24)\",\"AB_2734326 (CD1c)\",\"AB_2800934 (CD1d)\",\"AB_2814236 (CD23)\",\"AB_2800916 (CD73)\",\"AB_2814171 (Ig light chain lambda)\",\"AB_2814169 (Ig light chain kappa)\",\"AB_2810562 (CD54)\",\"AB_2800955 (CD70)\",\"AB_2800871 (CD1c)\",\"AB_2814257 (CD82)\",\"AB_2801027 (CD66b)\",\"AB_2800919 (CD272)\",\"AB_2800808 (CD154)\",\"AB_2749977 (CD123)\",\"AB_2800854 (CD107a)\",\"AB_2814295 (CD303)\",\"AB_2800817 (CD10)\",\"AB_2814327 (CD223)\",\"AB_2800949 (CD183)\",\"AB_2800883 (CD30)\",\"AB_2801021 (TIGIT)\",\"AB_2800960 (CX3CR1)\",\"AB_2810481 (Integrin beta7)\",\"AB_2749976 (HLA-ABC)\",\"AB_2800758 (CD38)\",\"AB_2810506 (CD58)\",\"AB_2810541 (CD141)\",\"AB_2801087 (IgG)\",\"AB_2810570 (CD195)\",\"AB_2800836 (CD52)\",\"AB_2814137 (CD49d)\",\"AB_2749965 (CD70)\",\"AB_2800943 (CD197)\",\"AB_2832672 (CD88)\",\"AB_2734286 (CD10)\",\"AB_2800745 (CD25)\",\"AB_2810531 (CD96)\",\"AB_2800925 (CD366)\",\"AB_2749996 (CD103)\",\"AB_2734278 (CD275)\",\"AB_2800851 (CD337)\",\"AB_2734258 (CD25)\",\"AB_2734360 (CD294)\",\"AB_2810510 (CD163)\",\"AB_2800757 (CD31)\",\"AB_2800900 (CD44)\",\"AB_2749999 (CD223)\",\"AB_2749997 (CD69)\",\"AB_2832593 (CD62P)\",\"AB_2800786 (CD86)\",\"AB_2800762 (CD45)\",\"AB_2734249 (CD11b)\",\"AB_2814292 (CD371)\",\"AB_2814134 (CD41)\",\"AB_2814233 (CD155)\",\"AB_2800893 (CD36)\",\"AB_2734287 (CD117)\",\"AB_2801008 (CD33)\",\"AB_2749993 (CD183)\",\"AB_2801018 (CD11c)\",\"AB_2814252 (CD158)\",\"AB_2800732 (CD11b)\",\"AB_2800931 (CD81)\",\"AB_2749972 (CD34)\",\"AB_2800862 (CD279)\",\"AB_2814143 (CD94)\",\"AB_2820039 (CD224)\",\"AB_2734409 (CD33)\",\"AB_2800823 (CD278)\",\"AB_2749994 (CD195)\",\"AB_2800874 (CD335)\",\"AB_2749971 (CD11c)\",\"AB_2800922 (CD8a)\",\"AB_2800770 (CD62L)\",\"AB_2800738 (CD16)\",\"AB_2800756 (CD29)\",\"AB_2814249 (CD328)\",\"AB_2814240 (CD122)\",\"AB_2904401 (KLRG1)\",\"AB_2800787 (CD95)\",\"AB_2734255 (CD16)\",\"AB_2734445 (CD56)\",\"AB_2800988 (CD194)\",\"AB_2800857 (CD244)\",\"AB_2810482 (CD47)\",\"AB_2801002 (CD56)\",\"AB_2800739 (CD18)\",\"AB_2749979 (CD194)\",\"AB_2734322 (CD279)\",\"AB_2800844 (CD314)\",\"AB_2749998 (CD161)\",\"AB_2832651 (CD101)\",\"AB_2800899 (CD226)\",\"AB_2800935 (CD11a)\",\"AB_2734312 (CD90)\",\"AB_2734351 (CD8a)\",\"AB_2810435 (CD26)\",\"AB_2800825 (CD49f)\",\"AB_2800747 (CD27)\",\"AB_2750007 (CD244)\",\"AB_2734254 (CD14)\",\"AB_2750000 (CD27)\",\"AB_2820032 (CD99)\",\"AB_2749969 (CD4)\",\"AB_2800726 (CD5)\",\"AB_2800937 (CD127)\",\"AB_2734366 (CD127)\",\"AB_2800725 (CD4)\",\"AB_2800793 (TCR alpha/beta)\",\"AB_2800751 (CD28)\",\"AB_2800914 (CD7)\",\"AB_2734353 (CD3)\",\"AB_2800723 (CD3)\",\"AB_2734345 (CD7)\",\"AB_2810464 (CD2)\"]},\"yaxis\":{\"anchor\":\"x\",\"domain\":[0.0,1.0],\"title\":{\"text\":\"Normalized Values\"},\"rangemode\":\"nonnegative\"},\"legend\":{\"title\":{\"text\":\"ab_target\"},\"tracegroupgap\":0},\"margin\":{\"t\":60},\"violinmode\":\"overlay\",\"title\":{\"text\":\"Antibodies for: B cell (CL:0000236)\",\"x\":0.45},\"font\":{\"size\":8},\"autosize\":true,\"height\":600},                        {\"responsive\": true}                    ).then(function(){\n",
       "                            \n",
       "var gd = document.getElementById('712b898a-1d6b-4a60-b8aa-5e295683dd2e');\n",
       "var x = new MutationObserver(function (mutations, observer) {{\n",
       "        var display = window.getComputedStyle(gd).display;\n",
       "        if (!display || display === 'none') {{\n",
       "            console.log([gd, 'removed!']);\n",
       "            Plotly.purge(gd);\n",
       "            observer.disconnect();\n",
       "        }}\n",
       "}});\n",
       "\n",
       "// Listen for the removal of the full notebook cells\n",
       "var notebookContainer = gd.closest('#notebook-container');\n",
       "if (notebookContainer) {{\n",
       "    x.observe(notebookContainer, {childList: true});\n",
       "}}\n",
       "\n",
       "// Listen for the clearing of the current output cell\n",
       "var outputEl = gd.closest('.output');\n",
       "if (outputEl) {{\n",
       "    x.observe(outputEl, {childList: true});\n",
       "}}\n",
       "\n",
       "                        })                };                });            </script>        </div>"
      ]
     },
     "metadata": {},
     "output_type": "display_data"
    }
   ],
   "source": [
    "result_df2, plot_dict2 = cxn.find_antibodies(id_CLs=[\"CL:0000236\"])\n",
    "plot_dict2[\"CL:0000236\"]"
   ]
  },
  {
   "cell_type": "markdown",
   "id": "f2e79234-72c0-4ef6-83f4-61aef6200439",
   "metadata": {},
   "source": [
    "We can now compare the coefficients that resulted from these two sets of comparisons to identify antibodies that differ between immature B cells and the general B cell population"
   ]
  },
  {
   "cell_type": "code",
   "execution_count": 29,
   "id": "07964e3c-d325-4c74-b79f-14014e75de42",
   "metadata": {},
   "outputs": [
    {
     "data": {
      "application/vnd.plotly.v1+json": {
       "config": {
        "plotlyServerURL": "https://plot.ly"
       },
       "data": [
        {
         "customdata": [
          [
           "AB_2801021"
          ],
          [
           "AB_2749968"
          ],
          [
           "AB_2814172"
          ],
          [
           "AB_2801027"
          ],
          [
           "AB_2734409"
          ],
          [
           "AB_2800934"
          ],
          [
           "AB_2800988"
          ],
          [
           "AB_2800747"
          ],
          [
           "AB_2800955"
          ],
          [
           "AB_2800786"
          ],
          [
           "AB_2749976"
          ],
          [
           "AB_2734254"
          ],
          [
           "AB_2810481"
          ],
          [
           "AB_2749993"
          ],
          [
           "AB_2749995"
          ],
          [
           "AB_2800914"
          ],
          [
           "AB_2750007"
          ],
          [
           "AB_2749972"
          ],
          [
           "AB_2800810"
          ],
          [
           "AB_2814134"
          ],
          [
           "AB_2800899"
          ],
          [
           "AB_2734351"
          ],
          [
           "AB_2801087"
          ],
          [
           "AB_2800739"
          ],
          [
           "AB_2820032"
          ],
          [
           "AB_2800883"
          ],
          [
           "AB_2800953"
          ],
          [
           "AB_2800886"
          ],
          [
           "AB_2801008"
          ],
          [
           "AB_2832672"
          ],
          [
           "AB_2734286"
          ],
          [
           "AB_2749984"
          ],
          [
           "AB_2749996"
          ],
          [
           "AB_2734255"
          ],
          [
           "AB_2814143"
          ],
          [
           "AB_2800905"
          ],
          [
           "AB_2800854"
          ],
          [
           "AB_2800745"
          ],
          [
           "AB_2734360"
          ],
          [
           "AB_2800949"
          ],
          [
           "AB_2800808"
          ],
          [
           "AB_2800795"
          ],
          [
           "AB_2800862"
          ],
          [
           "AB_2750001"
          ],
          [
           "AB_2734278"
          ],
          [
           "AB_2820039"
          ],
          [
           "AB_2749992"
          ],
          [
           "AB_2800851"
          ],
          [
           "AB_2814295"
          ],
          [
           "AB_2810541"
          ],
          [
           "AB_2734366"
          ],
          [
           "AB_2814169"
          ],
          [
           "AB_2800876"
          ],
          [
           "AB_2810482"
          ],
          [
           "AB_2800844"
          ],
          [
           "AB_2800743"
          ],
          [
           "AB_2749969"
          ],
          [
           "AB_2800751"
          ],
          [
           "AB_2800738"
          ],
          [
           "AB_2814249"
          ],
          [
           "AB_2801006"
          ],
          [
           "AB_2800935"
          ],
          [
           "AB_2749998"
          ],
          [
           "AB_2800893"
          ],
          [
           "AB_2734258"
          ],
          [
           "AB_2734345"
          ],
          [
           "AB_2800960"
          ],
          [
           "AB_2814327"
          ],
          [
           "AB_2800871"
          ],
          [
           "AB_2800919"
          ],
          [
           "AB_2800853"
          ],
          [
           "AB_2800900"
          ],
          [
           "AB_2734249"
          ],
          [
           "AB_2800762"
          ],
          [
           "AB_2814292"
          ],
          [
           "AB_2814257"
          ],
          [
           "AB_2750002"
          ],
          [
           "AB_2734326"
          ],
          [
           "AB_2800817"
          ],
          [
           "AB_2800813"
          ],
          [
           "AB_2749997"
          ],
          [
           "AB_2734353"
          ],
          [
           "AB_2749971"
          ],
          [
           "AB_2800874"
          ],
          [
           "AB_2800835"
          ],
          [
           "AB_2800825"
          ],
          [
           "AB_2814252"
          ],
          [
           "AB_2750005"
          ],
          [
           "AB_2814171"
          ],
          [
           "AB_2800787"
          ],
          [
           "AB_2800937"
          ],
          [
           "AB_2800756"
          ],
          [
           "AB_2800943"
          ],
          [
           "AB_2800836"
          ],
          [
           "AB_2749994"
          ],
          [
           "AB_2800793"
          ],
          [
           "AB_2800757"
          ],
          [
           "AB_2800857"
          ],
          [
           "AB_2810562"
          ],
          [
           "AB_2800723"
          ],
          [
           "AB_2814129"
          ],
          [
           "AB_2800770"
          ],
          [
           "AB_2800916"
          ],
          [
           "AB_2800823"
          ],
          [
           "AB_2832651"
          ],
          [
           "AB_2801002"
          ],
          [
           "AB_2810510"
          ],
          [
           "AB_2800758"
          ],
          [
           "AB_2810506"
          ],
          [
           "AB_2800725"
          ],
          [
           "AB_2749977"
          ],
          [
           "AB_2800925"
          ],
          [
           "AB_2814240"
          ],
          [
           "AB_2750000"
          ],
          [
           "AB_2800732"
          ],
          [
           "AB_2814233"
          ],
          [
           "AB_2832593"
          ],
          [
           "AB_2749979"
          ],
          [
           "AB_2810435"
          ],
          [
           "AB_2800741"
          ],
          [
           "AB_2749965"
          ],
          [
           "AB_2810531"
          ],
          [
           "AB_2750006"
          ],
          [
           "AB_2800922"
          ],
          [
           "AB_2734445"
          ],
          [
           "AB_2801018"
          ],
          [
           "AB_2800726"
          ],
          [
           "AB_2734256"
          ],
          [
           "AB_2810464"
          ],
          [
           "AB_2800931"
          ],
          [
           "AB_2734322"
          ],
          [
           "AB_2810570"
          ],
          [
           "AB_2814137"
          ],
          [
           "AB_2749999"
          ],
          [
           "AB_2904401"
          ],
          [
           "AB_2734287"
          ],
          [
           "AB_2734312"
          ],
          [
           "AB_2814236"
          ]
         ],
         "hovertemplate": "Immature B cell=%{x}<br>B cell=%{y}<br>name=%{customdata[0]}<extra></extra>",
         "legendgroup": "",
         "marker": {
          "color": "#636efa",
          "symbol": "circle"
         },
         "mode": "markers",
         "name": "",
         "orientation": "v",
         "showlegend": false,
         "type": "scatter",
         "x": [
          1.76,
          8.855,
          9.643,
          4.697,
          -0.974,
          7.183,
          -2.009,
          -4.313,
          5.18,
          -0.396,
          1.135,
          -4.103,
          0.739,
          -0.438,
          7.746,
          -7.276,
          -3.975,
          -0.717,
          6.103,
          -0.315,
          -2.56,
          -3.061,
          1.03,
          -2.141,
          -5.16,
          3.477,
          8.425,
          9.47,
          0.324,
          0.956,
          1.119,
          9.029,
          0.307,
          -1.546,
          -1.562,
          7.139,
          1.843,
          2.269,
          0.037,
          2.78,
          4.04,
          9.181,
          0.339,
          8.157,
          0.286,
          -1.08,
          7.302,
          -0.677,
          4.281,
          1.583,
          -5.721,
          5.66,
          8.625,
          -1.267,
          -2.518,
          8.874,
          -4.655,
          -7.448,
          -1.556,
          -1.679,
          9.716,
          -3.229,
          -2.419,
          -0.128,
          0.033,
          -7.628,
          2.452,
          2.018,
          6.167,
          3.807,
          6.85,
          -0.394,
          -0.532,
          -0.153,
          0.032,
          4.807,
          7.223,
          6.368,
          4.163,
          8.5,
          -0.21,
          -7.092,
          -1.585,
          -0.731,
          8.045,
          -3.557,
          0.422,
          6.909,
          5.518,
          -2.226,
          -6.226,
          -0.403,
          1.235,
          1.672,
          -1.226,
          -6.489,
          -0.188,
          -2.276,
          5.909,
          -7.636,
          9.161,
          -3.041,
          1.851,
          -0.946,
          -2.685,
          -2.106,
          -0.062,
          1.207,
          1.132,
          -6.215,
          3.269,
          0.361,
          -1.619,
          -4.903,
          0.015,
          -0.691,
          0.241,
          -2.104,
          -4.449,
          9.535,
          0.721,
          0.921,
          7.351,
          -1.173,
          -1.559,
          -0.057,
          -4.856,
          9.111,
          -8.176,
          -0.373,
          -2.272,
          2.642,
          1.19,
          0.033,
          -1.46,
          -0.222,
          -3.1,
          5.042
         ],
         "xaxis": "x",
         "y": [
          2.205,
          9.637,
          10.202,
          4.37,
          -1.007,
          6.805,
          -1.748,
          -4.081,
          5.519,
          0.05,
          1.995,
          -4.333,
          2.007,
          -0.273,
          8.432,
          -7.575,
          -4.218,
          -0.632,
          7.158,
          -0.106,
          -2.555,
          -3.283,
          1.595,
          -2.133,
          -4.833,
          2.403,
          9.499,
          10.194,
          -0.225,
          1.089,
          1.085,
          9.825,
          0.499,
          -1.641,
          -0.917,
          7.78,
          3.018,
          0.997,
          0.234,
          2.635,
          3.463,
          9.725,
          -0.718,
          8.912,
          0.486,
          -0.953,
          7.416,
          0.48,
          2.864,
          1.598,
          -6.165,
          6.148,
          9.429,
          -2.009,
          -2.326,
          9.28,
          -5.038,
          -7.228,
          -1.495,
          -1.507,
          9.919,
          -2.773,
          -2.43,
          -0.145,
          0.394,
          -8.292,
          2.113,
          2.641,
          5.111,
          3.631,
          8.257,
          0.134,
          -0.005,
          0.005,
          -0.09,
          4.413,
          7.769,
          7.083,
          2.689,
          7.097,
          0.085,
          -7.725,
          -1.365,
          -1.346,
          7.956,
          -3.681,
          -0.455,
          7.775,
          6.275,
          -1.622,
          -6.137,
          -1.5,
          1.131,
          1.312,
          -1.28,
          -6.794,
          0.169,
          -1.811,
          5.805,
          -8.014,
          9.833,
          -1.482,
          6.28,
          -1.012,
          -2.549,
          -2.028,
          0.214,
          1.716,
          1.653,
          -6.506,
          3.249,
          0.745,
          -1.587,
          -4.652,
          -0.544,
          -0.121,
          0.073,
          -2.171,
          -3.559,
          10.02,
          1.169,
          0.97,
          8.002,
          -1.481,
          -1.672,
          -0.311,
          -5.406,
          9.9,
          -8.525,
          -0.576,
          -2.326,
          1.325,
          1.175,
          0.092,
          -1.606,
          -0.203,
          -3.177,
          6.356
         ],
         "yaxis": "y"
        }
       ],
       "layout": {
        "autosize": true,
        "legend": {
         "tracegroupgap": 0
        },
        "margin": {
         "t": 60
        },
        "template": {
         "data": {
          "bar": [
           {
            "error_x": {
             "color": "#2a3f5f"
            },
            "error_y": {
             "color": "#2a3f5f"
            },
            "marker": {
             "line": {
              "color": "#E5ECF6",
              "width": 0.5
             },
             "pattern": {
              "fillmode": "overlay",
              "size": 10,
              "solidity": 0.2
             }
            },
            "type": "bar"
           }
          ],
          "barpolar": [
           {
            "marker": {
             "line": {
              "color": "#E5ECF6",
              "width": 0.5
             },
             "pattern": {
              "fillmode": "overlay",
              "size": 10,
              "solidity": 0.2
             }
            },
            "type": "barpolar"
           }
          ],
          "carpet": [
           {
            "aaxis": {
             "endlinecolor": "#2a3f5f",
             "gridcolor": "white",
             "linecolor": "white",
             "minorgridcolor": "white",
             "startlinecolor": "#2a3f5f"
            },
            "baxis": {
             "endlinecolor": "#2a3f5f",
             "gridcolor": "white",
             "linecolor": "white",
             "minorgridcolor": "white",
             "startlinecolor": "#2a3f5f"
            },
            "type": "carpet"
           }
          ],
          "choropleth": [
           {
            "colorbar": {
             "outlinewidth": 0,
             "ticks": ""
            },
            "type": "choropleth"
           }
          ],
          "contour": [
           {
            "colorbar": {
             "outlinewidth": 0,
             "ticks": ""
            },
            "colorscale": [
             [
              0,
              "#0d0887"
             ],
             [
              0.1111111111111111,
              "#46039f"
             ],
             [
              0.2222222222222222,
              "#7201a8"
             ],
             [
              0.3333333333333333,
              "#9c179e"
             ],
             [
              0.4444444444444444,
              "#bd3786"
             ],
             [
              0.5555555555555556,
              "#d8576b"
             ],
             [
              0.6666666666666666,
              "#ed7953"
             ],
             [
              0.7777777777777778,
              "#fb9f3a"
             ],
             [
              0.8888888888888888,
              "#fdca26"
             ],
             [
              1,
              "#f0f921"
             ]
            ],
            "type": "contour"
           }
          ],
          "contourcarpet": [
           {
            "colorbar": {
             "outlinewidth": 0,
             "ticks": ""
            },
            "type": "contourcarpet"
           }
          ],
          "heatmap": [
           {
            "colorbar": {
             "outlinewidth": 0,
             "ticks": ""
            },
            "colorscale": [
             [
              0,
              "#0d0887"
             ],
             [
              0.1111111111111111,
              "#46039f"
             ],
             [
              0.2222222222222222,
              "#7201a8"
             ],
             [
              0.3333333333333333,
              "#9c179e"
             ],
             [
              0.4444444444444444,
              "#bd3786"
             ],
             [
              0.5555555555555556,
              "#d8576b"
             ],
             [
              0.6666666666666666,
              "#ed7953"
             ],
             [
              0.7777777777777778,
              "#fb9f3a"
             ],
             [
              0.8888888888888888,
              "#fdca26"
             ],
             [
              1,
              "#f0f921"
             ]
            ],
            "type": "heatmap"
           }
          ],
          "heatmapgl": [
           {
            "colorbar": {
             "outlinewidth": 0,
             "ticks": ""
            },
            "colorscale": [
             [
              0,
              "#0d0887"
             ],
             [
              0.1111111111111111,
              "#46039f"
             ],
             [
              0.2222222222222222,
              "#7201a8"
             ],
             [
              0.3333333333333333,
              "#9c179e"
             ],
             [
              0.4444444444444444,
              "#bd3786"
             ],
             [
              0.5555555555555556,
              "#d8576b"
             ],
             [
              0.6666666666666666,
              "#ed7953"
             ],
             [
              0.7777777777777778,
              "#fb9f3a"
             ],
             [
              0.8888888888888888,
              "#fdca26"
             ],
             [
              1,
              "#f0f921"
             ]
            ],
            "type": "heatmapgl"
           }
          ],
          "histogram": [
           {
            "marker": {
             "pattern": {
              "fillmode": "overlay",
              "size": 10,
              "solidity": 0.2
             }
            },
            "type": "histogram"
           }
          ],
          "histogram2d": [
           {
            "colorbar": {
             "outlinewidth": 0,
             "ticks": ""
            },
            "colorscale": [
             [
              0,
              "#0d0887"
             ],
             [
              0.1111111111111111,
              "#46039f"
             ],
             [
              0.2222222222222222,
              "#7201a8"
             ],
             [
              0.3333333333333333,
              "#9c179e"
             ],
             [
              0.4444444444444444,
              "#bd3786"
             ],
             [
              0.5555555555555556,
              "#d8576b"
             ],
             [
              0.6666666666666666,
              "#ed7953"
             ],
             [
              0.7777777777777778,
              "#fb9f3a"
             ],
             [
              0.8888888888888888,
              "#fdca26"
             ],
             [
              1,
              "#f0f921"
             ]
            ],
            "type": "histogram2d"
           }
          ],
          "histogram2dcontour": [
           {
            "colorbar": {
             "outlinewidth": 0,
             "ticks": ""
            },
            "colorscale": [
             [
              0,
              "#0d0887"
             ],
             [
              0.1111111111111111,
              "#46039f"
             ],
             [
              0.2222222222222222,
              "#7201a8"
             ],
             [
              0.3333333333333333,
              "#9c179e"
             ],
             [
              0.4444444444444444,
              "#bd3786"
             ],
             [
              0.5555555555555556,
              "#d8576b"
             ],
             [
              0.6666666666666666,
              "#ed7953"
             ],
             [
              0.7777777777777778,
              "#fb9f3a"
             ],
             [
              0.8888888888888888,
              "#fdca26"
             ],
             [
              1,
              "#f0f921"
             ]
            ],
            "type": "histogram2dcontour"
           }
          ],
          "mesh3d": [
           {
            "colorbar": {
             "outlinewidth": 0,
             "ticks": ""
            },
            "type": "mesh3d"
           }
          ],
          "parcoords": [
           {
            "line": {
             "colorbar": {
              "outlinewidth": 0,
              "ticks": ""
             }
            },
            "type": "parcoords"
           }
          ],
          "pie": [
           {
            "automargin": true,
            "type": "pie"
           }
          ],
          "scatter": [
           {
            "fillpattern": {
             "fillmode": "overlay",
             "size": 10,
             "solidity": 0.2
            },
            "type": "scatter"
           }
          ],
          "scatter3d": [
           {
            "line": {
             "colorbar": {
              "outlinewidth": 0,
              "ticks": ""
             }
            },
            "marker": {
             "colorbar": {
              "outlinewidth": 0,
              "ticks": ""
             }
            },
            "type": "scatter3d"
           }
          ],
          "scattercarpet": [
           {
            "marker": {
             "colorbar": {
              "outlinewidth": 0,
              "ticks": ""
             }
            },
            "type": "scattercarpet"
           }
          ],
          "scattergeo": [
           {
            "marker": {
             "colorbar": {
              "outlinewidth": 0,
              "ticks": ""
             }
            },
            "type": "scattergeo"
           }
          ],
          "scattergl": [
           {
            "marker": {
             "colorbar": {
              "outlinewidth": 0,
              "ticks": ""
             }
            },
            "type": "scattergl"
           }
          ],
          "scattermapbox": [
           {
            "marker": {
             "colorbar": {
              "outlinewidth": 0,
              "ticks": ""
             }
            },
            "type": "scattermapbox"
           }
          ],
          "scatterpolar": [
           {
            "marker": {
             "colorbar": {
              "outlinewidth": 0,
              "ticks": ""
             }
            },
            "type": "scatterpolar"
           }
          ],
          "scatterpolargl": [
           {
            "marker": {
             "colorbar": {
              "outlinewidth": 0,
              "ticks": ""
             }
            },
            "type": "scatterpolargl"
           }
          ],
          "scatterternary": [
           {
            "marker": {
             "colorbar": {
              "outlinewidth": 0,
              "ticks": ""
             }
            },
            "type": "scatterternary"
           }
          ],
          "surface": [
           {
            "colorbar": {
             "outlinewidth": 0,
             "ticks": ""
            },
            "colorscale": [
             [
              0,
              "#0d0887"
             ],
             [
              0.1111111111111111,
              "#46039f"
             ],
             [
              0.2222222222222222,
              "#7201a8"
             ],
             [
              0.3333333333333333,
              "#9c179e"
             ],
             [
              0.4444444444444444,
              "#bd3786"
             ],
             [
              0.5555555555555556,
              "#d8576b"
             ],
             [
              0.6666666666666666,
              "#ed7953"
             ],
             [
              0.7777777777777778,
              "#fb9f3a"
             ],
             [
              0.8888888888888888,
              "#fdca26"
             ],
             [
              1,
              "#f0f921"
             ]
            ],
            "type": "surface"
           }
          ],
          "table": [
           {
            "cells": {
             "fill": {
              "color": "#EBF0F8"
             },
             "line": {
              "color": "white"
             }
            },
            "header": {
             "fill": {
              "color": "#C8D4E3"
             },
             "line": {
              "color": "white"
             }
            },
            "type": "table"
           }
          ]
         },
         "layout": {
          "annotationdefaults": {
           "arrowcolor": "#2a3f5f",
           "arrowhead": 0,
           "arrowwidth": 1
          },
          "autotypenumbers": "strict",
          "coloraxis": {
           "colorbar": {
            "outlinewidth": 0,
            "ticks": ""
           }
          },
          "colorscale": {
           "diverging": [
            [
             0,
             "#8e0152"
            ],
            [
             0.1,
             "#c51b7d"
            ],
            [
             0.2,
             "#de77ae"
            ],
            [
             0.3,
             "#f1b6da"
            ],
            [
             0.4,
             "#fde0ef"
            ],
            [
             0.5,
             "#f7f7f7"
            ],
            [
             0.6,
             "#e6f5d0"
            ],
            [
             0.7,
             "#b8e186"
            ],
            [
             0.8,
             "#7fbc41"
            ],
            [
             0.9,
             "#4d9221"
            ],
            [
             1,
             "#276419"
            ]
           ],
           "sequential": [
            [
             0,
             "#0d0887"
            ],
            [
             0.1111111111111111,
             "#46039f"
            ],
            [
             0.2222222222222222,
             "#7201a8"
            ],
            [
             0.3333333333333333,
             "#9c179e"
            ],
            [
             0.4444444444444444,
             "#bd3786"
            ],
            [
             0.5555555555555556,
             "#d8576b"
            ],
            [
             0.6666666666666666,
             "#ed7953"
            ],
            [
             0.7777777777777778,
             "#fb9f3a"
            ],
            [
             0.8888888888888888,
             "#fdca26"
            ],
            [
             1,
             "#f0f921"
            ]
           ],
           "sequentialminus": [
            [
             0,
             "#0d0887"
            ],
            [
             0.1111111111111111,
             "#46039f"
            ],
            [
             0.2222222222222222,
             "#7201a8"
            ],
            [
             0.3333333333333333,
             "#9c179e"
            ],
            [
             0.4444444444444444,
             "#bd3786"
            ],
            [
             0.5555555555555556,
             "#d8576b"
            ],
            [
             0.6666666666666666,
             "#ed7953"
            ],
            [
             0.7777777777777778,
             "#fb9f3a"
            ],
            [
             0.8888888888888888,
             "#fdca26"
            ],
            [
             1,
             "#f0f921"
            ]
           ]
          },
          "colorway": [
           "#636efa",
           "#EF553B",
           "#00cc96",
           "#ab63fa",
           "#FFA15A",
           "#19d3f3",
           "#FF6692",
           "#B6E880",
           "#FF97FF",
           "#FECB52"
          ],
          "font": {
           "color": "#2a3f5f"
          },
          "geo": {
           "bgcolor": "white",
           "lakecolor": "white",
           "landcolor": "#E5ECF6",
           "showlakes": true,
           "showland": true,
           "subunitcolor": "white"
          },
          "hoverlabel": {
           "align": "left"
          },
          "hovermode": "closest",
          "mapbox": {
           "style": "light"
          },
          "paper_bgcolor": "white",
          "plot_bgcolor": "#E5ECF6",
          "polar": {
           "angularaxis": {
            "gridcolor": "white",
            "linecolor": "white",
            "ticks": ""
           },
           "bgcolor": "#E5ECF6",
           "radialaxis": {
            "gridcolor": "white",
            "linecolor": "white",
            "ticks": ""
           }
          },
          "scene": {
           "xaxis": {
            "backgroundcolor": "#E5ECF6",
            "gridcolor": "white",
            "gridwidth": 2,
            "linecolor": "white",
            "showbackground": true,
            "ticks": "",
            "zerolinecolor": "white"
           },
           "yaxis": {
            "backgroundcolor": "#E5ECF6",
            "gridcolor": "white",
            "gridwidth": 2,
            "linecolor": "white",
            "showbackground": true,
            "ticks": "",
            "zerolinecolor": "white"
           },
           "zaxis": {
            "backgroundcolor": "#E5ECF6",
            "gridcolor": "white",
            "gridwidth": 2,
            "linecolor": "white",
            "showbackground": true,
            "ticks": "",
            "zerolinecolor": "white"
           }
          },
          "shapedefaults": {
           "line": {
            "color": "#2a3f5f"
           }
          },
          "ternary": {
           "aaxis": {
            "gridcolor": "white",
            "linecolor": "white",
            "ticks": ""
           },
           "baxis": {
            "gridcolor": "white",
            "linecolor": "white",
            "ticks": ""
           },
           "bgcolor": "#E5ECF6",
           "caxis": {
            "gridcolor": "white",
            "linecolor": "white",
            "ticks": ""
           }
          },
          "title": {
           "x": 0.05
          },
          "xaxis": {
           "automargin": true,
           "gridcolor": "white",
           "linecolor": "white",
           "ticks": "",
           "title": {
            "standoff": 15
           },
           "zerolinecolor": "white",
           "zerolinewidth": 2
          },
          "yaxis": {
           "automargin": true,
           "gridcolor": "white",
           "linecolor": "white",
           "ticks": "",
           "title": {
            "standoff": 15
           },
           "zerolinecolor": "white",
           "zerolinewidth": 2
          }
         }
        },
        "xaxis": {
         "anchor": "y",
         "autorange": true,
         "domain": [
          0,
          1
         ],
         "range": [
          -9.247948557089085,
          10.787948557089084
         ],
         "title": {
          "text": "Immature B cell"
         },
         "type": "linear"
        },
        "yaxis": {
         "anchor": "x",
         "autorange": true,
         "domain": [
          0,
          1
         ],
         "range": [
          -9.811926540284361,
          11.48892654028436
         ],
         "title": {
          "text": "B cell"
         },
         "type": "linear"
        }
       }
      },
      "text/html": [
       "<div>                            <div id=\"a67f6fdd-189a-4a23-8d06-64375a406ec0\" class=\"plotly-graph-div\" style=\"height:500px; width:100%;\"></div>            <script type=\"text/javascript\">                require([\"plotly\"], function(Plotly) {                    window.PLOTLYENV=window.PLOTLYENV || {};                                    if (document.getElementById(\"a67f6fdd-189a-4a23-8d06-64375a406ec0\")) {                    Plotly.newPlot(                        \"a67f6fdd-189a-4a23-8d06-64375a406ec0\",                        [{\"customdata\":[[\"AB_2801021\"],[\"AB_2749968\"],[\"AB_2814172\"],[\"AB_2801027\"],[\"AB_2734409\"],[\"AB_2800934\"],[\"AB_2800988\"],[\"AB_2800747\"],[\"AB_2800955\"],[\"AB_2800786\"],[\"AB_2749976\"],[\"AB_2734254\"],[\"AB_2810481\"],[\"AB_2749993\"],[\"AB_2749995\"],[\"AB_2800914\"],[\"AB_2750007\"],[\"AB_2749972\"],[\"AB_2800810\"],[\"AB_2814134\"],[\"AB_2800899\"],[\"AB_2734351\"],[\"AB_2801087\"],[\"AB_2800739\"],[\"AB_2820032\"],[\"AB_2800883\"],[\"AB_2800953\"],[\"AB_2800886\"],[\"AB_2801008\"],[\"AB_2832672\"],[\"AB_2734286\"],[\"AB_2749984\"],[\"AB_2749996\"],[\"AB_2734255\"],[\"AB_2814143\"],[\"AB_2800905\"],[\"AB_2800854\"],[\"AB_2800745\"],[\"AB_2734360\"],[\"AB_2800949\"],[\"AB_2800808\"],[\"AB_2800795\"],[\"AB_2800862\"],[\"AB_2750001\"],[\"AB_2734278\"],[\"AB_2820039\"],[\"AB_2749992\"],[\"AB_2800851\"],[\"AB_2814295\"],[\"AB_2810541\"],[\"AB_2734366\"],[\"AB_2814169\"],[\"AB_2800876\"],[\"AB_2810482\"],[\"AB_2800844\"],[\"AB_2800743\"],[\"AB_2749969\"],[\"AB_2800751\"],[\"AB_2800738\"],[\"AB_2814249\"],[\"AB_2801006\"],[\"AB_2800935\"],[\"AB_2749998\"],[\"AB_2800893\"],[\"AB_2734258\"],[\"AB_2734345\"],[\"AB_2800960\"],[\"AB_2814327\"],[\"AB_2800871\"],[\"AB_2800919\"],[\"AB_2800853\"],[\"AB_2800900\"],[\"AB_2734249\"],[\"AB_2800762\"],[\"AB_2814292\"],[\"AB_2814257\"],[\"AB_2750002\"],[\"AB_2734326\"],[\"AB_2800817\"],[\"AB_2800813\"],[\"AB_2749997\"],[\"AB_2734353\"],[\"AB_2749971\"],[\"AB_2800874\"],[\"AB_2800835\"],[\"AB_2800825\"],[\"AB_2814252\"],[\"AB_2750005\"],[\"AB_2814171\"],[\"AB_2800787\"],[\"AB_2800937\"],[\"AB_2800756\"],[\"AB_2800943\"],[\"AB_2800836\"],[\"AB_2749994\"],[\"AB_2800793\"],[\"AB_2800757\"],[\"AB_2800857\"],[\"AB_2810562\"],[\"AB_2800723\"],[\"AB_2814129\"],[\"AB_2800770\"],[\"AB_2800916\"],[\"AB_2800823\"],[\"AB_2832651\"],[\"AB_2801002\"],[\"AB_2810510\"],[\"AB_2800758\"],[\"AB_2810506\"],[\"AB_2800725\"],[\"AB_2749977\"],[\"AB_2800925\"],[\"AB_2814240\"],[\"AB_2750000\"],[\"AB_2800732\"],[\"AB_2814233\"],[\"AB_2832593\"],[\"AB_2749979\"],[\"AB_2810435\"],[\"AB_2800741\"],[\"AB_2749965\"],[\"AB_2810531\"],[\"AB_2750006\"],[\"AB_2800922\"],[\"AB_2734445\"],[\"AB_2801018\"],[\"AB_2800726\"],[\"AB_2734256\"],[\"AB_2810464\"],[\"AB_2800931\"],[\"AB_2734322\"],[\"AB_2810570\"],[\"AB_2814137\"],[\"AB_2749999\"],[\"AB_2904401\"],[\"AB_2734287\"],[\"AB_2734312\"],[\"AB_2814236\"]],\"hovertemplate\":\"Immature B cell=%{x}<br>B cell=%{y}<br>name=%{customdata[0]}<extra></extra>\",\"legendgroup\":\"\",\"marker\":{\"color\":\"#636efa\",\"symbol\":\"circle\"},\"mode\":\"markers\",\"name\":\"\",\"orientation\":\"v\",\"showlegend\":false,\"x\":[1.76,8.855,9.643,4.697,-0.974,7.183,-2.009,-4.313,5.18,-0.396,1.135,-4.103,0.739,-0.438,7.746,-7.276,-3.975,-0.717,6.103,-0.315,-2.56,-3.061,1.03,-2.141,-5.16,3.477,8.425,9.47,0.324,0.956,1.119,9.029,0.307,-1.546,-1.562,7.139,1.843,2.269,0.037,2.78,4.04,9.181,0.339,8.157,0.286,-1.08,7.302,-0.677,4.281,1.583,-5.721,5.66,8.625,-1.267,-2.518,8.874,-4.655,-7.448,-1.556,-1.679,9.716,-3.229,-2.419,-0.128,0.033,-7.628,2.452,2.018,6.167,3.807,6.85,-0.394,-0.532,-0.153,0.032,4.807,7.223,6.368,4.163,8.5,-0.21,-7.092,-1.585,-0.731,8.045,-3.557,0.422,6.909,5.518,-2.226,-6.226,-0.403,1.235,1.672,-1.226,-6.489,-0.188,-2.276,5.909,-7.636,9.161,-3.041,1.851,-0.946,-2.685,-2.106,-0.062,1.207,1.132,-6.215,3.269,0.361,-1.619,-4.903,0.015,-0.691,0.241,-2.104,-4.449,9.535,0.721,0.921,7.351,-1.173,-1.559,-0.057,-4.856,9.111,-8.176,-0.373,-2.272,2.642,1.19,0.033,-1.46,-0.222,-3.1,5.042],\"xaxis\":\"x\",\"y\":[2.205,9.637,10.202,4.37,-1.007,6.805,-1.748,-4.081,5.519,0.05,1.995,-4.333,2.007,-0.273,8.432,-7.575,-4.218,-0.632,7.158,-0.106,-2.555,-3.283,1.595,-2.133,-4.833,2.403,9.499,10.194,-0.225,1.089,1.085,9.825,0.499,-1.641,-0.917,7.78,3.018,0.997,0.234,2.635,3.463,9.725,-0.718,8.912,0.486,-0.953,7.416,0.48,2.864,1.598,-6.165,6.148,9.429,-2.009,-2.326,9.28,-5.038,-7.228,-1.495,-1.507,9.919,-2.773,-2.43,-0.145,0.394,-8.292,2.113,2.641,5.111,3.631,8.257,0.134,-0.005,0.005,-0.09,4.413,7.769,7.083,2.689,7.097,0.085,-7.725,-1.365,-1.346,7.956,-3.681,-0.455,7.775,6.275,-1.622,-6.137,-1.5,1.131,1.312,-1.28,-6.794,0.169,-1.811,5.805,-8.014,9.833,-1.482,6.28,-1.012,-2.549,-2.028,0.214,1.716,1.653,-6.506,3.249,0.745,-1.587,-4.652,-0.544,-0.121,0.073,-2.171,-3.559,10.02,1.169,0.97,8.002,-1.481,-1.672,-0.311,-5.406,9.9,-8.525,-0.576,-2.326,1.325,1.175,0.092,-1.606,-0.203,-3.177,6.356],\"yaxis\":\"y\",\"type\":\"scatter\"}],                        {\"template\":{\"data\":{\"histogram2dcontour\":[{\"type\":\"histogram2dcontour\",\"colorbar\":{\"outlinewidth\":0,\"ticks\":\"\"},\"colorscale\":[[0.0,\"#0d0887\"],[0.1111111111111111,\"#46039f\"],[0.2222222222222222,\"#7201a8\"],[0.3333333333333333,\"#9c179e\"],[0.4444444444444444,\"#bd3786\"],[0.5555555555555556,\"#d8576b\"],[0.6666666666666666,\"#ed7953\"],[0.7777777777777778,\"#fb9f3a\"],[0.8888888888888888,\"#fdca26\"],[1.0,\"#f0f921\"]]}],\"choropleth\":[{\"type\":\"choropleth\",\"colorbar\":{\"outlinewidth\":0,\"ticks\":\"\"}}],\"histogram2d\":[{\"type\":\"histogram2d\",\"colorbar\":{\"outlinewidth\":0,\"ticks\":\"\"},\"colorscale\":[[0.0,\"#0d0887\"],[0.1111111111111111,\"#46039f\"],[0.2222222222222222,\"#7201a8\"],[0.3333333333333333,\"#9c179e\"],[0.4444444444444444,\"#bd3786\"],[0.5555555555555556,\"#d8576b\"],[0.6666666666666666,\"#ed7953\"],[0.7777777777777778,\"#fb9f3a\"],[0.8888888888888888,\"#fdca26\"],[1.0,\"#f0f921\"]]}],\"heatmap\":[{\"type\":\"heatmap\",\"colorbar\":{\"outlinewidth\":0,\"ticks\":\"\"},\"colorscale\":[[0.0,\"#0d0887\"],[0.1111111111111111,\"#46039f\"],[0.2222222222222222,\"#7201a8\"],[0.3333333333333333,\"#9c179e\"],[0.4444444444444444,\"#bd3786\"],[0.5555555555555556,\"#d8576b\"],[0.6666666666666666,\"#ed7953\"],[0.7777777777777778,\"#fb9f3a\"],[0.8888888888888888,\"#fdca26\"],[1.0,\"#f0f921\"]]}],\"heatmapgl\":[{\"type\":\"heatmapgl\",\"colorbar\":{\"outlinewidth\":0,\"ticks\":\"\"},\"colorscale\":[[0.0,\"#0d0887\"],[0.1111111111111111,\"#46039f\"],[0.2222222222222222,\"#7201a8\"],[0.3333333333333333,\"#9c179e\"],[0.4444444444444444,\"#bd3786\"],[0.5555555555555556,\"#d8576b\"],[0.6666666666666666,\"#ed7953\"],[0.7777777777777778,\"#fb9f3a\"],[0.8888888888888888,\"#fdca26\"],[1.0,\"#f0f921\"]]}],\"contourcarpet\":[{\"type\":\"contourcarpet\",\"colorbar\":{\"outlinewidth\":0,\"ticks\":\"\"}}],\"contour\":[{\"type\":\"contour\",\"colorbar\":{\"outlinewidth\":0,\"ticks\":\"\"},\"colorscale\":[[0.0,\"#0d0887\"],[0.1111111111111111,\"#46039f\"],[0.2222222222222222,\"#7201a8\"],[0.3333333333333333,\"#9c179e\"],[0.4444444444444444,\"#bd3786\"],[0.5555555555555556,\"#d8576b\"],[0.6666666666666666,\"#ed7953\"],[0.7777777777777778,\"#fb9f3a\"],[0.8888888888888888,\"#fdca26\"],[1.0,\"#f0f921\"]]}],\"surface\":[{\"type\":\"surface\",\"colorbar\":{\"outlinewidth\":0,\"ticks\":\"\"},\"colorscale\":[[0.0,\"#0d0887\"],[0.1111111111111111,\"#46039f\"],[0.2222222222222222,\"#7201a8\"],[0.3333333333333333,\"#9c179e\"],[0.4444444444444444,\"#bd3786\"],[0.5555555555555556,\"#d8576b\"],[0.6666666666666666,\"#ed7953\"],[0.7777777777777778,\"#fb9f3a\"],[0.8888888888888888,\"#fdca26\"],[1.0,\"#f0f921\"]]}],\"mesh3d\":[{\"type\":\"mesh3d\",\"colorbar\":{\"outlinewidth\":0,\"ticks\":\"\"}}],\"scatter\":[{\"fillpattern\":{\"fillmode\":\"overlay\",\"size\":10,\"solidity\":0.2},\"type\":\"scatter\"}],\"parcoords\":[{\"type\":\"parcoords\",\"line\":{\"colorbar\":{\"outlinewidth\":0,\"ticks\":\"\"}}}],\"scatterpolargl\":[{\"type\":\"scatterpolargl\",\"marker\":{\"colorbar\":{\"outlinewidth\":0,\"ticks\":\"\"}}}],\"bar\":[{\"error_x\":{\"color\":\"#2a3f5f\"},\"error_y\":{\"color\":\"#2a3f5f\"},\"marker\":{\"line\":{\"color\":\"#E5ECF6\",\"width\":0.5},\"pattern\":{\"fillmode\":\"overlay\",\"size\":10,\"solidity\":0.2}},\"type\":\"bar\"}],\"scattergeo\":[{\"type\":\"scattergeo\",\"marker\":{\"colorbar\":{\"outlinewidth\":0,\"ticks\":\"\"}}}],\"scatterpolar\":[{\"type\":\"scatterpolar\",\"marker\":{\"colorbar\":{\"outlinewidth\":0,\"ticks\":\"\"}}}],\"histogram\":[{\"marker\":{\"pattern\":{\"fillmode\":\"overlay\",\"size\":10,\"solidity\":0.2}},\"type\":\"histogram\"}],\"scattergl\":[{\"type\":\"scattergl\",\"marker\":{\"colorbar\":{\"outlinewidth\":0,\"ticks\":\"\"}}}],\"scatter3d\":[{\"type\":\"scatter3d\",\"line\":{\"colorbar\":{\"outlinewidth\":0,\"ticks\":\"\"}},\"marker\":{\"colorbar\":{\"outlinewidth\":0,\"ticks\":\"\"}}}],\"scattermapbox\":[{\"type\":\"scattermapbox\",\"marker\":{\"colorbar\":{\"outlinewidth\":0,\"ticks\":\"\"}}}],\"scatterternary\":[{\"type\":\"scatterternary\",\"marker\":{\"colorbar\":{\"outlinewidth\":0,\"ticks\":\"\"}}}],\"scattercarpet\":[{\"type\":\"scattercarpet\",\"marker\":{\"colorbar\":{\"outlinewidth\":0,\"ticks\":\"\"}}}],\"carpet\":[{\"aaxis\":{\"endlinecolor\":\"#2a3f5f\",\"gridcolor\":\"white\",\"linecolor\":\"white\",\"minorgridcolor\":\"white\",\"startlinecolor\":\"#2a3f5f\"},\"baxis\":{\"endlinecolor\":\"#2a3f5f\",\"gridcolor\":\"white\",\"linecolor\":\"white\",\"minorgridcolor\":\"white\",\"startlinecolor\":\"#2a3f5f\"},\"type\":\"carpet\"}],\"table\":[{\"cells\":{\"fill\":{\"color\":\"#EBF0F8\"},\"line\":{\"color\":\"white\"}},\"header\":{\"fill\":{\"color\":\"#C8D4E3\"},\"line\":{\"color\":\"white\"}},\"type\":\"table\"}],\"barpolar\":[{\"marker\":{\"line\":{\"color\":\"#E5ECF6\",\"width\":0.5},\"pattern\":{\"fillmode\":\"overlay\",\"size\":10,\"solidity\":0.2}},\"type\":\"barpolar\"}],\"pie\":[{\"automargin\":true,\"type\":\"pie\"}]},\"layout\":{\"autotypenumbers\":\"strict\",\"colorway\":[\"#636efa\",\"#EF553B\",\"#00cc96\",\"#ab63fa\",\"#FFA15A\",\"#19d3f3\",\"#FF6692\",\"#B6E880\",\"#FF97FF\",\"#FECB52\"],\"font\":{\"color\":\"#2a3f5f\"},\"hovermode\":\"closest\",\"hoverlabel\":{\"align\":\"left\"},\"paper_bgcolor\":\"white\",\"plot_bgcolor\":\"#E5ECF6\",\"polar\":{\"bgcolor\":\"#E5ECF6\",\"angularaxis\":{\"gridcolor\":\"white\",\"linecolor\":\"white\",\"ticks\":\"\"},\"radialaxis\":{\"gridcolor\":\"white\",\"linecolor\":\"white\",\"ticks\":\"\"}},\"ternary\":{\"bgcolor\":\"#E5ECF6\",\"aaxis\":{\"gridcolor\":\"white\",\"linecolor\":\"white\",\"ticks\":\"\"},\"baxis\":{\"gridcolor\":\"white\",\"linecolor\":\"white\",\"ticks\":\"\"},\"caxis\":{\"gridcolor\":\"white\",\"linecolor\":\"white\",\"ticks\":\"\"}},\"coloraxis\":{\"colorbar\":{\"outlinewidth\":0,\"ticks\":\"\"}},\"colorscale\":{\"sequential\":[[0.0,\"#0d0887\"],[0.1111111111111111,\"#46039f\"],[0.2222222222222222,\"#7201a8\"],[0.3333333333333333,\"#9c179e\"],[0.4444444444444444,\"#bd3786\"],[0.5555555555555556,\"#d8576b\"],[0.6666666666666666,\"#ed7953\"],[0.7777777777777778,\"#fb9f3a\"],[0.8888888888888888,\"#fdca26\"],[1.0,\"#f0f921\"]],\"sequentialminus\":[[0.0,\"#0d0887\"],[0.1111111111111111,\"#46039f\"],[0.2222222222222222,\"#7201a8\"],[0.3333333333333333,\"#9c179e\"],[0.4444444444444444,\"#bd3786\"],[0.5555555555555556,\"#d8576b\"],[0.6666666666666666,\"#ed7953\"],[0.7777777777777778,\"#fb9f3a\"],[0.8888888888888888,\"#fdca26\"],[1.0,\"#f0f921\"]],\"diverging\":[[0,\"#8e0152\"],[0.1,\"#c51b7d\"],[0.2,\"#de77ae\"],[0.3,\"#f1b6da\"],[0.4,\"#fde0ef\"],[0.5,\"#f7f7f7\"],[0.6,\"#e6f5d0\"],[0.7,\"#b8e186\"],[0.8,\"#7fbc41\"],[0.9,\"#4d9221\"],[1,\"#276419\"]]},\"xaxis\":{\"gridcolor\":\"white\",\"linecolor\":\"white\",\"ticks\":\"\",\"title\":{\"standoff\":15},\"zerolinecolor\":\"white\",\"automargin\":true,\"zerolinewidth\":2},\"yaxis\":{\"gridcolor\":\"white\",\"linecolor\":\"white\",\"ticks\":\"\",\"title\":{\"standoff\":15},\"zerolinecolor\":\"white\",\"automargin\":true,\"zerolinewidth\":2},\"scene\":{\"xaxis\":{\"backgroundcolor\":\"#E5ECF6\",\"gridcolor\":\"white\",\"linecolor\":\"white\",\"showbackground\":true,\"ticks\":\"\",\"zerolinecolor\":\"white\",\"gridwidth\":2},\"yaxis\":{\"backgroundcolor\":\"#E5ECF6\",\"gridcolor\":\"white\",\"linecolor\":\"white\",\"showbackground\":true,\"ticks\":\"\",\"zerolinecolor\":\"white\",\"gridwidth\":2},\"zaxis\":{\"backgroundcolor\":\"#E5ECF6\",\"gridcolor\":\"white\",\"linecolor\":\"white\",\"showbackground\":true,\"ticks\":\"\",\"zerolinecolor\":\"white\",\"gridwidth\":2}},\"shapedefaults\":{\"line\":{\"color\":\"#2a3f5f\"}},\"annotationdefaults\":{\"arrowcolor\":\"#2a3f5f\",\"arrowhead\":0,\"arrowwidth\":1},\"geo\":{\"bgcolor\":\"white\",\"landcolor\":\"#E5ECF6\",\"subunitcolor\":\"white\",\"showland\":true,\"showlakes\":true,\"lakecolor\":\"white\"},\"title\":{\"x\":0.05},\"mapbox\":{\"style\":\"light\"}}},\"xaxis\":{\"anchor\":\"y\",\"domain\":[0.0,1.0],\"title\":{\"text\":\"Immature B cell\"}},\"yaxis\":{\"anchor\":\"x\",\"domain\":[0.0,1.0],\"title\":{\"text\":\"B cell\"}},\"legend\":{\"tracegroupgap\":0},\"margin\":{\"t\":60},\"height\":500},                        {\"responsive\": true}                    ).then(function(){\n",
       "                            \n",
       "var gd = document.getElementById('a67f6fdd-189a-4a23-8d06-64375a406ec0');\n",
       "var x = new MutationObserver(function (mutations, observer) {{\n",
       "        var display = window.getComputedStyle(gd).display;\n",
       "        if (!display || display === 'none') {{\n",
       "            console.log([gd, 'removed!']);\n",
       "            Plotly.purge(gd);\n",
       "            observer.disconnect();\n",
       "        }}\n",
       "}});\n",
       "\n",
       "// Listen for the removal of the full notebook cells\n",
       "var notebookContainer = gd.closest('#notebook-container');\n",
       "if (notebookContainer) {{\n",
       "    x.observe(notebookContainer, {childList: true});\n",
       "}}\n",
       "\n",
       "// Listen for the clearing of the current output cell\n",
       "var outputEl = gd.closest('.output');\n",
       "if (outputEl) {{\n",
       "    x.observe(outputEl, {childList: true});\n",
       "}}\n",
       "\n",
       "                        })                };                });            </script>        </div>"
      ]
     },
     "metadata": {},
     "output_type": "display_data"
    }
   ],
   "source": [
    "import plotly.express as px\n",
    "\n",
    "c = list(set(result_df2.index)&set(result_df1.index))\n",
    "df = pd.DataFrame({\"Immature B cell\": result_df1[\"coeff\"].loc[c], \"B cell\": result_df2[\"coeff\"].loc[c], \"name\": c}, index=c)\n",
    "fig = px.scatter(df, x=\"Immature B cell\", y=\"B cell\", hover_data=[\"name\"])\n",
    "fig.layout.height = 500\n",
    "fig.show()"
   ]
  },
  {
   "cell_type": "markdown",
   "id": "144a3029-b764-4e01-89d8-223c8eea2e38",
   "metadata": {},
   "source": [
    "Hoverig the mouse on the plot we again find `AB:2800916` as the main difference between the B cell and immature B cell populations, consistent with our previous results."
   ]
  }
 ],
 "metadata": {
  "kernelspec": {
   "display_name": "Python 3 (ipykernel)",
   "language": "python",
   "name": "python3"
  },
  "language_info": {
   "codemirror_mode": {
    "name": "ipython",
    "version": 3
   },
   "file_extension": ".py",
   "mimetype": "text/x-python",
   "name": "python",
   "nbconvert_exporter": "python",
   "pygments_lexer": "ipython3",
   "version": "3.10.11"
  }
 },
 "nbformat": 4,
 "nbformat_minor": 5
}
